{
 "cells": [
  {
   "cell_type": "markdown",
   "id": "ba3680b7",
   "metadata": {},
   "source": [
    "# JB2008 MSIS Comparisons\n",
    "\n",
    "Compare the accuracy of JB2008 and MSIS at GRACE-B, CHAMP, and GOCE. \n",
    "\n",
    "Compare the accuracy when the models are shifted to GRACE-B in a simple normalization of the density profile. \n",
    "\n",
    "These are large files with sub minute cadence. To make the analysis managable we'll randomly select a subset of points.\n"
   ]
  },
  {
   "cell_type": "code",
   "execution_count": 24,
   "id": "80ce108c",
   "metadata": {},
   "outputs": [
    {
     "name": "stdout",
     "output_type": "stream",
     "text": [
      "The autoreload extension is already loaded. To reload it, use:\n",
      "  %reload_ext autoreload\n"
     ]
    }
   ],
   "source": [
    "%load_ext autoreload\n",
    "%autoreload 2\n",
    "\n",
    "#print all output in a cell \n",
    "from IPython.core.interactiveshell import InteractiveShell\n",
    "InteractiveShell.ast_node_interactivity = \"all\""
   ]
  },
  {
   "cell_type": "code",
   "execution_count": 25,
   "id": "11f4404e",
   "metadata": {},
   "outputs": [],
   "source": [
    "import pandas as pd\n",
    "import numpy as np\n",
    "import matplotlib.pyplot as plt\n",
    "\n",
    "import os, sys\n",
    "\n",
    "from pymsis import msis\n",
    "from sklearn.metrics import median_absolute_error\n",
    "\n",
    "jb_path = \"D:\\\\GitHub\\\\jb2008\\\\jb08\"\n",
    "sys.path.append(os.path.dirname(jb_path))\n",
    "\n",
    "import jb08"
   ]
  },
  {
   "cell_type": "code",
   "execution_count": 26,
   "id": "c458782e",
   "metadata": {},
   "outputs": [],
   "source": [
    "lat_d = 5\n",
    "lon_d = 5\n",
    "\n",
    "ch_d = r\"D:\\data\\SatDensities\\ch_den_profile.hdf\"\n",
    "go_d = r\"D:\\data\\SatDensities\\go_den_profile.hdf\"\n",
    "storm_txt = r'D:\\GitHub\\SatDrag\\data\\storms_drag_epochs_no_overlap.txt'\n",
    "\n",
    "fi = ch_d\n",
    "sat = fi.split('\\\\')[-1][0:2]\n",
    "\n",
    "# read in the satellite data\n",
    "dat = pd.read_hdf(fi)\n",
    "dat =dat[(dat['del_lon'].abs() < lon_d) & (dat['del_lat'].abs() < lat_d)]"
   ]
  },
  {
   "cell_type": "code",
   "execution_count": 27,
   "id": "96898cd9",
   "metadata": {},
   "outputs": [],
   "source": [
    "# get storm times\n",
    "# read in storm start and end times\n",
    "\n",
    "storm_time = pd.read_csv(storm_txt, header=None, skiprows=1, \n",
    "                     delim_whitespace=1, names = ['t_st','t_dst','t_en'], parse_dates=[0, 1, 2],\n",
    "                     infer_datetime_format=True)\n",
    "\n",
    "# loop through the storms and set\n",
    "# flags in the satellite drag database\n",
    "# for the different times\n",
    "\n",
    "dat['storm'] = -1\n",
    "dat['storm phase'] = -1\n",
    "\n",
    "for index, row in storm_time.iterrows():\n",
    "    stp = (dat[f'DateTime_{sat}']>=row['t_st']) & (dat[f'DateTime_{sat}']<row['t_en'])\n",
    "    mpp = (dat[f'DateTime_{sat}']>=row['t_st']) & (dat[f'DateTime_{sat}']<row['t_dst'])\n",
    "    rpp = (dat[f'DateTime_{sat}']>=row['t_dst']) & (dat[f'DateTime_{sat}']<row['t_en'])\n",
    "\n",
    "    dat.loc[stp,'storm'] = 1\n",
    "    dat.loc[mpp,'storm phase'] = 1\n",
    "    dat.loc[rpp,'storm phase'] = 2"
   ]
  },
  {
   "cell_type": "code",
   "execution_count": 28,
   "id": "3dd770cb",
   "metadata": {},
   "outputs": [
    {
     "data": {
      "text/html": [
       "<div>\n",
       "<style scoped>\n",
       "    .dataframe tbody tr th:only-of-type {\n",
       "        vertical-align: middle;\n",
       "    }\n",
       "\n",
       "    .dataframe tbody tr th {\n",
       "        vertical-align: top;\n",
       "    }\n",
       "\n",
       "    .dataframe thead th {\n",
       "        text-align: right;\n",
       "    }\n",
       "</style>\n",
       "<table border=\"1\" class=\"dataframe\">\n",
       "  <thead>\n",
       "    <tr style=\"text-align: right;\">\n",
       "      <th></th>\n",
       "      <th>DateTime_ch</th>\n",
       "      <th>alt_ch</th>\n",
       "      <th>lat_ch</th>\n",
       "      <th>lon_ch</th>\n",
       "      <th>dens_x_ch</th>\n",
       "      <th>DateTime_gr</th>\n",
       "      <th>alt_gr</th>\n",
       "      <th>lat_gr</th>\n",
       "      <th>lon_gr</th>\n",
       "      <th>dens_x_gr</th>\n",
       "      <th>del_lon</th>\n",
       "      <th>del_lat</th>\n",
       "      <th>del_lat_near</th>\n",
       "      <th>lat_gr_near</th>\n",
       "      <th>lon_gr_near</th>\n",
       "      <th>pos</th>\n",
       "      <th>storm</th>\n",
       "      <th>storm phase</th>\n",
       "    </tr>\n",
       "    <tr>\n",
       "      <th>DateTime_ch</th>\n",
       "      <th></th>\n",
       "      <th></th>\n",
       "      <th></th>\n",
       "      <th></th>\n",
       "      <th></th>\n",
       "      <th></th>\n",
       "      <th></th>\n",
       "      <th></th>\n",
       "      <th></th>\n",
       "      <th></th>\n",
       "      <th></th>\n",
       "      <th></th>\n",
       "      <th></th>\n",
       "      <th></th>\n",
       "      <th></th>\n",
       "      <th></th>\n",
       "      <th></th>\n",
       "      <th></th>\n",
       "    </tr>\n",
       "  </thead>\n",
       "  <tbody>\n",
       "    <tr>\n",
       "      <th>2002-04-06 15:43:30</th>\n",
       "      <td>2002-04-06 15:43:30</td>\n",
       "      <td>437254.390</td>\n",
       "      <td>-87.055620</td>\n",
       "      <td>133.860137</td>\n",
       "      <td>3.862711e-12</td>\n",
       "      <td>2002-04-06 15:43:30</td>\n",
       "      <td>519073.037</td>\n",
       "      <td>-88.322</td>\n",
       "      <td>136.536</td>\n",
       "      <td>1.137365e-12</td>\n",
       "      <td>-2.675863</td>\n",
       "      <td>1.266380</td>\n",
       "      <td>-0.142380</td>\n",
       "      <td>-87.198</td>\n",
       "      <td>121.559</td>\n",
       "      <td>824098</td>\n",
       "      <td>-1</td>\n",
       "      <td>-1</td>\n",
       "    </tr>\n",
       "    <tr>\n",
       "      <th>2002-04-06 16:29:20</th>\n",
       "      <td>2002-04-06 16:29:20</td>\n",
       "      <td>408620.456</td>\n",
       "      <td>87.265805</td>\n",
       "      <td>-83.045802</td>\n",
       "      <td>4.874812e-12</td>\n",
       "      <td>2002-04-06 16:29:20</td>\n",
       "      <td>512400.493</td>\n",
       "      <td>82.639</td>\n",
       "      <td>-82.713</td>\n",
       "      <td>1.298829e-12</td>\n",
       "      <td>-0.332802</td>\n",
       "      <td>4.626805</td>\n",
       "      <td>-0.230805</td>\n",
       "      <td>87.035</td>\n",
       "      <td>70.002</td>\n",
       "      <td>824391</td>\n",
       "      <td>-1</td>\n",
       "      <td>-1</td>\n",
       "    </tr>\n",
       "    <tr>\n",
       "      <th>2002-04-13 02:09:00</th>\n",
       "      <td>2002-04-13 02:09:00</td>\n",
       "      <td>427704.318</td>\n",
       "      <td>-87.230417</td>\n",
       "      <td>-43.750844</td>\n",
       "      <td>3.888378e-12</td>\n",
       "      <td>2002-04-13 02:09:00</td>\n",
       "      <td>524230.624</td>\n",
       "      <td>-86.716</td>\n",
       "      <td>-45.165</td>\n",
       "      <td>1.096479e-12</td>\n",
       "      <td>1.414156</td>\n",
       "      <td>-0.514417</td>\n",
       "      <td>-0.069583</td>\n",
       "      <td>-87.300</td>\n",
       "      <td>96.298</td>\n",
       "      <td>879698</td>\n",
       "      <td>1</td>\n",
       "      <td>1</td>\n",
       "    </tr>\n",
       "    <tr>\n",
       "      <th>2002-04-13 02:09:40</th>\n",
       "      <td>2002-04-13 02:09:40</td>\n",
       "      <td>426744.588</td>\n",
       "      <td>-85.920458</td>\n",
       "      <td>-5.494757</td>\n",
       "      <td>3.654423e-12</td>\n",
       "      <td>2002-04-13 02:09:40</td>\n",
       "      <td>524956.885</td>\n",
       "      <td>-88.848</td>\n",
       "      <td>-5.225</td>\n",
       "      <td>1.110166e-12</td>\n",
       "      <td>-0.269757</td>\n",
       "      <td>2.927542</td>\n",
       "      <td>-0.180542</td>\n",
       "      <td>-86.101</td>\n",
       "      <td>102.866</td>\n",
       "      <td>879700</td>\n",
       "      <td>1</td>\n",
       "      <td>1</td>\n",
       "    </tr>\n",
       "    <tr>\n",
       "      <th>2002-04-16 06:34:40</th>\n",
       "      <td>2002-04-16 06:34:40</td>\n",
       "      <td>420582.760</td>\n",
       "      <td>87.236840</td>\n",
       "      <td>64.993346</td>\n",
       "      <td>5.705645e-12</td>\n",
       "      <td>2002-04-16 06:34:40</td>\n",
       "      <td>501880.807</td>\n",
       "      <td>87.071</td>\n",
       "      <td>67.051</td>\n",
       "      <td>2.021202e-12</td>\n",
       "      <td>-2.057654</td>\n",
       "      <td>0.165840</td>\n",
       "      <td>-0.165840</td>\n",
       "      <td>87.071</td>\n",
       "      <td>67.051</td>\n",
       "      <td>907203</td>\n",
       "      <td>1</td>\n",
       "      <td>2</td>\n",
       "    </tr>\n",
       "  </tbody>\n",
       "</table>\n",
       "</div>"
      ],
      "text/plain": [
       "                            DateTime_ch      alt_ch     lat_ch      lon_ch  \\\n",
       "DateTime_ch                                                                  \n",
       "2002-04-06 15:43:30 2002-04-06 15:43:30  437254.390 -87.055620  133.860137   \n",
       "2002-04-06 16:29:20 2002-04-06 16:29:20  408620.456  87.265805  -83.045802   \n",
       "2002-04-13 02:09:00 2002-04-13 02:09:00  427704.318 -87.230417  -43.750844   \n",
       "2002-04-13 02:09:40 2002-04-13 02:09:40  426744.588 -85.920458   -5.494757   \n",
       "2002-04-16 06:34:40 2002-04-16 06:34:40  420582.760  87.236840   64.993346   \n",
       "\n",
       "                        dens_x_ch         DateTime_gr      alt_gr  lat_gr  \\\n",
       "DateTime_ch                                                                 \n",
       "2002-04-06 15:43:30  3.862711e-12 2002-04-06 15:43:30  519073.037 -88.322   \n",
       "2002-04-06 16:29:20  4.874812e-12 2002-04-06 16:29:20  512400.493  82.639   \n",
       "2002-04-13 02:09:00  3.888378e-12 2002-04-13 02:09:00  524230.624 -86.716   \n",
       "2002-04-13 02:09:40  3.654423e-12 2002-04-13 02:09:40  524956.885 -88.848   \n",
       "2002-04-16 06:34:40  5.705645e-12 2002-04-16 06:34:40  501880.807  87.071   \n",
       "\n",
       "                      lon_gr     dens_x_gr   del_lon   del_lat  del_lat_near  \\\n",
       "DateTime_ch                                                                    \n",
       "2002-04-06 15:43:30  136.536  1.137365e-12 -2.675863  1.266380     -0.142380   \n",
       "2002-04-06 16:29:20  -82.713  1.298829e-12 -0.332802  4.626805     -0.230805   \n",
       "2002-04-13 02:09:00  -45.165  1.096479e-12  1.414156 -0.514417     -0.069583   \n",
       "2002-04-13 02:09:40   -5.225  1.110166e-12 -0.269757  2.927542     -0.180542   \n",
       "2002-04-16 06:34:40   67.051  2.021202e-12 -2.057654  0.165840     -0.165840   \n",
       "\n",
       "                     lat_gr_near  lon_gr_near     pos  storm  storm phase  \n",
       "DateTime_ch                                                                \n",
       "2002-04-06 15:43:30      -87.198      121.559  824098     -1           -1  \n",
       "2002-04-06 16:29:20       87.035       70.002  824391     -1           -1  \n",
       "2002-04-13 02:09:00      -87.300       96.298  879698      1            1  \n",
       "2002-04-13 02:09:40      -86.101      102.866  879700      1            1  \n",
       "2002-04-16 06:34:40       87.071       67.051  907203      1            2  "
      ]
     },
     "execution_count": 28,
     "metadata": {},
     "output_type": "execute_result"
    },
    {
     "data": {
      "text/plain": [
       "(25392, 18)"
      ]
     },
     "execution_count": 28,
     "metadata": {},
     "output_type": "execute_result"
    }
   ],
   "source": [
    "dat.head()\n",
    "dat.shape"
   ]
  },
  {
   "cell_type": "markdown",
   "id": "87699659",
   "metadata": {},
   "source": [
    "## Get JB2008 Densities"
   ]
  },
  {
   "cell_type": "code",
   "execution_count": 29,
   "id": "47f2857a",
   "metadata": {},
   "outputs": [
    {
     "data": {
      "application/vnd.jupyter.widget-view+json": {
       "model_id": "cfe5bbd8750f4c19852adb7ff8d92e04",
       "version_major": 2,
       "version_minor": 0
      },
      "text/plain": [
       "Dask Apply:   0%|          | 0/65 [00:00<?, ?it/s]"
      ]
     },
     "metadata": {},
     "output_type": "display_data"
    },
    {
     "data": {
      "application/vnd.jupyter.widget-view+json": {
       "model_id": "477b2910585a46cb8b5c0d7cdb6d8d1b",
       "version_major": 2,
       "version_minor": 0
      },
      "text/plain": [
       "Dask Apply:   0%|          | 0/65 [00:00<?, ?it/s]"
      ]
     },
     "metadata": {},
     "output_type": "display_data"
    }
   ],
   "source": [
    "jb_sat = jb08.jb2008(t=dat[f'DateTime_{sat}'].to_numpy(),\n",
    "                     lat=dat[f'lat_{sat}'].to_numpy(), lon=dat[f'lon_{sat}'].to_numpy(), \n",
    "                     alt=dat[f'alt_{sat}'].to_numpy()/1000.)\n",
    "jb_sat.predict()\n",
    "\n",
    "jb_gr = jb08.jb2008(t=dat[f'DateTime_gr'].to_numpy(),\n",
    "                     lat=dat[f'lat_gr'].to_numpy(), lon=dat[f'lon_gr'].to_numpy(), \n",
    "                     alt=dat[f'alt_gr'].to_numpy()/1000.)\n",
    "jb_gr.predict()"
   ]
  },
  {
   "cell_type": "markdown",
   "id": "24747e1f",
   "metadata": {},
   "source": [
    "## Get MSIS Densities"
   ]
  },
  {
   "cell_type": "code",
   "execution_count": 30,
   "id": "fb07ad8e",
   "metadata": {},
   "outputs": [
    {
     "name": "stderr",
     "output_type": "stream",
     "text": [
      "c:\\Users\\murph\\miniconda3\\envs\\satdrag\\lib\\site-packages\\pymsis\\utils.py:232: UserWarning: There is data that was either interpolated or predicted (not observed), use at your own risk.\n",
      "  warnings.warn(\n"
     ]
    }
   ],
   "source": [
    "msis_sat = [\n",
    "            msis.run(date,lon,lat,s_alt/1000.,geomagnetic_activity=-1*gs)[0,0] \\\n",
    "            for date, lat, lon, s_alt, gs, \\\n",
    "            in zip(dat[f'DateTime_{sat}'].to_numpy(), \n",
    "                   dat[f'lat_{sat}'].to_numpy(), \n",
    "                   dat[f'lon_{sat}'].to_numpy(), \n",
    "                   dat[f'alt_{sat}'].to_numpy(),\n",
    "                   dat['storm'].to_numpy())\n",
    "            ]\n",
    "\n",
    "msis_gr = [\n",
    "            msis.run(date,lon,lat,s_alt/1000.,geomagnetic_activity=-1*gs)[0,0] \\\n",
    "            for date, lat, lon, s_alt, gs, \\\n",
    "            in zip(dat[f'DateTime_gr'].to_numpy(), \n",
    "                   dat[f'lat_gr'].to_numpy(), \n",
    "                   dat[f'lon_gr'].to_numpy(), \n",
    "                   dat[f'alt_gr'].to_numpy(),\n",
    "                   dat['storm'].to_numpy())\n",
    "            ]"
   ]
  },
  {
   "cell_type": "code",
   "execution_count": 31,
   "id": "044cf91e",
   "metadata": {},
   "outputs": [
    {
     "name": "stdout",
     "output_type": "stream",
     "text": [
      "Grace\n",
      "MSIS  4.506472373830159e-14\n",
      "JB2008  2.5876192347842634e-14\n",
      "ch\n",
      "MSIS  6.079878438581277e-13\n",
      "JB2008  4.301542538692734e-13\n",
      "ch Normalized\n",
      "MSIS  4.666967847065091e-13\n",
      "JB2008  3.5247887441285624e-13\n",
      "---------------\n",
      "Grace\n",
      "MSIS  5.560034468978606e-14\n",
      "JB2008  4.260517213227386e-14\n",
      "ch\n",
      "MSIS  4.61438914217426e-13\n",
      "JB2008  4.4019855740676963e-13\n",
      "ch Normalized\n",
      "MSIS  4.08523784237964e-13\n",
      "JB2008  3.5399074869833843e-13\n",
      "---------------\n",
      "Grace\n",
      "MSIS  3.730564456727758e-14\n",
      "JB2008  1.6666738757089823e-14\n",
      "ch\n",
      "MSIS  7.709554936644837e-13\n",
      "JB2008  4.221372901769054e-13\n",
      "ch Normalized\n",
      "MSIS  5.327591857957258e-13\n",
      "JB2008  3.502652135689451e-13\n",
      "---------------\n"
     ]
    }
   ],
   "source": [
    "dat = dat.reset_index(drop=True)\n",
    "dat[f'msis_{sat}'] = msis_sat\n",
    "dat[f'jb08_{sat}'] = jb_sat.dat['DEN']\n",
    "\n",
    "dat[f'msis_r_{sat}'] = dat[f'dens_x_{sat}'] - dat[f'msis_{sat}']\n",
    "dat[f'jb08_r_{sat}'] = dat[f'dens_x_{sat}'] - dat[f'jb08_{sat}']\n",
    "\n",
    "dat['msis_gr'] = msis_gr\n",
    "dat['jb08_gr'] = jb_gr.dat['DEN']\n",
    "\n",
    "dat['msis_r_gr'] = dat['dens_x_gr'] - dat['msis_gr']\n",
    "dat['jb08_r_gr'] = dat['dens_x_gr'] - dat['jb08_gr']\n",
    "\n",
    "# Compute ratios and normalized/shifted data\n",
    "dat['msis_norm'] = dat[f'dens_x_{sat}']*dat['dens_x_gr']/dat['msis_gr']\n",
    "dat['jb08_norm'] = dat[f'dens_x_{sat}']*dat['dens_x_gr']/dat['jb08_gr']\n",
    "\n",
    "dat['msis_r_norm'] = dat[f'dens_x_{sat}']-dat['msis_norm']\n",
    "dat['jb08_r_norm'] = dat[f'dens_x_{sat}']-dat['jb08_norm']\n",
    "\n",
    "\n",
    "st = dat['storm'] == 1\n",
    "\n",
    "for df in [dat, dat[st], dat[~st]]:\n",
    "    print(f'Grace')\n",
    "    print('MSIS ',median_absolute_error(df['dens_x_gr'], df['msis_gr']))\n",
    "    print('JB2008 ', median_absolute_error(df['dens_x_gr'], df['jb08_gr']))\n",
    "\n",
    "    print(f'{sat}')\n",
    "    print('MSIS ', median_absolute_error(df[f'dens_x_{sat}'], df[f'msis_{sat}']))\n",
    "    print('JB2008 ', median_absolute_error(df[f'dens_x_{sat}'], df[f'jb08_{sat}']))\n",
    "\n",
    "    print(f'{sat} Normalized')\n",
    "    print('MSIS ', median_absolute_error(df[f'dens_x_{sat}'], df['msis_norm']))\n",
    "    print('JB2008 ', median_absolute_error(df[f'dens_x_{sat}'], df['jb08_norm']))\n",
    "    print('---------------')"
   ]
  },
  {
   "cell_type": "code",
   "execution_count": 32,
   "id": "29e21815",
   "metadata": {},
   "outputs": [
    {
     "data": {
      "text/plain": [
       "0       -1\n",
       "1       -1\n",
       "2        1\n",
       "3        1\n",
       "4        1\n",
       "        ..\n",
       "25387   -1\n",
       "25388   -1\n",
       "25389   -1\n",
       "25390   -1\n",
       "25391   -1\n",
       "Name: storm, Length: 25392, dtype: int64"
      ]
     },
     "execution_count": 32,
     "metadata": {},
     "output_type": "execute_result"
    }
   ],
   "source": [
    "dat['storm']"
   ]
  },
  {
   "cell_type": "code",
   "execution_count": 33,
   "id": "17d44653",
   "metadata": {},
   "outputs": [
    {
     "data": {
      "image/png": "[encoded data removed]",
      "text/plain": [
       "<Figure size 600x900 with 3 Axes>"
      ]
     },
     "metadata": {},
     "output_type": "display_data"
    }
   ],
   "source": [
    "plt.rcParams.update({'font.size': 8})\n",
    "fig, ax = plt.subplots(3,1, figsize=(6,9))\n",
    "ax = ax.flatten()\n",
    "\n",
    "density=True\n",
    "lq=0.05\n",
    "uq=0.95\n",
    "\n",
    "# Grace Residuals\n",
    "res_min = np.min([dat['msis_r_gr'].quantile(lq),dat['jb08_r_gr'].quantile(lq)])\n",
    "res_max = np.max([dat['msis_r_gr'].quantile(uq),dat['jb08_r_gr'].quantile(uq)])\n",
    "\n",
    "b_m = np.histogram_bin_edges(dat['msis_r_gr'],bins='fd', range=[res_min,res_max])\n",
    "b_j = np.histogram_bin_edges(dat['jb08_r_gr'],bins='fd', range=[res_min,res_max])\n",
    "\n",
    "_ = ax[0].hist(dat['jb08_r_gr'].to_numpy(),bins=b_j, alpha = 1,\n",
    "                 label='JB2008', density=density, color='steelblue') \n",
    "_ = ax[0].hist(dat['msis_r_gr'].to_numpy(),bins=b_m, alpha = 0.5,\n",
    "                 label='MSIS', density=density, color='red') \n",
    "_ = ax[0].legend(fontsize=8)\n",
    "_ = ax[0].set(title='Residuals @ GR: Obs-Mod', xlabel='Residuals', \n",
    "          ylabel='Probability')\n",
    "\n",
    "# Grace Residuals\n",
    "res_min = np.min([dat[f'msis_r_{sat}'].quantile(lq),dat[f'jb08_r_{sat}'].quantile(lq)])\n",
    "res_max = np.max([dat[f'msis_r_{sat}'].quantile(uq),dat[f'jb08_r_{sat}'].quantile(uq)])\n",
    "\n",
    "b_m = np.histogram_bin_edges(dat[f'msis_r_{sat}'],bins='fd', range=[res_min,res_max])\n",
    "b_j = np.histogram_bin_edges(dat[f'jb08_r_{sat}'],bins='fd', range=[res_min,res_max])\n",
    "\n",
    "_ = ax[1].hist(dat[f'jb08_r_{sat}'].to_numpy(),bins=b_j, alpha = 1,\n",
    "                 label='JB2008', density=density, color='steelblue') \n",
    "_ = ax[1].hist(dat[f'msis_r_{sat}'].to_numpy(),bins=b_m, alpha = 0.5,\n",
    "                 label='MSIS', density=density, color='red') \n",
    "_ = ax[1].legend(fontsize=8)\n",
    "_ = ax[1].set(title=f'Residuals @ {sat.upper()}: Obs-Mod', xlabel='Residuals', \n",
    "          ylabel='Probability')\n",
    "\n",
    "# Grace Norm Residuals\n",
    "res_min = np.min([dat['msis_r_norm'].quantile(lq),dat['jb08_r_norm'].quantile(lq)])\n",
    "res_max = np.max([dat['msis_r_norm'].quantile(uq),dat['jb08_r_norm'].quantile(uq)])\n",
    "\n",
    "b_m = np.histogram_bin_edges(dat['msis_r_norm'],bins='fd', range=[res_min,res_max])\n",
    "b_j = np.histogram_bin_edges(dat['jb08_r_norm'],bins='fd', range=[res_min,res_max])\n",
    "\n",
    "_ = ax[2].hist(dat['jb08_r_norm'].to_numpy(),bins=b_j, alpha = 1,\n",
    "                 label='JB2008', density=density, color='steelblue') \n",
    "_ = ax[2].hist(dat['msis_r_norm'].to_numpy(),bins=b_m, alpha = 0.5,\n",
    "                 label='MSIS', density=density, color='red') \n",
    "_ = ax[2].legend(fontsize=8)\n",
    "_ = ax[2].set(title='Residuals @ GR (Normalized): Obs-Mod', xlabel='Residuals', \n",
    "          ylabel='Probability')\n",
    "\n",
    "fig.tight_layout()"
   ]
  }
 ],
 "metadata": {
  "kernelspec": {
   "display_name": "satdrag",
   "language": "python",
   "name": "python3"
  },
  "language_info": {
   "codemirror_mode": {
    "name": "ipython",
    "version": 3
   },
   "file_extension": ".py",
   "mimetype": "text/x-python",
   "name": "python",
   "nbconvert_exporter": "python",
   "pygments_lexer": "ipython3",
   "version": "3.10.16"
  }
 },
 "nbformat": 4,
 "nbformat_minor": 5
}
