{
 "cells": [
  {
   "cell_type": "markdown",
   "metadata": {},
   "source": [
    "# Drag AMPERE\n",
    "\n",
    "Ivestigate density and AMPERE data\n",
    "\n",
    "Find the indices where the MLT and Colat of AMPERE matches that of the spacecraft\n",
    "\n",
    "## Datasets\n",
    "\n",
    "Use the normalized datasets. \n",
    "- satdrag_database_grace_B.hdf5\n",
    "- satdrag_database_grace_C.hdf5\n",
    "- satdrag_database_grace_CHAMP.hdf5\n",
    "\n"
   ]
  },
  {
   "cell_type": "code",
   "execution_count": 1,
   "metadata": {},
   "outputs": [],
   "source": [
    "#print all output in a cell \n",
    "from IPython.core.interactiveshell import InteractiveShell\n",
    "InteractiveShell.ast_node_interactivity = \"all\""
   ]
  },
  {
   "cell_type": "code",
   "execution_count": 94,
   "metadata": {},
   "outputs": [],
   "source": [
    "import pandas as pd\n",
    "import numpy as np\n",
    "import netCDF4 as nc\n",
    "import seaborn as sns\n",
    "\n",
    "# for converting to\n",
    "# geomagnetic coord\n",
    "import aacgmv2\n",
    "\n"
   ]
  },
  {
   "cell_type": "code",
   "execution_count": 17,
   "metadata": {},
   "outputs": [],
   "source": [
    "# min and max lat\n",
    "lmin = 30\n",
    "lmax = 90\n",
    "\n",
    "# magnetic min and max\n",
    "mlmin = 40\n",
    "mlmax = 90\n",
    "\n",
    "# date range (for AMPERE data)\n",
    "dmin = '2009-01-01'\n",
    "dmax = '2013-01-01'\n",
    "\n",
    "# satellite to use\n",
    "sat = 'B'\n",
    "data_f=f\"D:/data/SatDensities/satdrag_database_grace_{sat}.hdf5\"\n",
    "\n",
    "# ampere file\n",
    "# single file to find indexes of closest encounter\n",
    "data_amp = \"E:\\\\OneDrive\\\\data\\\\AMPERE\\\\ampere.20091002.k060_m08.north.grd.nc\"\n",
    "\n",
    "# ampere database\n",
    "db_amp = 'C:/data/ampere_jpar.hdf5'"
   ]
  },
  {
   "cell_type": "code",
   "execution_count": 4,
   "metadata": {},
   "outputs": [],
   "source": [
    "sat_df = pd.read_hdf(data_f)"
   ]
  },
  {
   "cell_type": "code",
   "execution_count": 5,
   "metadata": {},
   "outputs": [],
   "source": [
    "#define the latitude and time masks\n",
    "gd_t = (sat_df['DateTime'] >= dmin) & (sat_df['DateTime'] <= dmax)\n",
    "gd_lat = (sat_df['SatLat'] >= lmin) & (sat_df['SatLat'] <= lmax)"
   ]
  },
  {
   "cell_type": "code",
   "execution_count": 6,
   "metadata": {},
   "outputs": [
    {
     "data": {
      "text/plain": [
       "(93625, 80)"
      ]
     },
     "execution_count": 6,
     "metadata": {},
     "output_type": "execute_result"
    },
    {
     "data": {
      "text/plain": [
       "Index(['index', 'DateTime', 'DateTime_omni', 'B', 'Bx_GSEGSM', 'By_GSE',\n",
       "       'Bz_GSE', 'By_GSM', 'Bz_GSM', 'Vsw', 'Vx_GSE', 'Vy_GSE', 'Vz_GSE',\n",
       "       'Prho', 'Tp', 'dynP', 'Esw', 'AE', 'AL', 'AU', 'SYM_D index',\n",
       "       'SYM_H index', 'ASY_D index', 'ASY_H index', 'PC index',\n",
       "       'Goes Proton flux (>10 MeV)', 'Goes Proton flux (>30 MeV)',\n",
       "       'Goes Proton flux (>60 MeV)', 'DateTime_fism2', '225_00', '600_01',\n",
       "       '1300_02', '2500_03', '5100_04', '11250_05', '18950_06', '25700_07',\n",
       "       '30500_08', '43000_09', '59500_10', '72400_11', '72400_12', '85550_13',\n",
       "       '85550_14', '85550_15', '94400_16', '94400_17', '94400_18', '98100_19',\n",
       "       '100700_20', '103850_21', '113000_22', 'DateTime_si', 'F10', 'F81',\n",
       "       'S10', 'S81c', 'M10', 'M81c', 'Y10', 'Y81c', 'DateTime_gr', 'CenterLat',\n",
       "       'SatLat', 'SatLon', 'SatHeight', 'SatLT', 'SatDipoleLat', 'SatMagLon',\n",
       "       'SatMagLT', 'SatDensity', '400kmDensity', '410kmDensity',\n",
       "       'NRLMSISe00atSat', 'DenUncertainty', 'NumPts', 'NuminBinThrusters',\n",
       "       'AveDragCoef', 'storm', 'storm phase'],\n",
       "      dtype='object')"
      ]
     },
     "execution_count": 6,
     "metadata": {},
     "output_type": "execute_result"
    }
   ],
   "source": [
    "#truncate the array so fewer aacgm \n",
    "# calculations need to be done\n",
    "sat_sm = sat_df[gd_t & gd_lat].copy().reset_index()\n",
    "sat_sm.shape\n",
    "sat_sm.columns"
   ]
  },
  {
   "cell_type": "code",
   "execution_count": 7,
   "metadata": {},
   "outputs": [],
   "source": [
    "lat = sat_sm['SatLat'].to_numpy()\n",
    "lon = sat_sm['SatLon'].to_numpy()\n",
    "alt = sat_sm['SatHeight'].to_numpy()\n",
    "dt = pd.to_datetime(sat_sm['DateTime_gr'].to_numpy())\n",
    "\n",
    "x = [\n",
    "    aacgmv2.get_aacgm_coord(glat,glon,galt,gdt)\n",
    "    for glat, glon, galt, gdt in \n",
    "    zip(lat,lon,alt,dt)\n",
    "    ]\n",
    "\n",
    "x = np.array(x)"
   ]
  },
  {
   "cell_type": "code",
   "execution_count": 8,
   "metadata": {},
   "outputs": [],
   "source": [
    "# add the new coordinates and truncate to mag coordinates\n",
    "sat_sm['Sat_mlat'] = x[:,0]\n",
    "sat_sm['Sat_mlon'] = x[:,1]\n",
    "sat_sm['Sat_mlt'] = x[:,2]\n",
    "\n",
    "gd_ml = (sat_sm['Sat_mlat'] >= mlmin) & (sat_sm['Sat_mlat'] <= mlmax) \n",
    "sat_sm = sat_sm[gd_ml].copy()\n",
    "\n",
    "# calculate magnetic colatitude\n",
    "sat_sm['Sat_mcolat'] = 90-sat_sm['Sat_mlat']\n"
   ]
  },
  {
   "cell_type": "code",
   "execution_count": 11,
   "metadata": {},
   "outputs": [],
   "source": [
    "# read in the AMPERE data to get\n",
    "# the AMPERE colat/mlt grid\n",
    "amp_dat = nc.Dataset(data_amp)\n",
    "amp_colat = amp_dat['cLat_deg'][:][0,:]\n",
    "amp_mlt = amp_dat['mlt_hr'][:][0,:]\n",
    "\n",
    "amp_cos = np.cos(amp_mlt*np.pi/12)\n",
    "amp_sin = np.sin(amp_mlt*np.pi/12)\n",
    "\n",
    "amp_dat.close()"
   ]
  },
  {
   "cell_type": "code",
   "execution_count": 12,
   "metadata": {},
   "outputs": [],
   "source": [
    "pos = [(np.power(amp_cos-np.cos(x_mlt*np.pi/12),2)+\n",
    "        np.power(amp_sin-np.sin(x_mlt*np.pi/12),2)+\n",
    "        +np.power(amp_colat-x_lat,2)).argmin() \n",
    "        for x_mlt, x_lat in zip(sat_sm['Sat_mlt'],sat_sm['Sat_mcolat'])]\n"
   ]
  },
  {
   "cell_type": "code",
   "execution_count": 13,
   "metadata": {},
   "outputs": [],
   "source": [
    "sat_sm['Diff_colat'] = sat_sm['Sat_mcolat']-amp_colat[pos]\n",
    "sat_sm['Diff_mlt'] = sat_sm['Sat_mlt']-amp_mlt[pos] \n",
    "bd = sat_sm['Diff_mlt'] > 23.5\n",
    "sat_sm.loc[bd,'Diff_mlt'] = 24-sat_sm.loc[bd,'Diff_mlt'] "
   ]
  },
  {
   "cell_type": "code",
   "execution_count": 14,
   "metadata": {},
   "outputs": [],
   "source": [
    "sat_sm['AMP_idx'] = pos"
   ]
  },
  {
   "cell_type": "code",
   "execution_count": null,
   "metadata": {},
   "outputs": [],
   "source": [
    "# read in the AMPERE J data\n",
    "amp_j = pd.read_hdf(db_amp)"
   ]
  },
  {
   "cell_type": "code",
   "execution_count": 21,
   "metadata": {},
   "outputs": [
    {
     "data": {
      "text/html": [
       "<div>\n",
       "<style scoped>\n",
       "    .dataframe tbody tr th:only-of-type {\n",
       "        vertical-align: middle;\n",
       "    }\n",
       "\n",
       "    .dataframe tbody tr th {\n",
       "        vertical-align: top;\n",
       "    }\n",
       "\n",
       "    .dataframe thead th {\n",
       "        text-align: right;\n",
       "    }\n",
       "</style>\n",
       "<table border=\"1\" class=\"dataframe\">\n",
       "  <thead>\n",
       "    <tr style=\"text-align: right;\">\n",
       "      <th></th>\n",
       "      <th>0</th>\n",
       "      <th>1</th>\n",
       "      <th>2</th>\n",
       "      <th>3</th>\n",
       "      <th>4</th>\n",
       "      <th>5</th>\n",
       "      <th>6</th>\n",
       "      <th>7</th>\n",
       "      <th>8</th>\n",
       "      <th>9</th>\n",
       "      <th>...</th>\n",
       "      <th>1191</th>\n",
       "      <th>1192</th>\n",
       "      <th>1193</th>\n",
       "      <th>1194</th>\n",
       "      <th>1195</th>\n",
       "      <th>1196</th>\n",
       "      <th>1197</th>\n",
       "      <th>1198</th>\n",
       "      <th>1199</th>\n",
       "      <th>time</th>\n",
       "    </tr>\n",
       "  </thead>\n",
       "  <tbody>\n",
       "    <tr>\n",
       "      <th>0</th>\n",
       "      <td>0.056975</td>\n",
       "      <td>0.037803</td>\n",
       "      <td>0.038518</td>\n",
       "      <td>0.049165</td>\n",
       "      <td>0.059672</td>\n",
       "      <td>0.060608</td>\n",
       "      <td>0.044058</td>\n",
       "      <td>0.006738</td>\n",
       "      <td>-0.046455</td>\n",
       "      <td>-0.101901</td>\n",
       "      <td>...</td>\n",
       "      <td>0.063134</td>\n",
       "      <td>0.062676</td>\n",
       "      <td>0.029469</td>\n",
       "      <td>-0.010243</td>\n",
       "      <td>-0.029591</td>\n",
       "      <td>-0.020619</td>\n",
       "      <td>0.002271</td>\n",
       "      <td>0.015732</td>\n",
       "      <td>0.006109</td>\n",
       "      <td>2009-10-02 00:00:00</td>\n",
       "    </tr>\n",
       "    <tr>\n",
       "      <th>1</th>\n",
       "      <td>0.059664</td>\n",
       "      <td>0.099800</td>\n",
       "      <td>0.142275</td>\n",
       "      <td>0.156618</td>\n",
       "      <td>0.131288</td>\n",
       "      <td>0.076095</td>\n",
       "      <td>0.011862</td>\n",
       "      <td>-0.043416</td>\n",
       "      <td>-0.082854</td>\n",
       "      <td>-0.109510</td>\n",
       "      <td>...</td>\n",
       "      <td>0.067157</td>\n",
       "      <td>0.063972</td>\n",
       "      <td>0.031553</td>\n",
       "      <td>-0.006913</td>\n",
       "      <td>-0.027982</td>\n",
       "      <td>-0.024404</td>\n",
       "      <td>-0.007964</td>\n",
       "      <td>0.001923</td>\n",
       "      <td>-0.006060</td>\n",
       "      <td>2009-10-02 00:02:00</td>\n",
       "    </tr>\n",
       "  </tbody>\n",
       "</table>\n",
       "<p>2 rows × 1201 columns</p>\n",
       "</div>"
      ],
      "text/plain": [
       "          0         1         2         3         4         5         6  \\\n",
       "0  0.056975  0.037803  0.038518  0.049165  0.059672  0.060608  0.044058   \n",
       "1  0.059664  0.099800  0.142275  0.156618  0.131288  0.076095  0.011862   \n",
       "\n",
       "          7         8         9  ...      1191      1192      1193      1194  \\\n",
       "0  0.006738 -0.046455 -0.101901  ...  0.063134  0.062676  0.029469 -0.010243   \n",
       "1 -0.043416 -0.082854 -0.109510  ...  0.067157  0.063972  0.031553 -0.006913   \n",
       "\n",
       "       1195      1196      1197      1198      1199                time  \n",
       "0 -0.029591 -0.020619  0.002271  0.015732  0.006109 2009-10-02 00:00:00  \n",
       "1 -0.027982 -0.024404 -0.007964  0.001923 -0.006060 2009-10-02 00:02:00  \n",
       "\n",
       "[2 rows x 1201 columns]"
      ]
     },
     "execution_count": 21,
     "metadata": {},
     "output_type": "execute_result"
    },
    {
     "data": {
      "text/html": [
       "<div>\n",
       "<style scoped>\n",
       "    .dataframe tbody tr th:only-of-type {\n",
       "        vertical-align: middle;\n",
       "    }\n",
       "\n",
       "    .dataframe tbody tr th {\n",
       "        vertical-align: top;\n",
       "    }\n",
       "\n",
       "    .dataframe thead th {\n",
       "        text-align: right;\n",
       "    }\n",
       "</style>\n",
       "<table border=\"1\" class=\"dataframe\">\n",
       "  <thead>\n",
       "    <tr style=\"text-align: right;\">\n",
       "      <th></th>\n",
       "      <th>0</th>\n",
       "      <th>1</th>\n",
       "      <th>2</th>\n",
       "      <th>3</th>\n",
       "      <th>4</th>\n",
       "      <th>5</th>\n",
       "      <th>6</th>\n",
       "      <th>7</th>\n",
       "      <th>8</th>\n",
       "      <th>9</th>\n",
       "      <th>...</th>\n",
       "      <th>1191</th>\n",
       "      <th>1192</th>\n",
       "      <th>1193</th>\n",
       "      <th>1194</th>\n",
       "      <th>1195</th>\n",
       "      <th>1196</th>\n",
       "      <th>1197</th>\n",
       "      <th>1198</th>\n",
       "      <th>1199</th>\n",
       "      <th>time</th>\n",
       "    </tr>\n",
       "  </thead>\n",
       "  <tbody>\n",
       "    <tr>\n",
       "      <th>830857</th>\n",
       "      <td>0.313188</td>\n",
       "      <td>0.104983</td>\n",
       "      <td>-0.201180</td>\n",
       "      <td>-0.487034</td>\n",
       "      <td>-0.653939</td>\n",
       "      <td>-0.665766</td>\n",
       "      <td>-0.554674</td>\n",
       "      <td>-0.393590</td>\n",
       "      <td>-0.254671</td>\n",
       "      <td>-0.175695</td>\n",
       "      <td>...</td>\n",
       "      <td>-0.027898</td>\n",
       "      <td>-0.008100</td>\n",
       "      <td>0.003216</td>\n",
       "      <td>-0.002196</td>\n",
       "      <td>-0.014552</td>\n",
       "      <td>-0.014059</td>\n",
       "      <td>0.011940</td>\n",
       "      <td>0.056661</td>\n",
       "      <td>0.096190</td>\n",
       "      <td>2012-12-31 23:56:00</td>\n",
       "    </tr>\n",
       "    <tr>\n",
       "      <th>830858</th>\n",
       "      <td>0.467988</td>\n",
       "      <td>0.175269</td>\n",
       "      <td>-0.227166</td>\n",
       "      <td>-0.553026</td>\n",
       "      <td>-0.681096</td>\n",
       "      <td>-0.613403</td>\n",
       "      <td>-0.448238</td>\n",
       "      <td>-0.299346</td>\n",
       "      <td>-0.224489</td>\n",
       "      <td>-0.208459</td>\n",
       "      <td>...</td>\n",
       "      <td>-0.047851</td>\n",
       "      <td>-0.020221</td>\n",
       "      <td>0.010118</td>\n",
       "      <td>0.020646</td>\n",
       "      <td>0.007265</td>\n",
       "      <td>-0.013898</td>\n",
       "      <td>-0.020589</td>\n",
       "      <td>-0.002330</td>\n",
       "      <td>0.031484</td>\n",
       "      <td>2012-12-31 23:58:00</td>\n",
       "    </tr>\n",
       "  </tbody>\n",
       "</table>\n",
       "<p>2 rows × 1201 columns</p>\n",
       "</div>"
      ],
      "text/plain": [
       "               0         1         2         3         4         5         6  \\\n",
       "830857  0.313188  0.104983 -0.201180 -0.487034 -0.653939 -0.665766 -0.554674   \n",
       "830858  0.467988  0.175269 -0.227166 -0.553026 -0.681096 -0.613403 -0.448238   \n",
       "\n",
       "               7         8         9  ...      1191      1192      1193  \\\n",
       "830857 -0.393590 -0.254671 -0.175695  ... -0.027898 -0.008100  0.003216   \n",
       "830858 -0.299346 -0.224489 -0.208459  ... -0.047851 -0.020221  0.010118   \n",
       "\n",
       "            1194      1195      1196      1197      1198      1199  \\\n",
       "830857 -0.002196 -0.014552 -0.014059  0.011940  0.056661  0.096190   \n",
       "830858  0.020646  0.007265 -0.013898 -0.020589 -0.002330  0.031484   \n",
       "\n",
       "                      time  \n",
       "830857 2012-12-31 23:56:00  \n",
       "830858 2012-12-31 23:58:00  \n",
       "\n",
       "[2 rows x 1201 columns]"
      ]
     },
     "execution_count": 21,
     "metadata": {},
     "output_type": "execute_result"
    }
   ],
   "source": [
    "amp_j.head(2)\n",
    "amp_j.tail(2)"
   ]
  },
  {
   "cell_type": "code",
   "execution_count": 22,
   "metadata": {},
   "outputs": [
    {
     "data": {
      "text/html": [
       "<div>\n",
       "<style scoped>\n",
       "    .dataframe tbody tr th:only-of-type {\n",
       "        vertical-align: middle;\n",
       "    }\n",
       "\n",
       "    .dataframe tbody tr th {\n",
       "        vertical-align: top;\n",
       "    }\n",
       "\n",
       "    .dataframe thead th {\n",
       "        text-align: right;\n",
       "    }\n",
       "</style>\n",
       "<table border=\"1\" class=\"dataframe\">\n",
       "  <thead>\n",
       "    <tr style=\"text-align: right;\">\n",
       "      <th></th>\n",
       "      <th>index</th>\n",
       "      <th>DateTime</th>\n",
       "      <th>DateTime_omni</th>\n",
       "      <th>B</th>\n",
       "      <th>Bx_GSEGSM</th>\n",
       "      <th>By_GSE</th>\n",
       "      <th>Bz_GSE</th>\n",
       "      <th>By_GSM</th>\n",
       "      <th>Bz_GSM</th>\n",
       "      <th>Vsw</th>\n",
       "      <th>...</th>\n",
       "      <th>AveDragCoef</th>\n",
       "      <th>storm</th>\n",
       "      <th>storm phase</th>\n",
       "      <th>Sat_mlat</th>\n",
       "      <th>Sat_mlon</th>\n",
       "      <th>Sat_mlt</th>\n",
       "      <th>Sat_mcolat</th>\n",
       "      <th>Diff_colat</th>\n",
       "      <th>Diff_mlt</th>\n",
       "      <th>AMP_idx</th>\n",
       "    </tr>\n",
       "  </thead>\n",
       "  <tbody>\n",
       "    <tr>\n",
       "      <th>0</th>\n",
       "      <td>675366</td>\n",
       "      <td>2009-01-01 00:30:00</td>\n",
       "      <td>2009-01-01 00:30:00</td>\n",
       "      <td>4.59</td>\n",
       "      <td>-4.21</td>\n",
       "      <td>1.32</td>\n",
       "      <td>-1.06</td>\n",
       "      <td>1.55</td>\n",
       "      <td>-0.68</td>\n",
       "      <td>502.7</td>\n",
       "      <td>...</td>\n",
       "      <td>2.993</td>\n",
       "      <td>-1</td>\n",
       "      <td>-1</td>\n",
       "      <td>54.366397</td>\n",
       "      <td>-7.742894</td>\n",
       "      <td>18.799389</td>\n",
       "      <td>35.633603</td>\n",
       "      <td>-0.366397</td>\n",
       "      <td>-0.200611</td>\n",
       "      <td>985</td>\n",
       "    </tr>\n",
       "    <tr>\n",
       "      <th>1</th>\n",
       "      <td>675367</td>\n",
       "      <td>2009-01-01 00:35:00</td>\n",
       "      <td>2009-01-01 00:35:00</td>\n",
       "      <td>4.35</td>\n",
       "      <td>-3.78</td>\n",
       "      <td>1.29</td>\n",
       "      <td>-0.86</td>\n",
       "      <td>1.46</td>\n",
       "      <td>-0.51</td>\n",
       "      <td>509.8</td>\n",
       "      <td>...</td>\n",
       "      <td>3.141</td>\n",
       "      <td>-1</td>\n",
       "      <td>-1</td>\n",
       "      <td>71.509874</td>\n",
       "      <td>-7.789085</td>\n",
       "      <td>18.880697</td>\n",
       "      <td>18.490126</td>\n",
       "      <td>0.490126</td>\n",
       "      <td>-0.119303</td>\n",
       "      <td>967</td>\n",
       "    </tr>\n",
       "  </tbody>\n",
       "</table>\n",
       "<p>2 rows × 87 columns</p>\n",
       "</div>"
      ],
      "text/plain": [
       "    index            DateTime       DateTime_omni     B  Bx_GSEGSM  By_GSE  \\\n",
       "0  675366 2009-01-01 00:30:00 2009-01-01 00:30:00  4.59      -4.21    1.32   \n",
       "1  675367 2009-01-01 00:35:00 2009-01-01 00:35:00  4.35      -3.78    1.29   \n",
       "\n",
       "   Bz_GSE  By_GSM  Bz_GSM    Vsw  ...  AveDragCoef  storm  storm phase  \\\n",
       "0   -1.06    1.55   -0.68  502.7  ...        2.993     -1           -1   \n",
       "1   -0.86    1.46   -0.51  509.8  ...        3.141     -1           -1   \n",
       "\n",
       "    Sat_mlat  Sat_mlon    Sat_mlt  Sat_mcolat  Diff_colat  Diff_mlt  AMP_idx  \n",
       "0  54.366397 -7.742894  18.799389   35.633603   -0.366397 -0.200611      985  \n",
       "1  71.509874 -7.789085  18.880697   18.490126    0.490126 -0.119303      967  \n",
       "\n",
       "[2 rows x 87 columns]"
      ]
     },
     "execution_count": 22,
     "metadata": {},
     "output_type": "execute_result"
    },
    {
     "data": {
      "text/html": [
       "<div>\n",
       "<style scoped>\n",
       "    .dataframe tbody tr th:only-of-type {\n",
       "        vertical-align: middle;\n",
       "    }\n",
       "\n",
       "    .dataframe tbody tr th {\n",
       "        vertical-align: top;\n",
       "    }\n",
       "\n",
       "    .dataframe thead th {\n",
       "        text-align: right;\n",
       "    }\n",
       "</style>\n",
       "<table border=\"1\" class=\"dataframe\">\n",
       "  <thead>\n",
       "    <tr style=\"text-align: right;\">\n",
       "      <th></th>\n",
       "      <th>index</th>\n",
       "      <th>DateTime</th>\n",
       "      <th>DateTime_omni</th>\n",
       "      <th>B</th>\n",
       "      <th>Bx_GSEGSM</th>\n",
       "      <th>By_GSE</th>\n",
       "      <th>Bz_GSE</th>\n",
       "      <th>By_GSM</th>\n",
       "      <th>Bz_GSM</th>\n",
       "      <th>Vsw</th>\n",
       "      <th>...</th>\n",
       "      <th>AveDragCoef</th>\n",
       "      <th>storm</th>\n",
       "      <th>storm phase</th>\n",
       "      <th>Sat_mlat</th>\n",
       "      <th>Sat_mlon</th>\n",
       "      <th>Sat_mlt</th>\n",
       "      <th>Sat_mcolat</th>\n",
       "      <th>Diff_colat</th>\n",
       "      <th>Diff_mlt</th>\n",
       "      <th>AMP_idx</th>\n",
       "    </tr>\n",
       "  </thead>\n",
       "  <tbody>\n",
       "    <tr>\n",
       "      <th>93623</th>\n",
       "      <td>1043135</td>\n",
       "      <td>2012-06-30 23:55:00</td>\n",
       "      <td>2012-06-30 23:55:00</td>\n",
       "      <td>7.11</td>\n",
       "      <td>2.11</td>\n",
       "      <td>-0.79</td>\n",
       "      <td>4.28</td>\n",
       "      <td>-1.23</td>\n",
       "      <td>4.17</td>\n",
       "      <td>656.4</td>\n",
       "      <td>...</td>\n",
       "      <td>3.452</td>\n",
       "      <td>-1</td>\n",
       "      <td>-1</td>\n",
       "      <td>80.380401</td>\n",
       "      <td>172.474658</td>\n",
       "      <td>6.745197</td>\n",
       "      <td>9.619599</td>\n",
       "      <td>-0.380401</td>\n",
       "      <td>-0.254803</td>\n",
       "      <td>359</td>\n",
       "    </tr>\n",
       "    <tr>\n",
       "      <th>93624</th>\n",
       "      <td>1043136</td>\n",
       "      <td>2012-07-01 00:00:00</td>\n",
       "      <td>2012-07-01 00:00:00</td>\n",
       "      <td>6.78</td>\n",
       "      <td>1.45</td>\n",
       "      <td>-1.49</td>\n",
       "      <td>6.06</td>\n",
       "      <td>-2.10</td>\n",
       "      <td>5.87</td>\n",
       "      <td>665.2</td>\n",
       "      <td>...</td>\n",
       "      <td>3.279</td>\n",
       "      <td>-1</td>\n",
       "      <td>-1</td>\n",
       "      <td>64.390042</td>\n",
       "      <td>-175.378677</td>\n",
       "      <td>7.627241</td>\n",
       "      <td>25.609958</td>\n",
       "      <td>-0.390042</td>\n",
       "      <td>-0.372759</td>\n",
       "      <td>425</td>\n",
       "    </tr>\n",
       "  </tbody>\n",
       "</table>\n",
       "<p>2 rows × 87 columns</p>\n",
       "</div>"
      ],
      "text/plain": [
       "         index            DateTime       DateTime_omni     B  Bx_GSEGSM  \\\n",
       "93623  1043135 2012-06-30 23:55:00 2012-06-30 23:55:00  7.11       2.11   \n",
       "93624  1043136 2012-07-01 00:00:00 2012-07-01 00:00:00  6.78       1.45   \n",
       "\n",
       "       By_GSE  Bz_GSE  By_GSM  Bz_GSM    Vsw  ...  AveDragCoef  storm  \\\n",
       "93623   -0.79    4.28   -1.23    4.17  656.4  ...        3.452     -1   \n",
       "93624   -1.49    6.06   -2.10    5.87  665.2  ...        3.279     -1   \n",
       "\n",
       "       storm phase   Sat_mlat    Sat_mlon   Sat_mlt  Sat_mcolat  Diff_colat  \\\n",
       "93623           -1  80.380401  172.474658  6.745197    9.619599   -0.380401   \n",
       "93624           -1  64.390042 -175.378677  7.627241   25.609958   -0.390042   \n",
       "\n",
       "       Diff_mlt  AMP_idx  \n",
       "93623 -0.254803      359  \n",
       "93624 -0.372759      425  \n",
       "\n",
       "[2 rows x 87 columns]"
      ]
     },
     "execution_count": 22,
     "metadata": {},
     "output_type": "execute_result"
    }
   ],
   "source": [
    "sat_sm.head(2)\n",
    "sat_sm.tail(2)"
   ]
  },
  {
   "cell_type": "code",
   "execution_count": null,
   "metadata": {},
   "outputs": [],
   "source": [
    "t_min = np.max([sat_sm['DateTime'].min(),amp_j['time'].min()])\n",
    "t_max = np.min([sat_sm['DateTime'].max(),amp_j['time'].max()])\n",
    "\n",
    "\n"
   ]
  },
  {
   "cell_type": "code",
   "execution_count": 31,
   "metadata": {},
   "outputs": [],
   "source": [
    "sat_sm = sat_sm[(sat_sm['DateTime'] >= t_min) & (sat_sm['DateTime'] <= t_max)]"
   ]
  },
  {
   "cell_type": "code",
   "execution_count": 32,
   "metadata": {},
   "outputs": [],
   "source": [
    "amp_j = amp_j[(amp_j['time'] >= t_min) & (amp_j['time'] <= t_max)]"
   ]
  },
  {
   "cell_type": "code",
   "execution_count": 34,
   "metadata": {},
   "outputs": [],
   "source": [
    "sat_idx = sat_sm[['DateTime','AMP_idx']]\n",
    "amp_idx = amp_j.reset_index()[['index','time']]"
   ]
  },
  {
   "cell_type": "code",
   "execution_count": 43,
   "metadata": {},
   "outputs": [],
   "source": [
    "#combine the arrays \n",
    "tol = pd.Timedelta('31 second')\n",
    "\n",
    "c_idx = pd.merge_asof(left=sat_idx,right=amp_idx,left_on='DateTime',right_on='time',direction='nearest',tolerance=tol)"
   ]
  },
  {
   "cell_type": "code",
   "execution_count": 59,
   "metadata": {},
   "outputs": [],
   "source": [
    "c_idx = c_idx.dropna()"
   ]
  },
  {
   "cell_type": "code",
   "execution_count": 48,
   "metadata": {},
   "outputs": [
    {
     "data": {
      "text/html": [
       "<div>\n",
       "<style scoped>\n",
       "    .dataframe tbody tr th:only-of-type {\n",
       "        vertical-align: middle;\n",
       "    }\n",
       "\n",
       "    .dataframe tbody tr th {\n",
       "        vertical-align: top;\n",
       "    }\n",
       "\n",
       "    .dataframe thead th {\n",
       "        text-align: right;\n",
       "    }\n",
       "</style>\n",
       "<table border=\"1\" class=\"dataframe\">\n",
       "  <thead>\n",
       "    <tr style=\"text-align: right;\">\n",
       "      <th></th>\n",
       "      <th>0</th>\n",
       "      <th>1</th>\n",
       "      <th>2</th>\n",
       "      <th>3</th>\n",
       "      <th>4</th>\n",
       "      <th>5</th>\n",
       "      <th>6</th>\n",
       "      <th>7</th>\n",
       "      <th>8</th>\n",
       "      <th>9</th>\n",
       "      <th>...</th>\n",
       "      <th>1191</th>\n",
       "      <th>1192</th>\n",
       "      <th>1193</th>\n",
       "      <th>1194</th>\n",
       "      <th>1195</th>\n",
       "      <th>1196</th>\n",
       "      <th>1197</th>\n",
       "      <th>1198</th>\n",
       "      <th>1199</th>\n",
       "      <th>time</th>\n",
       "    </tr>\n",
       "  </thead>\n",
       "  <tbody>\n",
       "    <tr>\n",
       "      <th>0</th>\n",
       "      <td>0.056975</td>\n",
       "      <td>0.037803</td>\n",
       "      <td>0.038518</td>\n",
       "      <td>0.049165</td>\n",
       "      <td>0.059672</td>\n",
       "      <td>0.060608</td>\n",
       "      <td>0.044058</td>\n",
       "      <td>0.006738</td>\n",
       "      <td>-0.046455</td>\n",
       "      <td>-0.101901</td>\n",
       "      <td>...</td>\n",
       "      <td>0.063134</td>\n",
       "      <td>0.062676</td>\n",
       "      <td>0.029469</td>\n",
       "      <td>-0.010243</td>\n",
       "      <td>-0.029591</td>\n",
       "      <td>-0.020619</td>\n",
       "      <td>0.002271</td>\n",
       "      <td>0.015732</td>\n",
       "      <td>0.006109</td>\n",
       "      <td>2009-10-02 00:00:00</td>\n",
       "    </tr>\n",
       "    <tr>\n",
       "      <th>1</th>\n",
       "      <td>0.059664</td>\n",
       "      <td>0.099800</td>\n",
       "      <td>0.142275</td>\n",
       "      <td>0.156618</td>\n",
       "      <td>0.131288</td>\n",
       "      <td>0.076095</td>\n",
       "      <td>0.011862</td>\n",
       "      <td>-0.043416</td>\n",
       "      <td>-0.082854</td>\n",
       "      <td>-0.109510</td>\n",
       "      <td>...</td>\n",
       "      <td>0.067157</td>\n",
       "      <td>0.063972</td>\n",
       "      <td>0.031553</td>\n",
       "      <td>-0.006913</td>\n",
       "      <td>-0.027982</td>\n",
       "      <td>-0.024404</td>\n",
       "      <td>-0.007964</td>\n",
       "      <td>0.001923</td>\n",
       "      <td>-0.006060</td>\n",
       "      <td>2009-10-02 00:02:00</td>\n",
       "    </tr>\n",
       "  </tbody>\n",
       "</table>\n",
       "<p>2 rows × 1201 columns</p>\n",
       "</div>"
      ],
      "text/plain": [
       "          0         1         2         3         4         5         6  \\\n",
       "0  0.056975  0.037803  0.038518  0.049165  0.059672  0.060608  0.044058   \n",
       "1  0.059664  0.099800  0.142275  0.156618  0.131288  0.076095  0.011862   \n",
       "\n",
       "          7         8         9  ...      1191      1192      1193      1194  \\\n",
       "0  0.006738 -0.046455 -0.101901  ...  0.063134  0.062676  0.029469 -0.010243   \n",
       "1 -0.043416 -0.082854 -0.109510  ...  0.067157  0.063972  0.031553 -0.006913   \n",
       "\n",
       "       1195      1196      1197      1198      1199                time  \n",
       "0 -0.029591 -0.020619  0.002271  0.015732  0.006109 2009-10-02 00:00:00  \n",
       "1 -0.027982 -0.024404 -0.007964  0.001923 -0.006060 2009-10-02 00:02:00  \n",
       "\n",
       "[2 rows x 1201 columns]"
      ]
     },
     "execution_count": 48,
     "metadata": {},
     "output_type": "execute_result"
    },
    {
     "data": {
      "text/plain": [
       "Index(['0', '1', '2', '3', '4', '5', '6', '7', '8', '9',\n",
       "       ...\n",
       "       '1191', '1192', '1193', '1194', '1195', '1196', '1197', '1198', '1199',\n",
       "       'time'],\n",
       "      dtype='object', length=1201)"
      ]
     },
     "execution_count": 48,
     "metadata": {},
     "output_type": "execute_result"
    }
   ],
   "source": [
    "amp_j.head(2)\n",
    "amp_j.columns"
   ]
  },
  {
   "cell_type": "code",
   "execution_count": 60,
   "metadata": {},
   "outputs": [],
   "source": [
    "sa_j = [amp_j.loc[id_x,id_j] for id_x, id_j in zip(c_idx['index'], c_idx['AMP_idx'].astype(str))]"
   ]
  },
  {
   "cell_type": "code",
   "execution_count": 63,
   "metadata": {},
   "outputs": [],
   "source": [
    "sa_t = [amp_j.loc[id_x,'time'] for id_x, in zip(c_idx['index'])]"
   ]
  },
  {
   "cell_type": "code",
   "execution_count": 66,
   "metadata": {},
   "outputs": [
    {
     "data": {
      "text/html": [
       "<div>\n",
       "<style scoped>\n",
       "    .dataframe tbody tr th:only-of-type {\n",
       "        vertical-align: middle;\n",
       "    }\n",
       "\n",
       "    .dataframe tbody tr th {\n",
       "        vertical-align: top;\n",
       "    }\n",
       "\n",
       "    .dataframe thead th {\n",
       "        text-align: right;\n",
       "    }\n",
       "</style>\n",
       "<table border=\"1\" class=\"dataframe\">\n",
       "  <thead>\n",
       "    <tr style=\"text-align: right;\">\n",
       "      <th></th>\n",
       "      <th>AMP_j</th>\n",
       "      <th>AMP_t</th>\n",
       "    </tr>\n",
       "  </thead>\n",
       "  <tbody>\n",
       "    <tr>\n",
       "      <th>0</th>\n",
       "      <td>-0.033705</td>\n",
       "      <td>2009-10-02 01:00:00</td>\n",
       "    </tr>\n",
       "    <tr>\n",
       "      <th>1</th>\n",
       "      <td>0.260517</td>\n",
       "      <td>2009-10-02 01:10:00</td>\n",
       "    </tr>\n",
       "    <tr>\n",
       "      <th>2</th>\n",
       "      <td>-0.027528</td>\n",
       "      <td>2009-10-02 01:20:00</td>\n",
       "    </tr>\n",
       "    <tr>\n",
       "      <th>3</th>\n",
       "      <td>0.026888</td>\n",
       "      <td>2009-10-02 02:40:00</td>\n",
       "    </tr>\n",
       "    <tr>\n",
       "      <th>4</th>\n",
       "      <td>-0.003254</td>\n",
       "      <td>2009-10-02 02:50:00</td>\n",
       "    </tr>\n",
       "  </tbody>\n",
       "</table>\n",
       "</div>"
      ],
      "text/plain": [
       "      AMP_j               AMP_t\n",
       "0 -0.033705 2009-10-02 01:00:00\n",
       "1  0.260517 2009-10-02 01:10:00\n",
       "2 -0.027528 2009-10-02 01:20:00\n",
       "3  0.026888 2009-10-02 02:40:00\n",
       "4 -0.003254 2009-10-02 02:50:00"
      ]
     },
     "execution_count": 66,
     "metadata": {},
     "output_type": "execute_result"
    }
   ],
   "source": [
    "sa_df = pd.DataFrame({'AMP_j':sa_j, 'AMP_t':sa_t})\n",
    "sa_df.head()"
   ]
  },
  {
   "cell_type": "code",
   "execution_count": 68,
   "metadata": {},
   "outputs": [],
   "source": [
    "den_amp = pd.merge_asof(left=sat_sm,right=sa_df,left_on='DateTime',right_on='AMP_t',direction='nearest',tolerance=tol)"
   ]
  },
  {
   "cell_type": "code",
   "execution_count": 98,
   "metadata": {},
   "outputs": [],
   "source": [
    "den_amp =  den_amp.dropna(axis=0, subset='AMP_j').copy()"
   ]
  },
  {
   "cell_type": "code",
   "execution_count": 108,
   "metadata": {},
   "outputs": [],
   "source": [
    "den_amp['ABS_j'] = den_amp['AMP_j'].abs()\n",
    "den_amp['LOG_d'] = np.log10(den_amp['400kmDensity'])"
   ]
  },
  {
   "cell_type": "code",
   "execution_count": 101,
   "metadata": {},
   "outputs": [
    {
     "data": {
      "text/plain": [
       "Index(['index', 'DateTime', 'DateTime_omni', 'B', 'Bx_GSEGSM', 'By_GSE',\n",
       "       'Bz_GSE', 'By_GSM', 'Bz_GSM', 'Vsw', 'Vx_GSE', 'Vy_GSE', 'Vz_GSE',\n",
       "       'Prho', 'Tp', 'dynP', 'Esw', 'AE', 'AL', 'AU', 'SYM_D index',\n",
       "       'SYM_H index', 'ASY_D index', 'ASY_H index', 'PC index',\n",
       "       'Goes Proton flux (>10 MeV)', 'Goes Proton flux (>30 MeV)',\n",
       "       'Goes Proton flux (>60 MeV)', 'DateTime_fism2', '225_00', '600_01',\n",
       "       '1300_02', '2500_03', '5100_04', '11250_05', '18950_06', '25700_07',\n",
       "       '30500_08', '43000_09', '59500_10', '72400_11', '72400_12', '85550_13',\n",
       "       '85550_14', '85550_15', '94400_16', '94400_17', '94400_18', '98100_19',\n",
       "       '100700_20', '103850_21', '113000_22', 'DateTime_si', 'F10', 'F81',\n",
       "       'S10', 'S81c', 'M10', 'M81c', 'Y10', 'Y81c', 'DateTime_gr', 'CenterLat',\n",
       "       'SatLat', 'SatLon', 'SatHeight', 'SatLT', 'SatDipoleLat', 'SatMagLon',\n",
       "       'SatMagLT', 'SatDensity', '400kmDensity', '410kmDensity',\n",
       "       'NRLMSISe00atSat', 'DenUncertainty', 'NumPts', 'NuminBinThrusters',\n",
       "       'AveDragCoef', 'storm', 'storm phase', 'Sat_mlat', 'Sat_mlon',\n",
       "       'Sat_mlt', 'Sat_mcolat', 'Diff_colat', 'Diff_mlt', 'AMP_idx', 'AMP_j',\n",
       "       'AMP_t', 'ABS_j'],\n",
       "      dtype='object')"
      ]
     },
     "execution_count": 101,
     "metadata": {},
     "output_type": "execute_result"
    }
   ],
   "source": [
    "den_amp.columns"
   ]
  },
  {
   "cell_type": "code",
   "execution_count": 104,
   "metadata": {},
   "outputs": [
    {
     "data": {
      "text/plain": [
       "<Axes: xlabel='400kmDensity', ylabel='ABS_j'>"
      ]
     },
     "execution_count": 104,
     "metadata": {},
     "output_type": "execute_result"
    },
    {
     "data": {
      "image/png": "[encoded data removed]",
      "text/plain": [
       "<Figure size 640x480 with 2 Axes>"
      ]
     },
     "metadata": {},
     "output_type": "display_data"
    }
   ],
   "source": [
    "den_amp.plot(x='400kmDensity',y='ABS_j',kind='hexbin')"
   ]
  },
  {
   "cell_type": "code",
   "execution_count": 135,
   "metadata": {},
   "outputs": [
    {
     "data": {
      "text/plain": [
       "<Axes: xlabel='ABS_j', ylabel='400kmDensity'>"
      ]
     },
     "execution_count": 135,
     "metadata": {},
     "output_type": "execute_result"
    },
    {
     "data": {
      "image/png": "[encoded data removed]",
      "text/plain": [
       "<Figure size 640x480 with 4 Axes>"
      ]
     },
     "metadata": {},
     "output_type": "display_data"
    }
   ],
   "source": [
    "sns.histplot(data=den_amp[den_amp['ABS_j']<0.5], x='ABS_j',y='400kmDensity',cbar=True, stat='probability', hue='storm phase')"
   ]
  }
 ],
 "metadata": {
  "kernelspec": {
   "display_name": "satdrag",
   "language": "python",
   "name": "python3"
  },
  "language_info": {
   "codemirror_mode": {
    "name": "ipython",
    "version": 3
   },
   "file_extension": ".py",
   "mimetype": "text/x-python",
   "name": "python",
   "nbconvert_exporter": "python",
   "pygments_lexer": "ipython3",
   "version": "3.10.15"
  }
 },
 "nbformat": 4,
 "nbformat_minor": 2
}
