{
 "cells": [
  {
   "cell_type": "markdown",
   "metadata": {},
   "source": [
    "# DTM Inputs\n",
    "\n",
    "Derive inputs for the DTM model. \n",
    "\n",
    "Inputs:\n",
    "- instantaneous flux at (t - 24hr)    /   f(2)=0.\n",
    "- mean flux of last 81 days at t   /   fbar(2)=0.\n",
    "- kp delayed by 3 hours\n",
    "- mean kp of last 24 hours\n",
    "\n",
    "- hl - local time in radians (0-24 -> 0-2pi)\n",
    "\n",
    "The solar flux has to be interpolated to the decimal date for the 81-day mean, and interpolated to the decimal date minus 24hr for the daily flux (i.e., 1-day delayed instantaneous flux). The kp has to be computed from similarly interpolated ap values: interpolate linearly from one to the next 3-hourly ap value, then convert back to kp.\n",
    "\n",
    "Kp = 0o   0+   1-   1o   1+   2-   2o   2+   3-   3o   3+   4-   4o   4+\n",
    "Kp = 0. 0.33 0.66 1.00 1.33 1.66 2.00 2.33 2.66 3.00 3.33 3.66 4.00 4.33    \n",
    "ap =  0    2    3    4    5    6    7    9   12   15   18   22   27   32\n",
    "\n",
    "Kp =   5-   5o   5+   6-   6o   6+   7-   7o   7+   8-   8o   8+   9-   9o\n",
    "Kp = 4.66 5.00 5.33 5.66 6.00 6.33 6.66 7.00 7.33 7.66 8.00 8.33 8.66 9.00   \n",
    "ap =   39   48   56   67   80   94  111  132  154  179  207  236  300  400"
   ]
  },
  {
   "cell_type": "code",
   "execution_count": 1,
   "metadata": {},
   "outputs": [],
   "source": [
    "import os, sys\n",
    "import pandas as pd\n",
    "import numpy as np\n",
    "\n",
    "from scipy import interpolate\n",
    "\n",
    "#add read_io module to current path ()\n",
    "file_path = 'D:\\\\GitHub\\\\DataIO\\\\'\n",
    "sys.path.append(os.path.dirname(file_path))\n",
    "\n",
    "# import data input/output module\n",
    "import data_io as dio"
   ]
  },
  {
   "cell_type": "code",
   "execution_count": 2,
   "metadata": {},
   "outputs": [],
   "source": [
    "AP_vals = [0, 2, 3, 4, 5, 6, 7, 9, 12, 15, 18, 22, 27, 32,\\\n",
    "           39, 48, 56, 67, 80, 94, 111, 132, 154, 179, 207, 236, 300, 400]\n",
    "\n",
    "KP_vals = [0., 0.33, 0.66, 1.00, 1.33, 1.66, 2.00, 2.33, 2.66, 3.00, 3.33, 3.66, 4.00, 4.33,\\\n",
    "           4.66, 5.00, 5.33, 5.66, 6.00, 6.33, 6.66, 7.00, 7.33, 7.66, 8.00, 8.33, 8.66, 9.00] \n",
    "    "
   ]
  },
  {
   "cell_type": "code",
   "execution_count": 3,
   "metadata": {},
   "outputs": [],
   "source": [
    "# read champ data\n",
    "ch_d = pd.read_hdf(\"D:\\\\data\\\\SatDensities\\\\satdrag_database_grace_CHAMP.hdf5\")\n",
    "\n",
    "date_min = ch_d['DateTime'].min()\n",
    "date_max = ch_d['DateTime'].max()"
   ]
  },
  {
   "cell_type": "code",
   "execution_count": 76,
   "metadata": {},
   "outputs": [
    {
     "data": {
      "text/plain": [
       "Index(['DateTime', 'DateTime_omni', 'B', 'Bx_GSEGSM', 'By_GSE', 'Bz_GSE',\n",
       "       'By_GSM', 'Bz_GSM', 'Vsw', 'Vx_GSE', 'Vy_GSE', 'Vz_GSE', 'Prho', 'Tp',\n",
       "       'dynP', 'Esw', 'AE', 'AL', 'AU', 'SYM_D index', 'SYM_H index',\n",
       "       'ASY_D index', 'ASY_H index', 'PC index', 'Goes Proton flux (>10 MeV)',\n",
       "       'Goes Proton flux (>30 MeV)', 'Goes Proton flux (>60 MeV)',\n",
       "       'DateTime_fism2', '225_00', '600_01', '1300_02', '2500_03', '5100_04',\n",
       "       '11250_05', '18950_06', '25700_07', '30500_08', '43000_09', '59500_10',\n",
       "       '72400_11', '72400_12', '85550_13', '85550_14', '85550_15', '94400_16',\n",
       "       '94400_17', '94400_18', '98100_19', '100700_20', '103850_21',\n",
       "       '113000_22', 'DateTime_si', 'F10', 'F81', 'S10', 'S81c', 'M10', 'M81c',\n",
       "       'Y10', 'Y81c', 'DateTime_gr', 'CenterLat', 'SatLat', 'SatLon',\n",
       "       'SatHeight', 'SatLT', 'SatDipoleLat', 'SatMagLon', 'SatMagLT',\n",
       "       'SatDensity', '400kmDensity', '410kmDensity', 'NRLMSISe00atSat',\n",
       "       'DenUncertainty', 'NumPts', 'NuminBinThrusters', 'AveDragCoef', 'storm',\n",
       "       'storm phase'],\n",
       "      dtype='object')"
      ]
     },
     "execution_count": 76,
     "metadata": {},
     "output_type": "execute_result"
    }
   ],
   "source": [
    "ch_d.columns"
   ]
  },
  {
   "cell_type": "code",
   "execution_count": null,
   "metadata": {},
   "outputs": [
    {
     "ename": "KeyError",
     "evalue": "\"['SatMagLat'] not in index\"",
     "output_type": "error",
     "traceback": [
      "\u001b[1;31m---------------------------------------------------------------------------\u001b[0m",
      "\u001b[1;31mKeyError\u001b[0m                                  Traceback (most recent call last)",
      "Cell \u001b[1;32mIn[75], line 3\u001b[0m\n\u001b[0;32m      1\u001b[0m st_d \u001b[38;5;241m=\u001b[39m ch_d[\u001b[38;5;124m'\u001b[39m\u001b[38;5;124mstorm\u001b[39m\u001b[38;5;124m'\u001b[39m] \u001b[38;5;241m>\u001b[39m \u001b[38;5;241m0\u001b[39m\n\u001b[1;32m----> 3\u001b[0m ch_i \u001b[38;5;241m=\u001b[39m \u001b[43mch_d\u001b[49m\u001b[38;5;241;43m.\u001b[39;49m\u001b[43mloc\u001b[49m\u001b[43m[\u001b[49m\u001b[43mst_d\u001b[49m\u001b[43m,\u001b[49m\u001b[43m[\u001b[49m\u001b[38;5;124;43m'\u001b[39;49m\u001b[38;5;124;43mDateTime\u001b[39;49m\u001b[38;5;124;43m'\u001b[39;49m\u001b[43m,\u001b[49m\u001b[38;5;124;43m'\u001b[39;49m\u001b[38;5;124;43mCenterLat\u001b[39;49m\u001b[38;5;124;43m'\u001b[39;49m\u001b[43m,\u001b[49m\u001b[43m \u001b[49m\u001b[38;5;124;43m'\u001b[39;49m\u001b[38;5;124;43mSatLat\u001b[39;49m\u001b[38;5;124;43m'\u001b[39;49m\u001b[43m,\u001b[49m\u001b[43m \u001b[49m\u001b[38;5;124;43m'\u001b[39;49m\u001b[38;5;124;43mSatLon\u001b[39;49m\u001b[38;5;124;43m'\u001b[39;49m\u001b[43m,\u001b[49m\n\u001b[0;32m      4\u001b[0m \u001b[43m       \u001b[49m\u001b[38;5;124;43m'\u001b[39;49m\u001b[38;5;124;43mSatHeight\u001b[39;49m\u001b[38;5;124;43m'\u001b[39;49m\u001b[43m,\u001b[49m\u001b[43m \u001b[49m\u001b[38;5;124;43m'\u001b[39;49m\u001b[38;5;124;43mSatLT\u001b[39;49m\u001b[38;5;124;43m'\u001b[39;49m\u001b[43m,\u001b[49m\u001b[43m \u001b[49m\u001b[38;5;124;43m'\u001b[39;49m\u001b[38;5;124;43mSatMagLat\u001b[39;49m\u001b[38;5;124;43m'\u001b[39;49m\u001b[43m,\u001b[49m\u001b[43m \u001b[49m\u001b[38;5;124;43m'\u001b[39;49m\u001b[38;5;124;43mSatMagLon\u001b[39;49m\u001b[38;5;124;43m'\u001b[39;49m\u001b[43m,\u001b[49m\u001b[43m \u001b[49m\u001b[38;5;124;43m'\u001b[39;49m\u001b[38;5;124;43mSatMagLT\u001b[39;49m\u001b[38;5;124;43m'\u001b[39;49m\u001b[43m,\u001b[49m\n\u001b[0;32m      5\u001b[0m \u001b[43m       \u001b[49m\u001b[38;5;124;43m'\u001b[39;49m\u001b[38;5;124;43mSatDensity\u001b[39;49m\u001b[38;5;124;43m'\u001b[39;49m\u001b[43m,\u001b[49m\u001b[43m \u001b[49m\u001b[38;5;124;43m'\u001b[39;49m\u001b[38;5;124;43m400kmDensity\u001b[39;49m\u001b[38;5;124;43m'\u001b[39;49m\u001b[43m]\u001b[49m\u001b[43m]\u001b[49m\u001b[38;5;241m.\u001b[39mdropna()\u001b[38;5;241m.\u001b[39mcopy()\n",
      "File \u001b[1;32mc:\\Users\\krmurph1\\Anaconda3\\envs\\satdrag\\lib\\site-packages\\pandas\\core\\indexing.py:1184\u001b[0m, in \u001b[0;36m_LocationIndexer.__getitem__\u001b[1;34m(self, key)\u001b[0m\n\u001b[0;32m   1182\u001b[0m     \u001b[38;5;28;01mif\u001b[39;00m \u001b[38;5;28mself\u001b[39m\u001b[38;5;241m.\u001b[39m_is_scalar_access(key):\n\u001b[0;32m   1183\u001b[0m         \u001b[38;5;28;01mreturn\u001b[39;00m \u001b[38;5;28mself\u001b[39m\u001b[38;5;241m.\u001b[39mobj\u001b[38;5;241m.\u001b[39m_get_value(\u001b[38;5;241m*\u001b[39mkey, takeable\u001b[38;5;241m=\u001b[39m\u001b[38;5;28mself\u001b[39m\u001b[38;5;241m.\u001b[39m_takeable)\n\u001b[1;32m-> 1184\u001b[0m     \u001b[38;5;28;01mreturn\u001b[39;00m \u001b[38;5;28;43mself\u001b[39;49m\u001b[38;5;241;43m.\u001b[39;49m\u001b[43m_getitem_tuple\u001b[49m\u001b[43m(\u001b[49m\u001b[43mkey\u001b[49m\u001b[43m)\u001b[49m\n\u001b[0;32m   1185\u001b[0m \u001b[38;5;28;01melse\u001b[39;00m:\n\u001b[0;32m   1186\u001b[0m     \u001b[38;5;66;03m# we by definition only have the 0th axis\u001b[39;00m\n\u001b[0;32m   1187\u001b[0m     axis \u001b[38;5;241m=\u001b[39m \u001b[38;5;28mself\u001b[39m\u001b[38;5;241m.\u001b[39maxis \u001b[38;5;129;01mor\u001b[39;00m \u001b[38;5;241m0\u001b[39m\n",
      "File \u001b[1;32mc:\\Users\\krmurph1\\Anaconda3\\envs\\satdrag\\lib\\site-packages\\pandas\\core\\indexing.py:1377\u001b[0m, in \u001b[0;36m_LocIndexer._getitem_tuple\u001b[1;34m(self, tup)\u001b[0m\n\u001b[0;32m   1374\u001b[0m \u001b[38;5;28;01mif\u001b[39;00m \u001b[38;5;28mself\u001b[39m\u001b[38;5;241m.\u001b[39m_multi_take_opportunity(tup):\n\u001b[0;32m   1375\u001b[0m     \u001b[38;5;28;01mreturn\u001b[39;00m \u001b[38;5;28mself\u001b[39m\u001b[38;5;241m.\u001b[39m_multi_take(tup)\n\u001b[1;32m-> 1377\u001b[0m \u001b[38;5;28;01mreturn\u001b[39;00m \u001b[38;5;28;43mself\u001b[39;49m\u001b[38;5;241;43m.\u001b[39;49m\u001b[43m_getitem_tuple_same_dim\u001b[49m\u001b[43m(\u001b[49m\u001b[43mtup\u001b[49m\u001b[43m)\u001b[49m\n",
      "File \u001b[1;32mc:\\Users\\krmurph1\\Anaconda3\\envs\\satdrag\\lib\\site-packages\\pandas\\core\\indexing.py:1020\u001b[0m, in \u001b[0;36m_LocationIndexer._getitem_tuple_same_dim\u001b[1;34m(self, tup)\u001b[0m\n\u001b[0;32m   1017\u001b[0m \u001b[38;5;28;01mif\u001b[39;00m com\u001b[38;5;241m.\u001b[39mis_null_slice(key):\n\u001b[0;32m   1018\u001b[0m     \u001b[38;5;28;01mcontinue\u001b[39;00m\n\u001b[1;32m-> 1020\u001b[0m retval \u001b[38;5;241m=\u001b[39m \u001b[38;5;28;43mgetattr\u001b[39;49m\u001b[43m(\u001b[49m\u001b[43mretval\u001b[49m\u001b[43m,\u001b[49m\u001b[43m \u001b[49m\u001b[38;5;28;43mself\u001b[39;49m\u001b[38;5;241;43m.\u001b[39;49m\u001b[43mname\u001b[49m\u001b[43m)\u001b[49m\u001b[38;5;241;43m.\u001b[39;49m\u001b[43m_getitem_axis\u001b[49m\u001b[43m(\u001b[49m\u001b[43mkey\u001b[49m\u001b[43m,\u001b[49m\u001b[43m \u001b[49m\u001b[43maxis\u001b[49m\u001b[38;5;241;43m=\u001b[39;49m\u001b[43mi\u001b[49m\u001b[43m)\u001b[49m\n\u001b[0;32m   1021\u001b[0m \u001b[38;5;66;03m# We should never have retval.ndim < self.ndim, as that should\u001b[39;00m\n\u001b[0;32m   1022\u001b[0m \u001b[38;5;66;03m#  be handled by the _getitem_lowerdim call above.\u001b[39;00m\n\u001b[0;32m   1023\u001b[0m \u001b[38;5;28;01massert\u001b[39;00m retval\u001b[38;5;241m.\u001b[39mndim \u001b[38;5;241m==\u001b[39m \u001b[38;5;28mself\u001b[39m\u001b[38;5;241m.\u001b[39mndim\n",
      "File \u001b[1;32mc:\\Users\\krmurph1\\Anaconda3\\envs\\satdrag\\lib\\site-packages\\pandas\\core\\indexing.py:1420\u001b[0m, in \u001b[0;36m_LocIndexer._getitem_axis\u001b[1;34m(self, key, axis)\u001b[0m\n\u001b[0;32m   1417\u001b[0m     \u001b[38;5;28;01mif\u001b[39;00m \u001b[38;5;28mhasattr\u001b[39m(key, \u001b[38;5;124m\"\u001b[39m\u001b[38;5;124mndim\u001b[39m\u001b[38;5;124m\"\u001b[39m) \u001b[38;5;129;01mand\u001b[39;00m key\u001b[38;5;241m.\u001b[39mndim \u001b[38;5;241m>\u001b[39m \u001b[38;5;241m1\u001b[39m:\n\u001b[0;32m   1418\u001b[0m         \u001b[38;5;28;01mraise\u001b[39;00m \u001b[38;5;167;01mValueError\u001b[39;00m(\u001b[38;5;124m\"\u001b[39m\u001b[38;5;124mCannot index with multidimensional key\u001b[39m\u001b[38;5;124m\"\u001b[39m)\n\u001b[1;32m-> 1420\u001b[0m     \u001b[38;5;28;01mreturn\u001b[39;00m \u001b[38;5;28;43mself\u001b[39;49m\u001b[38;5;241;43m.\u001b[39;49m\u001b[43m_getitem_iterable\u001b[49m\u001b[43m(\u001b[49m\u001b[43mkey\u001b[49m\u001b[43m,\u001b[49m\u001b[43m \u001b[49m\u001b[43maxis\u001b[49m\u001b[38;5;241;43m=\u001b[39;49m\u001b[43maxis\u001b[49m\u001b[43m)\u001b[49m\n\u001b[0;32m   1422\u001b[0m \u001b[38;5;66;03m# nested tuple slicing\u001b[39;00m\n\u001b[0;32m   1423\u001b[0m \u001b[38;5;28;01mif\u001b[39;00m is_nested_tuple(key, labels):\n",
      "File \u001b[1;32mc:\\Users\\krmurph1\\Anaconda3\\envs\\satdrag\\lib\\site-packages\\pandas\\core\\indexing.py:1360\u001b[0m, in \u001b[0;36m_LocIndexer._getitem_iterable\u001b[1;34m(self, key, axis)\u001b[0m\n\u001b[0;32m   1357\u001b[0m \u001b[38;5;28mself\u001b[39m\u001b[38;5;241m.\u001b[39m_validate_key(key, axis)\n\u001b[0;32m   1359\u001b[0m \u001b[38;5;66;03m# A collection of keys\u001b[39;00m\n\u001b[1;32m-> 1360\u001b[0m keyarr, indexer \u001b[38;5;241m=\u001b[39m \u001b[38;5;28;43mself\u001b[39;49m\u001b[38;5;241;43m.\u001b[39;49m\u001b[43m_get_listlike_indexer\u001b[49m\u001b[43m(\u001b[49m\u001b[43mkey\u001b[49m\u001b[43m,\u001b[49m\u001b[43m \u001b[49m\u001b[43maxis\u001b[49m\u001b[43m)\u001b[49m\n\u001b[0;32m   1361\u001b[0m \u001b[38;5;28;01mreturn\u001b[39;00m \u001b[38;5;28mself\u001b[39m\u001b[38;5;241m.\u001b[39mobj\u001b[38;5;241m.\u001b[39m_reindex_with_indexers(\n\u001b[0;32m   1362\u001b[0m     {axis: [keyarr, indexer]}, copy\u001b[38;5;241m=\u001b[39m\u001b[38;5;28;01mTrue\u001b[39;00m, allow_dups\u001b[38;5;241m=\u001b[39m\u001b[38;5;28;01mTrue\u001b[39;00m\n\u001b[0;32m   1363\u001b[0m )\n",
      "File \u001b[1;32mc:\\Users\\krmurph1\\Anaconda3\\envs\\satdrag\\lib\\site-packages\\pandas\\core\\indexing.py:1558\u001b[0m, in \u001b[0;36m_LocIndexer._get_listlike_indexer\u001b[1;34m(self, key, axis)\u001b[0m\n\u001b[0;32m   1555\u001b[0m ax \u001b[38;5;241m=\u001b[39m \u001b[38;5;28mself\u001b[39m\u001b[38;5;241m.\u001b[39mobj\u001b[38;5;241m.\u001b[39m_get_axis(axis)\n\u001b[0;32m   1556\u001b[0m axis_name \u001b[38;5;241m=\u001b[39m \u001b[38;5;28mself\u001b[39m\u001b[38;5;241m.\u001b[39mobj\u001b[38;5;241m.\u001b[39m_get_axis_name(axis)\n\u001b[1;32m-> 1558\u001b[0m keyarr, indexer \u001b[38;5;241m=\u001b[39m \u001b[43max\u001b[49m\u001b[38;5;241;43m.\u001b[39;49m\u001b[43m_get_indexer_strict\u001b[49m\u001b[43m(\u001b[49m\u001b[43mkey\u001b[49m\u001b[43m,\u001b[49m\u001b[43m \u001b[49m\u001b[43maxis_name\u001b[49m\u001b[43m)\u001b[49m\n\u001b[0;32m   1560\u001b[0m \u001b[38;5;28;01mreturn\u001b[39;00m keyarr, indexer\n",
      "File \u001b[1;32mc:\\Users\\krmurph1\\Anaconda3\\envs\\satdrag\\lib\\site-packages\\pandas\\core\\indexes\\base.py:6200\u001b[0m, in \u001b[0;36mIndex._get_indexer_strict\u001b[1;34m(self, key, axis_name)\u001b[0m\n\u001b[0;32m   6197\u001b[0m \u001b[38;5;28;01melse\u001b[39;00m:\n\u001b[0;32m   6198\u001b[0m     keyarr, indexer, new_indexer \u001b[38;5;241m=\u001b[39m \u001b[38;5;28mself\u001b[39m\u001b[38;5;241m.\u001b[39m_reindex_non_unique(keyarr)\n\u001b[1;32m-> 6200\u001b[0m \u001b[38;5;28;43mself\u001b[39;49m\u001b[38;5;241;43m.\u001b[39;49m\u001b[43m_raise_if_missing\u001b[49m\u001b[43m(\u001b[49m\u001b[43mkeyarr\u001b[49m\u001b[43m,\u001b[49m\u001b[43m \u001b[49m\u001b[43mindexer\u001b[49m\u001b[43m,\u001b[49m\u001b[43m \u001b[49m\u001b[43maxis_name\u001b[49m\u001b[43m)\u001b[49m\n\u001b[0;32m   6202\u001b[0m keyarr \u001b[38;5;241m=\u001b[39m \u001b[38;5;28mself\u001b[39m\u001b[38;5;241m.\u001b[39mtake(indexer)\n\u001b[0;32m   6203\u001b[0m \u001b[38;5;28;01mif\u001b[39;00m \u001b[38;5;28misinstance\u001b[39m(key, Index):\n\u001b[0;32m   6204\u001b[0m     \u001b[38;5;66;03m# GH 42790 - Preserve name from an Index\u001b[39;00m\n",
      "File \u001b[1;32mc:\\Users\\krmurph1\\Anaconda3\\envs\\satdrag\\lib\\site-packages\\pandas\\core\\indexes\\base.py:6252\u001b[0m, in \u001b[0;36mIndex._raise_if_missing\u001b[1;34m(self, key, indexer, axis_name)\u001b[0m\n\u001b[0;32m   6249\u001b[0m     \u001b[38;5;28;01mraise\u001b[39;00m \u001b[38;5;167;01mKeyError\u001b[39;00m(\u001b[38;5;124mf\u001b[39m\u001b[38;5;124m\"\u001b[39m\u001b[38;5;124mNone of [\u001b[39m\u001b[38;5;132;01m{\u001b[39;00mkey\u001b[38;5;132;01m}\u001b[39;00m\u001b[38;5;124m] are in the [\u001b[39m\u001b[38;5;132;01m{\u001b[39;00maxis_name\u001b[38;5;132;01m}\u001b[39;00m\u001b[38;5;124m]\u001b[39m\u001b[38;5;124m\"\u001b[39m)\n\u001b[0;32m   6251\u001b[0m not_found \u001b[38;5;241m=\u001b[39m \u001b[38;5;28mlist\u001b[39m(ensure_index(key)[missing_mask\u001b[38;5;241m.\u001b[39mnonzero()[\u001b[38;5;241m0\u001b[39m]]\u001b[38;5;241m.\u001b[39munique())\n\u001b[1;32m-> 6252\u001b[0m \u001b[38;5;28;01mraise\u001b[39;00m \u001b[38;5;167;01mKeyError\u001b[39;00m(\u001b[38;5;124mf\u001b[39m\u001b[38;5;124m\"\u001b[39m\u001b[38;5;132;01m{\u001b[39;00mnot_found\u001b[38;5;132;01m}\u001b[39;00m\u001b[38;5;124m not in index\u001b[39m\u001b[38;5;124m\"\u001b[39m)\n",
      "\u001b[1;31mKeyError\u001b[0m: \"['SatMagLat'] not in index\""
     ]
    }
   ],
   "source": [
    "st_d = ch_d['storm'] > 0\n",
    "\n",
    "ch_i = ch_d.loc[st_d,['DateTime','CenterLat', 'SatLat', 'SatLon',\n",
    "       'SatHeight', 'SatLT', 'SatMagLat', 'SatMagLon', 'SatMagLT',\n",
    "       'SatDensity', '400kmDensity']].dropna().copy()"
   ]
  },
  {
   "cell_type": "code",
   "execution_count": 5,
   "metadata": {},
   "outputs": [],
   "source": [
    "# read in 1 hour omni data which has the ap values in it \n",
    "om_d, om_m = dio.load_omni(res='1h',sdate=date_min, edate=date_max)"
   ]
  },
  {
   "cell_type": "code",
   "execution_count": 6,
   "metadata": {},
   "outputs": [
    {
     "data": {
      "text/html": [
       "<div>\n",
       "<style scoped>\n",
       "    .dataframe tbody tr th:only-of-type {\n",
       "        vertical-align: middle;\n",
       "    }\n",
       "\n",
       "    .dataframe tbody tr th {\n",
       "        vertical-align: top;\n",
       "    }\n",
       "\n",
       "    .dataframe thead th {\n",
       "        text-align: right;\n",
       "    }\n",
       "</style>\n",
       "<table border=\"1\" class=\"dataframe\">\n",
       "  <thead>\n",
       "    <tr style=\"text-align: right;\">\n",
       "      <th></th>\n",
       "      <th>DateTime</th>\n",
       "      <th>Kp</th>\n",
       "      <th>AP</th>\n",
       "      <th>TimeStamp</th>\n",
       "    </tr>\n",
       "  </thead>\n",
       "  <tbody>\n",
       "    <tr>\n",
       "      <th>0</th>\n",
       "      <td>2002-01-01 00:00:00</td>\n",
       "      <td>23.0</td>\n",
       "      <td>9.0</td>\n",
       "      <td>1.009843e+09</td>\n",
       "    </tr>\n",
       "    <tr>\n",
       "      <th>1</th>\n",
       "      <td>2002-01-01 01:00:00</td>\n",
       "      <td>23.0</td>\n",
       "      <td>9.0</td>\n",
       "      <td>1.009847e+09</td>\n",
       "    </tr>\n",
       "    <tr>\n",
       "      <th>2</th>\n",
       "      <td>2002-01-01 02:00:00</td>\n",
       "      <td>23.0</td>\n",
       "      <td>9.0</td>\n",
       "      <td>1.009850e+09</td>\n",
       "    </tr>\n",
       "  </tbody>\n",
       "</table>\n",
       "</div>"
      ],
      "text/plain": [
       "             DateTime    Kp   AP     TimeStamp\n",
       "0 2002-01-01 00:00:00  23.0  9.0  1.009843e+09\n",
       "1 2002-01-01 01:00:00  23.0  9.0  1.009847e+09\n",
       "2 2002-01-01 02:00:00  23.0  9.0  1.009850e+09"
      ]
     },
     "execution_count": 6,
     "metadata": {},
     "output_type": "execute_result"
    }
   ],
   "source": [
    "om_i = om_d[['DateTime','Kp','AP']].copy()\n",
    "# create a timestamp (seconds past 1970)\n",
    "# so that we can interpolate\n",
    "om_i['TimeStamp'] = [x.timestamp() for x in om_i['DateTime']]\n",
    "om_i.head(3)"
   ]
  },
  {
   "cell_type": "code",
   "execution_count": 7,
   "metadata": {},
   "outputs": [],
   "source": [
    "# create a 5 minute time axis and convert to timestamps for interpolation\n",
    "int_time = pd.date_range(start=om_i['DateTime'].min(), end=om_i['DateTime'].max(), freq='5min')\n",
    "int_ts = [x.timestamp() for x in int_time]\n",
    "\n",
    "# create the interpolation\n",
    "f_int = interpolate.interp1d(om_i['TimeStamp'].to_numpy(), om_i['AP'].to_numpy())\n",
    "\n",
    "# interpolate\n",
    "ap_int = f_int(int_ts)"
   ]
  },
  {
   "cell_type": "code",
   "execution_count": 8,
   "metadata": {},
   "outputs": [
    {
     "data": {
      "text/html": [
       "<div>\n",
       "<style scoped>\n",
       "    .dataframe tbody tr th:only-of-type {\n",
       "        vertical-align: middle;\n",
       "    }\n",
       "\n",
       "    .dataframe tbody tr th {\n",
       "        vertical-align: top;\n",
       "    }\n",
       "\n",
       "    .dataframe thead th {\n",
       "        text-align: right;\n",
       "    }\n",
       "</style>\n",
       "<table border=\"1\" class=\"dataframe\">\n",
       "  <thead>\n",
       "    <tr style=\"text-align: right;\">\n",
       "      <th></th>\n",
       "      <th>DateTime</th>\n",
       "      <th>AP</th>\n",
       "      <th>KP</th>\n",
       "    </tr>\n",
       "  </thead>\n",
       "  <tbody>\n",
       "    <tr>\n",
       "      <th>0</th>\n",
       "      <td>2002-01-01 00:00:00</td>\n",
       "      <td>9.0</td>\n",
       "      <td>NaN</td>\n",
       "    </tr>\n",
       "    <tr>\n",
       "      <th>1</th>\n",
       "      <td>2002-01-01 00:05:00</td>\n",
       "      <td>9.0</td>\n",
       "      <td>NaN</td>\n",
       "    </tr>\n",
       "    <tr>\n",
       "      <th>2</th>\n",
       "      <td>2002-01-01 00:10:00</td>\n",
       "      <td>9.0</td>\n",
       "      <td>NaN</td>\n",
       "    </tr>\n",
       "    <tr>\n",
       "      <th>3</th>\n",
       "      <td>2002-01-01 00:15:00</td>\n",
       "      <td>9.0</td>\n",
       "      <td>NaN</td>\n",
       "    </tr>\n",
       "    <tr>\n",
       "      <th>4</th>\n",
       "      <td>2002-01-01 00:20:00</td>\n",
       "      <td>9.0</td>\n",
       "      <td>NaN</td>\n",
       "    </tr>\n",
       "  </tbody>\n",
       "</table>\n",
       "</div>"
      ],
      "text/plain": [
       "             DateTime   AP  KP\n",
       "0 2002-01-01 00:00:00  9.0 NaN\n",
       "1 2002-01-01 00:05:00  9.0 NaN\n",
       "2 2002-01-01 00:10:00  9.0 NaN\n",
       "3 2002-01-01 00:15:00  9.0 NaN\n",
       "4 2002-01-01 00:20:00  9.0 NaN"
      ]
     },
     "execution_count": 8,
     "metadata": {},
     "output_type": "execute_result"
    }
   ],
   "source": [
    "ak_i = pd.DataFrame({'DateTime':int_time, 'AP':ap_int, 'KP':np.empty(ap_int.shape)}) \n",
    "ak_i.loc[:,'KP'] = np.nan\n",
    "ak_i.head()"
   ]
  },
  {
   "cell_type": "code",
   "execution_count": 9,
   "metadata": {},
   "outputs": [
    {
     "name": "stdout",
     "output_type": "stream",
     "text": [
      "0 2 0.0\n",
      "2 3 0.33\n",
      "3 4 0.66\n",
      "4 5 1.0\n",
      "5 6 1.33\n",
      "6 7 1.66\n",
      "7 9 2.0\n",
      "9 12 2.33\n",
      "12 15 2.66\n",
      "15 18 3.0\n",
      "18 22 3.33\n",
      "22 27 3.66\n",
      "27 32 4.0\n",
      "32 39 4.33\n",
      "39 48 4.66\n",
      "48 56 5.0\n",
      "56 67 5.33\n",
      "67 80 5.66\n",
      "80 94 6.0\n",
      "94 111 6.33\n",
      "111 132 6.66\n",
      "132 154 7.0\n",
      "154 179 7.33\n",
      "179 207 7.66\n",
      "207 236 8.0\n",
      "236 300 8.33\n",
      "300 400 8.66\n"
     ]
    }
   ],
   "source": [
    "# create new interpolated dataframe and fill with respective KP values\n",
    "ak_i = pd.DataFrame({'DateTime':int_time, 'AP':ap_int, 'Kp':np.empty(ap_int.shape)}) \n",
    "ak_i.loc[:,'Kp'] = np.nan\n",
    "\n",
    "for bot, top, kp in zip(AP_vals[:-1], AP_vals[1:], KP_vals[:-1]):\n",
    "    print(bot,top,kp)\n",
    "\n",
    "    dat = (ak_i['AP'] >= bot) & (ak_i['AP'] <= top)\n",
    "    ak_i.loc[dat,'Kp'] = kp"
   ]
  },
  {
   "cell_type": "code",
   "execution_count": 10,
   "metadata": {},
   "outputs": [],
   "source": [
    "# calculate the rolling average of kp\n",
    "ak_i['Kp_avg'] = ak_i[['DateTime','Kp']].rolling('24h',on='DateTime').mean()['Kp']"
   ]
  },
  {
   "cell_type": "code",
   "execution_count": null,
   "metadata": {},
   "outputs": [],
   "source": [
    "# shift kp 3 hours and add back on\n",
    "kp_sh = ak_i[['DateTime','Kp']].copy()\n",
    "kp_sh['DateTime'] = kp_sh['DateTime'] + pd.Timedelta('3hour')"
   ]
  },
  {
   "cell_type": "code",
   "execution_count": 12,
   "metadata": {},
   "outputs": [],
   "source": [
    "ak_i = pd.merge_asof(left=ak_i.set_index('DateTime'),right=kp_sh.set_index('DateTime'),right_index=True,left_index=True,direction='nearest',tolerance=pd.Timedelta('1m'))"
   ]
  },
  {
   "cell_type": "code",
   "execution_count": 13,
   "metadata": {},
   "outputs": [],
   "source": [
    "ak_i = ak_i.rename(columns={'Kp_x':'Kp','Kp_y':'Kp_3hr_shift'}).reset_index()"
   ]
  },
  {
   "cell_type": "code",
   "execution_count": 15,
   "metadata": {},
   "outputs": [
    {
     "data": {
      "text/html": [
       "<div>\n",
       "<style scoped>\n",
       "    .dataframe tbody tr th:only-of-type {\n",
       "        vertical-align: middle;\n",
       "    }\n",
       "\n",
       "    .dataframe tbody tr th {\n",
       "        vertical-align: top;\n",
       "    }\n",
       "\n",
       "    .dataframe thead th {\n",
       "        text-align: right;\n",
       "    }\n",
       "</style>\n",
       "<table border=\"1\" class=\"dataframe\">\n",
       "  <thead>\n",
       "    <tr style=\"text-align: right;\">\n",
       "      <th></th>\n",
       "      <th>DateTime</th>\n",
       "      <th>AP</th>\n",
       "      <th>Kp</th>\n",
       "      <th>Kp_avg</th>\n",
       "      <th>Kp_3hr_shift</th>\n",
       "    </tr>\n",
       "  </thead>\n",
       "  <tbody>\n",
       "    <tr>\n",
       "      <th>946640</th>\n",
       "      <td>2010-12-31 22:40:00</td>\n",
       "      <td>2.0</td>\n",
       "      <td>0.33</td>\n",
       "      <td>0.939132</td>\n",
       "      <td>0.66</td>\n",
       "    </tr>\n",
       "    <tr>\n",
       "      <th>946641</th>\n",
       "      <td>2010-12-31 22:45:00</td>\n",
       "      <td>2.0</td>\n",
       "      <td>0.33</td>\n",
       "      <td>0.935660</td>\n",
       "      <td>0.66</td>\n",
       "    </tr>\n",
       "    <tr>\n",
       "      <th>946642</th>\n",
       "      <td>2010-12-31 22:50:00</td>\n",
       "      <td>2.0</td>\n",
       "      <td>0.33</td>\n",
       "      <td>0.932187</td>\n",
       "      <td>0.66</td>\n",
       "    </tr>\n",
       "    <tr>\n",
       "      <th>946643</th>\n",
       "      <td>2010-12-31 22:55:00</td>\n",
       "      <td>2.0</td>\n",
       "      <td>0.33</td>\n",
       "      <td>0.928715</td>\n",
       "      <td>0.66</td>\n",
       "    </tr>\n",
       "    <tr>\n",
       "      <th>946644</th>\n",
       "      <td>2010-12-31 23:00:00</td>\n",
       "      <td>2.0</td>\n",
       "      <td>0.33</td>\n",
       "      <td>0.925243</td>\n",
       "      <td>0.66</td>\n",
       "    </tr>\n",
       "  </tbody>\n",
       "</table>\n",
       "</div>"
      ],
      "text/plain": [
       "                  DateTime   AP    Kp    Kp_avg  Kp_3hr_shift\n",
       "946640 2010-12-31 22:40:00  2.0  0.33  0.939132          0.66\n",
       "946641 2010-12-31 22:45:00  2.0  0.33  0.935660          0.66\n",
       "946642 2010-12-31 22:50:00  2.0  0.33  0.932187          0.66\n",
       "946643 2010-12-31 22:55:00  2.0  0.33  0.928715          0.66\n",
       "946644 2010-12-31 23:00:00  2.0  0.33  0.925243          0.66"
      ]
     },
     "execution_count": 15,
     "metadata": {},
     "output_type": "execute_result"
    }
   ],
   "source": [
    "ak_i.tail()"
   ]
  },
  {
   "cell_type": "code",
   "execution_count": 16,
   "metadata": {},
   "outputs": [
    {
     "data": {
      "text/plain": [
       "<Axes: xlabel='DateTime'>"
      ]
     },
     "execution_count": 16,
     "metadata": {},
     "output_type": "execute_result"
    },
    {
     "data": {
      "image/png": "[encoded data removed]",
      "text/plain": [
       "<Figure size 640x480 with 1 Axes>"
      ]
     },
     "metadata": {},
     "output_type": "display_data"
    }
   ],
   "source": [
    "ak_i[0:1441].plot(x='DateTime', y=['Kp','Kp_avg','Kp_3hr_shift'])"
   ]
  },
  {
   "cell_type": "code",
   "execution_count": 42,
   "metadata": {},
   "outputs": [
    {
     "name": "stderr",
     "output_type": "stream",
     "text": [
      "C:\\Users\\krmurph1\\AppData\\Local\\Temp\\ipykernel_33296\\3749155829.py:1: FutureWarning: The 'keep_date_col' keyword in pd.read_csv is deprecated and will be removed in a future version. Explicitly remove unwanted columns after parsing instead.\n",
      "  flx_d = pd.read_csv('D:\\\\data\\\\Solar\\\\fluxtable.txt',sep='\\s+', skiprows=[1], parse_dates={'DateTime_flux':[0,1]},keep_date_col=True)\n",
      "C:\\Users\\krmurph1\\AppData\\Local\\Temp\\ipykernel_33296\\3749155829.py:1: FutureWarning: Support for nested sequences for 'parse_dates' in pd.read_csv is deprecated. Combine the desired columns with pd.to_datetime after parsing instead.\n",
      "  flx_d = pd.read_csv('D:\\\\data\\\\Solar\\\\fluxtable.txt',sep='\\s+', skiprows=[1], parse_dates={'DateTime_flux':[0,1]},keep_date_col=True)\n"
     ]
    }
   ],
   "source": [
    "flx_d = pd.read_csv('D:\\\\data\\\\Solar\\\\fluxtable.txt',sep='\\s+', skiprows=[1], parse_dates={'DateTime_flux':[0,1]},keep_date_col=True)"
   ]
  },
  {
   "cell_type": "code",
   "execution_count": 43,
   "metadata": {},
   "outputs": [],
   "source": [
    "flx_d['DateTime'] = pd.to_datetime(flx_d['fluxjulian'], origin='julian', unit='D')"
   ]
  },
  {
   "cell_type": "code",
   "execution_count": 55,
   "metadata": {},
   "outputs": [
    {
     "data": {
      "text/html": [
       "<div>\n",
       "<style scoped>\n",
       "    .dataframe tbody tr th:only-of-type {\n",
       "        vertical-align: middle;\n",
       "    }\n",
       "\n",
       "    .dataframe tbody tr th {\n",
       "        vertical-align: top;\n",
       "    }\n",
       "\n",
       "    .dataframe thead th {\n",
       "        text-align: right;\n",
       "    }\n",
       "</style>\n",
       "<table border=\"1\" class=\"dataframe\">\n",
       "  <thead>\n",
       "    <tr style=\"text-align: right;\">\n",
       "      <th></th>\n",
       "      <th>DateTime</th>\n",
       "      <th>fluxobs</th>\n",
       "    </tr>\n",
       "  </thead>\n",
       "  <tbody>\n",
       "    <tr>\n",
       "      <th>0</th>\n",
       "      <td>2004-10-28 17:29:45.599984232</td>\n",
       "      <td>132.700000</td>\n",
       "    </tr>\n",
       "    <tr>\n",
       "      <th>1</th>\n",
       "      <td>2004-10-28 17:34:45.599984232</td>\n",
       "      <td>132.786111</td>\n",
       "    </tr>\n",
       "    <tr>\n",
       "      <th>2</th>\n",
       "      <td>2004-10-28 17:39:45.599984232</td>\n",
       "      <td>132.872222</td>\n",
       "    </tr>\n",
       "    <tr>\n",
       "      <th>3</th>\n",
       "      <td>2004-10-28 17:44:45.599984232</td>\n",
       "      <td>132.958333</td>\n",
       "    </tr>\n",
       "    <tr>\n",
       "      <th>4</th>\n",
       "      <td>2004-10-28 17:49:45.599984232</td>\n",
       "      <td>133.044444</td>\n",
       "    </tr>\n",
       "    <tr>\n",
       "      <th>...</th>\n",
       "      <td>...</td>\n",
       "      <td>...</td>\n",
       "    </tr>\n",
       "    <tr>\n",
       "      <th>2110798</th>\n",
       "      <td>2024-11-21 21:19:45.599984232</td>\n",
       "      <td>169.456680</td>\n",
       "    </tr>\n",
       "    <tr>\n",
       "      <th>2110799</th>\n",
       "      <td>2024-11-21 21:24:45.599984232</td>\n",
       "      <td>169.626157</td>\n",
       "    </tr>\n",
       "    <tr>\n",
       "      <th>2110800</th>\n",
       "      <td>2024-11-21 21:29:45.599984232</td>\n",
       "      <td>169.795635</td>\n",
       "    </tr>\n",
       "    <tr>\n",
       "      <th>2110801</th>\n",
       "      <td>2024-11-21 21:34:45.599984232</td>\n",
       "      <td>169.965112</td>\n",
       "    </tr>\n",
       "    <tr>\n",
       "      <th>2110802</th>\n",
       "      <td>2024-11-21 21:39:45.599984232</td>\n",
       "      <td>170.134590</td>\n",
       "    </tr>\n",
       "  </tbody>\n",
       "</table>\n",
       "<p>2110803 rows × 2 columns</p>\n",
       "</div>"
      ],
      "text/plain": [
       "                             DateTime     fluxobs\n",
       "0       2004-10-28 17:29:45.599984232  132.700000\n",
       "1       2004-10-28 17:34:45.599984232  132.786111\n",
       "2       2004-10-28 17:39:45.599984232  132.872222\n",
       "3       2004-10-28 17:44:45.599984232  132.958333\n",
       "4       2004-10-28 17:49:45.599984232  133.044444\n",
       "...                               ...         ...\n",
       "2110798 2024-11-21 21:19:45.599984232  169.456680\n",
       "2110799 2024-11-21 21:24:45.599984232  169.626157\n",
       "2110800 2024-11-21 21:29:45.599984232  169.795635\n",
       "2110801 2024-11-21 21:34:45.599984232  169.965112\n",
       "2110802 2024-11-21 21:39:45.599984232  170.134590\n",
       "\n",
       "[2110803 rows x 2 columns]"
      ]
     },
     "execution_count": 55,
     "metadata": {},
     "output_type": "execute_result"
    }
   ],
   "source": [
    "flx"
   ]
  },
  {
   "cell_type": "code",
   "execution_count": 56,
   "metadata": {},
   "outputs": [],
   "source": [
    "flx_i = flx_d[['DateTime','fluxobsflux']].copy()\n",
    "flx_i['TimeStamp'] = [x.timestamp() for x in flx_d['DateTime']]\n",
    "\n",
    "# create the interpolation\n",
    "flx_f = interpolate.interp1d(flx_i['TimeStamp'].to_numpy(), flx_i['fluxobsflux'].to_numpy())\n",
    "\n",
    "# create a 5 minute time axis and convert to timestamps for interpolation\n",
    "int_time = pd.date_range(start='2004-10-28 17:30:00', end='2024-11-21 21:35:00', freq='5min')\n",
    "int_ts = [x.timestamp() for x in int_time]\n",
    "\n",
    "# interpolate\n",
    "flx_int = flx_f(int_ts)"
   ]
  },
  {
   "cell_type": "code",
   "execution_count": null,
   "metadata": {},
   "outputs": [
    {
     "data": {
      "text/html": [
       "<div>\n",
       "<style scoped>\n",
       "    .dataframe tbody tr th:only-of-type {\n",
       "        vertical-align: middle;\n",
       "    }\n",
       "\n",
       "    .dataframe tbody tr th {\n",
       "        vertical-align: top;\n",
       "    }\n",
       "\n",
       "    .dataframe thead th {\n",
       "        text-align: right;\n",
       "    }\n",
       "</style>\n",
       "<table border=\"1\" class=\"dataframe\">\n",
       "  <thead>\n",
       "    <tr style=\"text-align: right;\">\n",
       "      <th></th>\n",
       "      <th>DateTime</th>\n",
       "      <th>fluxobs</th>\n",
       "    </tr>\n",
       "  </thead>\n",
       "  <tbody>\n",
       "    <tr>\n",
       "      <th>0</th>\n",
       "      <td>2004-10-28 17:30:00</td>\n",
       "      <td>132.704133</td>\n",
       "    </tr>\n",
       "    <tr>\n",
       "      <th>1</th>\n",
       "      <td>2004-10-28 17:35:00</td>\n",
       "      <td>132.790244</td>\n",
       "    </tr>\n",
       "    <tr>\n",
       "      <th>2</th>\n",
       "      <td>2004-10-28 17:40:00</td>\n",
       "      <td>132.876356</td>\n",
       "    </tr>\n",
       "    <tr>\n",
       "      <th>3</th>\n",
       "      <td>2004-10-28 17:45:00</td>\n",
       "      <td>132.962467</td>\n",
       "    </tr>\n",
       "    <tr>\n",
       "      <th>4</th>\n",
       "      <td>2004-10-28 17:50:00</td>\n",
       "      <td>133.048578</td>\n",
       "    </tr>\n",
       "  </tbody>\n",
       "</table>\n",
       "</div>"
      ],
      "text/plain": [
       "             DateTime     fluxobs\n",
       "0 2004-10-28 17:30:00  132.704133\n",
       "1 2004-10-28 17:35:00  132.790244\n",
       "2 2004-10-28 17:40:00  132.876356\n",
       "3 2004-10-28 17:45:00  132.962467\n",
       "4 2004-10-28 17:50:00  133.048578"
      ]
     },
     "execution_count": 57,
     "metadata": {},
     "output_type": "execute_result"
    }
   ],
   "source": [
    "# create new dataframe\n",
    "flx = pd.DataFrame({'DateTime':int_time, 'fluxobs':flx_int}) \n",
    "flx.head()"
   ]
  },
  {
   "cell_type": "code",
   "execution_count": 59,
   "metadata": {},
   "outputs": [],
   "source": [
    "# calculate required averages\n",
    "# calculate the rolling average of kp\n",
    "flx['flux_avg'] = flx[['DateTime','fluxobs']].rolling('81d',on='DateTime').mean()['fluxobs']"
   ]
  },
  {
   "cell_type": "code",
   "execution_count": 69,
   "metadata": {},
   "outputs": [],
   "source": [
    "# shift flux 24 hours hours and add back on\n",
    "flx_sh = flx[['DateTime','fluxobs']].copy()\n",
    "flx_sh['DateTime'] = flx_sh['DateTime'] + pd.Timedelta('24hour')\n",
    "\n",
    "flx = pd.merge_asof(left=flx.set_index('DateTime'),right=flx_sh.set_index('DateTime'),right_index=True,left_index=True,direction='nearest',tolerance=pd.Timedelta('1m'))"
   ]
  },
  {
   "cell_type": "code",
   "execution_count": 70,
   "metadata": {},
   "outputs": [],
   "source": [
    "flx = flx.rename(columns={'fluxobs_x':'fluxobs','fluxobs_y':'flux_24hr_shift'}).reset_index()"
   ]
  },
  {
   "cell_type": "code",
   "execution_count": 71,
   "metadata": {},
   "outputs": [],
   "source": [
    "#print all output in a cell \n",
    "from IPython.core.interactiveshell import InteractiveShell\n",
    "InteractiveShell.ast_node_interactivity = \"all\""
   ]
  },
  {
   "cell_type": "code",
   "execution_count": null,
   "metadata": {},
   "outputs": [
    {
     "data": {
      "text/html": [
       "<div>\n",
       "<style scoped>\n",
       "    .dataframe tbody tr th:only-of-type {\n",
       "        vertical-align: middle;\n",
       "    }\n",
       "\n",
       "    .dataframe tbody tr th {\n",
       "        vertical-align: top;\n",
       "    }\n",
       "\n",
       "    .dataframe thead th {\n",
       "        text-align: right;\n",
       "    }\n",
       "</style>\n",
       "<table border=\"1\" class=\"dataframe\">\n",
       "  <thead>\n",
       "    <tr style=\"text-align: right;\">\n",
       "      <th></th>\n",
       "      <th>DateTime</th>\n",
       "      <th>fluxobs</th>\n",
       "      <th>flux_avg</th>\n",
       "      <th>Kp_24hr_shift</th>\n",
       "      <th>flux_24hr_shift</th>\n",
       "    </tr>\n",
       "  </thead>\n",
       "  <tbody>\n",
       "    <tr>\n",
       "      <th>0</th>\n",
       "      <td>2004-10-28 17:30:00</td>\n",
       "      <td>132.704133</td>\n",
       "      <td>132.704133</td>\n",
       "      <td>NaN</td>\n",
       "      <td>NaN</td>\n",
       "    </tr>\n",
       "    <tr>\n",
       "      <th>1</th>\n",
       "      <td>2004-10-28 17:35:00</td>\n",
       "      <td>132.790244</td>\n",
       "      <td>132.747189</td>\n",
       "      <td>NaN</td>\n",
       "      <td>NaN</td>\n",
       "    </tr>\n",
       "    <tr>\n",
       "      <th>2</th>\n",
       "      <td>2004-10-28 17:40:00</td>\n",
       "      <td>132.876356</td>\n",
       "      <td>132.790244</td>\n",
       "      <td>NaN</td>\n",
       "      <td>NaN</td>\n",
       "    </tr>\n",
       "    <tr>\n",
       "      <th>3</th>\n",
       "      <td>2004-10-28 17:45:00</td>\n",
       "      <td>132.962467</td>\n",
       "      <td>132.833300</td>\n",
       "      <td>NaN</td>\n",
       "      <td>NaN</td>\n",
       "    </tr>\n",
       "    <tr>\n",
       "      <th>4</th>\n",
       "      <td>2004-10-28 17:50:00</td>\n",
       "      <td>133.048578</td>\n",
       "      <td>132.876356</td>\n",
       "      <td>NaN</td>\n",
       "      <td>NaN</td>\n",
       "    </tr>\n",
       "  </tbody>\n",
       "</table>\n",
       "</div>"
      ],
      "text/plain": [
       "             DateTime     fluxobs    flux_avg  Kp_24hr_shift  flux_24hr_shift\n",
       "0 2004-10-28 17:30:00  132.704133  132.704133            NaN              NaN\n",
       "1 2004-10-28 17:35:00  132.790244  132.747189            NaN              NaN\n",
       "2 2004-10-28 17:40:00  132.876356  132.790244            NaN              NaN\n",
       "3 2004-10-28 17:45:00  132.962467  132.833300            NaN              NaN\n",
       "4 2004-10-28 17:50:00  133.048578  132.876356            NaN              NaN"
      ]
     },
     "execution_count": 72,
     "metadata": {},
     "output_type": "execute_result"
    },
    {
     "data": {
      "text/html": [
       "<div>\n",
       "<style scoped>\n",
       "    .dataframe tbody tr th:only-of-type {\n",
       "        vertical-align: middle;\n",
       "    }\n",
       "\n",
       "    .dataframe tbody tr th {\n",
       "        vertical-align: top;\n",
       "    }\n",
       "\n",
       "    .dataframe thead th {\n",
       "        text-align: right;\n",
       "    }\n",
       "</style>\n",
       "<table border=\"1\" class=\"dataframe\">\n",
       "  <thead>\n",
       "    <tr style=\"text-align: right;\">\n",
       "      <th></th>\n",
       "      <th>DateTime</th>\n",
       "      <th>AP</th>\n",
       "      <th>Kp</th>\n",
       "      <th>Kp_avg</th>\n",
       "      <th>Kp_3hr_shift</th>\n",
       "    </tr>\n",
       "  </thead>\n",
       "  <tbody>\n",
       "    <tr>\n",
       "      <th>0</th>\n",
       "      <td>2002-01-01 00:00:00</td>\n",
       "      <td>9.0</td>\n",
       "      <td>2.33</td>\n",
       "      <td>2.33</td>\n",
       "      <td>NaN</td>\n",
       "    </tr>\n",
       "    <tr>\n",
       "      <th>1</th>\n",
       "      <td>2002-01-01 00:05:00</td>\n",
       "      <td>9.0</td>\n",
       "      <td>2.33</td>\n",
       "      <td>2.33</td>\n",
       "      <td>NaN</td>\n",
       "    </tr>\n",
       "    <tr>\n",
       "      <th>2</th>\n",
       "      <td>2002-01-01 00:10:00</td>\n",
       "      <td>9.0</td>\n",
       "      <td>2.33</td>\n",
       "      <td>2.33</td>\n",
       "      <td>NaN</td>\n",
       "    </tr>\n",
       "    <tr>\n",
       "      <th>3</th>\n",
       "      <td>2002-01-01 00:15:00</td>\n",
       "      <td>9.0</td>\n",
       "      <td>2.33</td>\n",
       "      <td>2.33</td>\n",
       "      <td>NaN</td>\n",
       "    </tr>\n",
       "    <tr>\n",
       "      <th>4</th>\n",
       "      <td>2002-01-01 00:20:00</td>\n",
       "      <td>9.0</td>\n",
       "      <td>2.33</td>\n",
       "      <td>2.33</td>\n",
       "      <td>NaN</td>\n",
       "    </tr>\n",
       "  </tbody>\n",
       "</table>\n",
       "</div>"
      ],
      "text/plain": [
       "             DateTime   AP    Kp  Kp_avg  Kp_3hr_shift\n",
       "0 2002-01-01 00:00:00  9.0  2.33    2.33           NaN\n",
       "1 2002-01-01 00:05:00  9.0  2.33    2.33           NaN\n",
       "2 2002-01-01 00:10:00  9.0  2.33    2.33           NaN\n",
       "3 2002-01-01 00:15:00  9.0  2.33    2.33           NaN\n",
       "4 2002-01-01 00:20:00  9.0  2.33    2.33           NaN"
      ]
     },
     "execution_count": 72,
     "metadata": {},
     "output_type": "execute_result"
    },
    {
     "data": {
      "text/html": [
       "<div>\n",
       "<style scoped>\n",
       "    .dataframe tbody tr th:only-of-type {\n",
       "        vertical-align: middle;\n",
       "    }\n",
       "\n",
       "    .dataframe tbody tr th {\n",
       "        vertical-align: top;\n",
       "    }\n",
       "\n",
       "    .dataframe thead th {\n",
       "        text-align: right;\n",
       "    }\n",
       "</style>\n",
       "<table border=\"1\" class=\"dataframe\">\n",
       "  <thead>\n",
       "    <tr style=\"text-align: right;\">\n",
       "      <th></th>\n",
       "      <th>DateTime</th>\n",
       "      <th>CenterLat</th>\n",
       "      <th>SatLat</th>\n",
       "      <th>SatLon</th>\n",
       "      <th>SatHeight</th>\n",
       "      <th>SatLT</th>\n",
       "      <th>SatDipoleLat</th>\n",
       "      <th>SatMagLon</th>\n",
       "      <th>SatMagLT</th>\n",
       "      <th>SatDensity</th>\n",
       "      <th>400kmDensity</th>\n",
       "    </tr>\n",
       "  </thead>\n",
       "  <tbody>\n",
       "    <tr>\n",
       "      <th>6372</th>\n",
       "      <td>2002-01-23 03:00:00</td>\n",
       "      <td>84.0</td>\n",
       "      <td>84.60454</td>\n",
       "      <td>163.65177</td>\n",
       "      <td>438.650</td>\n",
       "      <td>13.9037</td>\n",
       "      <td>79.21305</td>\n",
       "      <td>-158.86591</td>\n",
       "      <td>11.2071</td>\n",
       "      <td>3.177101e-12</td>\n",
       "      <td>5.835804e-12</td>\n",
       "    </tr>\n",
       "    <tr>\n",
       "      <th>6373</th>\n",
       "      <td>2002-01-23 03:05:00</td>\n",
       "      <td>75.0</td>\n",
       "      <td>75.51179</td>\n",
       "      <td>-58.41539</td>\n",
       "      <td>441.755</td>\n",
       "      <td>23.1812</td>\n",
       "      <td>81.94785</td>\n",
       "      <td>42.56934</td>\n",
       "      <td>0.7143</td>\n",
       "      <td>2.090392e-12</td>\n",
       "      <td>4.110030e-12</td>\n",
       "    </tr>\n",
       "    <tr>\n",
       "      <th>6374</th>\n",
       "      <td>2002-01-23 03:10:00</td>\n",
       "      <td>54.0</td>\n",
       "      <td>54.19289</td>\n",
       "      <td>-52.99141</td>\n",
       "      <td>439.892</td>\n",
       "      <td>23.6359</td>\n",
       "      <td>60.38927</td>\n",
       "      <td>31.72940</td>\n",
       "      <td>0.0815</td>\n",
       "      <td>2.773187e-12</td>\n",
       "      <td>5.312346e-12</td>\n",
       "    </tr>\n",
       "    <tr>\n",
       "      <th>6375</th>\n",
       "      <td>2002-01-23 03:15:00</td>\n",
       "      <td>36.0</td>\n",
       "      <td>35.89786</td>\n",
       "      <td>-52.37619</td>\n",
       "      <td>435.446</td>\n",
       "      <td>23.7560</td>\n",
       "      <td>40.98679</td>\n",
       "      <td>28.91716</td>\n",
       "      <td>23.9715</td>\n",
       "      <td>3.044084e-12</td>\n",
       "      <td>5.416350e-12</td>\n",
       "    </tr>\n",
       "    <tr>\n",
       "      <th>6376</th>\n",
       "      <td>2002-01-23 03:20:00</td>\n",
       "      <td>18.0</td>\n",
       "      <td>18.48770</td>\n",
       "      <td>-52.44368</td>\n",
       "      <td>430.841</td>\n",
       "      <td>23.8265</td>\n",
       "      <td>23.17999</td>\n",
       "      <td>25.41538</td>\n",
       "      <td>23.8123</td>\n",
       "      <td>3.399799e-12</td>\n",
       "      <td>5.596856e-12</td>\n",
       "    </tr>\n",
       "  </tbody>\n",
       "</table>\n",
       "</div>"
      ],
      "text/plain": [
       "                DateTime  CenterLat    SatLat     SatLon  SatHeight    SatLT  \\\n",
       "6372 2002-01-23 03:00:00       84.0  84.60454  163.65177    438.650  13.9037   \n",
       "6373 2002-01-23 03:05:00       75.0  75.51179  -58.41539    441.755  23.1812   \n",
       "6374 2002-01-23 03:10:00       54.0  54.19289  -52.99141    439.892  23.6359   \n",
       "6375 2002-01-23 03:15:00       36.0  35.89786  -52.37619    435.446  23.7560   \n",
       "6376 2002-01-23 03:20:00       18.0  18.48770  -52.44368    430.841  23.8265   \n",
       "\n",
       "      SatDipoleLat  SatMagLon  SatMagLT    SatDensity  400kmDensity  \n",
       "6372      79.21305 -158.86591   11.2071  3.177101e-12  5.835804e-12  \n",
       "6373      81.94785   42.56934    0.7143  2.090392e-12  4.110030e-12  \n",
       "6374      60.38927   31.72940    0.0815  2.773187e-12  5.312346e-12  \n",
       "6375      40.98679   28.91716   23.9715  3.044084e-12  5.416350e-12  \n",
       "6376      23.17999   25.41538   23.8123  3.399799e-12  5.596856e-12  "
      ]
     },
     "execution_count": 72,
     "metadata": {},
     "output_type": "execute_result"
    }
   ],
   "source": [
    "# check all the data\n",
    "flx.head()\n",
    "ak_i.head()\n",
    "ch_i.head()"
   ]
  },
  {
   "cell_type": "code",
   "execution_count": 73,
   "metadata": {},
   "outputs": [],
   "source": [
    "dtm_database = pd.merge_asof(left=ch_i.set_index('DateTime'),right=ak_i.set_index('DateTime'),right_index=True,left_index=True,direction='nearest',tolerance=pd.Timedelta('1m')) \n",
    "dtm_database = pd.merge_asof(left=dtm_database,right=flx.drop(columns='Kp_24hr_shift').set_index('DateTime'),right_index=True,left_index=True,direction='nearest',tolerance=pd.Timedelta('1m')) "
   ]
  },
  {
   "cell_type": "code",
   "execution_count": 77,
   "metadata": {},
   "outputs": [],
   "source": [
    "dtm_database = dtm_database.dropna()"
   ]
  },
  {
   "cell_type": "code",
   "execution_count": 79,
   "metadata": {},
   "outputs": [],
   "source": [
    "fn = f'D:\\\\data\\\\SatDensities\\\\DTM_champ_inputs.hdf5'\n",
    "dtm_database.to_hdf(fn,key='database', mode='w', format='fixed', complevel=9)"
   ]
  }
 ],
 "metadata": {
  "kernelspec": {
   "display_name": "satdrag",
   "language": "python",
   "name": "python3"
  },
  "language_info": {
   "codemirror_mode": {
    "name": "ipython",
    "version": 3
   },
   "file_extension": ".py",
   "mimetype": "text/x-python",
   "name": "python",
   "nbconvert_exporter": "python",
   "pygments_lexer": "ipython3",
   "version": "3.10.14"
  }
 },
 "nbformat": 4,
 "nbformat_minor": 2
}
