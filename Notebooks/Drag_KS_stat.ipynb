{
 "cells": [
  {
   "cell_type": "markdown",
   "metadata": {},
   "source": [
    "# Code to investigate the storm-time, storm-phase, and quiet-time distributions of Atmospheric Density\n",
    "\n",
    "Investigate a number of distributions\n",
    "1. all \n",
    "1. storm \n",
    "1. main phase \n",
    "1. recovery phase\n",
    "1. quiet time\n",
    "\n",
    "Look at the data set composed by Vivian Liu which contains the atmospheric density mapped to 400 km from Grace A and B.\n",
    "\n",
    "\n",
    "## A few words on the [KS-statistic](https://sites.google.com/a/ucsc.edu/krumholz/teaching-and-courses/ast119_w15/class-10#TOC-The-Kolmogorov-Smirnov-Test).\n",
    "\n",
    "### The Kolmogorov-Smirnov Test\n",
    "\n",
    "The way this test works is that it computes the maximum difference $D$ between the cumulative distribution function of the data and that of the model. For a sample of a specified size, it is possible to compute the distribution of $D$, and the probability that one would observe a value of $D$ as large or larger than the one that we actually observe. The KS test returns this probability.\n",
    "\n",
    "In python, the KS test is implemented via the kstest function in the scipy.stats module. Usage is simple:\n",
    "\n",
    "```python\n",
    "import scipy.stats as stats\n",
    "stats.kstest(edata, expcdf)\n",
    "(0.030625323616205735, 0.30027149382740559)\n",
    "\n",
    "stats.kstest(gdata, expcdf)\n",
    "(0.09558770069914635, 2.1016098417092621e-08)\n",
    "```\n",
    "\n",
    "The function returns a tuple of two values. The first is $D$, the maximum difference between the CDF of the input data and the model CDF. The second is the $p-value$, meaning the probability that, if the data had actually been drawn from the proposed CDF, the resulting value of $D$ would have been as large or larger than the one we measured.\n",
    "\n",
    "In this example, when testing against the exponential data we got $D = 0.0306$ and a $p-value$ of 0.3, meaning that 30% of the time we would expect a value of $D$ as large as the one actually observed, even if the data had been drawn from the proposed distribution. We therefore cannot reject the hypothesis that the data were drawn from the proposed distribution. In contrast, for the Gaussian data we got $D = 0.0956$ and a $p-value$ of 2 x 10-8. This means that there is roughly a 1 in 50 million chance that such a large value of $D$ could have arisen if the data had been drawn from $expcdf$. The hypothesis that these two data sets are consistent with having come from the same parent distribution can therefore be rejected at high confidence.\n",
    "\n",
    "### Two-Sided KS Test\n",
    "\n",
    "A related application of KS tests is to the problem of determining whether two data sets are consistent with having been drawn from the same underlying distribution. For example, we might have two samples of radioactive isotope, and be interested in knowing if they are the same. One way we could test this is by observing the distribution of wait times between decays for equal mass samples of the two isotopes, and checking if they are consistent with having been drawn from the same distribution.\n",
    "\n",
    "The KS test can also be used to compare two samples; in this case it is called a two-sided KS test. The basic idea is that same as for the standard KS test: compute the maximum distance $D$ between the two CDFs, and see how unlikely it is to get a value of $D$ that big or bigger under the hypothesis that the two samples were drawn from the same data set.\n",
    "\n",
    "In python, the 2-sided KS test is implemented via the ks_2samp function in scipy.stats. Usage is identical to the normal KS test, except that the second argument is simply the second data set instead of the theoretical PDF. The return values are the same as well. For example:\n",
    "\n",
    "```python\n",
    "stats.ks_2samp(edata, gdata)\n",
    "(0.1160000000000001, 2.4642615623295746e-06)\n",
    "\n",
    "stats.ks_2samp(edata, rnd.exponential(size=1000, scale=1.1))\n",
    "(0.046999999999999931, 0.2139884345923434)\n",
    "\n",
    "stats.ks_2samp(edata, rnd.exponential(size=1000, scale=2.))\n",
    "(0.24399999999999999, 1.4294621455293676e-26)\n",
    "```\n",
    "\n",
    "Here the first call compares the exponential and Gaussian data, and concludes that they are inconsistent with having been drawn from the same distribution with a $p-value$ of 2.5 x 10-6. The second compares our exponential data with a new set of exponential data chosen with a scale factor of 1.1, and finds that the $p-value$ is 0.21 -- too large to rule out the possibility that the two data sets were drawn from the same underlying distribution. Finally, the third statement reports a $p-value$ of 1.4 x 10-26 for a comparison between the data with scale factors of 1 and 2, strongly rejecting the hypothesis that these two data sets are consistent with having come from the same parent distribution.\n"
   ]
  },
  {
   "cell_type": "code",
   "execution_count": 25,
   "metadata": {},
   "outputs": [
    {
     "name": "stdout",
     "output_type": "stream",
     "text": [
      "The autoreload extension is already loaded. To reload it, use:\n",
      "  %reload_ext autoreload\n"
     ]
    }
   ],
   "source": [
    "#plot matplotlib figures in the notebook\n",
    "%matplotlib inline\n",
    "\n",
    "#auto reload modules before executing\n",
    "%load_ext autoreload\n",
    "%autoreload 2\n",
    "\n",
    "#print all output in a cell \n",
    "from IPython.core.interactiveshell import InteractiveShell\n",
    "InteractiveShell.ast_node_interactivity = \"all\"\n"
   ]
  },
  {
   "cell_type": "code",
   "execution_count": 26,
   "metadata": {},
   "outputs": [],
   "source": [
    "# import stuff\n",
    "import os\n",
    "import pandas as pd\n",
    "import numpy as np\n",
    "# import stats module\n",
    "from scipy import stats\n",
    "# import plotting\n",
    "import matplotlib.pyplot as plt"
   ]
  },
  {
   "cell_type": "code",
   "execution_count": null,
   "metadata": {},
   "outputs": [],
   "source": []
  },
  {
   "cell_type": "code",
   "execution_count": 27,
   "metadata": {},
   "outputs": [],
   "source": [
    "# Read in the satellite drag database\n",
    "#fn = 'D:\\\\data\\\\VL_sdrag\\\\satdrag_database_zlib.hdf5'\n",
    "fn = 'D:\\\\data\\\\SatDensities\\\\satdrag_database_grace_B.hdf5'\n",
    "sd_dat = pd.read_hdf(fn)"
   ]
  },
  {
   "cell_type": "code",
   "execution_count": 28,
   "metadata": {},
   "outputs": [],
   "source": [
    "sd_dat = sd_dat[['DateTime_gr','400kmDensity','storm', 'storm phase','SatLat']]\n",
    "sd_dat = sd_dat.rename(columns={'DateTime_gr':'DateTime'})"
   ]
  },
  {
   "cell_type": "code",
   "execution_count": 29,
   "metadata": {},
   "outputs": [
    {
     "data": {
      "text/plain": [
       "Index(['DateTime', '400kmDensity', 'storm', 'storm phase', 'SatLat'], dtype='object')"
      ]
     },
     "execution_count": 29,
     "metadata": {},
     "output_type": "execute_result"
    },
    {
     "data": {
      "text/html": [
       "<div>\n",
       "<style scoped>\n",
       "    .dataframe tbody tr th:only-of-type {\n",
       "        vertical-align: middle;\n",
       "    }\n",
       "\n",
       "    .dataframe tbody tr th {\n",
       "        vertical-align: top;\n",
       "    }\n",
       "\n",
       "    .dataframe thead th {\n",
       "        text-align: right;\n",
       "    }\n",
       "</style>\n",
       "<table border=\"1\" class=\"dataframe\">\n",
       "  <thead>\n",
       "    <tr style=\"text-align: right;\">\n",
       "      <th></th>\n",
       "      <th>400kmDensity</th>\n",
       "      <th>storm</th>\n",
       "      <th>storm phase</th>\n",
       "      <th>SatLat</th>\n",
       "    </tr>\n",
       "  </thead>\n",
       "  <tbody>\n",
       "    <tr>\n",
       "      <th>count</th>\n",
       "      <td>9.485170e+05</td>\n",
       "      <td>1.043137e+06</td>\n",
       "      <td>1.043137e+06</td>\n",
       "      <td>948517.000000</td>\n",
       "    </tr>\n",
       "    <tr>\n",
       "      <th>mean</th>\n",
       "      <td>1.478012e-12</td>\n",
       "      <td>9.393876e-02</td>\n",
       "      <td>4.254197e-01</td>\n",
       "      <td>-0.112801</td>\n",
       "    </tr>\n",
       "    <tr>\n",
       "      <th>std</th>\n",
       "      <td>1.465874e-12</td>\n",
       "      <td>9.955785e-01</td>\n",
       "      <td>1.346649e+00</td>\n",
       "      <td>52.061650</td>\n",
       "    </tr>\n",
       "    <tr>\n",
       "      <th>min</th>\n",
       "      <td>1.265587e-16</td>\n",
       "      <td>-1.000000e+00</td>\n",
       "      <td>-1.000000e+00</td>\n",
       "      <td>-89.039620</td>\n",
       "    </tr>\n",
       "    <tr>\n",
       "      <th>25%</th>\n",
       "      <td>4.935635e-13</td>\n",
       "      <td>-1.000000e+00</td>\n",
       "      <td>-1.000000e+00</td>\n",
       "      <td>-45.059920</td>\n",
       "    </tr>\n",
       "    <tr>\n",
       "      <th>50%</th>\n",
       "      <td>9.592259e-13</td>\n",
       "      <td>1.000000e+00</td>\n",
       "      <td>1.000000e+00</td>\n",
       "      <td>-0.065080</td>\n",
       "    </tr>\n",
       "    <tr>\n",
       "      <th>75%</th>\n",
       "      <td>1.924731e-12</td>\n",
       "      <td>1.000000e+00</td>\n",
       "      <td>2.000000e+00</td>\n",
       "      <td>45.025780</td>\n",
       "    </tr>\n",
       "    <tr>\n",
       "      <th>max</th>\n",
       "      <td>2.503598e-11</td>\n",
       "      <td>1.000000e+00</td>\n",
       "      <td>2.000000e+00</td>\n",
       "      <td>89.039660</td>\n",
       "    </tr>\n",
       "  </tbody>\n",
       "</table>\n",
       "</div>"
      ],
      "text/plain": [
       "       400kmDensity         storm   storm phase         SatLat\n",
       "count  9.485170e+05  1.043137e+06  1.043137e+06  948517.000000\n",
       "mean   1.478012e-12  9.393876e-02  4.254197e-01      -0.112801\n",
       "std    1.465874e-12  9.955785e-01  1.346649e+00      52.061650\n",
       "min    1.265587e-16 -1.000000e+00 -1.000000e+00     -89.039620\n",
       "25%    4.935635e-13 -1.000000e+00 -1.000000e+00     -45.059920\n",
       "50%    9.592259e-13  1.000000e+00  1.000000e+00      -0.065080\n",
       "75%    1.924731e-12  1.000000e+00  2.000000e+00      45.025780\n",
       "max    2.503598e-11  1.000000e+00  2.000000e+00      89.039660"
      ]
     },
     "execution_count": 29,
     "metadata": {},
     "output_type": "execute_result"
    }
   ],
   "source": [
    "sd_dat.columns\n",
    "sd_dat.describe()"
   ]
  },
  {
   "cell_type": "code",
   "execution_count": 42,
   "metadata": {},
   "outputs": [
    {
     "data": {
      "text/html": [
       "<div>\n",
       "<style scoped>\n",
       "    .dataframe tbody tr th:only-of-type {\n",
       "        vertical-align: middle;\n",
       "    }\n",
       "\n",
       "    .dataframe tbody tr th {\n",
       "        vertical-align: top;\n",
       "    }\n",
       "\n",
       "    .dataframe thead th {\n",
       "        text-align: right;\n",
       "    }\n",
       "</style>\n",
       "<table border=\"1\" class=\"dataframe\">\n",
       "  <thead>\n",
       "    <tr style=\"text-align: right;\">\n",
       "      <th></th>\n",
       "      <th>DateTime</th>\n",
       "      <th>400kmDensity</th>\n",
       "      <th>storm</th>\n",
       "      <th>storm phase</th>\n",
       "      <th>SatLat</th>\n",
       "    </tr>\n",
       "  </thead>\n",
       "  <tbody>\n",
       "    <tr>\n",
       "      <th>0</th>\n",
       "      <td>2002-08-01 00:00:17.500</td>\n",
       "      <td>4.991472e-12</td>\n",
       "      <td>1</td>\n",
       "      <td>1</td>\n",
       "      <td>38.70047</td>\n",
       "    </tr>\n",
       "    <tr>\n",
       "      <th>1</th>\n",
       "      <td>2002-08-01 00:05:12.500</td>\n",
       "      <td>4.958553e-12</td>\n",
       "      <td>1</td>\n",
       "      <td>1</td>\n",
       "      <td>19.81887</td>\n",
       "    </tr>\n",
       "    <tr>\n",
       "      <th>2</th>\n",
       "      <td>2002-08-01 00:09:50.000</td>\n",
       "      <td>4.815389e-12</td>\n",
       "      <td>1</td>\n",
       "      <td>1</td>\n",
       "      <td>2.04152</td>\n",
       "    </tr>\n",
       "    <tr>\n",
       "      <th>3</th>\n",
       "      <td>2002-08-01 00:15:17.500</td>\n",
       "      <td>4.967782e-12</td>\n",
       "      <td>1</td>\n",
       "      <td>1</td>\n",
       "      <td>-18.89667</td>\n",
       "    </tr>\n",
       "    <tr>\n",
       "      <th>4</th>\n",
       "      <td>2002-08-01 00:19:45.000</td>\n",
       "      <td>4.557778e-12</td>\n",
       "      <td>1</td>\n",
       "      <td>1</td>\n",
       "      <td>-35.91989</td>\n",
       "    </tr>\n",
       "  </tbody>\n",
       "</table>\n",
       "</div>"
      ],
      "text/plain": [
       "                 DateTime  400kmDensity  storm  storm phase    SatLat\n",
       "0 2002-08-01 00:00:17.500  4.991472e-12      1            1  38.70047\n",
       "1 2002-08-01 00:05:12.500  4.958553e-12      1            1  19.81887\n",
       "2 2002-08-01 00:09:50.000  4.815389e-12      1            1   2.04152\n",
       "3 2002-08-01 00:15:17.500  4.967782e-12      1            1 -18.89667\n",
       "4 2002-08-01 00:19:45.000  4.557778e-12      1            1 -35.91989"
      ]
     },
     "execution_count": 42,
     "metadata": {},
     "output_type": "execute_result"
    }
   ],
   "source": [
    "sd_dat.head()"
   ]
  },
  {
   "cell_type": "code",
   "execution_count": 30,
   "metadata": {},
   "outputs": [],
   "source": [
    "# define the different datasets we need to test \n",
    "st_t = (sd_dat['storm']>0.95) & (sd_dat['storm']<1.05) # storm times\n",
    "qt_t = (sd_dat['storm']<0) # quiet times\n",
    "mn_p = (sd_dat['storm phase']>0.95) & (sd_dat['storm phase']<1.05) # main phase\n",
    "rc_p = (sd_dat['storm phase']>1.95) & (sd_dat['storm phase']<2.05) # recovery phase"
   ]
  },
  {
   "cell_type": "code",
   "execution_count": 31,
   "metadata": {},
   "outputs": [
    {
     "name": "stdout",
     "output_type": "stream",
     "text": [
      "All vs Quiet: \n"
     ]
    },
    {
     "data": {
      "text/plain": [
       "KstestResult(statistic=0.10398362658510962, pvalue=0.0)"
      ]
     },
     "execution_count": 31,
     "metadata": {},
     "output_type": "execute_result"
    },
    {
     "name": "stdout",
     "output_type": "stream",
     "text": [
      "All vs Storm: \n"
     ]
    },
    {
     "data": {
      "text/plain": [
       "KstestResult(statistic=0.08612505234505685, pvalue=0.0)"
      ]
     },
     "execution_count": 31,
     "metadata": {},
     "output_type": "execute_result"
    },
    {
     "name": "stdout",
     "output_type": "stream",
     "text": [
      "All vs Main Phase: \n"
     ]
    },
    {
     "data": {
      "text/plain": [
       "KstestResult(statistic=0.07040414977128617, pvalue=0.0)"
      ]
     },
     "execution_count": 31,
     "metadata": {},
     "output_type": "execute_result"
    },
    {
     "name": "stdout",
     "output_type": "stream",
     "text": [
      "All vs Recovery Phase: \n"
     ]
    },
    {
     "data": {
      "text/plain": [
       "KstestResult(statistic=0.09722833868605635, pvalue=0.0)"
      ]
     },
     "execution_count": 31,
     "metadata": {},
     "output_type": "execute_result"
    }
   ],
   "source": [
    "print(\"All vs Quiet: \") \n",
    "stats.ks_2samp(sd_dat['400kmDensity'], sd_dat.loc[qt_t,'400kmDensity'])\n",
    "print(\"All vs Storm: \") \n",
    "stats.ks_2samp(sd_dat['400kmDensity'], sd_dat.loc[st_t,'400kmDensity'])\n",
    "print(\"All vs Main Phase: \") \n",
    "stats.ks_2samp(sd_dat['400kmDensity'], sd_dat.loc[mn_p,'400kmDensity'])\n",
    "print(\"All vs Recovery Phase: \") \n",
    "stats.ks_2samp(sd_dat['400kmDensity'], sd_dat.loc[rc_p,'400kmDensity'])"
   ]
  },
  {
   "cell_type": "code",
   "execution_count": 32,
   "metadata": {},
   "outputs": [
    {
     "name": "stdout",
     "output_type": "stream",
     "text": [
      "Quiet vs Storm: \n"
     ]
    },
    {
     "data": {
      "text/plain": [
       "KstestResult(statistic=0.19010867893016647, pvalue=0.0)"
      ]
     },
     "execution_count": 32,
     "metadata": {},
     "output_type": "execute_result"
    },
    {
     "name": "stdout",
     "output_type": "stream",
     "text": [
      "Quiet vs Main Phase: \n"
     ]
    },
    {
     "data": {
      "text/plain": [
       "KstestResult(statistic=0.1732718342591611, pvalue=0.0)"
      ]
     },
     "execution_count": 32,
     "metadata": {},
     "output_type": "execute_result"
    },
    {
     "name": "stdout",
     "output_type": "stream",
     "text": [
      "Quiet vs Recovery Phase: \n"
     ]
    },
    {
     "data": {
      "text/plain": [
       "KstestResult(statistic=0.20116349146500312, pvalue=0.0)"
      ]
     },
     "execution_count": 32,
     "metadata": {},
     "output_type": "execute_result"
    }
   ],
   "source": [
    "print(\"Quiet vs Storm: \") \n",
    "stats.ks_2samp(sd_dat.loc[qt_t,'400kmDensity'], sd_dat.loc[st_t,'400kmDensity'])\n",
    "print(\"Quiet vs Main Phase: \") \n",
    "stats.ks_2samp(sd_dat.loc[qt_t,'400kmDensity'], sd_dat.loc[mn_p,'400kmDensity'])\n",
    "print(\"Quiet vs Recovery Phase: \") \n",
    "stats.ks_2samp(sd_dat.loc[qt_t,'400kmDensity'], sd_dat.loc[rc_p,'400kmDensity'])"
   ]
  },
  {
   "cell_type": "code",
   "execution_count": 33,
   "metadata": {},
   "outputs": [
    {
     "name": "stdout",
     "output_type": "stream",
     "text": [
      "Storm vs Main Phase: \n"
     ]
    },
    {
     "data": {
      "text/plain": [
       "KstestResult(statistic=0.017792446316568455, pvalue=8.963943938667638e-45)"
      ]
     },
     "execution_count": 33,
     "metadata": {},
     "output_type": "execute_result"
    },
    {
     "name": "stdout",
     "output_type": "stream",
     "text": [
      "Storm vs Recovery Phase: \n"
     ]
    },
    {
     "data": {
      "text/plain": [
       "KstestResult(statistic=0.20116349146500312, pvalue=0.0)"
      ]
     },
     "execution_count": 33,
     "metadata": {},
     "output_type": "execute_result"
    },
    {
     "name": "stdout",
     "output_type": "stream",
     "text": [
      "Main vs Recovery Phase: \n"
     ]
    },
    {
     "data": {
      "text/plain": [
       "KstestResult(statistic=0.029358925733606794, pvalue=1.9224029357243136e-102)"
      ]
     },
     "execution_count": 33,
     "metadata": {},
     "output_type": "execute_result"
    }
   ],
   "source": [
    "print(\"Storm vs Main Phase: \") \n",
    "stats.ks_2samp(sd_dat.loc[st_t,'400kmDensity'], sd_dat.loc[mn_p,'400kmDensity'])\n",
    "print(\"Storm vs Recovery Phase: \") \n",
    "stats.ks_2samp(sd_dat.loc[qt_t,'400kmDensity'], sd_dat.loc[rc_p,'400kmDensity'])\n",
    "print(\"Main vs Recovery Phase: \") \n",
    "stats.ks_2samp(sd_dat.loc[mn_p,'400kmDensity'], sd_dat.loc[rc_p,'400kmDensity'])"
   ]
  },
  {
   "cell_type": "markdown",
   "metadata": {},
   "source": [
    "# Histograms of each set of distributions\n",
    "\n",
    "The KS statistic demonstrates that each of the sets of atmospheric density are different. All data is different from quiet, storm, main phase and recovery phase. Quiet time is different then the three storms times (not surprising). More surprising is that all the storm distributions are different, this would suggest that the main phase and recovery phase are exceptionally differnt so that storm-time is different then both the main and recovery phase distributions. \n",
    "\n",
    "Let's plot the PDFs to see how different they are."
   ]
  },
  {
   "cell_type": "code",
   "execution_count": 34,
   "metadata": {},
   "outputs": [],
   "source": [
    "# limit output again\n",
    "InteractiveShell.ast_node_interactivity = \"last_expr\""
   ]
  },
  {
   "cell_type": "code",
   "execution_count": 35,
   "metadata": {},
   "outputs": [
    {
     "data": {
      "text/plain": [
       "<bound method Figure.draw of <Figure size 1100x500 with 4 Axes>>"
      ]
     },
     "execution_count": 35,
     "metadata": {},
     "output_type": "execute_result"
    },
    {
     "data": {
      "image/png": "[encoded data removed]",
      "text/plain": [
       "<Figure size 1100x500 with 4 Axes>"
      ]
     },
     "metadata": {},
     "output_type": "display_data"
    }
   ],
   "source": [
    "# define bins\n",
    "h_bins = np.histogram_bin_edges(sd_dat['400kmDensity'],bins='fd',range=(0,1E-11))\n",
    "\n",
    "density=True\n",
    "\n",
    "fig, ax = plt.subplots(1,4, figsize=(11,5),gridspec_kw={'bottom':0.15})\n",
    "\n",
    "ax[0].hist(sd_dat['400kmDensity'],bins=h_bins, alpha = 0.75, label='All', density=density, color='forestgreen')\n",
    "ax[0].hist(sd_dat.loc[qt_t,'400kmDensity'],bins=h_bins, alpha = 0.5, label='Quiet', density=density, color='steelblue')\n",
    "\n",
    "ax[1].hist(sd_dat.loc[qt_t,'400kmDensity'],bins=h_bins, alpha = 0.75, label='Quiet', density=density, color='steelblue')\n",
    "ax[1].hist(sd_dat.loc[st_t,'400kmDensity'],bins=h_bins, alpha = 0.5, label='Storm', density=density, color= 'red')\n",
    "\n",
    "ax[2].hist(sd_dat.loc[qt_t,'400kmDensity'],bins=h_bins, alpha = 0.75, label='Quiet', density=density, color='steelblue')\n",
    "ax[2].hist(sd_dat.loc[mn_p,'400kmDensity'],bins=h_bins, alpha = 0.5, label='Main Phase', density=density, color='darkorange')\n",
    "\n",
    "ax[3].hist(sd_dat.loc[qt_t,'400kmDensity'],bins=h_bins, alpha = 0.75, label='Quiet', density=density, color='steelblue')\n",
    "ax[3].hist(sd_dat.loc[rc_p,'400kmDensity'],bins=h_bins, alpha = 0.5, label='Recovery Phase', density=density, color='gold')\n",
    "\n",
    "fig.draw\n",
    "\n"
   ]
  },
  {
   "cell_type": "code",
   "execution_count": 36,
   "metadata": {},
   "outputs": [
    {
     "data": {
      "image/png": "[encoded data removed]",
      "text/plain": [
       "<Figure size 1100x500 with 4 Axes>"
      ]
     },
     "execution_count": 36,
     "metadata": {},
     "output_type": "execute_result"
    }
   ],
   "source": [
    "#pretty the figure\n",
    "for axn in ax:\n",
    "    axn.legend(loc='upper right')\n",
    "    axn.ticklabel_format(axis='y',style='sci', scilimits=(0,0))\n",
    "\n",
    "\n",
    "ax[0].set_ylabel('Probability')\n",
    "fig.supxlabel('Density @ 400 km', y=0.002)\n",
    "fig\n",
    "#plt.savefig(os.path.join(save_dir,'Queit_Storm_Pow.png'),facecolor='white', edgecolor='none')"
   ]
  },
  {
   "cell_type": "markdown",
   "metadata": {},
   "source": [
    "# CDFs\n",
    "\n",
    "The histograms illustrate that the distrubtions of density at 400 km are signifanctly different. The storm distributions having larger and longer tails at high density with fewer observations at low desnity. \n",
    "\n",
    "This can be further illustrated with the CDFs."
   ]
  },
  {
   "cell_type": "code",
   "execution_count": 37,
   "metadata": {},
   "outputs": [
    {
     "data": {
      "text/plain": [
       "Text(0.5, 0.002, 'Density @ 400 km')"
      ]
     },
     "execution_count": 37,
     "metadata": {},
     "output_type": "execute_result"
    },
    {
     "data": {
      "image/png": "[encoded data removed]",
      "text/plain": [
       "<Figure size 1100x500 with 3 Axes>"
      ]
     },
     "metadata": {},
     "output_type": "display_data"
    }
   ],
   "source": [
    "dist_1 = [qt_t, qt_t, qt_t]\n",
    "dist_2 = [st_t, mn_p, rc_p]\n",
    "col = ['red','darkorange','gold']\n",
    "lab = ['Storm', 'Main Phase', 'Recovery Phase']\n",
    "\n",
    "fig2, ax2 = plt.subplots(1,3, figsize=(11,5),gridspec_kw={'bottom':0.15})\n",
    "\n",
    "# histogram quiet time data\n",
    "qt_count, qt_bins = np.histogram(sd_dat.loc[qt_t,'400kmDensity'], bins=h_bins)\n",
    "qt_pdf = qt_count / sum(qt_count) # calculate pdf\n",
    "qt_cdf = np.cumsum(qt_pdf) # calculate cdf\n",
    "\n",
    "\n",
    "\n",
    "\n",
    "for axn, dist, cc, ll in zip(ax2, dist_2, col, lab):\n",
    "    lp_count, lp_bins = np.histogram(sd_dat.loc[dist,'400kmDensity'], bins=h_bins)\n",
    "    lp_pdf = lp_count / sum(lp_count) # calculate pdf\n",
    "    lp_cdf = np.cumsum(lp_pdf) # calculate cdf\n",
    "\n",
    "    axn.plot(qt_bins[1:], qt_cdf, color=\"forestgreen\", label=\"Quiet\")\n",
    "    axn.plot(lp_bins[1:], lp_cdf, color=cc, label=ll)\n",
    "\n",
    "    \n",
    "    \n",
    "\n",
    "    # plotting max difference\n",
    "    pos = np.argmax(qt_cdf-lp_cdf)\n",
    "    x = [qt_bins[pos+1],qt_bins[pos+1]]\n",
    "    y = [np.abs(qt_cdf[pos]-lp_cdf[pos])+np.min([qt_cdf[pos],lp_cdf[pos]]),np.min([qt_cdf[pos],lp_cdf[pos]])]\n",
    "    axn.plot(x,y, color=\"orange\", label='Max Difference')\n",
    "\n",
    "    axn.legend()\n",
    "\n",
    "\n",
    "ax2[0].set_ylabel('Probability')\n",
    "fig2.supxlabel('Density @ 400 km', y=0.002)"
   ]
  },
  {
   "cell_type": "code",
   "execution_count": 38,
   "metadata": {},
   "outputs": [
    {
     "data": {
      "text/plain": [
       "Index(['DateTime', '400kmDensity', 'storm', 'storm phase', 'SatLat'], dtype='object')"
      ]
     },
     "execution_count": 38,
     "metadata": {},
     "output_type": "execute_result"
    }
   ],
   "source": [
    "sd_dat.columns"
   ]
  },
  {
   "cell_type": "code",
   "execution_count": 39,
   "metadata": {},
   "outputs": [],
   "source": [
    "# quick latitude plot\n",
    "# specify the y parameters for the 2D SEA\n",
    "#y_col = 'SLat'\n",
    "y_col = 'SatLat'\n",
    "ymin = -90\n",
    "ymax = 90\n",
    "y_spacing = 5\n",
    "\n",
    "yval = np.arange(ymin,ymax,y_spacing)\n",
    "\n",
    "kval = []\n",
    "pval = []\n",
    "\n",
    "for yy in yval:\n",
    "    g_lat = (sd_dat[y_col]>yy) & (sd_dat[y_col]<=(yy+y_spacing)) # main phase\n",
    "    ks, p = stats.ks_2samp(sd_dat.loc[(qt_t) & (g_lat),'400kmDensity'], sd_dat.loc[(st_t) & (g_lat),'400kmDensity'])\n",
    "    kval.append(ks)\n",
    "    pval.append(p)\n"
   ]
  },
  {
   "cell_type": "code",
   "execution_count": 40,
   "metadata": {},
   "outputs": [
    {
     "data": {
      "text/plain": [
       "[<matplotlib.lines.Line2D at 0x1503f8f1a20>]"
      ]
     },
     "execution_count": 40,
     "metadata": {},
     "output_type": "execute_result"
    },
    {
     "data": {
      "image/png": "[encoded data removed]",
      "text/plain": [
       "<Figure size 1100x500 with 1 Axes>"
      ]
     },
     "metadata": {},
     "output_type": "display_data"
    }
   ],
   "source": [
    "fig3, ax3 = plt.subplots(1,1, figsize=(11,5),gridspec_kw={'bottom':0.15})\n",
    "\n",
    "ax3.plot(yval,kval)\n",
    "ax3.plot(yval,pval)"
   ]
  }
 ],
 "metadata": {
  "kernelspec": {
   "display_name": "satdrag",
   "language": "python",
   "name": "python3"
  },
  "language_info": {
   "codemirror_mode": {
    "name": "ipython",
    "version": 3
   },
   "file_extension": ".py",
   "mimetype": "text/x-python",
   "name": "python",
   "nbconvert_exporter": "python",
   "pygments_lexer": "ipython3",
   "version": "3.10.9"
  },
  "vscode": {
   "interpreter": {
    "hash": "b189bde72a5e2a5d07d6d62549c0b46606a9b255620bd50d8891a8ddcc15993b"
   }
  }
 },
 "nbformat": 4,
 "nbformat_minor": 2
}
