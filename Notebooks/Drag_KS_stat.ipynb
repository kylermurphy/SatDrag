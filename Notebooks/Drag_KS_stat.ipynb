{
 "cells": [
  {
   "attachments": {},
   "cell_type": "markdown",
   "metadata": {},
   "source": [
    "# Code to investigate the storm-time, storm-phase, and quiet-time distributions of Atmospheric Density\n",
    "\n",
    "Investigate a number of distributions\n",
    "1. all \n",
    "1. storm \n",
    "1. main phase \n",
    "1. recovery phase\n",
    "1. quiet time\n",
    "\n",
    "Look at the data set composed by Vivian Liu which contains the atmospheric density mapped to 400 km from Grace A and B.\n",
    "\n",
    "\n",
    "## A few words on the [KS-statistic](https://sites.google.com/a/ucsc.edu/krumholz/teaching-and-courses/ast119_w15/class-10#TOC-The-Kolmogorov-Smirnov-Test).\n",
    "\n",
    "### The Kolmogorov-Smirnov Test\n",
    "\n",
    "The way this test works is that it computes the maximum difference $D$ between the cumulative distribution function of the data and that of the model. For a sample of a specified size, it is possible to compute the distribution of $D$, and the probability that one would observe a value of $D$ as large or larger than the one that we actually observe. The KS test returns this probability.\n",
    "\n",
    "In python, the KS test is implemented via the kstest function in the scipy.stats module. Usage is simple:\n",
    "\n",
    "```python\n",
    "import scipy.stats as stats\n",
    "stats.kstest(edata, expcdf)\n",
    "(0.030625323616205735, 0.30027149382740559)\n",
    "\n",
    "stats.kstest(gdata, expcdf)\n",
    "(0.09558770069914635, 2.1016098417092621e-08)\n",
    "```\n",
    "\n",
    "The function returns a tuple of two values. The first is $D$, the maximum difference between the CDF of the input data and the model CDF. The second is the $p-value$, meaning the probability that, if the data had actually been drawn from the proposed CDF, the resulting value of $D$ would have been as large or larger than the one we measured.\n",
    "\n",
    "In this example, when testing against the exponential data we got $D = 0.0306$ and a $p-value$ of 0.3, meaning that 30% of the time we would expect a value of $D$ as large as the one actually observed, even if the data had been drawn from the proposed distribution. We therefore cannot reject the hypothesis that the data were drawn from the proposed distribution. In contrast, for the Gaussian data we got $D = 0.0956$ and a $p-value$ of 2 x 10-8. This means that there is roughly a 1 in 50 million chance that such a large value of $D$ could have arisen if the data had been drawn from $expcdf$. The hypothesis that these two data sets are consistent with having come from the same parent distribution can therefore be rejected at high confidence.\n",
    "\n",
    "### Two-Sided KS Test\n",
    "\n",
    "A related application of KS tests is to the problem of determining whether two data sets are consistent with having been drawn from the same underlying distribution. For example, we might have two samples of radioactive isotope, and be interested in knowing if they are the same. One way we could test this is by observing the distribution of wait times between decays for equal mass samples of the two isotopes, and checking if they are consistent with having been drawn from the same distribution.\n",
    "\n",
    "The KS test can also be used to compare two samples; in this case it is called a two-sided KS test. The basic idea is that same as for the standard KS test: compute the maximum distance $D$ between the two CDFs, and see how unlikely it is to get a value of $D$ that big or bigger under the hypothesis that the two samples were drawn from the same data set.\n",
    "\n",
    "In python, the 2-sided KS test is implemented via the ks_2samp function in scipy.stats. Usage is identical to the normal KS test, except that the second argument is simply the second data set instead of the theoretical PDF. The return values are the same as well. For example:\n",
    "\n",
    "```python\n",
    "stats.ks_2samp(edata, gdata)\n",
    "(0.1160000000000001, 2.4642615623295746e-06)\n",
    "\n",
    "stats.ks_2samp(edata, rnd.exponential(size=1000, scale=1.1))\n",
    "(0.046999999999999931, 0.2139884345923434)\n",
    "\n",
    "stats.ks_2samp(edata, rnd.exponential(size=1000, scale=2.))\n",
    "(0.24399999999999999, 1.4294621455293676e-26)\n",
    "```\n",
    "\n",
    "Here the first call compares the exponential and Gaussian data, and concludes that they are inconsistent with having been drawn from the same distribution with a $p-value$ of 2.5 x 10-6. The second compares our exponential data with a new set of exponential data chosen with a scale factor of 1.1, and finds that the $p-value$ is 0.21 -- too large to rule out the possibility that the two data sets were drawn from the same underlying distribution. Finally, the third statement reports a $p-value$ of 1.4 x 10-26 for a comparison between the data with scale factors of 1 and 2, strongly rejecting the hypothesis that these two data sets are consistent with having come from the same parent distribution.\n"
   ]
  },
  {
   "cell_type": "code",
   "execution_count": 2,
   "metadata": {},
   "outputs": [],
   "source": [
    "#plot matplotlib figures in the notebook\n",
    "%matplotlib inline\n",
    "\n",
    "#auto reload modules before executing\n",
    "%load_ext autoreload\n",
    "%autoreload 2\n",
    "\n",
    "#print all output in a cell \n",
    "from IPython.core.interactiveshell import InteractiveShell\n",
    "InteractiveShell.ast_node_interactivity = \"all\"\n"
   ]
  },
  {
   "cell_type": "code",
   "execution_count": 3,
   "metadata": {},
   "outputs": [],
   "source": [
    "# import stuff\n",
    "import os\n",
    "import pandas as pd\n",
    "import numpy as np\n",
    "# import stats module\n",
    "from scipy import stats\n",
    "# import plotting\n",
    "import matplotlib.pyplot as plt"
   ]
  },
  {
   "cell_type": "code",
   "execution_count": 15,
   "metadata": {},
   "outputs": [],
   "source": [
    "# Read in the satellite drag database\n",
    "fn = 'D:\\\\data\\\\VL_sdrag\\\\satdrag_database.hdf5'\n",
    "columns = ['Datetime','400kmDensity', 'DensityHeight', 'DenUncertainty','storm', 'storm phase']\n",
    "sd_dat = pd.read_hdf(fn, columns=columns)"
   ]
  },
  {
   "cell_type": "code",
   "execution_count": 16,
   "metadata": {},
   "outputs": [
    {
     "data": {
      "text/plain": [
       "Index(['Datetime', '400kmDensity', 'DensityHeight', 'DenUncertainty', 'storm',\n",
       "       'storm phase'],\n",
       "      dtype='object')"
      ]
     },
     "execution_count": 16,
     "metadata": {},
     "output_type": "execute_result"
    },
    {
     "data": {
      "text/html": [
       "<div>\n",
       "<style scoped>\n",
       "    .dataframe tbody tr th:only-of-type {\n",
       "        vertical-align: middle;\n",
       "    }\n",
       "\n",
       "    .dataframe tbody tr th {\n",
       "        vertical-align: top;\n",
       "    }\n",
       "\n",
       "    .dataframe thead th {\n",
       "        text-align: right;\n",
       "    }\n",
       "</style>\n",
       "<table border=\"1\" class=\"dataframe\">\n",
       "  <thead>\n",
       "    <tr style=\"text-align: right;\">\n",
       "      <th></th>\n",
       "      <th>400kmDensity</th>\n",
       "      <th>DensityHeight</th>\n",
       "      <th>DenUncertainty</th>\n",
       "      <th>storm</th>\n",
       "      <th>storm phase</th>\n",
       "    </tr>\n",
       "  </thead>\n",
       "  <tbody>\n",
       "    <tr>\n",
       "      <th>count</th>\n",
       "      <td>4.670941e+06</td>\n",
       "      <td>4.670941e+06</td>\n",
       "      <td>4.670941e+06</td>\n",
       "      <td>4.670941e+06</td>\n",
       "      <td>4.670941e+06</td>\n",
       "    </tr>\n",
       "    <tr>\n",
       "      <th>mean</th>\n",
       "      <td>1.484615e-12</td>\n",
       "      <td>4.190426e-13</td>\n",
       "      <td>1.882837e-14</td>\n",
       "      <td>1.216673e-01</td>\n",
       "      <td>4.610536e-01</td>\n",
       "    </tr>\n",
       "    <tr>\n",
       "      <th>std</th>\n",
       "      <td>1.470657e-12</td>\n",
       "      <td>4.299068e-13</td>\n",
       "      <td>2.125846e-14</td>\n",
       "      <td>9.925710e-01</td>\n",
       "      <td>1.343722e+00</td>\n",
       "    </tr>\n",
       "    <tr>\n",
       "      <th>min</th>\n",
       "      <td>7.457587e-20</td>\n",
       "      <td>9.656360e-15</td>\n",
       "      <td>1.044230e-15</td>\n",
       "      <td>-1.000000e+00</td>\n",
       "      <td>-1.000000e+00</td>\n",
       "    </tr>\n",
       "    <tr>\n",
       "      <th>25%</th>\n",
       "      <td>4.975018e-13</td>\n",
       "      <td>1.494703e-13</td>\n",
       "      <td>5.044784e-15</td>\n",
       "      <td>-1.000000e+00</td>\n",
       "      <td>-1.000000e+00</td>\n",
       "    </tr>\n",
       "    <tr>\n",
       "      <th>50%</th>\n",
       "      <td>9.641594e-13</td>\n",
       "      <td>2.730157e-13</td>\n",
       "      <td>1.110451e-14</td>\n",
       "      <td>1.000000e+00</td>\n",
       "      <td>1.000000e+00</td>\n",
       "    </tr>\n",
       "    <tr>\n",
       "      <th>75%</th>\n",
       "      <td>1.931388e-12</td>\n",
       "      <td>5.206512e-13</td>\n",
       "      <td>2.426545e-14</td>\n",
       "      <td>1.000000e+00</td>\n",
       "      <td>2.000000e+00</td>\n",
       "    </tr>\n",
       "    <tr>\n",
       "      <th>max</th>\n",
       "      <td>2.631810e-11</td>\n",
       "      <td>5.898293e-12</td>\n",
       "      <td>3.949198e-13</td>\n",
       "      <td>1.000000e+00</td>\n",
       "      <td>2.000000e+00</td>\n",
       "    </tr>\n",
       "  </tbody>\n",
       "</table>\n",
       "</div>"
      ],
      "text/plain": [
       "       400kmDensity  DensityHeight  DenUncertainty         storm   storm phase\n",
       "count  4.670941e+06   4.670941e+06    4.670941e+06  4.670941e+06  4.670941e+06\n",
       "mean   1.484615e-12   4.190426e-13    1.882837e-14  1.216673e-01  4.610536e-01\n",
       "std    1.470657e-12   4.299068e-13    2.125846e-14  9.925710e-01  1.343722e+00\n",
       "min    7.457587e-20   9.656360e-15    1.044230e-15 -1.000000e+00 -1.000000e+00\n",
       "25%    4.975018e-13   1.494703e-13    5.044784e-15 -1.000000e+00 -1.000000e+00\n",
       "50%    9.641594e-13   2.730157e-13    1.110451e-14  1.000000e+00  1.000000e+00\n",
       "75%    1.931388e-12   5.206512e-13    2.426545e-14  1.000000e+00  2.000000e+00\n",
       "max    2.631810e-11   5.898293e-12    3.949198e-13  1.000000e+00  2.000000e+00"
      ]
     },
     "execution_count": 16,
     "metadata": {},
     "output_type": "execute_result"
    }
   ],
   "source": [
    "sd_dat.columns\n",
    "sd_dat.describe()"
   ]
  },
  {
   "cell_type": "code",
   "execution_count": 25,
   "metadata": {},
   "outputs": [],
   "source": [
    "# define the different datasets we need to test \n",
    "st_t = (sd_dat['storm']>0.95) & (sd_dat['storm']<1.05) # storm times\n",
    "qt_t = (sd_dat['storm']<0) # quiet times\n",
    "mn_p = (sd_dat['storm phase']>0.95) & (sd_dat['storm phase']<1.05) # main phase\n",
    "rc_p = (sd_dat['storm phase']>1.95) & (sd_dat['storm phase']<2.05) # recovery phase"
   ]
  },
  {
   "cell_type": "code",
   "execution_count": 27,
   "metadata": {},
   "outputs": [
    {
     "name": "stdout",
     "output_type": "stream",
     "text": [
      "All vs Quiet: \n"
     ]
    },
    {
     "data": {
      "text/plain": [
       "KstestResult(statistic=0.1289695553219633, pvalue=0.0)"
      ]
     },
     "execution_count": 27,
     "metadata": {},
     "output_type": "execute_result"
    },
    {
     "name": "stdout",
     "output_type": "stream",
     "text": [
      "All vs Storm: \n"
     ]
    },
    {
     "data": {
      "text/plain": [
       "KstestResult(statistic=0.10099087930011619, pvalue=0.0)"
      ]
     },
     "execution_count": 27,
     "metadata": {},
     "output_type": "execute_result"
    },
    {
     "name": "stdout",
     "output_type": "stream",
     "text": [
      "All vs Main Phase: \n"
     ]
    },
    {
     "data": {
      "text/plain": [
       "KstestResult(statistic=0.08575899819624355, pvalue=0.0)"
      ]
     },
     "execution_count": 27,
     "metadata": {},
     "output_type": "execute_result"
    },
    {
     "name": "stdout",
     "output_type": "stream",
     "text": [
      "All vs Recovery Phase: \n"
     ]
    },
    {
     "data": {
      "text/plain": [
       "KstestResult(statistic=0.11311583004384618, pvalue=0.0)"
      ]
     },
     "execution_count": 27,
     "metadata": {},
     "output_type": "execute_result"
    }
   ],
   "source": [
    "print(\"All vs Quiet: \") \n",
    "stats.ks_2samp(sd_dat['400kmDensity'], sd_dat.loc[qt_t,'400kmDensity'])\n",
    "print(\"All vs Storm: \") \n",
    "stats.ks_2samp(sd_dat['400kmDensity'], sd_dat.loc[st_t,'400kmDensity'])\n",
    "print(\"All vs Main Phase: \") \n",
    "stats.ks_2samp(sd_dat['400kmDensity'], sd_dat.loc[mn_p,'400kmDensity'])\n",
    "print(\"All vs Recovery Phase: \") \n",
    "stats.ks_2samp(sd_dat['400kmDensity'], sd_dat.loc[rc_p,'400kmDensity'])"
   ]
  },
  {
   "cell_type": "code",
   "execution_count": 33,
   "metadata": {},
   "outputs": [
    {
     "name": "stdout",
     "output_type": "stream",
     "text": [
      "Quiet vs Storm: \n"
     ]
    },
    {
     "data": {
      "text/plain": [
       "KstestResult(statistic=0.2299604346220795, pvalue=0.0)"
      ]
     },
     "execution_count": 33,
     "metadata": {},
     "output_type": "execute_result"
    },
    {
     "name": "stdout",
     "output_type": "stream",
     "text": [
      "Quiet vs Main Phase: \n"
     ]
    },
    {
     "data": {
      "text/plain": [
       "KstestResult(statistic=0.21236865115477882, pvalue=0.0)"
      ]
     },
     "execution_count": 33,
     "metadata": {},
     "output_type": "execute_result"
    },
    {
     "name": "stdout",
     "output_type": "stream",
     "text": [
      "Quiet vs Recovery Phase: \n"
     ]
    },
    {
     "data": {
      "text/plain": [
       "KstestResult(statistic=0.24194371633690182, pvalue=0.0)"
      ]
     },
     "execution_count": 33,
     "metadata": {},
     "output_type": "execute_result"
    }
   ],
   "source": [
    "print(\"Quiet vs Storm: \") \n",
    "stats.ks_2samp(sd_dat.loc[qt_t,'400kmDensity'], sd_dat.loc[st_t,'400kmDensity'])\n",
    "print(\"Quiet vs Main Phase: \") \n",
    "stats.ks_2samp(sd_dat.loc[qt_t,'400kmDensity'], sd_dat.loc[mn_p,'400kmDensity'])\n",
    "print(\"Quiet vs Recovery Phase: \") \n",
    "stats.ks_2samp(sd_dat.loc[qt_t,'400kmDensity'], sd_dat.loc[rc_p,'400kmDensity'])"
   ]
  },
  {
   "cell_type": "code",
   "execution_count": 32,
   "metadata": {},
   "outputs": [
    {
     "name": "stdout",
     "output_type": "stream",
     "text": [
      "Storm vs Main Phase: \n"
     ]
    },
    {
     "data": {
      "text/plain": [
       "KstestResult(statistic=0.01975597434256071, pvalue=7.552139072026365e-252)"
      ]
     },
     "execution_count": 32,
     "metadata": {},
     "output_type": "execute_result"
    },
    {
     "name": "stdout",
     "output_type": "stream",
     "text": [
      "Storm vs Recovery Phase: \n"
     ]
    },
    {
     "data": {
      "text/plain": [
       "KstestResult(statistic=0.24194371633690182, pvalue=0.0)"
      ]
     },
     "execution_count": 32,
     "metadata": {},
     "output_type": "execute_result"
    },
    {
     "name": "stdout",
     "output_type": "stream",
     "text": [
      "Main vs Recovery Phase: \n"
     ]
    },
    {
     "data": {
      "text/plain": [
       "KstestResult(statistic=0.03264662818063313, pvalue=0.0)"
      ]
     },
     "execution_count": 32,
     "metadata": {},
     "output_type": "execute_result"
    }
   ],
   "source": [
    "print(\"Storm vs Main Phase: \") \n",
    "stats.ks_2samp(sd_dat.loc[st_t,'400kmDensity'], sd_dat.loc[mn_p,'400kmDensity'])\n",
    "print(\"Storm vs Recovery Phase: \") \n",
    "stats.ks_2samp(sd_dat.loc[qt_t,'400kmDensity'], sd_dat.loc[rc_p,'400kmDensity'])\n",
    "print(\"Main vs Recovery Phase: \") \n",
    "stats.ks_2samp(sd_dat.loc[mn_p,'400kmDensity'], sd_dat.loc[rc_p,'400kmDensity'])"
   ]
  },
  {
   "attachments": {},
   "cell_type": "markdown",
   "metadata": {},
   "source": [
    "# Histograms for the Distributions\n",
    "\n",
    "The KS statistic demonstrates that each of the sets of atmospheric density are different. All data is different from quiet, storm, main phase and recovery phase. Quiet time is different then the three storms times (not surprising). More surprising is that all the storm distributions are different, this would suggest that the main phase and recovery phase are exceptionally differnt so that storm-time is different then both the main and recovery phase distributions. \n",
    "\n",
    "Let's plot the PDFs to see how different they are."
   ]
  },
  {
   "cell_type": "code",
   "execution_count": 38,
   "metadata": {},
   "outputs": [],
   "source": [
    "# limit output again\n",
    "InteractiveShell.ast_node_interactivity = \"last_expr\""
   ]
  },
  {
   "cell_type": "code",
   "execution_count": 40,
   "metadata": {},
   "outputs": [
    {
     "data": {
      "text/plain": [
       "Text(0, 0.5, 'Probability Density')"
      ]
     },
     "execution_count": 40,
     "metadata": {},
     "output_type": "execute_result"
    },
    {
     "data": {
      "image/png": "[encoded data removed]",
      "text/plain": [
       "<Figure size 640x480 with 1 Axes>"
      ]
     },
     "metadata": {},
     "output_type": "display_data"
    }
   ],
   "source": [
    "# define bins\n",
    "h_bins = np.histogram_bin_edges(sd_dat['400kmDensity'],bins='fd')\n",
    "\n",
    "plt.hist(sd_dat['400kmDensity'],bins=h_bins, alpha = 0.5, label='All', density=True, color='forestgreen')\n",
    "plt.hist(sd_dat.loc[st_t,'400kmDensity'],bins=h_bins, alpha = 0.75, label='Storm', density=True)\n",
    "plt.hist(sd_dat.loc[qt_t,'400kmDensity'],bins=h_bins, alpha = 0.5, label='Quiet', density=True, color='crimson')\n",
    "plt.hist(sd_dat.loc[mn_p,'400kmDensity'],bins=h_bins, alpha = 0.5, label='Main Phase', density=True)\n",
    "plt.hist(sd_dat.loc[rc_p,'400kmDensity'],bins=h_bins, alpha = 0.5, label='Recovery Phase', density=True)\n",
    "\n",
    "plt.legend(loc='upper right')\n",
    "plt.xlabel('Density @ 400 km')\n",
    "plt.ylabel('Probability Density')\n",
    "\n",
    "#plt.savefig(os.path.join(save_dir,'Queit_Storm_Pow.png'),facecolor='white', edgecolor='none')"
   ]
  },
  {
   "cell_type": "code",
   "execution_count": 36,
   "metadata": {},
   "outputs": [
    {
     "data": {
      "text/plain": [
       "array([7.45758700e-20, 1.71454165e-14, 3.42907585e-14, ...,\n",
       "       2.62838093e-11, 2.63009547e-11, 2.63181000e-11])"
      ]
     },
     "execution_count": 36,
     "metadata": {},
     "output_type": "execute_result"
    }
   ],
   "source": [
    "h_bins"
   ]
  }
 ],
 "metadata": {
  "kernelspec": {
   "display_name": "base",
   "language": "python",
   "name": "python3"
  },
  "language_info": {
   "codemirror_mode": {
    "name": "ipython",
    "version": 3
   },
   "file_extension": ".py",
   "mimetype": "text/x-python",
   "name": "python",
   "nbconvert_exporter": "python",
   "pygments_lexer": "ipython3",
   "version": "3.9.12"
  },
  "orig_nbformat": 4,
  "vscode": {
   "interpreter": {
    "hash": "55a6bafea806031d8be86ab9ccbdab12d9a0c33929790bb96e6dc5f739ed9ecb"
   }
  }
 },
 "nbformat": 4,
 "nbformat_minor": 2
}
