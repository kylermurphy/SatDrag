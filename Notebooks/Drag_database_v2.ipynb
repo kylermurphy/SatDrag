{
 "cells": [
  {
   "attachments": {},
   "cell_type": "markdown",
   "metadata": {},
   "source": [
    "# Satelite Drag Database V2\n",
    "\n",
    "Create a new satellite drag database for investingating drag. \n",
    "\n",
    "### Differnce from the first\n",
    "- Do not interpolate the data\n",
    "    - Use Pandas merge_asof() to merge the datasets by matching time with a set tolerance\n",
    "- Add higher resolution FISM2 data set\n",
    "    - 5 minute cadence \n",
    "    - Stan Bands\n",
    "- Create two data sets; Grace A and Grace B\n",
    "- Add JB2008 solar indices"
   ]
  },
  {
   "cell_type": "code",
   "execution_count": 1,
   "metadata": {},
   "outputs": [],
   "source": [
    "import os, sys\n",
    "import pandas as pd\n",
    "\n",
    "#print all output in a cell \n",
    "from IPython.core.interactiveshell import InteractiveShell\n",
    "InteractiveShell.ast_node_interactivity = \"all\"\n",
    "\n",
    "#add read_io module to current path ()\n",
    "file_path = 'D:\\\\GitHub\\\\DataIO\\\\'\n",
    "sys.path.append(os.path.dirname(file_path))"
   ]
  },
  {
   "cell_type": "code",
   "execution_count": 2,
   "metadata": {},
   "outputs": [],
   "source": [
    "# import data input/output module\n",
    "import data_io as dio\n",
    "sat = 'CHAMP'\n",
    "int_si = False"
   ]
  },
  {
   "cell_type": "code",
   "execution_count": 3,
   "metadata": {},
   "outputs": [],
   "source": [
    "# read grace data\n",
    "gr_d, gr_m = dio.load_gr_norm(sat=sat,sdate='2002-01-01',nd=13)\n",
    "gr_d = gr_d.drop(columns=['Year', 'DOY', 'Sec'])\n",
    "\n",
    "d_min = gr_d['DateTime'].min()\n",
    "d_max = gr_d['DateTime'].max()"
   ]
  },
  {
   "cell_type": "code",
   "execution_count": 4,
   "metadata": {},
   "outputs": [],
   "source": [
    "# read omni data and truncate data to similar range as grace data\n",
    "om_d, om_m = dio.load_omni(res='5m',sdate='2002-01-01', nd=13)\n",
    "\n",
    "om_d = om_d[['DateTime','B', 'Bx_GSEGSM', 'By_GSE', 'Bz_GSE',\n",
    "       'By_GSM', 'Bz_GSM', 'Vsw', 'Vx_GSE',\n",
    "       'Vy_GSE', 'Vz_GSE', 'Prho', 'Tp', 'dynP', 'Esw','AE', 'AL', 'AU',\n",
    "       'SYM_D index', 'SYM_H index', 'ASY_D index', 'ASY_H index', 'PC index',\n",
    "       'Goes Proton flux (>10 MeV)', 'Goes Proton flux (>30 MeV)', \n",
    "       'Goes Proton flux (>60 MeV)']]\n",
    "\n",
    "om_d = om_d[(om_d['DateTime'] >= d_min-pd.DateOffset(minutes=5)) & (om_d['DateTime'] <= d_max+pd.DateOffset(minutes=5))]"
   ]
  },
  {
   "cell_type": "code",
   "execution_count": 5,
   "metadata": {},
   "outputs": [],
   "source": [
    "# read solar indices\n",
    "si_d, si_m = dio.load_solar_JBindices(sdate=d_min-pd.DateOffset(days=1), edate=d_max+pd.DateOffset(days=1))\n",
    "si_d = si_d.drop(columns=['JulianDay','Ssrc'])"
   ]
  },
  {
   "cell_type": "code",
   "execution_count": 6,
   "metadata": {},
   "outputs": [],
   "source": [
    "# read fsim2 data and truncate to similar range as grace data\n",
    "fi_d, fi_m = dio.load_fism2()\n",
    "fi_d = fi_d[(fi_d['DateTime'] >= d_min-pd.DateOffset(minutes=5)) & (fi_d['DateTime'] <= d_max+pd.DateOffset(minutes=5))]"
   ]
  },
  {
   "attachments": {},
   "cell_type": "markdown",
   "metadata": {},
   "source": [
    "## Combine the DataFrames together\n",
    "\n",
    "Use a time delta of 2.5 minutes, the time cadence of the OMNI and FISM2 data sets. \n",
    "\n",
    "When combining the grace data use a time delta of 50 seconds (the largest differnce in the grace cadence)\n"
   ]
  },
  {
   "cell_type": "code",
   "execution_count": 7,
   "metadata": {},
   "outputs": [],
   "source": [
    "tol = pd.Timedelta('2.5 minute')"
   ]
  },
  {
   "cell_type": "code",
   "execution_count": 8,
   "metadata": {},
   "outputs": [
    {
     "data": {
      "text/plain": [
       "(912385, 26)"
      ]
     },
     "execution_count": 8,
     "metadata": {},
     "output_type": "execute_result"
    },
    {
     "data": {
      "text/plain": [
       "(912385, 50)"
      ]
     },
     "execution_count": 8,
     "metadata": {},
     "output_type": "execute_result"
    }
   ],
   "source": [
    "# create database of fism and omni data\n",
    "\n",
    "fi_d = fi_d.rename(columns={'DateTime':'DateTime_fism2'})\n",
    "fi_d.index = fi_d['DateTime_fism2']\n",
    "\n",
    "om_d.index = om_d['DateTime']\n",
    "\n",
    "database = pd.merge_asof(left=om_d,right=fi_d,right_index=True,left_index=True,direction='nearest',tolerance=tol)\n",
    "database = database.rename(columns={'DateTime':'DateTime_omni'})\n",
    "\n",
    "om_d.shape\n",
    "database.shape"
   ]
  },
  {
   "cell_type": "code",
   "execution_count": 9,
   "metadata": {},
   "outputs": [
    {
     "data": {
      "text/plain": [
       "(912385, 26)"
      ]
     },
     "execution_count": 9,
     "metadata": {},
     "output_type": "execute_result"
    },
    {
     "data": {
      "text/plain": [
       "(912385, 59)"
      ]
     },
     "execution_count": 9,
     "metadata": {},
     "output_type": "execute_result"
    }
   ],
   "source": [
    "# add the solar indices\n",
    "si_d = si_d.rename(columns={'DateTime':'DateTime_si'})\n",
    "si_d.index = si_d['DateTime_si']\n",
    "\n",
    "if int_si:\n",
    "    # don't interpolate but add same Solar indicies to every index in the database\n",
    "    database = pd.merge_asof(left=database,right=si_d,right_index=True,left_index=True,direction='nearest')\n",
    "else:\n",
    "    database = pd.merge_asof(left=database,right=si_d,right_index=True,left_index=True,direction='nearest',tolerance=tol)\n",
    "\n",
    "om_d.shape\n",
    "database.shape"
   ]
  },
  {
   "cell_type": "code",
   "execution_count": 10,
   "metadata": {},
   "outputs": [
    {
     "data": {
      "text/plain": [
       "(912385, 26)"
      ]
     },
     "execution_count": 10,
     "metadata": {},
     "output_type": "execute_result"
    },
    {
     "data": {
      "text/plain": [
       "(912385, 76)"
      ]
     },
     "execution_count": 10,
     "metadata": {},
     "output_type": "execute_result"
    }
   ],
   "source": [
    "# add the grace data\n",
    "\n",
    "gr_d = gr_d.rename(columns={'DateTime':'DateTime_gr'})\n",
    "gr_d.index = gr_d['DateTime_gr']\n",
    "\n",
    "tol = pd.Timedelta('50 second')\n",
    "\n",
    "database = pd.merge_asof(left=database,right=gr_d,right_index=True,left_index=True,direction='nearest',tolerance=tol)\n",
    "\n",
    "om_d.shape\n",
    "database.shape"
   ]
  },
  {
   "cell_type": "code",
   "execution_count": 11,
   "metadata": {},
   "outputs": [
    {
     "data": {
      "text/plain": [
       "Timestamp('2002-01-23 03:00:00')"
      ]
     },
     "execution_count": 11,
     "metadata": {},
     "output_type": "execute_result"
    },
    {
     "data": {
      "text/plain": [
       "Timestamp('2012-11-21 17:00:00')"
      ]
     },
     "execution_count": 11,
     "metadata": {},
     "output_type": "execute_result"
    }
   ],
   "source": [
    "# get storm times\n",
    "\n",
    "# read in storm start and end times\n",
    "storm_txt = 'D:\\\\GitHub\\\\SatDrag\\\\data\\\\storms_drag_epochs_no_overlap.txt'\n",
    "storm_time = pd.read_csv(storm_txt, header=None, skiprows=1, \n",
    "                     delim_whitespace=1, names = ['t_st','t_dst','t_en'], parse_dates=[0, 1, 2],\n",
    "                     infer_datetime_format=True)\n",
    "\n",
    "storm_time['t_st'].min()\n",
    "storm_time['t_st'].max()"
   ]
  },
  {
   "attachments": {},
   "cell_type": "markdown",
   "metadata": {},
   "source": [
    "## Add storm times to the dataframe"
   ]
  },
  {
   "cell_type": "code",
   "execution_count": 12,
   "metadata": {},
   "outputs": [
    {
     "data": {
      "text/plain": [
       "Index(['DateTime_omni', 'B', 'Bx_GSEGSM', 'By_GSE', 'Bz_GSE', 'By_GSM',\n",
       "       'Bz_GSM', 'Vsw', 'Vx_GSE', 'Vy_GSE', 'Vz_GSE', 'Prho', 'Tp', 'dynP',\n",
       "       'Esw', 'AE', 'AL', 'AU', 'SYM_D index', 'SYM_H index', 'ASY_D index',\n",
       "       'ASY_H index', 'PC index', 'Goes Proton flux (>10 MeV)',\n",
       "       'Goes Proton flux (>30 MeV)', 'Goes Proton flux (>60 MeV)',\n",
       "       'DateTime_fism2', '225_00', '600_01', '1300_02', '2500_03', '5100_04',\n",
       "       '11250_05', '18950_06', '25700_07', '30500_08', '43000_09', '59500_10',\n",
       "       '72400_11', '72400_12', '85550_13', '85550_14', '85550_15', '94400_16',\n",
       "       '94400_17', '94400_18', '98100_19', '100700_20', '103850_21',\n",
       "       '113000_22', 'DateTime_si', 'F10', 'F81', 'S10', 'S81c', 'M10', 'M81c',\n",
       "       'Y10', 'Y81c', 'DateTime_gr', 'CenterLat', 'SatLat', 'SatLon',\n",
       "       'SatHeight', 'SatLT', 'SatDipoleLat', 'SatMagLon', 'SatMagLT',\n",
       "       'SatDensity', '400kmDensity', '410kmDensity', 'NRLMSISe00atSat',\n",
       "       'DenUncertainty', 'NumPts', 'NuminBinThrusters', 'AveDragCoef'],\n",
       "      dtype='object')"
      ]
     },
     "execution_count": 12,
     "metadata": {},
     "output_type": "execute_result"
    }
   ],
   "source": [
    "database.columns"
   ]
  },
  {
   "cell_type": "code",
   "execution_count": 13,
   "metadata": {},
   "outputs": [],
   "source": [
    "# loop through the storms and set\n",
    "# flags in the satellite drag database\n",
    "# for the different times\n",
    "\n",
    "database = database.reset_index()\n",
    "database['storm'] = -1\n",
    "database['storm phase'] = -1\n",
    "\n",
    "for index, row in storm_time.iterrows():\n",
    "    stp = (database['DateTime']>=row['t_st']) & (database['DateTime']<row['t_en'])\n",
    "    mpp = (database['DateTime']>=row['t_st']) & (database['DateTime']<row['t_dst'])\n",
    "    rpp = (database['DateTime']>=row['t_dst']) & (database['DateTime']<row['t_en'])\n",
    "\n",
    "    database.loc[stp,'storm'] = 1\n",
    "    database.loc[mpp,'storm phase'] = 1\n",
    "    database.loc[rpp,'storm phase'] = 2"
   ]
  },
  {
   "attachments": {},
   "cell_type": "markdown",
   "metadata": {},
   "source": [
    "## Save data"
   ]
  },
  {
   "cell_type": "code",
   "execution_count": 14,
   "metadata": {},
   "outputs": [],
   "source": [
    "if int_si:\n",
    "    fn = f'D:\\\\data\\\\SatDensities\\\\satdrag_database_grace_{gr_m[\"sat\"]}_SI_int.hdf5'\n",
    "else:\n",
    "    fn = f'D:\\\\data\\\\SatDensities\\\\satdrag_database_grace_{gr_m[\"sat\"]}.hdf5'\n",
    "\n",
    "database.to_hdf(fn,key='database', mode='w', format='fixed', complevel=9)"
   ]
  },
  {
   "cell_type": "code",
   "execution_count": 15,
   "metadata": {},
   "outputs": [
    {
     "data": {
      "text/plain": [
       "'D:\\\\data\\\\SatDensities\\\\satdrag_database_grace_CHAMP.hdf5'"
      ]
     },
     "execution_count": 15,
     "metadata": {},
     "output_type": "execute_result"
    }
   ],
   "source": [
    "fn"
   ]
  },
  {
   "cell_type": "code",
   "execution_count": 16,
   "metadata": {},
   "outputs": [
    {
     "data": {
      "text/html": [
       "<div>\n",
       "<style scoped>\n",
       "    .dataframe tbody tr th:only-of-type {\n",
       "        vertical-align: middle;\n",
       "    }\n",
       "\n",
       "    .dataframe tbody tr th {\n",
       "        vertical-align: top;\n",
       "    }\n",
       "\n",
       "    .dataframe thead th {\n",
       "        text-align: right;\n",
       "    }\n",
       "</style>\n",
       "<table border=\"1\" class=\"dataframe\">\n",
       "  <thead>\n",
       "    <tr style=\"text-align: right;\">\n",
       "      <th></th>\n",
       "      <th>DateTime</th>\n",
       "      <th>B</th>\n",
       "      <th>F10</th>\n",
       "      <th>DateTime_si</th>\n",
       "    </tr>\n",
       "  </thead>\n",
       "  <tbody>\n",
       "    <tr>\n",
       "      <th>142</th>\n",
       "      <td>2002-01-01 11:50:00</td>\n",
       "      <td>7.04</td>\n",
       "      <td>NaN</td>\n",
       "      <td>NaT</td>\n",
       "    </tr>\n",
       "    <tr>\n",
       "      <th>143</th>\n",
       "      <td>2002-01-01 11:55:00</td>\n",
       "      <td>7.03</td>\n",
       "      <td>NaN</td>\n",
       "      <td>NaT</td>\n",
       "    </tr>\n",
       "    <tr>\n",
       "      <th>144</th>\n",
       "      <td>2002-01-01 12:00:00</td>\n",
       "      <td>7.04</td>\n",
       "      <td>232.2</td>\n",
       "      <td>2002-01-01 12:00:00</td>\n",
       "    </tr>\n",
       "    <tr>\n",
       "      <th>145</th>\n",
       "      <td>2002-01-01 12:05:00</td>\n",
       "      <td>7.03</td>\n",
       "      <td>NaN</td>\n",
       "      <td>NaT</td>\n",
       "    </tr>\n",
       "    <tr>\n",
       "      <th>146</th>\n",
       "      <td>2002-01-01 12:10:00</td>\n",
       "      <td>7.03</td>\n",
       "      <td>NaN</td>\n",
       "      <td>NaT</td>\n",
       "    </tr>\n",
       "  </tbody>\n",
       "</table>\n",
       "</div>"
      ],
      "text/plain": [
       "               DateTime     B    F10         DateTime_si\n",
       "142 2002-01-01 11:50:00  7.04    NaN                 NaT\n",
       "143 2002-01-01 11:55:00  7.03    NaN                 NaT\n",
       "144 2002-01-01 12:00:00  7.04  232.2 2002-01-01 12:00:00\n",
       "145 2002-01-01 12:05:00  7.03    NaN                 NaT\n",
       "146 2002-01-01 12:10:00  7.03    NaN                 NaT"
      ]
     },
     "execution_count": 16,
     "metadata": {},
     "output_type": "execute_result"
    },
    {
     "data": {
      "text/html": [
       "<div>\n",
       "<style scoped>\n",
       "    .dataframe tbody tr th:only-of-type {\n",
       "        vertical-align: middle;\n",
       "    }\n",
       "\n",
       "    .dataframe tbody tr th {\n",
       "        vertical-align: top;\n",
       "    }\n",
       "\n",
       "    .dataframe thead th {\n",
       "        text-align: right;\n",
       "    }\n",
       "</style>\n",
       "<table border=\"1\" class=\"dataframe\">\n",
       "  <thead>\n",
       "    <tr style=\"text-align: right;\">\n",
       "      <th></th>\n",
       "      <th>DateTime</th>\n",
       "      <th>B</th>\n",
       "      <th>F10</th>\n",
       "      <th>DateTime_si</th>\n",
       "    </tr>\n",
       "  </thead>\n",
       "  <tbody>\n",
       "    <tr>\n",
       "      <th>286</th>\n",
       "      <td>2002-01-01 23:50:00</td>\n",
       "      <td>7.94</td>\n",
       "      <td>NaN</td>\n",
       "      <td>NaT</td>\n",
       "    </tr>\n",
       "    <tr>\n",
       "      <th>287</th>\n",
       "      <td>2002-01-01 23:55:00</td>\n",
       "      <td>7.94</td>\n",
       "      <td>NaN</td>\n",
       "      <td>NaT</td>\n",
       "    </tr>\n",
       "    <tr>\n",
       "      <th>288</th>\n",
       "      <td>2002-01-02 00:00:00</td>\n",
       "      <td>8.01</td>\n",
       "      <td>NaN</td>\n",
       "      <td>NaT</td>\n",
       "    </tr>\n",
       "    <tr>\n",
       "      <th>289</th>\n",
       "      <td>2002-01-02 00:05:00</td>\n",
       "      <td>8.02</td>\n",
       "      <td>NaN</td>\n",
       "      <td>NaT</td>\n",
       "    </tr>\n",
       "    <tr>\n",
       "      <th>290</th>\n",
       "      <td>2002-01-02 00:10:00</td>\n",
       "      <td>8.04</td>\n",
       "      <td>NaN</td>\n",
       "      <td>NaT</td>\n",
       "    </tr>\n",
       "  </tbody>\n",
       "</table>\n",
       "</div>"
      ],
      "text/plain": [
       "               DateTime     B  F10 DateTime_si\n",
       "286 2002-01-01 23:50:00  7.94  NaN         NaT\n",
       "287 2002-01-01 23:55:00  7.94  NaN         NaT\n",
       "288 2002-01-02 00:00:00  8.01  NaN         NaT\n",
       "289 2002-01-02 00:05:00  8.02  NaN         NaT\n",
       "290 2002-01-02 00:10:00  8.04  NaN         NaT"
      ]
     },
     "execution_count": 16,
     "metadata": {},
     "output_type": "execute_result"
    },
    {
     "data": {
      "text/html": [
       "<div>\n",
       "<style scoped>\n",
       "    .dataframe tbody tr th:only-of-type {\n",
       "        vertical-align: middle;\n",
       "    }\n",
       "\n",
       "    .dataframe tbody tr th {\n",
       "        vertical-align: top;\n",
       "    }\n",
       "\n",
       "    .dataframe thead th {\n",
       "        text-align: right;\n",
       "    }\n",
       "</style>\n",
       "<table border=\"1\" class=\"dataframe\">\n",
       "  <thead>\n",
       "    <tr style=\"text-align: right;\">\n",
       "      <th></th>\n",
       "      <th>DateTime</th>\n",
       "      <th>B</th>\n",
       "      <th>F10</th>\n",
       "      <th>DateTime_si</th>\n",
       "    </tr>\n",
       "  </thead>\n",
       "  <tbody>\n",
       "    <tr>\n",
       "      <th>430</th>\n",
       "      <td>2002-01-02 11:50:00</td>\n",
       "      <td>4.83</td>\n",
       "      <td>NaN</td>\n",
       "      <td>NaT</td>\n",
       "    </tr>\n",
       "    <tr>\n",
       "      <th>431</th>\n",
       "      <td>2002-01-02 11:55:00</td>\n",
       "      <td>5.68</td>\n",
       "      <td>NaN</td>\n",
       "      <td>NaT</td>\n",
       "    </tr>\n",
       "    <tr>\n",
       "      <th>432</th>\n",
       "      <td>2002-01-02 12:00:00</td>\n",
       "      <td>6.05</td>\n",
       "      <td>231.1</td>\n",
       "      <td>2002-01-02 12:00:00</td>\n",
       "    </tr>\n",
       "    <tr>\n",
       "      <th>433</th>\n",
       "      <td>2002-01-02 12:05:00</td>\n",
       "      <td>4.92</td>\n",
       "      <td>NaN</td>\n",
       "      <td>NaT</td>\n",
       "    </tr>\n",
       "    <tr>\n",
       "      <th>434</th>\n",
       "      <td>2002-01-02 12:10:00</td>\n",
       "      <td>6.04</td>\n",
       "      <td>NaN</td>\n",
       "      <td>NaT</td>\n",
       "    </tr>\n",
       "  </tbody>\n",
       "</table>\n",
       "</div>"
      ],
      "text/plain": [
       "               DateTime     B    F10         DateTime_si\n",
       "430 2002-01-02 11:50:00  4.83    NaN                 NaT\n",
       "431 2002-01-02 11:55:00  5.68    NaN                 NaT\n",
       "432 2002-01-02 12:00:00  6.05  231.1 2002-01-02 12:00:00\n",
       "433 2002-01-02 12:05:00  4.92    NaN                 NaT\n",
       "434 2002-01-02 12:10:00  6.04    NaN                 NaT"
      ]
     },
     "execution_count": 16,
     "metadata": {},
     "output_type": "execute_result"
    }
   ],
   "source": [
    "database.loc[142:146,['DateTime','B','F10','DateTime_si']]\n",
    "database.loc[286:290,['DateTime','B','F10','DateTime_si']]\n",
    "database.loc[430:434,['DateTime','B','F10','DateTime_si']]"
   ]
  }
 ],
 "metadata": {
  "kernelspec": {
   "display_name": "satdrag",
   "language": "python",
   "name": "python3"
  },
  "language_info": {
   "codemirror_mode": {
    "name": "ipython",
    "version": 3
   },
   "file_extension": ".py",
   "mimetype": "text/x-python",
   "name": "python",
   "nbconvert_exporter": "python",
   "pygments_lexer": "ipython3",
   "version": "3.10.15"
  },
  "orig_nbformat": 4
 },
 "nbformat": 4,
 "nbformat_minor": 2
}
