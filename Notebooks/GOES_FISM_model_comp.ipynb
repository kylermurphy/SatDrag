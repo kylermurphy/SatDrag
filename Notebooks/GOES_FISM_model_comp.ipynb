{
 "cells": [
  {
   "cell_type": "markdown",
   "id": "be941eb4",
   "metadata": {},
   "source": [
    "# Compare the GOES and FISM models\n",
    "\n",
    "Compre the model developed using the GOES irr data and the model developed using the FISM2 data. "
   ]
  },
  {
   "cell_type": "code",
   "execution_count": 18,
   "id": "d44fdb59",
   "metadata": {},
   "outputs": [],
   "source": [
    "from IPython.core.interactiveshell import InteractiveShell\n",
    "InteractiveShell.ast_node_interactivity = \"all\""
   ]
  },
  {
   "cell_type": "code",
   "execution_count": 56,
   "id": "fdbf99f8",
   "metadata": {},
   "outputs": [],
   "source": [
    "import os, sys\n",
    "import pandas as pd\n",
    "import numpy as np\n",
    "import matplotlib.pyplot as plt\n",
    "from netCDF4 import Dataset\n",
    "\n",
    "\n",
    "# path to the ml_fw module for investigating\n",
    "# residuals\n",
    "path_mod = 'd:\\\\GitHub\\\\ml_fw\\\\ml_fw'"
   ]
  },
  {
   "cell_type": "code",
   "execution_count": 20,
   "id": "1d5b2e78",
   "metadata": {},
   "outputs": [
    {
     "data": {
      "text/plain": [
       "'d:\\\\GitHub\\\\ml_fw\\\\ml_fw'"
      ]
     },
     "execution_count": 20,
     "metadata": {},
     "output_type": "execute_result"
    }
   ],
   "source": [
    "path_mod\n",
    "\n",
    "# add the ml_fw module to Python Path and import what we need\n",
    "sys.path.append(os.path.dirname(path_mod))\n",
    "import ml_fw.inspect as inspect"
   ]
  },
  {
   "cell_type": "code",
   "execution_count": 2,
   "id": "6f546b53",
   "metadata": {},
   "outputs": [],
   "source": [
    "gs_f = \"D:\\data\\SatDensities\\goes_model.pkl\"\n",
    "fi_f = \"D:\\data\\SatDensities\\FI_GEO_noAE_RFdat_AIMFAHR.pkl\""
   ]
  },
  {
   "cell_type": "code",
   "execution_count": 107,
   "id": "fd9a2935",
   "metadata": {},
   "outputs": [],
   "source": [
    "# get the champ out of sample data from \n",
    "# both models\n",
    "gs_dat = pd.read_pickle(gs_f)[4]\n",
    "fi_dat = pd.read_pickle(fi_f)[4]"
   ]
  },
  {
   "cell_type": "code",
   "execution_count": 109,
   "id": "1277f5a2",
   "metadata": {},
   "outputs": [],
   "source": [
    "# calculate the residuals\n",
    "gs_dat['resid'] = gs_dat['400kmDensity']-gs_dat['400kmDensity_pred']\n",
    "fi_dat['resid'] = fi_dat['400kmDensity']-fi_dat['400kmDensity_pred']"
   ]
  },
  {
   "cell_type": "code",
   "execution_count": 89,
   "id": "4605c749",
   "metadata": {},
   "outputs": [
    {
     "data": {
      "text/plain": [
       "(185149, 17)"
      ]
     },
     "execution_count": 89,
     "metadata": {},
     "output_type": "execute_result"
    },
    {
     "data": {
      "text/plain": [
       "(790123, 14)"
      ]
     },
     "execution_count": 89,
     "metadata": {},
     "output_type": "execute_result"
    }
   ],
   "source": [
    "gs_dat.shape\n",
    "fi_dat.shape"
   ]
  },
  {
   "cell_type": "code",
   "execution_count": 94,
   "id": "2e6dceac",
   "metadata": {},
   "outputs": [
    {
     "data": {
      "text/html": [
       "<div>\n",
       "<style scoped>\n",
       "    .dataframe tbody tr th:only-of-type {\n",
       "        vertical-align: middle;\n",
       "    }\n",
       "\n",
       "    .dataframe tbody tr th {\n",
       "        vertical-align: top;\n",
       "    }\n",
       "\n",
       "    .dataframe thead th {\n",
       "        text-align: right;\n",
       "    }\n",
       "</style>\n",
       "<table border=\"1\" class=\"dataframe\">\n",
       "  <thead>\n",
       "    <tr style=\"text-align: right;\">\n",
       "      <th></th>\n",
       "      <th>irr_1216_gx</th>\n",
       "      <th>SYM_H index</th>\n",
       "      <th>SatLat</th>\n",
       "      <th>subsol_lat</th>\n",
       "      <th>solar_dec</th>\n",
       "      <th>cos_SatLon</th>\n",
       "      <th>sin_SatLon</th>\n",
       "      <th>cos_subsol_lon</th>\n",
       "      <th>sin_subsol_lon</th>\n",
       "      <th>cos_solar_ra</th>\n",
       "      <th>sin_solar_ra</th>\n",
       "      <th>400kmDensity</th>\n",
       "      <th>DateTime</th>\n",
       "      <th>storm</th>\n",
       "      <th>storm phase</th>\n",
       "      <th>400kmDensity_pred</th>\n",
       "      <th>resid</th>\n",
       "    </tr>\n",
       "  </thead>\n",
       "  <tbody>\n",
       "    <tr>\n",
       "      <th>count</th>\n",
       "      <td>185149.000000</td>\n",
       "      <td>185149.000000</td>\n",
       "      <td>185149.000000</td>\n",
       "      <td>185149.000000</td>\n",
       "      <td>185149.000000</td>\n",
       "      <td>185149.000000</td>\n",
       "      <td>185149.000000</td>\n",
       "      <td>185149.000000</td>\n",
       "      <td>185149.000000</td>\n",
       "      <td>185149.000000</td>\n",
       "      <td>185149.000000</td>\n",
       "      <td>185149.000000</td>\n",
       "      <td>185149</td>\n",
       "      <td>185149.000000</td>\n",
       "      <td>185149.000000</td>\n",
       "      <td>185149.000000</td>\n",
       "      <td>185149.000000</td>\n",
       "    </tr>\n",
       "    <tr>\n",
       "      <th>mean</th>\n",
       "      <td>0.006247</td>\n",
       "      <td>-7.362816</td>\n",
       "      <td>-0.074648</td>\n",
       "      <td>0.021594</td>\n",
       "      <td>0.019482</td>\n",
       "      <td>0.000284</td>\n",
       "      <td>-0.000133</td>\n",
       "      <td>-0.005157</td>\n",
       "      <td>-0.016512</td>\n",
       "      <td>0.004920</td>\n",
       "      <td>-0.000129</td>\n",
       "      <td>0.720399</td>\n",
       "      <td>2009-03-22 07:02:46.912054528</td>\n",
       "      <td>-0.132677</td>\n",
       "      <td>0.138969</td>\n",
       "      <td>0.593998</td>\n",
       "      <td>0.126401</td>\n",
       "    </tr>\n",
       "    <tr>\n",
       "      <th>min</th>\n",
       "      <td>0.000212</td>\n",
       "      <td>-99.000000</td>\n",
       "      <td>-87.255360</td>\n",
       "      <td>-23.437689</td>\n",
       "      <td>-23.438377</td>\n",
       "      <td>-1.000000</td>\n",
       "      <td>-1.000000</td>\n",
       "      <td>-1.000000</td>\n",
       "      <td>-1.000000</td>\n",
       "      <td>-1.000000</td>\n",
       "      <td>-1.000000</td>\n",
       "      <td>0.000030</td>\n",
       "      <td>2006-07-04 08:25:00</td>\n",
       "      <td>-1.000000</td>\n",
       "      <td>-1.000000</td>\n",
       "      <td>0.090704</td>\n",
       "      <td>-1.340129</td>\n",
       "    </tr>\n",
       "    <tr>\n",
       "      <th>25%</th>\n",
       "      <td>0.006030</td>\n",
       "      <td>-13.000000</td>\n",
       "      <td>-45.071180</td>\n",
       "      <td>-14.924341</td>\n",
       "      <td>-14.939112</td>\n",
       "      <td>-0.708862</td>\n",
       "      <td>-0.704863</td>\n",
       "      <td>-0.719240</td>\n",
       "      <td>-0.715429</td>\n",
       "      <td>-0.764874</td>\n",
       "      <td>-0.615432</td>\n",
       "      <td>0.418331</td>\n",
       "      <td>2008-09-15 22:55:00</td>\n",
       "      <td>-1.000000</td>\n",
       "      <td>-1.000000</td>\n",
       "      <td>0.387417</td>\n",
       "      <td>-0.024587</td>\n",
       "    </tr>\n",
       "    <tr>\n",
       "      <th>50%</th>\n",
       "      <td>0.006228</td>\n",
       "      <td>-6.000000</td>\n",
       "      <td>-0.055780</td>\n",
       "      <td>0.461004</td>\n",
       "      <td>0.457925</td>\n",
       "      <td>0.002229</td>\n",
       "      <td>0.000555</td>\n",
       "      <td>-0.025357</td>\n",
       "      <td>-0.025375</td>\n",
       "      <td>-0.068202</td>\n",
       "      <td>0.018440</td>\n",
       "      <td>0.637600</td>\n",
       "      <td>2009-03-20 01:35:00</td>\n",
       "      <td>-1.000000</td>\n",
       "      <td>-1.000000</td>\n",
       "      <td>0.536253</td>\n",
       "      <td>0.087127</td>\n",
       "    </tr>\n",
       "    <tr>\n",
       "      <th>75%</th>\n",
       "      <td>0.006449</td>\n",
       "      <td>-1.000000</td>\n",
       "      <td>45.035500</td>\n",
       "      <td>14.613719</td>\n",
       "      <td>14.632664</td>\n",
       "      <td>0.709557</td>\n",
       "      <td>0.705098</td>\n",
       "      <td>0.717692</td>\n",
       "      <td>0.676044</td>\n",
       "      <td>0.846167</td>\n",
       "      <td>0.602247</td>\n",
       "      <td>0.910121</td>\n",
       "      <td>2010-03-25 18:45:00</td>\n",
       "      <td>1.000000</td>\n",
       "      <td>2.000000</td>\n",
       "      <td>0.736238</td>\n",
       "      <td>0.252036</td>\n",
       "    </tr>\n",
       "    <tr>\n",
       "      <th>max</th>\n",
       "      <td>0.007690</td>\n",
       "      <td>57.000000</td>\n",
       "      <td>87.249160</td>\n",
       "      <td>23.437470</td>\n",
       "      <td>23.437791</td>\n",
       "      <td>1.000000</td>\n",
       "      <td>1.000000</td>\n",
       "      <td>1.000000</td>\n",
       "      <td>1.000000</td>\n",
       "      <td>1.000000</td>\n",
       "      <td>1.000000</td>\n",
       "      <td>5.182578</td>\n",
       "      <td>2010-09-04 00:00:00</td>\n",
       "      <td>1.000000</td>\n",
       "      <td>2.000000</td>\n",
       "      <td>2.476222</td>\n",
       "      <td>3.010928</td>\n",
       "    </tr>\n",
       "    <tr>\n",
       "      <th>std</th>\n",
       "      <td>0.000281</td>\n",
       "      <td>11.268889</td>\n",
       "      <td>51.789133</td>\n",
       "      <td>15.408953</td>\n",
       "      <td>15.414609</td>\n",
       "      <td>0.708241</td>\n",
       "      <td>0.705974</td>\n",
       "      <td>0.713385</td>\n",
       "      <td>0.700563</td>\n",
       "      <td>0.762565</td>\n",
       "      <td>0.646897</td>\n",
       "      <td>0.409180</td>\n",
       "      <td>NaN</td>\n",
       "      <td>0.991162</td>\n",
       "      <td>1.340013</td>\n",
       "      <td>0.280385</td>\n",
       "      <td>0.246565</td>\n",
       "    </tr>\n",
       "  </tbody>\n",
       "</table>\n",
       "</div>"
      ],
      "text/plain": [
       "         irr_1216_gx    SYM_H index         SatLat     subsol_lat  \\\n",
       "count  185149.000000  185149.000000  185149.000000  185149.000000   \n",
       "mean        0.006247      -7.362816      -0.074648       0.021594   \n",
       "min         0.000212     -99.000000     -87.255360     -23.437689   \n",
       "25%         0.006030     -13.000000     -45.071180     -14.924341   \n",
       "50%         0.006228      -6.000000      -0.055780       0.461004   \n",
       "75%         0.006449      -1.000000      45.035500      14.613719   \n",
       "max         0.007690      57.000000      87.249160      23.437470   \n",
       "std         0.000281      11.268889      51.789133      15.408953   \n",
       "\n",
       "           solar_dec     cos_SatLon     sin_SatLon  cos_subsol_lon  \\\n",
       "count  185149.000000  185149.000000  185149.000000   185149.000000   \n",
       "mean        0.019482       0.000284      -0.000133       -0.005157   \n",
       "min       -23.438377      -1.000000      -1.000000       -1.000000   \n",
       "25%       -14.939112      -0.708862      -0.704863       -0.719240   \n",
       "50%         0.457925       0.002229       0.000555       -0.025357   \n",
       "75%        14.632664       0.709557       0.705098        0.717692   \n",
       "max        23.437791       1.000000       1.000000        1.000000   \n",
       "std        15.414609       0.708241       0.705974        0.713385   \n",
       "\n",
       "       sin_subsol_lon   cos_solar_ra   sin_solar_ra   400kmDensity  \\\n",
       "count   185149.000000  185149.000000  185149.000000  185149.000000   \n",
       "mean        -0.016512       0.004920      -0.000129       0.720399   \n",
       "min         -1.000000      -1.000000      -1.000000       0.000030   \n",
       "25%         -0.715429      -0.764874      -0.615432       0.418331   \n",
       "50%         -0.025375      -0.068202       0.018440       0.637600   \n",
       "75%          0.676044       0.846167       0.602247       0.910121   \n",
       "max          1.000000       1.000000       1.000000       5.182578   \n",
       "std          0.700563       0.762565       0.646897       0.409180   \n",
       "\n",
       "                            DateTime          storm    storm phase  \\\n",
       "count                         185149  185149.000000  185149.000000   \n",
       "mean   2009-03-22 07:02:46.912054528      -0.132677       0.138969   \n",
       "min              2006-07-04 08:25:00      -1.000000      -1.000000   \n",
       "25%              2008-09-15 22:55:00      -1.000000      -1.000000   \n",
       "50%              2009-03-20 01:35:00      -1.000000      -1.000000   \n",
       "75%              2010-03-25 18:45:00       1.000000       2.000000   \n",
       "max              2010-09-04 00:00:00       1.000000       2.000000   \n",
       "std                              NaN       0.991162       1.340013   \n",
       "\n",
       "       400kmDensity_pred          resid  \n",
       "count      185149.000000  185149.000000  \n",
       "mean            0.593998       0.126401  \n",
       "min             0.090704      -1.340129  \n",
       "25%             0.387417      -0.024587  \n",
       "50%             0.536253       0.087127  \n",
       "75%             0.736238       0.252036  \n",
       "max             2.476222       3.010928  \n",
       "std             0.280385       0.246565  "
      ]
     },
     "execution_count": 94,
     "metadata": {},
     "output_type": "execute_result"
    }
   ],
   "source": [
    "gs_dat.describe()"
   ]
  },
  {
   "cell_type": "code",
   "execution_count": 90,
   "id": "f3e43588",
   "metadata": {},
   "outputs": [],
   "source": [
    "# define the x_cols of dat that we want to use for binning\n",
    "# and their ranges and number of bins\n",
    "x_dat = 'SYM_H index'\n",
    "x_bin = 21\n",
    "x_range = [-200,10]\n",
    "# the y_col to derive the stats\n",
    "y_dat = ['resid']\n",
    "\n",
    "whisker = 0 # don't want whiskers\n",
    "showmean = True # plot the means"
   ]
  },
  {
   "cell_type": "code",
   "execution_count": 91,
   "id": "e58e65db",
   "metadata": {},
   "outputs": [],
   "source": [
    "gs_box = inspect.boxplot_vx(gs_dat[x_dat],gs_dat[y_dat], whisker=whisker,\n",
    "                           bins=x_bin,xrange=x_range)\n",
    "fi_box = inspect.boxplot_vx(fi_dat[x_dat],fi_dat[y_dat], whisker=whisker,\n",
    "                           bins=x_bin,xrange=x_range)"
   ]
  },
  {
   "cell_type": "code",
   "execution_count": 92,
   "id": "2bb6fb82",
   "metadata": {},
   "outputs": [],
   "source": [
    "ae_box = gs_box['SYM_H index'] # the AE box/whisker data\n",
    "y_val = ae_box['box_stats'] # a list of dictionaries for each box/whisker instance\n",
    "x_val = ae_box['x_centre'] # the center of each x bin\n",
    "x_width = ae_box['x_width'] # the width of each x bin\n",
    "x_tk = np.append(x_val,x_val.max()+x_width)-x_width/2."
   ]
  },
  {
   "cell_type": "code",
   "execution_count": null,
   "id": "60697ae4",
   "metadata": {},
   "outputs": [
    {
     "data": {
      "image/png": "[encoded data removed]",
      "text/plain": [
       "<Figure size 600x400 with 1 Axes>"
      ]
     },
     "metadata": {},
     "output_type": "display_data"
    }
   ],
   "source": [
    "fig, ax = plt.subplots(1,1, figsize=(6,4))\n",
    "fig.set_constrained_layout(True)\n",
    "\n",
    "\n",
    "cc = [1,0,0] # red box plot\n",
    "bx_a = 0.25 # transparency level (alpha) for box\n",
    "ln_a = 1.0 # transparency level for lines\n",
    "ln_w = 2.0 # line width\n",
    "\n",
    "ae_box = gs_box['SYM_H index'] # the AE box/whisker data\n",
    "y_val = ae_box['box_stats'] # a list of dictionaries for each box/whisker instance\n",
    "x_val = ae_box['x_centre'] # the center of each x bin\n",
    "x_width = ae_box['x_width'] # the width of each x bin\n",
    "x_tk = np.append(x_val,x_val.max()+x_width)-x_width/2.\n",
    "\n",
    "b1 = ax.bxp(y_val, positions=x_val, widths=x_width, \n",
    "                  patch_artist=True, showmeans=showmean, \n",
    "                  shownotches=False, showcaps=False, \n",
    "                  boxprops={'ec':cc+[ln_a], 'fc':cc+[bx_a]}, # artist properties for boxes\n",
    "                  medianprops={'c':cc, 'lw':ln_w}, # artist properties for medians\n",
    "                  meanprops={'mec':cc, 'mfc':cc}) # artist propoerties for means\n",
    "\n",
    "cc = [0,0,1]\n",
    "\n",
    "ae_box = fi_box['SYM_H index'] # the AE box/whisker data\n",
    "y_val = ae_box['box_stats'] # a list of dictionaries for each box/whisker instance\n",
    "x_val = ae_box['x_centre'] # the center of each x bin\n",
    "x_width = ae_box['x_width'] # the width of each x bin\n",
    "x_tk = np.append(x_val,x_val.max()+x_width)-x_width/2.\n",
    "\n",
    "b2 = ax.bxp(y_val, positions=x_val, widths=x_width, \n",
    "                  patch_artist=True, showmeans=showmean, \n",
    "                  shownotches=False, showcaps=False, \n",
    "                  boxprops={'ec':cc+[ln_a], 'fc':cc+[bx_a]}, # artist properties for boxes\n",
    "                  medianprops={'c':cc, 'lw':ln_w}, # artist properties for medians\n",
    "                  meanprops={'mec':cc, 'mfc':cc}) # artist propoerties for means\n",
    "\n",
    "\n",
    "\n",
    "# lets fix the x-axis a bit and label everything\n",
    "_ = ax.set_xticks(x_val,x_val.astype(int).astype(str),rotation=45)\n",
    "_ = ax.set_ylabel('Residuals')\n",
    "_ = ax.set_xlabel(x_dat)"
   ]
  },
  {
   "cell_type": "code",
   "execution_count": 100,
   "id": "13bcb299",
   "metadata": {},
   "outputs": [
    {
     "data": {
      "text/plain": [
       "Index(['irr_1216_gx', 'SYM_H index', 'SatLat', 'subsol_lat', 'solar_dec',\n",
       "       'cos_SatLon', 'sin_SatLon', 'cos_subsol_lon', 'sin_subsol_lon',\n",
       "       'cos_solar_ra', 'sin_solar_ra', '400kmDensity', 'DateTime', 'storm',\n",
       "       'storm phase', '400kmDensity_pred', 'resid'],\n",
       "      dtype='object')"
      ]
     },
     "execution_count": 100,
     "metadata": {},
     "output_type": "execute_result"
    }
   ],
   "source": [
    "gs_dat.columns"
   ]
  },
  {
   "cell_type": "code",
   "execution_count": 113,
   "id": "28d57bb3",
   "metadata": {},
   "outputs": [
    {
     "data": {
      "text/plain": [
       "<matplotlib.legend.Legend at 0x1c942247fa0>"
      ]
     },
     "execution_count": 113,
     "metadata": {},
     "output_type": "execute_result"
    },
    {
     "data": {
      "image/png": "[encoded data removed]",
      "text/plain": [
       "<Figure size 600x400 with 1 Axes>"
      ]
     },
     "metadata": {},
     "output_type": "display_data"
    }
   ],
   "source": [
    "fig2, ax2 = plt.subplots(1,1, figsize=(6,4))\n",
    "hmin = -1.5\n",
    "hmax = 3\n",
    "\n",
    "gs_st = gs_dat['storm'] == 1\n",
    "fi_st = fi_dat['storm'] == 1\n",
    "\n",
    "hbins_gs = np.histogram_bin_edges(gs_dat['resid'],bins='fd',range=(hmin,hmax))\n",
    "hbins_fi = np.histogram_bin_edges(fi_dat['resid'],bins='fd',range=(hmin,hmax))\n",
    "\n",
    "# Resid hists\n",
    "_ = ax2.hist(gs_dat['resid'],bins=hbins_gs, alpha = 1, label='GOES - all', density=True, color='steelblue', histtype='step', cumulative=False)\n",
    "_ = ax2.hist(fi_dat['resid'],bins=hbins_fi, alpha = 1, label='FISM - all', density=True, color= 'red', histtype='step', cumulative=False)\n",
    "_ = ax2.hist(gs_dat.loc[gs_st,'resid'],bins=hbins_gs, alpha = 1, label='GOES - storm', density=True, color='darkorchid', histtype='step', cumulative=False)\n",
    "_ = ax2.hist(fi_dat.loc[fi_st,'resid'],bins=hbins_fi, alpha = 1, label='FISM- storm', density=True, color= 'orange', histtype='step', cumulative=False)\n",
    "\n",
    "ax2.legend(bbox_to_anchor=(1., 1),loc='upper right',fontsize=8)\n",
    "ax2.get_legend().set_title(\"Model\")\n",
    "\n",
    "plt.tight_layout()\n"
   ]
  }
 ],
 "metadata": {
  "kernelspec": {
   "display_name": "satdrag",
   "language": "python",
   "name": "python3"
  },
  "language_info": {
   "codemirror_mode": {
    "name": "ipython",
    "version": 3
   },
   "file_extension": ".py",
   "mimetype": "text/x-python",
   "name": "python",
   "nbconvert_exporter": "python",
   "pygments_lexer": "ipython3",
   "version": "3.10.16"
  }
 },
 "nbformat": 4,
 "nbformat_minor": 5
}
