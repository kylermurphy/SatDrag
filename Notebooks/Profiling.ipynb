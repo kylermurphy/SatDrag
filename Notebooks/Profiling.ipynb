{
 "cells": [
  {
   "cell_type": "code",
   "execution_count": 1,
   "id": "2719537c",
   "metadata": {},
   "outputs": [],
   "source": [
    "import pandas as pd\n",
    "from ydata_profiling import ProfileReport\n",
    "from ydata_profiling.utils.cache import cache_file\n",
    "\n",
    "import phik\n",
    "from phik.report import plot_correlation_matrix\n",
    "from phik import report\n",
    "\n",
    "import matplotlib.pyplot as plt\n",
    "\n",
    "%matplotlib inline\n",
    "\n",
    "#print all output in a cell \n",
    "from IPython.core.interactiveshell import InteractiveShell\n",
    "InteractiveShell.ast_node_interactivity = \"all\"\n",
    "\n"
   ]
  },
  {
   "cell_type": "code",
   "execution_count": 2,
   "id": "42c2d3b6",
   "metadata": {},
   "outputs": [],
   "source": [
    "# Read in the satellite drag database\n",
    "fn = 'D:\\\\data\\\\VL_sdrag\\\\satdrag_database_zlib.hdf5'\n",
    "columns = ['400kmDensity','SYM/H_INDEX_nT', '1-M_AE_nT', 'DAILY_SUNSPOT_NO_', 'DAILY_F10.7_', \n",
    "       'SOLAR_LYMAN-ALPHA_W/m^2', 'mg_index (core to wing ratio (unitless))',\n",
    "       'irradiance (W/m^2/nm)', 'storm', 'storm phase']\n",
    "df = pd.read_hdf(fn,columns=columns)\n",
    "\n",
    "df['d_diff'] = df['400kmDensity'].diff()\n",
    "df = df.dropna()\n"
   ]
  },
  {
   "cell_type": "code",
   "execution_count": 3,
   "id": "52d73199",
   "metadata": {},
   "outputs": [
    {
     "data": {
      "text/plain": [
       "Index(['400kmDensity', 'SYM/H_INDEX_nT', '1-M_AE_nT', 'DAILY_SUNSPOT_NO_',\n",
       "       'DAILY_F10.7_', 'SOLAR_LYMAN-ALPHA_W/m^2',\n",
       "       'mg_index (core to wing ratio (unitless))', 'irradiance (W/m^2/nm)',\n",
       "       'storm', 'storm phase', 'd_diff'],\n",
       "      dtype='object')"
      ]
     },
     "execution_count": 3,
     "metadata": {},
     "output_type": "execute_result"
    }
   ],
   "source": [
    "df.columns"
   ]
  },
  {
   "cell_type": "code",
   "execution_count": 4,
   "id": "81a06f22",
   "metadata": {},
   "outputs": [
    {
     "data": {
      "text/html": [
       "<div>\n",
       "<style scoped>\n",
       "    .dataframe tbody tr th:only-of-type {\n",
       "        vertical-align: middle;\n",
       "    }\n",
       "\n",
       "    .dataframe tbody tr th {\n",
       "        vertical-align: top;\n",
       "    }\n",
       "\n",
       "    .dataframe thead th {\n",
       "        text-align: right;\n",
       "    }\n",
       "</style>\n",
       "<table border=\"1\" class=\"dataframe\">\n",
       "  <thead>\n",
       "    <tr style=\"text-align: right;\">\n",
       "      <th></th>\n",
       "      <th>400kmDensity</th>\n",
       "      <th>SYM/H_INDEX_nT</th>\n",
       "      <th>1-M_AE_nT</th>\n",
       "      <th>DAILY_SUNSPOT_NO_</th>\n",
       "      <th>DAILY_F10.7_</th>\n",
       "      <th>SOLAR_LYMAN-ALPHA_W/m^2</th>\n",
       "      <th>mg_index (core to wing ratio (unitless))</th>\n",
       "      <th>irradiance (W/m^2/nm)</th>\n",
       "      <th>storm</th>\n",
       "      <th>storm phase</th>\n",
       "      <th>d_diff</th>\n",
       "    </tr>\n",
       "  </thead>\n",
       "  <tbody>\n",
       "    <tr>\n",
       "      <th>1</th>\n",
       "      <td>1.276178e-12</td>\n",
       "      <td>-2.0</td>\n",
       "      <td>92.0</td>\n",
       "      <td>70.0</td>\n",
       "      <td>94.5</td>\n",
       "      <td>0.00697</td>\n",
       "      <td>0.26771</td>\n",
       "      <td>0.005673</td>\n",
       "      <td>1</td>\n",
       "      <td>1</td>\n",
       "      <td>-2.124240e-13</td>\n",
       "    </tr>\n",
       "    <tr>\n",
       "      <th>2</th>\n",
       "      <td>1.230694e-12</td>\n",
       "      <td>-2.0</td>\n",
       "      <td>130.0</td>\n",
       "      <td>70.0</td>\n",
       "      <td>94.5</td>\n",
       "      <td>0.00697</td>\n",
       "      <td>0.26771</td>\n",
       "      <td>0.005673</td>\n",
       "      <td>1</td>\n",
       "      <td>1</td>\n",
       "      <td>-4.548400e-14</td>\n",
       "    </tr>\n",
       "    <tr>\n",
       "      <th>3</th>\n",
       "      <td>1.220807e-12</td>\n",
       "      <td>-3.0</td>\n",
       "      <td>85.0</td>\n",
       "      <td>70.0</td>\n",
       "      <td>94.5</td>\n",
       "      <td>0.00697</td>\n",
       "      <td>0.26771</td>\n",
       "      <td>0.005673</td>\n",
       "      <td>1</td>\n",
       "      <td>1</td>\n",
       "      <td>-9.887000e-15</td>\n",
       "    </tr>\n",
       "    <tr>\n",
       "      <th>4</th>\n",
       "      <td>1.304111e-12</td>\n",
       "      <td>-3.0</td>\n",
       "      <td>75.0</td>\n",
       "      <td>70.0</td>\n",
       "      <td>94.5</td>\n",
       "      <td>0.00697</td>\n",
       "      <td>0.26771</td>\n",
       "      <td>0.005673</td>\n",
       "      <td>1</td>\n",
       "      <td>1</td>\n",
       "      <td>8.330400e-14</td>\n",
       "    </tr>\n",
       "    <tr>\n",
       "      <th>5</th>\n",
       "      <td>1.465795e-12</td>\n",
       "      <td>-3.0</td>\n",
       "      <td>98.0</td>\n",
       "      <td>70.0</td>\n",
       "      <td>94.5</td>\n",
       "      <td>0.00697</td>\n",
       "      <td>0.26771</td>\n",
       "      <td>0.005673</td>\n",
       "      <td>1</td>\n",
       "      <td>1</td>\n",
       "      <td>1.616840e-13</td>\n",
       "    </tr>\n",
       "  </tbody>\n",
       "</table>\n",
       "</div>"
      ],
      "text/plain": [
       "   400kmDensity  SYM/H_INDEX_nT  1-M_AE_nT  DAILY_SUNSPOT_NO_  DAILY_F10.7_  \\\n",
       "1  1.276178e-12            -2.0       92.0               70.0          94.5   \n",
       "2  1.230694e-12            -2.0      130.0               70.0          94.5   \n",
       "3  1.220807e-12            -3.0       85.0               70.0          94.5   \n",
       "4  1.304111e-12            -3.0       75.0               70.0          94.5   \n",
       "5  1.465795e-12            -3.0       98.0               70.0          94.5   \n",
       "\n",
       "   SOLAR_LYMAN-ALPHA_W/m^2  mg_index (core to wing ratio (unitless))  \\\n",
       "1                  0.00697                                   0.26771   \n",
       "2                  0.00697                                   0.26771   \n",
       "3                  0.00697                                   0.26771   \n",
       "4                  0.00697                                   0.26771   \n",
       "5                  0.00697                                   0.26771   \n",
       "\n",
       "   irradiance (W/m^2/nm)  storm  storm phase        d_diff  \n",
       "1               0.005673      1            1 -2.124240e-13  \n",
       "2               0.005673      1            1 -4.548400e-14  \n",
       "3               0.005673      1            1 -9.887000e-15  \n",
       "4               0.005673      1            1  8.330400e-14  \n",
       "5               0.005673      1            1  1.616840e-13  "
      ]
     },
     "execution_count": 4,
     "metadata": {},
     "output_type": "execute_result"
    }
   ],
   "source": [
    "df.head()"
   ]
  },
  {
   "cell_type": "code",
   "execution_count": 5,
   "id": "74d1c020",
   "metadata": {},
   "outputs": [
    {
     "data": {
      "text/html": [
       "<div>\n",
       "<style scoped>\n",
       "    .dataframe tbody tr th:only-of-type {\n",
       "        vertical-align: middle;\n",
       "    }\n",
       "\n",
       "    .dataframe tbody tr th {\n",
       "        vertical-align: top;\n",
       "    }\n",
       "\n",
       "    .dataframe thead th {\n",
       "        text-align: right;\n",
       "    }\n",
       "</style>\n",
       "<table border=\"1\" class=\"dataframe\">\n",
       "  <thead>\n",
       "    <tr style=\"text-align: right;\">\n",
       "      <th></th>\n",
       "      <th>400kmDensity</th>\n",
       "      <th>SYM/H_INDEX_nT</th>\n",
       "      <th>1-M_AE_nT</th>\n",
       "      <th>DAILY_SUNSPOT_NO_</th>\n",
       "      <th>DAILY_F10.7_</th>\n",
       "      <th>SOLAR_LYMAN-ALPHA_W/m^2</th>\n",
       "      <th>mg_index (core to wing ratio (unitless))</th>\n",
       "      <th>irradiance (W/m^2/nm)</th>\n",
       "      <th>storm</th>\n",
       "      <th>storm phase</th>\n",
       "      <th>d_diff</th>\n",
       "    </tr>\n",
       "  </thead>\n",
       "  <tbody>\n",
       "    <tr>\n",
       "      <th>count</th>\n",
       "      <td>4.670940e+06</td>\n",
       "      <td>4.670940e+06</td>\n",
       "      <td>4.670940e+06</td>\n",
       "      <td>4.670940e+06</td>\n",
       "      <td>4.670940e+06</td>\n",
       "      <td>4.670940e+06</td>\n",
       "      <td>4.670940e+06</td>\n",
       "      <td>4.670940e+06</td>\n",
       "      <td>4.670940e+06</td>\n",
       "      <td>4.670940e+06</td>\n",
       "      <td>4.670940e+06</td>\n",
       "    </tr>\n",
       "    <tr>\n",
       "      <th>mean</th>\n",
       "      <td>1.484615e-12</td>\n",
       "      <td>-1.141293e+01</td>\n",
       "      <td>1.763493e+02</td>\n",
       "      <td>4.752017e+01</td>\n",
       "      <td>9.761624e+01</td>\n",
       "      <td>6.825335e-03</td>\n",
       "      <td>2.685655e-01</td>\n",
       "      <td>5.515092e-03</td>\n",
       "      <td>1.216672e-01</td>\n",
       "      <td>4.610534e-01</td>\n",
       "      <td>-1.020210e-19</td>\n",
       "    </tr>\n",
       "    <tr>\n",
       "      <th>std</th>\n",
       "      <td>1.470658e-12</td>\n",
       "      <td>1.914744e+01</td>\n",
       "      <td>2.141171e+02</td>\n",
       "      <td>5.038690e+01</td>\n",
       "      <td>5.429083e+01</td>\n",
       "      <td>7.783128e-04</td>\n",
       "      <td>4.569255e-03</td>\n",
       "      <td>5.460839e-04</td>\n",
       "      <td>9.925711e-01</td>\n",
       "      <td>1.343722e+00</td>\n",
       "      <td>1.700765e-13</td>\n",
       "    </tr>\n",
       "    <tr>\n",
       "      <th>min</th>\n",
       "      <td>7.457587e-20</td>\n",
       "      <td>-4.900000e+02</td>\n",
       "      <td>1.000000e+00</td>\n",
       "      <td>0.000000e+00</td>\n",
       "      <td>6.510000e+01</td>\n",
       "      <td>5.880000e-03</td>\n",
       "      <td>2.629600e-01</td>\n",
       "      <td>4.873058e-03</td>\n",
       "      <td>-1.000000e+00</td>\n",
       "      <td>-1.000000e+00</td>\n",
       "      <td>-1.175625e-11</td>\n",
       "    </tr>\n",
       "    <tr>\n",
       "      <th>25%</th>\n",
       "      <td>4.975017e-13</td>\n",
       "      <td>-1.800000e+01</td>\n",
       "      <td>3.900000e+01</td>\n",
       "      <td>9.000000e+00</td>\n",
       "      <td>7.150000e+01</td>\n",
       "      <td>6.174000e-03</td>\n",
       "      <td>2.647066e-01</td>\n",
       "      <td>5.050188e-03</td>\n",
       "      <td>-1.000000e+00</td>\n",
       "      <td>-1.000000e+00</td>\n",
       "      <td>-3.611200e-14</td>\n",
       "    </tr>\n",
       "    <tr>\n",
       "      <th>50%</th>\n",
       "      <td>9.641593e-13</td>\n",
       "      <td>-8.000000e+00</td>\n",
       "      <td>8.800000e+01</td>\n",
       "      <td>3.100000e+01</td>\n",
       "      <td>8.520000e+01</td>\n",
       "      <td>6.577000e-03</td>\n",
       "      <td>2.670400e-01</td>\n",
       "      <td>5.328221e-03</td>\n",
       "      <td>1.000000e+00</td>\n",
       "      <td>1.000000e+00</td>\n",
       "      <td>4.781500e-16</td>\n",
       "    </tr>\n",
       "    <tr>\n",
       "      <th>75%</th>\n",
       "      <td>1.931388e-12</td>\n",
       "      <td>-1.000000e+00</td>\n",
       "      <td>2.360000e+02</td>\n",
       "      <td>7.300000e+01</td>\n",
       "      <td>1.111000e+02</td>\n",
       "      <td>7.319000e-03</td>\n",
       "      <td>2.714976e-01</td>\n",
       "      <td>5.854947e-03</td>\n",
       "      <td>1.000000e+00</td>\n",
       "      <td>2.000000e+00</td>\n",
       "      <td>3.793913e-14</td>\n",
       "    </tr>\n",
       "    <tr>\n",
       "      <th>max</th>\n",
       "      <td>2.631810e-11</td>\n",
       "      <td>1.510000e+02</td>\n",
       "      <td>4.192000e+03</td>\n",
       "      <td>2.810000e+02</td>\n",
       "      <td>9.999000e+02</td>\n",
       "      <td>9.751000e-03</td>\n",
       "      <td>2.849400e-01</td>\n",
       "      <td>7.349350e-03</td>\n",
       "      <td>1.000000e+00</td>\n",
       "      <td>2.000000e+00</td>\n",
       "      <td>1.223247e-11</td>\n",
       "    </tr>\n",
       "  </tbody>\n",
       "</table>\n",
       "</div>"
      ],
      "text/plain": [
       "       400kmDensity  SYM/H_INDEX_nT     1-M_AE_nT  DAILY_SUNSPOT_NO_  \\\n",
       "count  4.670940e+06    4.670940e+06  4.670940e+06       4.670940e+06   \n",
       "mean   1.484615e-12   -1.141293e+01  1.763493e+02       4.752017e+01   \n",
       "std    1.470658e-12    1.914744e+01  2.141171e+02       5.038690e+01   \n",
       "min    7.457587e-20   -4.900000e+02  1.000000e+00       0.000000e+00   \n",
       "25%    4.975017e-13   -1.800000e+01  3.900000e+01       9.000000e+00   \n",
       "50%    9.641593e-13   -8.000000e+00  8.800000e+01       3.100000e+01   \n",
       "75%    1.931388e-12   -1.000000e+00  2.360000e+02       7.300000e+01   \n",
       "max    2.631810e-11    1.510000e+02  4.192000e+03       2.810000e+02   \n",
       "\n",
       "       DAILY_F10.7_  SOLAR_LYMAN-ALPHA_W/m^2  \\\n",
       "count  4.670940e+06             4.670940e+06   \n",
       "mean   9.761624e+01             6.825335e-03   \n",
       "std    5.429083e+01             7.783128e-04   \n",
       "min    6.510000e+01             5.880000e-03   \n",
       "25%    7.150000e+01             6.174000e-03   \n",
       "50%    8.520000e+01             6.577000e-03   \n",
       "75%    1.111000e+02             7.319000e-03   \n",
       "max    9.999000e+02             9.751000e-03   \n",
       "\n",
       "       mg_index (core to wing ratio (unitless))  irradiance (W/m^2/nm)  \\\n",
       "count                              4.670940e+06           4.670940e+06   \n",
       "mean                               2.685655e-01           5.515092e-03   \n",
       "std                                4.569255e-03           5.460839e-04   \n",
       "min                                2.629600e-01           4.873058e-03   \n",
       "25%                                2.647066e-01           5.050188e-03   \n",
       "50%                                2.670400e-01           5.328221e-03   \n",
       "75%                                2.714976e-01           5.854947e-03   \n",
       "max                                2.849400e-01           7.349350e-03   \n",
       "\n",
       "              storm   storm phase        d_diff  \n",
       "count  4.670940e+06  4.670940e+06  4.670940e+06  \n",
       "mean   1.216672e-01  4.610534e-01 -1.020210e-19  \n",
       "std    9.925711e-01  1.343722e+00  1.700765e-13  \n",
       "min   -1.000000e+00 -1.000000e+00 -1.175625e-11  \n",
       "25%   -1.000000e+00 -1.000000e+00 -3.611200e-14  \n",
       "50%    1.000000e+00  1.000000e+00  4.781500e-16  \n",
       "75%    1.000000e+00  2.000000e+00  3.793913e-14  \n",
       "max    1.000000e+00  2.000000e+00  1.223247e-11  "
      ]
     },
     "execution_count": 5,
     "metadata": {},
     "output_type": "execute_result"
    }
   ],
   "source": [
    "df.describe()"
   ]
  },
  {
   "cell_type": "code",
   "execution_count": 6,
   "id": "9c8cc5b6",
   "metadata": {},
   "outputs": [
    {
     "data": {
      "text/plain": [
       "(4670940, 11)"
      ]
     },
     "execution_count": 6,
     "metadata": {},
     "output_type": "execute_result"
    }
   ],
   "source": [
    "df.shape"
   ]
  },
  {
   "cell_type": "code",
   "execution_count": 7,
   "id": "017465c9",
   "metadata": {},
   "outputs": [
    {
     "data": {
      "application/vnd.jupyter.widget-view+json": {
       "model_id": "5948dbd966fb4517ad5c09ac79ffe02a",
       "version_major": 2,
       "version_minor": 0
      },
      "text/plain": [
       "Summarize dataset:   0%|          | 0/5 [00:00<?, ?it/s]"
      ]
     },
     "metadata": {},
     "output_type": "display_data"
    },
    {
     "name": "stderr",
     "output_type": "stream",
     "text": [
      "c:\\Users\\krmurph1\\Anaconda3\\envs\\satdrag\\lib\\site-packages\\ydata_profiling\\model\\pandas\\discretize_pandas.py:52: FutureWarning: In a future version, `df.iloc[:, i] = newvals` will attempt to set the values inplace instead of always setting a new array. To retain the old behavior, use either `df[df.columns[i]] = newvals` or, if columns are non-unique, `df.isetitem(i, newvals)`\n",
      "  discretized_df.loc[:, column] = self._discretize_column(\n",
      "c:\\Users\\krmurph1\\Anaconda3\\envs\\satdrag\\lib\\site-packages\\scipy\\stats\\_stats_py.py:5218: RuntimeWarning: overflow encountered in longlong_scalars\n",
      "  (2 * xtie * ytie) / m + x0 * y0 / (9 * m * (size - 2)))\n"
     ]
    },
    {
     "data": {
      "application/vnd.jupyter.widget-view+json": {
       "model_id": "3fd124c981c94ef7ba1eaf31edf5de14",
       "version_major": 2,
       "version_minor": 0
      },
      "text/plain": [
       "Generate report structure:   0%|          | 0/1 [00:00<?, ?it/s]"
      ]
     },
     "metadata": {},
     "output_type": "display_data"
    },
    {
     "data": {
      "application/vnd.jupyter.widget-view+json": {
       "model_id": "27540c97d49a499cabe3bbb66db00d1d",
       "version_major": 2,
       "version_minor": 0
      },
      "text/plain": [
       "Render HTML:   0%|          | 0/1 [00:00<?, ?it/s]"
      ]
     },
     "metadata": {},
     "output_type": "display_data"
    },
    {
     "data": {
      "application/vnd.jupyter.widget-view+json": {
       "model_id": "074b46677c9f47a1b2e26bb41dd1bbe8",
       "version_major": 2,
       "version_minor": 0
      },
      "text/plain": [
       "Export report to file:   0%|          | 0/1 [00:00<?, ?it/s]"
      ]
     },
     "metadata": {},
     "output_type": "display_data"
    },
    {
     "data": {
      "text/plain": [
       "400kmDensity                                1.000000\n",
       "SYM/H_INDEX_nT                              0.599569\n",
       "1-M_AE_nT                                   0.286666\n",
       "DAILY_SUNSPOT_NO_                           0.614090\n",
       "DAILY_F10.7_                                0.507440\n",
       "SOLAR_LYMAN-ALPHA_W/m^2                     0.680973\n",
       "mg_index (core to wing ratio (unitless))    0.663269\n",
       "irradiance (W/m^2/nm)                       0.685398\n",
       "storm                                       0.196851\n",
       "storm phase                                 0.177687\n",
       "d_diff                                      0.325193\n",
       "Name: 400kmDensity, dtype: float64"
      ]
     },
     "execution_count": 7,
     "metadata": {},
     "output_type": "execute_result"
    }
   ],
   "source": [
    "correlations = {\"auto\": {\"calculate\": True},\n",
    "        \"pearson\": {\"calculate\": True},\n",
    "        \"spearman\": {\"calculate\": True},\n",
    "        \"kendall\": {\"calculate\": True},\n",
    "        \"phi_k\": {\"calculate\": True},\n",
    "        \"cramers\": {\"calculate\": True},\n",
    "    }\n",
    "profile = ProfileReport(df.sample(1000000), correlations=correlations)\n",
    "profile.to_file(\"all_data.html\")\n",
    "\n",
    "cc = profile.description_set[\"correlations\"]\n",
    "cc[\"phi_k\"][\"400kmDensity\"]"
   ]
  },
  {
   "attachments": {},
   "cell_type": "markdown",
   "id": "e3670286",
   "metadata": {},
   "source": [
    "# Look at the profiles for storm break down"
   ]
  },
  {
   "cell_type": "code",
   "execution_count": 15,
   "id": "58f528d4",
   "metadata": {},
   "outputs": [],
   "source": [
    "# storm/quiet data \n",
    "st_t = (df['storm']>0.95) & (df['storm']<1.05) # storm times\n",
    "qt_t = (df['storm']<0) # quiet times\n",
    "mn_p = (df['storm phase']>0.95) & (df['storm phase']<1.05) # main phase\n",
    "rc_p = (df['storm phase']>1.95) & (df['storm phase']<2.05) # recovery phase"
   ]
  },
  {
   "cell_type": "code",
   "execution_count": 16,
   "id": "20b0d2cf",
   "metadata": {},
   "outputs": [
    {
     "name": "stdout",
     "output_type": "stream",
     "text": [
      "(2619620, 11)\n",
      "(2051320, 11)\n",
      "(1034367, 11)\n",
      "(1585253, 11)\n",
      "(4670940, 11)\n"
     ]
    },
    {
     "data": {
      "text/plain": [
       "4670940"
      ]
     },
     "execution_count": 16,
     "metadata": {},
     "output_type": "execute_result"
    },
    {
     "data": {
      "text/plain": [
       "4670940"
      ]
     },
     "execution_count": 16,
     "metadata": {},
     "output_type": "execute_result"
    }
   ],
   "source": [
    "# sanity check that the data is the correct size\n",
    "print(df[st_t].shape)\n",
    "print(df[qt_t].shape)\n",
    "print(df[mn_p].shape)\n",
    "print(df[rc_p].shape)\n",
    "print(df.shape)\n",
    "\n",
    "df[st_t].shape[0]+df[qt_t].shape[0]\n",
    "df[qt_t].shape[0]+df[mn_p].shape[0]+df[rc_p].shape[0]"
   ]
  },
  {
   "cell_type": "code",
   "execution_count": 17,
   "id": "b84272b7",
   "metadata": {},
   "outputs": [
    {
     "data": {
      "application/vnd.jupyter.widget-view+json": {
       "model_id": "15a70b5805ba4fdda343ea58bb88a4a4",
       "version_major": 2,
       "version_minor": 0
      },
      "text/plain": [
       "Summarize dataset:   0%|          | 0/5 [00:00<?, ?it/s]"
      ]
     },
     "metadata": {},
     "output_type": "display_data"
    },
    {
     "name": "stderr",
     "output_type": "stream",
     "text": [
      "c:\\Users\\krmurph1\\Anaconda3\\envs\\satdrag\\lib\\site-packages\\ydata_profiling\\model\\pandas\\discretize_pandas.py:52: FutureWarning: In a future version, `df.iloc[:, i] = newvals` will attempt to set the values inplace instead of always setting a new array. To retain the old behavior, use either `df[df.columns[i]] = newvals` or, if columns are non-unique, `df.isetitem(i, newvals)`\n",
      "  discretized_df.loc[:, column] = self._discretize_column(\n",
      "c:\\Users\\krmurph1\\Anaconda3\\envs\\satdrag\\lib\\site-packages\\scipy\\stats\\_stats_py.py:5218: RuntimeWarning: overflow encountered in longlong_scalars\n",
      "  (2 * xtie * ytie) / m + x0 * y0 / (9 * m * (size - 2)))\n"
     ]
    },
    {
     "data": {
      "application/vnd.jupyter.widget-view+json": {
       "model_id": "ace7fd89339d4dbb9a1fda5c484c9fa4",
       "version_major": 2,
       "version_minor": 0
      },
      "text/plain": [
       "Generate report structure:   0%|          | 0/1 [00:00<?, ?it/s]"
      ]
     },
     "metadata": {},
     "output_type": "display_data"
    },
    {
     "data": {
      "application/vnd.jupyter.widget-view+json": {
       "model_id": "d7dd3b6977c040f58594f15c510e3a06",
       "version_major": 2,
       "version_minor": 0
      },
      "text/plain": [
       "Render HTML:   0%|          | 0/1 [00:00<?, ?it/s]"
      ]
     },
     "metadata": {},
     "output_type": "display_data"
    },
    {
     "data": {
      "application/vnd.jupyter.widget-view+json": {
       "model_id": "ba7cc575f80148f9957a9bff66027bf4",
       "version_major": 2,
       "version_minor": 0
      },
      "text/plain": [
       "Export report to file:   0%|          | 0/1 [00:00<?, ?it/s]"
      ]
     },
     "metadata": {},
     "output_type": "display_data"
    },
    {
     "name": "stdout",
     "output_type": "stream",
     "text": [
      "storm_output.html\n"
     ]
    },
    {
     "data": {
      "text/plain": [
       "400kmDensity                                1.000000\n",
       "SYM/H_INDEX_nT                              0.599561\n",
       "1-M_AE_nT                                   0.252881\n",
       "DAILY_SUNSPOT_NO_                           0.608755\n",
       "DAILY_F10.7_                                0.491249\n",
       "SOLAR_LYMAN-ALPHA_W/m^2                     0.674732\n",
       "mg_index (core to wing ratio (unitless))    0.660126\n",
       "irradiance (W/m^2/nm)                       0.681807\n",
       "storm phase                                 0.021816\n",
       "d_diff                                      0.242041\n",
       "Name: 400kmDensity, dtype: float64"
      ]
     },
     "execution_count": 17,
     "metadata": {},
     "output_type": "execute_result"
    },
    {
     "data": {
      "application/vnd.jupyter.widget-view+json": {
       "model_id": "e8d2cb66a1214ffc8c85e985f48e39eb",
       "version_major": 2,
       "version_minor": 0
      },
      "text/plain": [
       "Summarize dataset:   0%|          | 0/5 [00:00<?, ?it/s]"
      ]
     },
     "metadata": {},
     "output_type": "display_data"
    },
    {
     "name": "stderr",
     "output_type": "stream",
     "text": [
      "c:\\Users\\krmurph1\\Anaconda3\\envs\\satdrag\\lib\\site-packages\\ydata_profiling\\model\\pandas\\discretize_pandas.py:52: FutureWarning: In a future version, `df.iloc[:, i] = newvals` will attempt to set the values inplace instead of always setting a new array. To retain the old behavior, use either `df[df.columns[i]] = newvals` or, if columns are non-unique, `df.isetitem(i, newvals)`\n",
      "  discretized_df.loc[:, column] = self._discretize_column(\n",
      "c:\\Users\\krmurph1\\Anaconda3\\envs\\satdrag\\lib\\site-packages\\scipy\\stats\\_stats_py.py:5218: RuntimeWarning: overflow encountered in longlong_scalars\n",
      "  (2 * xtie * ytie) / m + x0 * y0 / (9 * m * (size - 2)))\n"
     ]
    },
    {
     "data": {
      "application/vnd.jupyter.widget-view+json": {
       "model_id": "ee32a61130c0409d825d28b046efc119",
       "version_major": 2,
       "version_minor": 0
      },
      "text/plain": [
       "Generate report structure:   0%|          | 0/1 [00:00<?, ?it/s]"
      ]
     },
     "metadata": {},
     "output_type": "display_data"
    },
    {
     "data": {
      "application/vnd.jupyter.widget-view+json": {
       "model_id": "b66ad14a0e7b40af88f1059646ef7513",
       "version_major": 2,
       "version_minor": 0
      },
      "text/plain": [
       "Render HTML:   0%|          | 0/1 [00:00<?, ?it/s]"
      ]
     },
     "metadata": {},
     "output_type": "display_data"
    },
    {
     "data": {
      "application/vnd.jupyter.widget-view+json": {
       "model_id": "6b97639d706d4402b2345475340a5ec9",
       "version_major": 2,
       "version_minor": 0
      },
      "text/plain": [
       "Export report to file:   0%|          | 0/1 [00:00<?, ?it/s]"
      ]
     },
     "metadata": {},
     "output_type": "display_data"
    },
    {
     "name": "stdout",
     "output_type": "stream",
     "text": [
      "quiet_output.html\n"
     ]
    },
    {
     "data": {
      "text/plain": [
       "400kmDensity                                1.000000\n",
       "SYM/H_INDEX_nT                              0.378453\n",
       "1-M_AE_nT                                   0.379510\n",
       "DAILY_SUNSPOT_NO_                           0.578110\n",
       "DAILY_F10.7_                                0.562134\n",
       "SOLAR_LYMAN-ALPHA_W/m^2                     0.794366\n",
       "mg_index (core to wing ratio (unitless))    0.767470\n",
       "irradiance (W/m^2/nm)                       0.788961\n",
       "d_diff                                      0.361020\n",
       "Name: 400kmDensity, dtype: float64"
      ]
     },
     "execution_count": 17,
     "metadata": {},
     "output_type": "execute_result"
    },
    {
     "data": {
      "application/vnd.jupyter.widget-view+json": {
       "model_id": "9b6568f38c4c43e9894b42672f358964",
       "version_major": 2,
       "version_minor": 0
      },
      "text/plain": [
       "Summarize dataset:   0%|          | 0/5 [00:00<?, ?it/s]"
      ]
     },
     "metadata": {},
     "output_type": "display_data"
    },
    {
     "name": "stderr",
     "output_type": "stream",
     "text": [
      "c:\\Users\\krmurph1\\Anaconda3\\envs\\satdrag\\lib\\site-packages\\ydata_profiling\\model\\pandas\\discretize_pandas.py:52: FutureWarning: In a future version, `df.iloc[:, i] = newvals` will attempt to set the values inplace instead of always setting a new array. To retain the old behavior, use either `df[df.columns[i]] = newvals` or, if columns are non-unique, `df.isetitem(i, newvals)`\n",
      "  discretized_df.loc[:, column] = self._discretize_column(\n",
      "c:\\Users\\krmurph1\\Anaconda3\\envs\\satdrag\\lib\\site-packages\\scipy\\stats\\_stats_py.py:5218: RuntimeWarning: overflow encountered in longlong_scalars\n",
      "  (2 * xtie * ytie) / m + x0 * y0 / (9 * m * (size - 2)))\n"
     ]
    },
    {
     "data": {
      "application/vnd.jupyter.widget-view+json": {
       "model_id": "e8d5aaa63f6642b4a0ba6fc0bea59d34",
       "version_major": 2,
       "version_minor": 0
      },
      "text/plain": [
       "Generate report structure:   0%|          | 0/1 [00:00<?, ?it/s]"
      ]
     },
     "metadata": {},
     "output_type": "display_data"
    },
    {
     "data": {
      "application/vnd.jupyter.widget-view+json": {
       "model_id": "3c71eec6957f4c2997323455bdbbb360",
       "version_major": 2,
       "version_minor": 0
      },
      "text/plain": [
       "Render HTML:   0%|          | 0/1 [00:00<?, ?it/s]"
      ]
     },
     "metadata": {},
     "output_type": "display_data"
    },
    {
     "data": {
      "application/vnd.jupyter.widget-view+json": {
       "model_id": "178e45bf760448cdb283d803d394fb07",
       "version_major": 2,
       "version_minor": 0
      },
      "text/plain": [
       "Export report to file:   0%|          | 0/1 [00:00<?, ?it/s]"
      ]
     },
     "metadata": {},
     "output_type": "display_data"
    },
    {
     "name": "stdout",
     "output_type": "stream",
     "text": [
      "main_output.html\n"
     ]
    },
    {
     "data": {
      "text/plain": [
       "400kmDensity                                1.000000\n",
       "SYM/H_INDEX_nT                              0.617623\n",
       "1-M_AE_nT                                   0.301015\n",
       "DAILY_SUNSPOT_NO_                           0.631958\n",
       "DAILY_F10.7_                                0.508198\n",
       "SOLAR_LYMAN-ALPHA_W/m^2                     0.692969\n",
       "mg_index (core to wing ratio (unitless))    0.678561\n",
       "irradiance (W/m^2/nm)                       0.691599\n",
       "d_diff                                      0.263169\n",
       "Name: 400kmDensity, dtype: float64"
      ]
     },
     "execution_count": 17,
     "metadata": {},
     "output_type": "execute_result"
    },
    {
     "data": {
      "application/vnd.jupyter.widget-view+json": {
       "model_id": "e359dcbece7245a4a1c85e974a55546e",
       "version_major": 2,
       "version_minor": 0
      },
      "text/plain": [
       "Summarize dataset:   0%|          | 0/5 [00:00<?, ?it/s]"
      ]
     },
     "metadata": {},
     "output_type": "display_data"
    },
    {
     "name": "stderr",
     "output_type": "stream",
     "text": [
      "c:\\Users\\krmurph1\\Anaconda3\\envs\\satdrag\\lib\\site-packages\\ydata_profiling\\model\\pandas\\discretize_pandas.py:52: FutureWarning: In a future version, `df.iloc[:, i] = newvals` will attempt to set the values inplace instead of always setting a new array. To retain the old behavior, use either `df[df.columns[i]] = newvals` or, if columns are non-unique, `df.isetitem(i, newvals)`\n",
      "  discretized_df.loc[:, column] = self._discretize_column(\n",
      "c:\\Users\\krmurph1\\Anaconda3\\envs\\satdrag\\lib\\site-packages\\scipy\\stats\\_stats_py.py:5218: RuntimeWarning: overflow encountered in longlong_scalars\n",
      "  (2 * xtie * ytie) / m + x0 * y0 / (9 * m * (size - 2)))\n"
     ]
    },
    {
     "data": {
      "application/vnd.jupyter.widget-view+json": {
       "model_id": "f931eb0489ab4774a308e4ab3917cc69",
       "version_major": 2,
       "version_minor": 0
      },
      "text/plain": [
       "Generate report structure:   0%|          | 0/1 [00:00<?, ?it/s]"
      ]
     },
     "metadata": {},
     "output_type": "display_data"
    },
    {
     "data": {
      "application/vnd.jupyter.widget-view+json": {
       "model_id": "a8e5aa67ff7847c5b7e1dcdac448293e",
       "version_major": 2,
       "version_minor": 0
      },
      "text/plain": [
       "Render HTML:   0%|          | 0/1 [00:00<?, ?it/s]"
      ]
     },
     "metadata": {},
     "output_type": "display_data"
    },
    {
     "data": {
      "application/vnd.jupyter.widget-view+json": {
       "model_id": "c5ec0849524a43eab3a875d6a77f7eb1",
       "version_major": 2,
       "version_minor": 0
      },
      "text/plain": [
       "Export report to file:   0%|          | 0/1 [00:00<?, ?it/s]"
      ]
     },
     "metadata": {},
     "output_type": "display_data"
    },
    {
     "name": "stdout",
     "output_type": "stream",
     "text": [
      "recovery_output.html\n"
     ]
    },
    {
     "data": {
      "text/plain": [
       "400kmDensity                                1.000000\n",
       "SYM/H_INDEX_nT                              0.617370\n",
       "1-M_AE_nT                                   0.194703\n",
       "DAILY_SUNSPOT_NO_                           0.591789\n",
       "DAILY_F10.7_                                0.478831\n",
       "SOLAR_LYMAN-ALPHA_W/m^2                     0.657249\n",
       "mg_index (core to wing ratio (unitless))    0.644341\n",
       "irradiance (W/m^2/nm)                       0.665928\n",
       "d_diff                                      0.230440\n",
       "Name: 400kmDensity, dtype: float64"
      ]
     },
     "execution_count": 17,
     "metadata": {},
     "output_type": "execute_result"
    }
   ],
   "source": [
    "st_ii = [st_t,qt_t,mn_p,rc_p] # list of indexes to loop over\n",
    "st_tt = ['storm','quiet','main','recovery'] # list of names\n",
    "\n",
    "for sind, stype in zip(st_ii,st_tt):\n",
    "    \n",
    "    profile = ProfileReport(df[sind].sample(1000000), correlations=correlations)\n",
    "    profile.to_file(f'{stype}_output.html')\n",
    "\n",
    "    print(f'{stype}_output.html')\n",
    "    cc = profile.description_set[\"correlations\"]\n",
    "    cc[\"phi_k\"][\"400kmDensity\"]"
   ]
  },
  {
   "attachments": {},
   "cell_type": "markdown",
   "id": "3fd65c3f",
   "metadata": {},
   "source": [
    "# What does the 'all' look like when we deal with class imbalance?"
   ]
  },
  {
   "cell_type": "code",
   "execution_count": 20,
   "id": "5c258172",
   "metadata": {},
   "outputs": [
    {
     "data": {
      "text/html": [
       "<div>\n",
       "<style scoped>\n",
       "    .dataframe tbody tr th:only-of-type {\n",
       "        vertical-align: middle;\n",
       "    }\n",
       "\n",
       "    .dataframe tbody tr th {\n",
       "        vertical-align: top;\n",
       "    }\n",
       "\n",
       "    .dataframe thead th {\n",
       "        text-align: right;\n",
       "    }\n",
       "</style>\n",
       "<table border=\"1\" class=\"dataframe\">\n",
       "  <thead>\n",
       "    <tr style=\"text-align: right;\">\n",
       "      <th></th>\n",
       "      <th>400kmDensity</th>\n",
       "      <th>SYM/H_INDEX_nT</th>\n",
       "      <th>1-M_AE_nT</th>\n",
       "      <th>DAILY_SUNSPOT_NO_</th>\n",
       "      <th>DAILY_F10.7_</th>\n",
       "      <th>SOLAR_LYMAN-ALPHA_W/m^2</th>\n",
       "      <th>mg_index (core to wing ratio (unitless))</th>\n",
       "      <th>irradiance (W/m^2/nm)</th>\n",
       "      <th>storm</th>\n",
       "      <th>storm phase</th>\n",
       "      <th>d_diff</th>\n",
       "    </tr>\n",
       "  </thead>\n",
       "  <tbody>\n",
       "    <tr>\n",
       "      <th>count</th>\n",
       "      <td>1.000000e+06</td>\n",
       "      <td>1000000.000000</td>\n",
       "      <td>1000000.000000</td>\n",
       "      <td>1000000.000000</td>\n",
       "      <td>1000000.000000</td>\n",
       "      <td>1000000.000000</td>\n",
       "      <td>1000000.000000</td>\n",
       "      <td>1000000.000000</td>\n",
       "      <td>1000000.000000</td>\n",
       "      <td>1000000.000000</td>\n",
       "      <td>1.000000e+06</td>\n",
       "    </tr>\n",
       "    <tr>\n",
       "      <th>mean</th>\n",
       "      <td>1.448488e-12</td>\n",
       "      <td>-10.740491</td>\n",
       "      <td>169.020393</td>\n",
       "      <td>46.338448</td>\n",
       "      <td>96.671341</td>\n",
       "      <td>0.006805</td>\n",
       "      <td>0.268475</td>\n",
       "      <td>0.005500</td>\n",
       "      <td>0.000000</td>\n",
       "      <td>0.302266</td>\n",
       "      <td>1.675198e-16</td>\n",
       "    </tr>\n",
       "    <tr>\n",
       "      <th>std</th>\n",
       "      <td>1.453106e-12</td>\n",
       "      <td>18.423993</td>\n",
       "      <td>208.216124</td>\n",
       "      <td>49.952263</td>\n",
       "      <td>52.488133</td>\n",
       "      <td>0.000773</td>\n",
       "      <td>0.004557</td>\n",
       "      <td>0.000543</td>\n",
       "      <td>1.000001</td>\n",
       "      <td>1.347381</td>\n",
       "      <td>1.628727e-13</td>\n",
       "    </tr>\n",
       "    <tr>\n",
       "      <th>min</th>\n",
       "      <td>4.683731e-16</td>\n",
       "      <td>-487.000000</td>\n",
       "      <td>1.000000</td>\n",
       "      <td>0.000000</td>\n",
       "      <td>65.100000</td>\n",
       "      <td>0.005880</td>\n",
       "      <td>0.262960</td>\n",
       "      <td>0.004873</td>\n",
       "      <td>-1.000000</td>\n",
       "      <td>-1.000000</td>\n",
       "      <td>-7.241425e-12</td>\n",
       "    </tr>\n",
       "    <tr>\n",
       "      <th>25%</th>\n",
       "      <td>4.805903e-13</td>\n",
       "      <td>-17.000000</td>\n",
       "      <td>37.000000</td>\n",
       "      <td>5.000000</td>\n",
       "      <td>71.200000</td>\n",
       "      <td>0.006154</td>\n",
       "      <td>0.264674</td>\n",
       "      <td>0.005036</td>\n",
       "      <td>-1.000000</td>\n",
       "      <td>-1.000000</td>\n",
       "      <td>-3.532432e-14</td>\n",
       "    </tr>\n",
       "    <tr>\n",
       "      <th>50%</th>\n",
       "      <td>9.313840e-13</td>\n",
       "      <td>-8.000000</td>\n",
       "      <td>82.000000</td>\n",
       "      <td>30.000000</td>\n",
       "      <td>84.200000</td>\n",
       "      <td>0.006554</td>\n",
       "      <td>0.266948</td>\n",
       "      <td>0.005316</td>\n",
       "      <td>0.000000</td>\n",
       "      <td>0.000000</td>\n",
       "      <td>4.572000e-16</td>\n",
       "    </tr>\n",
       "    <tr>\n",
       "      <th>75%</th>\n",
       "      <td>1.872047e-12</td>\n",
       "      <td>-1.000000</td>\n",
       "      <td>223.000000</td>\n",
       "      <td>71.000000</td>\n",
       "      <td>109.900000</td>\n",
       "      <td>0.007295</td>\n",
       "      <td>0.271344</td>\n",
       "      <td>0.005841</td>\n",
       "      <td>1.000000</td>\n",
       "      <td>2.000000</td>\n",
       "      <td>3.702820e-14</td>\n",
       "    </tr>\n",
       "    <tr>\n",
       "      <th>max</th>\n",
       "      <td>2.430800e-11</td>\n",
       "      <td>143.000000</td>\n",
       "      <td>4174.000000</td>\n",
       "      <td>281.000000</td>\n",
       "      <td>999.900000</td>\n",
       "      <td>0.009751</td>\n",
       "      <td>0.284940</td>\n",
       "      <td>0.007349</td>\n",
       "      <td>1.000000</td>\n",
       "      <td>2.000000</td>\n",
       "      <td>8.884224e-12</td>\n",
       "    </tr>\n",
       "  </tbody>\n",
       "</table>\n",
       "</div>"
      ],
      "text/plain": [
       "       400kmDensity  SYM/H_INDEX_nT       1-M_AE_nT  DAILY_SUNSPOT_NO_  \\\n",
       "count  1.000000e+06  1000000.000000  1000000.000000     1000000.000000   \n",
       "mean   1.448488e-12      -10.740491      169.020393          46.338448   \n",
       "std    1.453106e-12       18.423993      208.216124          49.952263   \n",
       "min    4.683731e-16     -487.000000        1.000000           0.000000   \n",
       "25%    4.805903e-13      -17.000000       37.000000           5.000000   \n",
       "50%    9.313840e-13       -8.000000       82.000000          30.000000   \n",
       "75%    1.872047e-12       -1.000000      223.000000          71.000000   \n",
       "max    2.430800e-11      143.000000     4174.000000         281.000000   \n",
       "\n",
       "         DAILY_F10.7_  SOLAR_LYMAN-ALPHA_W/m^2  \\\n",
       "count  1000000.000000           1000000.000000   \n",
       "mean        96.671341                 0.006805   \n",
       "std         52.488133                 0.000773   \n",
       "min         65.100000                 0.005880   \n",
       "25%         71.200000                 0.006154   \n",
       "50%         84.200000                 0.006554   \n",
       "75%        109.900000                 0.007295   \n",
       "max        999.900000                 0.009751   \n",
       "\n",
       "       mg_index (core to wing ratio (unitless))  irradiance (W/m^2/nm)  \\\n",
       "count                            1000000.000000         1000000.000000   \n",
       "mean                                   0.268475               0.005500   \n",
       "std                                    0.004557               0.000543   \n",
       "min                                    0.262960               0.004873   \n",
       "25%                                    0.264674               0.005036   \n",
       "50%                                    0.266948               0.005316   \n",
       "75%                                    0.271344               0.005841   \n",
       "max                                    0.284940               0.007349   \n",
       "\n",
       "                storm     storm phase        d_diff  \n",
       "count  1000000.000000  1000000.000000  1.000000e+06  \n",
       "mean         0.000000        0.302266  1.675198e-16  \n",
       "std          1.000001        1.347381  1.628727e-13  \n",
       "min         -1.000000       -1.000000 -7.241425e-12  \n",
       "25%         -1.000000       -1.000000 -3.532432e-14  \n",
       "50%          0.000000        0.000000  4.572000e-16  \n",
       "75%          1.000000        2.000000  3.702820e-14  \n",
       "max          1.000000        2.000000  8.884224e-12  "
      ]
     },
     "execution_count": 20,
     "metadata": {},
     "output_type": "execute_result"
    }
   ],
   "source": [
    "#reg_df =df[st_t].sample(500000)\n",
    "reg_df = pd.concat([df[st_t].sample(500000),df[qt_t].sample(500000)])\n",
    "reg_df.describe()"
   ]
  },
  {
   "cell_type": "code",
   "execution_count": 21,
   "id": "e37cfc3a",
   "metadata": {},
   "outputs": [
    {
     "data": {
      "application/vnd.jupyter.widget-view+json": {
       "model_id": "c950a17660bc40dfa23c4eb3f9b156a9",
       "version_major": 2,
       "version_minor": 0
      },
      "text/plain": [
       "Summarize dataset:   0%|          | 0/5 [00:00<?, ?it/s]"
      ]
     },
     "metadata": {},
     "output_type": "display_data"
    },
    {
     "name": "stderr",
     "output_type": "stream",
     "text": [
      "c:\\Users\\krmurph1\\Anaconda3\\envs\\satdrag\\lib\\site-packages\\ydata_profiling\\model\\pandas\\discretize_pandas.py:52: FutureWarning: In a future version, `df.iloc[:, i] = newvals` will attempt to set the values inplace instead of always setting a new array. To retain the old behavior, use either `df[df.columns[i]] = newvals` or, if columns are non-unique, `df.isetitem(i, newvals)`\n",
      "  discretized_df.loc[:, column] = self._discretize_column(\n",
      "c:\\Users\\krmurph1\\Anaconda3\\envs\\satdrag\\lib\\site-packages\\scipy\\stats\\_stats_py.py:5218: RuntimeWarning: overflow encountered in longlong_scalars\n",
      "  (2 * xtie * ytie) / m + x0 * y0 / (9 * m * (size - 2)))\n"
     ]
    },
    {
     "data": {
      "application/vnd.jupyter.widget-view+json": {
       "model_id": "cfe240057a324d908d9bc5b7d584f5e3",
       "version_major": 2,
       "version_minor": 0
      },
      "text/plain": [
       "Generate report structure:   0%|          | 0/1 [00:00<?, ?it/s]"
      ]
     },
     "metadata": {},
     "output_type": "display_data"
    },
    {
     "data": {
      "application/vnd.jupyter.widget-view+json": {
       "model_id": "d7d0293248be47978304a3b0b572bf60",
       "version_major": 2,
       "version_minor": 0
      },
      "text/plain": [
       "Render HTML:   0%|          | 0/1 [00:00<?, ?it/s]"
      ]
     },
     "metadata": {},
     "output_type": "display_data"
    },
    {
     "data": {
      "application/vnd.jupyter.widget-view+json": {
       "model_id": "7b40432bdd364e1cb53e541b8b6e9c50",
       "version_major": 2,
       "version_minor": 0
      },
      "text/plain": [
       "Export report to file:   0%|          | 0/1 [00:00<?, ?it/s]"
      ]
     },
     "metadata": {},
     "output_type": "display_data"
    },
    {
     "name": "stdout",
     "output_type": "stream",
     "text": [
      "qt_st_output.html\n"
     ]
    },
    {
     "data": {
      "text/plain": [
       "400kmDensity                                1.000000\n",
       "SYM/H_INDEX_nT                              0.569963\n",
       "1-M_AE_nT                                   0.259532\n",
       "DAILY_SUNSPOT_NO_                           0.631548\n",
       "DAILY_F10.7_                                0.513907\n",
       "SOLAR_LYMAN-ALPHA_W/m^2                     0.699166\n",
       "mg_index (core to wing ratio (unitless))    0.681083\n",
       "irradiance (W/m^2/nm)                       0.705264\n",
       "storm                                       0.213384\n",
       "storm phase                                 0.191931\n",
       "d_diff                                      0.266869\n",
       "Name: 400kmDensity, dtype: float64"
      ]
     },
     "execution_count": 21,
     "metadata": {},
     "output_type": "execute_result"
    }
   ],
   "source": [
    "\n",
    "profile = ProfileReport(reg_df, correlations=correlations)\n",
    "profile.to_file('qt_st_output.html')\n",
    "\n",
    "print('qt_st_output.html')\n",
    "cc = profile.description_set[\"correlations\"]\n",
    "cc[\"phi_k\"][\"400kmDensity\"]"
   ]
  },
  {
   "cell_type": "code",
   "execution_count": null,
   "id": "f412da4a",
   "metadata": {},
   "outputs": [],
   "source": []
  }
 ],
 "metadata": {
  "kernelspec": {
   "display_name": "satdrag",
   "language": "python",
   "name": "python3"
  },
  "language_info": {
   "codemirror_mode": {
    "name": "ipython",
    "version": 3
   },
   "file_extension": ".py",
   "mimetype": "text/x-python",
   "name": "python",
   "nbconvert_exporter": "python",
   "pygments_lexer": "ipython3",
   "version": "3.10.9"
  },
  "vscode": {
   "interpreter": {
    "hash": "b189bde72a5e2a5d07d6d62549c0b46606a9b255620bd50d8891a8ddcc15993b"
   }
  }
 },
 "nbformat": 4,
 "nbformat_minor": 5
}
