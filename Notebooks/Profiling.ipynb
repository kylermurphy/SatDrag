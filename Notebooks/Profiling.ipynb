{
 "cells": [
  {
   "cell_type": "code",
   "execution_count": null,
   "id": "2719537c",
   "metadata": {},
   "outputs": [],
   "source": [
    "import pandas as pd\n",
    "from ydata_profiling import ProfileReport\n",
    "from ydata_profiling.utils.cache import cache_file\n",
    "\n",
    "import phik\n",
    "from phik.report import plot_correlation_matrix\n",
    "from phik import report\n",
    "\n",
    "import matplotlib.pyplot as plt\n",
    "\n",
    "%matplotlib inline\n",
    "\n",
    "#print all output in a cell \n",
    "from IPython.core.interactiveshell import InteractiveShell\n",
    "InteractiveShell.ast_node_interactivity = \"all\"\n",
    "\n"
   ]
  },
  {
   "cell_type": "code",
   "execution_count": null,
   "id": "7e4ae6d2",
   "metadata": {},
   "outputs": [],
   "source": [
    "# Read in the satellite drag database\n",
    "#fn = 'D:\\\\data\\\\VL_sdrag\\\\satdrag_database_zlib.hdf5'\n",
    "#columns = ['400kmDensity','SYM/H_INDEX_nT', '1-M_AE_nT', 'DAILY_SUNSPOT_NO_', 'DAILY_F10.7_', \n",
    "#       'SOLAR_LYMAN-ALPHA_W/m^2', 'mg_index (core to wing ratio (unitless))',\n",
    "#       'irradiance (W/m^2/nm)', 'storm', 'storm phase']\n",
    "#df = pd.read_hdf(fn,columns=columns)\n",
    "\n",
    "fn = 'D:\\\\data\\\\SatDensities\\\\satdrag_database_grace_B.hdf5'\n",
    "df = pd.read_hdf(fn)"
   ]
  },
  {
   "cell_type": "code",
   "execution_count": null,
   "id": "42c2d3b6",
   "metadata": {},
   "outputs": [],
   "source": [
    "df.columns"
   ]
  },
  {
   "cell_type": "code",
   "execution_count": null,
   "id": "52d73199",
   "metadata": {},
   "outputs": [],
   "source": [
    "columns = ['Bx_GSEGSM','By_GSM', 'Bz_GSM', \n",
    "           'Vsw', 'Vx_GSE', 'Vy_GSE', 'Vz_GSE', 'Prho', 'Tp',\n",
    "           'dynP', 'Esw', 'AE', 'AL', 'AU', 'SYM_H index',\n",
    "           '225', '600', '1300', '2500', '5100', '11250',\n",
    "           '18950', '25700', '30500', '43000', '59500', '72400', '85550', '94400',\n",
    "           '98100', '100700', '103850', '113000', 'F10', 'F81',\n",
    "           'S10', 'S81c', 'M10', 'M81c', 'Y10', 'Y81c', \n",
    "           '400kmDensity', 'storm', 'storm phase']  \n",
    "\n",
    "columns_solar = ['F10', 'F81',\n",
    "           'S10', 'S81c', 'M10', 'M81c', 'Y10', 'Y81c', \n",
    "           '400kmDensity']  \n",
    "columns_fism = ['225', '600', '1300', '2500', '5100', '11250',\n",
    "           '18950', '25700', '30500', '43000', '59500', '72400', '85550', '94400',\n",
    "           '98100', '100700', '103850', '113000','400kmDensity']\n",
    "columns_swgeo = ['Bx_GSEGSM','By_GSM', 'Bz_GSM', \n",
    "           'Vsw', 'Vx_GSE', 'Vy_GSE', 'Vz_GSE', 'Prho', 'Tp',\n",
    "           'dynP', 'Esw', 'AE', 'AL', 'AU', 'SYM_H index',\n",
    "           '400kmDensity', 'storm', 'storm phase']  \n",
    "\n",
    "pro_df = df[columns_fism]\n",
    "pro_df.columns"
   ]
  },
  {
   "cell_type": "code",
   "execution_count": null,
   "id": "81a06f22",
   "metadata": {},
   "outputs": [],
   "source": [
    "pro_df = pro_df.dropna()\n",
    "pro_df.head()\n"
   ]
  },
  {
   "cell_type": "code",
   "execution_count": null,
   "id": "74d1c020",
   "metadata": {},
   "outputs": [],
   "source": [
    "pro_df.describe()"
   ]
  },
  {
   "cell_type": "code",
   "execution_count": null,
   "id": "9c8cc5b6",
   "metadata": {},
   "outputs": [],
   "source": [
    "pro_df.shape"
   ]
  },
  {
   "cell_type": "code",
   "execution_count": null,
   "id": "72f26ae2",
   "metadata": {},
   "outputs": [],
   "source": [
    "sample_sz=1000"
   ]
  },
  {
   "cell_type": "code",
   "execution_count": null,
   "id": "017465c9",
   "metadata": {},
   "outputs": [],
   "source": [
    "correlations = {\"auto\": {\"calculate\": True},\n",
    "        \"pearson\": {\"calculate\": True},\n",
    "        \"spearman\": {\"calculate\": True},\n",
    "        \"kendall\": {\"calculate\": True},\n",
    "        \"phi_k\": {\"calculate\": True},\n",
    "        \"cramers\": {\"calculate\": True},\n",
    "    }\n",
    "profile = ProfileReport(pro_df.sample(100), correlations=correlations)\n",
    "profile.to_file(\"all_data.html\")\n",
    "\n",
    "cc = profile.description_set[\"correlations\"]\n",
    "cc[\"phi_k\"][\"400kmDensity\"]"
   ]
  },
  {
   "attachments": {},
   "cell_type": "markdown",
   "id": "e3670286",
   "metadata": {},
   "source": [
    "# Look at the profiles for storm break down"
   ]
  },
  {
   "cell_type": "code",
   "execution_count": null,
   "id": "58f528d4",
   "metadata": {},
   "outputs": [],
   "source": [
    "# storm/quiet data \n",
    "st_t = (pro_df['storm']>0.95) & (pro_df['storm']<1.05) # storm times\n",
    "qt_t = (pro_df['storm']<0) # quiet times\n",
    "mn_p = (pro_df['storm phase']>0.95) & (pro_df['storm phase']<1.05) # main phase\n",
    "rc_p = (pro_df['storm phase']>1.95) & (pro_df['storm phase']<2.05) # recovery phase"
   ]
  },
  {
   "cell_type": "code",
   "execution_count": null,
   "id": "20b0d2cf",
   "metadata": {},
   "outputs": [],
   "source": [
    "# sanity check that the data is the correct size\n",
    "print(pro_df[st_t].shape)\n",
    "print(pro_df[qt_t].shape)\n",
    "print(pro_df[mn_p].shape)\n",
    "print(pro_df[rc_p].shape)\n",
    "print(pro_df.shape)\n",
    "\n",
    "pro_df[st_t].shape[0]+pro_df[qt_t].shape[0]\n",
    "pro_df[qt_t].shape[0]+pro_df[mn_p].shape[0]+pro_df[rc_p].shape[0]"
   ]
  },
  {
   "cell_type": "code",
   "execution_count": null,
   "id": "b84272b7",
   "metadata": {},
   "outputs": [],
   "source": [
    "st_ii = [st_t,qt_t,mn_p,rc_p] # list of indexes to loop over\n",
    "st_tt = ['storm','quiet','main','recovery'] # list of names\n",
    "\n",
    "for sind, stype in zip(st_ii,st_tt):\n",
    "    \n",
    "    profile = ProfileReport(pro_df[sind].sample(sample_sz), correlations=correlations)\n",
    "    profile.to_file(f'{stype}_output.html')\n",
    "\n",
    "    print(f'{stype}_output.html')\n",
    "    cc = profile.description_set[\"correlations\"]\n",
    "    cc[\"phi_k\"][\"400kmDensity\"]"
   ]
  },
  {
   "attachments": {},
   "cell_type": "markdown",
   "id": "3fd65c3f",
   "metadata": {},
   "source": [
    "# What does the 'all' look like when we deal with class imbalance?"
   ]
  },
  {
   "cell_type": "code",
   "execution_count": null,
   "id": "5c258172",
   "metadata": {},
   "outputs": [],
   "source": [
    "#reg_df =df[st_t].sample(500000)\n",
    "reg_df = pd.concat([pro_df[st_t].sample(sample_sz/2),pro_df[qt_t].sample(sample_sz/2)])\n",
    "reg_df.describe()"
   ]
  },
  {
   "cell_type": "code",
   "execution_count": null,
   "id": "e37cfc3a",
   "metadata": {},
   "outputs": [],
   "source": [
    "\n",
    "profile = ProfileReport(reg_df, correlations=correlations)\n",
    "profile.to_file('qt_st_output.html')\n",
    "\n",
    "print('qt_st_output.html')\n",
    "cc = profile.description_set[\"correlations\"]\n",
    "cc[\"phi_k\"][\"400kmDensity\"]"
   ]
  },
  {
   "cell_type": "code",
   "execution_count": null,
   "id": "f412da4a",
   "metadata": {},
   "outputs": [],
   "source": []
  }
 ],
 "metadata": {
  "kernelspec": {
   "display_name": "satdrag",
   "language": "python",
   "name": "python3"
  },
  "language_info": {
   "codemirror_mode": {
    "name": "ipython",
    "version": 3
   },
   "file_extension": ".py",
   "mimetype": "text/x-python",
   "name": "python",
   "nbconvert_exporter": "python",
   "pygments_lexer": "ipython3",
   "version": "3.10.14"
  },
  "vscode": {
   "interpreter": {
    "hash": "b189bde72a5e2a5d07d6d62549c0b46606a9b255620bd50d8891a8ddcc15993b"
   }
  }
 },
 "nbformat": 4,
 "nbformat_minor": 5
}
