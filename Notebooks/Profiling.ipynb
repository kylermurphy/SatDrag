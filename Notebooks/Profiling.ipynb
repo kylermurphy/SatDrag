{
 "cells": [
  {
   "cell_type": "code",
   "execution_count": 1,
   "id": "2719537c",
   "metadata": {},
   "outputs": [],
   "source": [
    "import pandas as pd\n",
    "from pandas_profiling import ProfileReport\n",
    "\n",
    "import phik\n",
    "from phik.report import plot_correlation_matrix\n",
    "from phik import report\n",
    "\n",
    "import matplotlib.pyplot as plt\n",
    "\n",
    "%matplotlib inline\n",
    "\n",
    "fn = 'E:\\\\VL_sdrag\\\\combined_data_all_reduced_omni.csv'\n",
    "\n"
   ]
  },
  {
   "cell_type": "code",
   "execution_count": 3,
   "id": "42c2d3b6",
   "metadata": {},
   "outputs": [],
   "source": [
    "df = df = pd.read_csv(fn,parse_dates=[0], \n",
    "                      usecols=['Datetime','1-M_AE_nT', \n",
    "                               'SYM/H_INDEX_nT',\n",
    "                               '400kmDensity',\n",
    "                               'DAILY_SUNSPOT_NO_','DAILY_F10.7_','3-H_KP*10_',\n",
    "                               'irradiance (W/m^2/nm)'])\n",
    "\n",
    "df['d_diff'] = df['400kmDensity'].diff()\n",
    "df = df.dropna()\n",
    "df = df.set_index('Datetime')"
   ]
  },
  {
   "cell_type": "code",
   "execution_count": 4,
   "id": "81a06f22",
   "metadata": {},
   "outputs": [
    {
     "data": {
      "text/html": [
       "<div>\n",
       "<style scoped>\n",
       "    .dataframe tbody tr th:only-of-type {\n",
       "        vertical-align: middle;\n",
       "    }\n",
       "\n",
       "    .dataframe tbody tr th {\n",
       "        vertical-align: top;\n",
       "    }\n",
       "\n",
       "    .dataframe thead th {\n",
       "        text-align: right;\n",
       "    }\n",
       "</style>\n",
       "<table border=\"1\" class=\"dataframe\">\n",
       "  <thead>\n",
       "    <tr style=\"text-align: right;\">\n",
       "      <th></th>\n",
       "      <th>SYM/H_INDEX_nT</th>\n",
       "      <th>1-M_AE_nT</th>\n",
       "      <th>400kmDensity</th>\n",
       "      <th>DAILY_SUNSPOT_NO_</th>\n",
       "      <th>DAILY_F10.7_</th>\n",
       "      <th>3-H_KP*10_</th>\n",
       "      <th>irradiance (W/m^2/nm)</th>\n",
       "      <th>d_diff</th>\n",
       "    </tr>\n",
       "    <tr>\n",
       "      <th>Datetime</th>\n",
       "      <th></th>\n",
       "      <th></th>\n",
       "      <th></th>\n",
       "      <th></th>\n",
       "      <th></th>\n",
       "      <th></th>\n",
       "      <th></th>\n",
       "      <th></th>\n",
       "    </tr>\n",
       "  </thead>\n",
       "  <tbody>\n",
       "    <tr>\n",
       "      <th>2004-02-01 00:01:00</th>\n",
       "      <td>-2.0</td>\n",
       "      <td>92.0</td>\n",
       "      <td>1.276178e-12</td>\n",
       "      <td>70.0</td>\n",
       "      <td>94.5</td>\n",
       "      <td>23.0</td>\n",
       "      <td>0.005673</td>\n",
       "      <td>-2.124240e-13</td>\n",
       "    </tr>\n",
       "    <tr>\n",
       "      <th>2004-02-01 00:02:00</th>\n",
       "      <td>-2.0</td>\n",
       "      <td>130.0</td>\n",
       "      <td>1.230694e-12</td>\n",
       "      <td>70.0</td>\n",
       "      <td>94.5</td>\n",
       "      <td>23.0</td>\n",
       "      <td>0.005673</td>\n",
       "      <td>-4.548400e-14</td>\n",
       "    </tr>\n",
       "    <tr>\n",
       "      <th>2004-02-01 00:03:00</th>\n",
       "      <td>-3.0</td>\n",
       "      <td>85.0</td>\n",
       "      <td>1.220807e-12</td>\n",
       "      <td>70.0</td>\n",
       "      <td>94.5</td>\n",
       "      <td>23.0</td>\n",
       "      <td>0.005673</td>\n",
       "      <td>-9.887000e-15</td>\n",
       "    </tr>\n",
       "    <tr>\n",
       "      <th>2004-02-01 00:04:00</th>\n",
       "      <td>-3.0</td>\n",
       "      <td>75.0</td>\n",
       "      <td>1.304111e-12</td>\n",
       "      <td>70.0</td>\n",
       "      <td>94.5</td>\n",
       "      <td>23.0</td>\n",
       "      <td>0.005673</td>\n",
       "      <td>8.330400e-14</td>\n",
       "    </tr>\n",
       "    <tr>\n",
       "      <th>2004-02-01 00:05:00</th>\n",
       "      <td>-3.0</td>\n",
       "      <td>98.0</td>\n",
       "      <td>1.465795e-12</td>\n",
       "      <td>70.0</td>\n",
       "      <td>94.5</td>\n",
       "      <td>23.0</td>\n",
       "      <td>0.005673</td>\n",
       "      <td>1.616840e-13</td>\n",
       "    </tr>\n",
       "  </tbody>\n",
       "</table>\n",
       "</div>"
      ],
      "text/plain": [
       "                     SYM/H_INDEX_nT  1-M_AE_nT  400kmDensity  \\\n",
       "Datetime                                                       \n",
       "2004-02-01 00:01:00            -2.0       92.0  1.276178e-12   \n",
       "2004-02-01 00:02:00            -2.0      130.0  1.230694e-12   \n",
       "2004-02-01 00:03:00            -3.0       85.0  1.220807e-12   \n",
       "2004-02-01 00:04:00            -3.0       75.0  1.304111e-12   \n",
       "2004-02-01 00:05:00            -3.0       98.0  1.465795e-12   \n",
       "\n",
       "                     DAILY_SUNSPOT_NO_  DAILY_F10.7_  3-H_KP*10_  \\\n",
       "Datetime                                                           \n",
       "2004-02-01 00:01:00               70.0          94.5        23.0   \n",
       "2004-02-01 00:02:00               70.0          94.5        23.0   \n",
       "2004-02-01 00:03:00               70.0          94.5        23.0   \n",
       "2004-02-01 00:04:00               70.0          94.5        23.0   \n",
       "2004-02-01 00:05:00               70.0          94.5        23.0   \n",
       "\n",
       "                     irradiance (W/m^2/nm)        d_diff  \n",
       "Datetime                                                  \n",
       "2004-02-01 00:01:00               0.005673 -2.124240e-13  \n",
       "2004-02-01 00:02:00               0.005673 -4.548400e-14  \n",
       "2004-02-01 00:03:00               0.005673 -9.887000e-15  \n",
       "2004-02-01 00:04:00               0.005673  8.330400e-14  \n",
       "2004-02-01 00:05:00               0.005673  1.616840e-13  "
      ]
     },
     "execution_count": 4,
     "metadata": {},
     "output_type": "execute_result"
    }
   ],
   "source": [
    "df.head()"
   ]
  },
  {
   "cell_type": "code",
   "execution_count": 9,
   "id": "cf357361",
   "metadata": {},
   "outputs": [
    {
     "data": {
      "text/plain": [
       "-4.548400000000001e-14"
      ]
     },
     "execution_count": 9,
     "metadata": {},
     "output_type": "execute_result"
    }
   ],
   "source": [
    "1.230694e-12-1.276178e-12"
   ]
  },
  {
   "cell_type": "code",
   "execution_count": 5,
   "id": "74d1c020",
   "metadata": {},
   "outputs": [
    {
     "data": {
      "text/html": [
       "<div>\n",
       "<style scoped>\n",
       "    .dataframe tbody tr th:only-of-type {\n",
       "        vertical-align: middle;\n",
       "    }\n",
       "\n",
       "    .dataframe tbody tr th {\n",
       "        vertical-align: top;\n",
       "    }\n",
       "\n",
       "    .dataframe thead th {\n",
       "        text-align: right;\n",
       "    }\n",
       "</style>\n",
       "<table border=\"1\" class=\"dataframe\">\n",
       "  <thead>\n",
       "    <tr style=\"text-align: right;\">\n",
       "      <th></th>\n",
       "      <th>SYM/H_INDEX_nT</th>\n",
       "      <th>1-M_AE_nT</th>\n",
       "      <th>400kmDensity</th>\n",
       "      <th>DAILY_SUNSPOT_NO_</th>\n",
       "      <th>DAILY_F10.7_</th>\n",
       "      <th>3-H_KP*10_</th>\n",
       "      <th>irradiance (W/m^2/nm)</th>\n",
       "      <th>d_diff</th>\n",
       "    </tr>\n",
       "  </thead>\n",
       "  <tbody>\n",
       "    <tr>\n",
       "      <th>count</th>\n",
       "      <td>4.670940e+06</td>\n",
       "      <td>4.670940e+06</td>\n",
       "      <td>4.670940e+06</td>\n",
       "      <td>4.670940e+06</td>\n",
       "      <td>4.670940e+06</td>\n",
       "      <td>4.670940e+06</td>\n",
       "      <td>4.670940e+06</td>\n",
       "      <td>4.670940e+06</td>\n",
       "    </tr>\n",
       "    <tr>\n",
       "      <th>mean</th>\n",
       "      <td>-1.141293e+01</td>\n",
       "      <td>1.763493e+02</td>\n",
       "      <td>1.484615e-12</td>\n",
       "      <td>4.752017e+01</td>\n",
       "      <td>9.761624e+01</td>\n",
       "      <td>1.813174e+01</td>\n",
       "      <td>5.515092e-03</td>\n",
       "      <td>-1.020210e-19</td>\n",
       "    </tr>\n",
       "    <tr>\n",
       "      <th>std</th>\n",
       "      <td>1.914744e+01</td>\n",
       "      <td>2.141171e+02</td>\n",
       "      <td>1.470658e-12</td>\n",
       "      <td>5.038690e+01</td>\n",
       "      <td>5.429083e+01</td>\n",
       "      <td>1.419073e+01</td>\n",
       "      <td>5.460839e-04</td>\n",
       "      <td>1.700765e-13</td>\n",
       "    </tr>\n",
       "    <tr>\n",
       "      <th>min</th>\n",
       "      <td>-4.900000e+02</td>\n",
       "      <td>1.000000e+00</td>\n",
       "      <td>7.457587e-20</td>\n",
       "      <td>0.000000e+00</td>\n",
       "      <td>6.510000e+01</td>\n",
       "      <td>0.000000e+00</td>\n",
       "      <td>4.873058e-03</td>\n",
       "      <td>-1.175625e-11</td>\n",
       "    </tr>\n",
       "    <tr>\n",
       "      <th>25%</th>\n",
       "      <td>-1.800000e+01</td>\n",
       "      <td>3.900000e+01</td>\n",
       "      <td>4.975017e-13</td>\n",
       "      <td>9.000000e+00</td>\n",
       "      <td>7.150000e+01</td>\n",
       "      <td>7.000000e+00</td>\n",
       "      <td>5.050188e-03</td>\n",
       "      <td>-3.611200e-14</td>\n",
       "    </tr>\n",
       "    <tr>\n",
       "      <th>50%</th>\n",
       "      <td>-8.000000e+00</td>\n",
       "      <td>8.800000e+01</td>\n",
       "      <td>9.641593e-13</td>\n",
       "      <td>3.100000e+01</td>\n",
       "      <td>8.520000e+01</td>\n",
       "      <td>1.700000e+01</td>\n",
       "      <td>5.328221e-03</td>\n",
       "      <td>4.781500e-16</td>\n",
       "    </tr>\n",
       "    <tr>\n",
       "      <th>75%</th>\n",
       "      <td>-1.000000e+00</td>\n",
       "      <td>2.360000e+02</td>\n",
       "      <td>1.931388e-12</td>\n",
       "      <td>7.300000e+01</td>\n",
       "      <td>1.111000e+02</td>\n",
       "      <td>2.700000e+01</td>\n",
       "      <td>5.854947e-03</td>\n",
       "      <td>3.793913e-14</td>\n",
       "    </tr>\n",
       "    <tr>\n",
       "      <th>max</th>\n",
       "      <td>1.510000e+02</td>\n",
       "      <td>4.192000e+03</td>\n",
       "      <td>2.631810e-11</td>\n",
       "      <td>2.810000e+02</td>\n",
       "      <td>9.999000e+02</td>\n",
       "      <td>9.000000e+01</td>\n",
       "      <td>7.349350e-03</td>\n",
       "      <td>1.223247e-11</td>\n",
       "    </tr>\n",
       "  </tbody>\n",
       "</table>\n",
       "</div>"
      ],
      "text/plain": [
       "       SYM/H_INDEX_nT     1-M_AE_nT  400kmDensity  DAILY_SUNSPOT_NO_  \\\n",
       "count    4.670940e+06  4.670940e+06  4.670940e+06       4.670940e+06   \n",
       "mean    -1.141293e+01  1.763493e+02  1.484615e-12       4.752017e+01   \n",
       "std      1.914744e+01  2.141171e+02  1.470658e-12       5.038690e+01   \n",
       "min     -4.900000e+02  1.000000e+00  7.457587e-20       0.000000e+00   \n",
       "25%     -1.800000e+01  3.900000e+01  4.975017e-13       9.000000e+00   \n",
       "50%     -8.000000e+00  8.800000e+01  9.641593e-13       3.100000e+01   \n",
       "75%     -1.000000e+00  2.360000e+02  1.931388e-12       7.300000e+01   \n",
       "max      1.510000e+02  4.192000e+03  2.631810e-11       2.810000e+02   \n",
       "\n",
       "       DAILY_F10.7_    3-H_KP*10_  irradiance (W/m^2/nm)        d_diff  \n",
       "count  4.670940e+06  4.670940e+06           4.670940e+06  4.670940e+06  \n",
       "mean   9.761624e+01  1.813174e+01           5.515092e-03 -1.020210e-19  \n",
       "std    5.429083e+01  1.419073e+01           5.460839e-04  1.700765e-13  \n",
       "min    6.510000e+01  0.000000e+00           4.873058e-03 -1.175625e-11  \n",
       "25%    7.150000e+01  7.000000e+00           5.050188e-03 -3.611200e-14  \n",
       "50%    8.520000e+01  1.700000e+01           5.328221e-03  4.781500e-16  \n",
       "75%    1.111000e+02  2.700000e+01           5.854947e-03  3.793913e-14  \n",
       "max    9.999000e+02  9.000000e+01           7.349350e-03  1.223247e-11  "
      ]
     },
     "execution_count": 5,
     "metadata": {},
     "output_type": "execute_result"
    }
   ],
   "source": [
    "df.describe()"
   ]
  },
  {
   "cell_type": "code",
   "execution_count": 7,
   "id": "9c8cc5b6",
   "metadata": {},
   "outputs": [
    {
     "data": {
      "text/plain": [
       "(4670940, 8)"
      ]
     },
     "execution_count": 7,
     "metadata": {},
     "output_type": "execute_result"
    }
   ],
   "source": [
    "df.shape"
   ]
  },
  {
   "cell_type": "code",
   "execution_count": 8,
   "id": "017465c9",
   "metadata": {},
   "outputs": [
    {
     "data": {
      "application/vnd.jupyter.widget-view+json": {
       "model_id": "6278cccbb9134a4d982f7a5305daee13",
       "version_major": 2,
       "version_minor": 0
      },
      "text/plain": [
       "Summarize dataset:   0%|          | 0/5 [00:00<?, ?it/s]"
      ]
     },
     "metadata": {},
     "output_type": "display_data"
    },
    {
     "name": "stderr",
     "output_type": "stream",
     "text": [
      "C:\\Users\\murph\\anaconda3\\envs\\sdrag\\lib\\site-packages\\multimethod\\__init__.py:184: FutureWarning: iteritems is deprecated and will be removed in a future version. Use .items instead.\n",
      "  return self[tuple(map(self.get_type, args))](*args, **kwargs)\n",
      "C:\\Users\\murph\\anaconda3\\envs\\sdrag\\lib\\site-packages\\multimethod\\__init__.py:184: FutureWarning: In a future version, `df.iloc[:, i] = newvals` will attempt to set the values inplace instead of always setting a new array. To retain the old behavior, use either `df[df.columns[i]] = newvals` or, if columns are non-unique, `df.isetitem(i, newvals)`\n",
      "  return self[tuple(map(self.get_type, args))](*args, **kwargs)\n",
      "C:\\Users\\murph\\anaconda3\\envs\\sdrag\\lib\\site-packages\\multimethod\\__init__.py:184: FutureWarning: The default value of numeric_only in DataFrame.corr is deprecated. In a future version, it will default to False. Select only valid columns or specify the value of numeric_only to silence this warning.\n",
      "  return self[tuple(map(self.get_type, args))](*args, **kwargs)\n"
     ]
    },
    {
     "data": {
      "application/vnd.jupyter.widget-view+json": {
       "model_id": "8b0c236cd4c24ea1b9dd79ec5e950968",
       "version_major": 2,
       "version_minor": 0
      },
      "text/plain": [
       "Generate report structure:   0%|          | 0/1 [00:00<?, ?it/s]"
      ]
     },
     "metadata": {},
     "output_type": "display_data"
    },
    {
     "data": {
      "application/vnd.jupyter.widget-view+json": {
       "model_id": "5ee16d35ae724f1eb618a4c2dd4c5355",
       "version_major": 2,
       "version_minor": 0
      },
      "text/plain": [
       "Render HTML:   0%|          | 0/1 [00:00<?, ?it/s]"
      ]
     },
     "metadata": {},
     "output_type": "display_data"
    },
    {
     "data": {
      "application/vnd.jupyter.widget-view+json": {
       "model_id": "53a8b3b8389a4bd0a8f4fa012fcc5926",
       "version_major": 2,
       "version_minor": 0
      },
      "text/plain": [
       "Export report to file:   0%|          | 0/1 [00:00<?, ?it/s]"
      ]
     },
     "metadata": {},
     "output_type": "display_data"
    }
   ],
   "source": [
    "profile = ProfileReport(df.sample(100000))\n",
    "profile.to_file(\"output.html\")"
   ]
  },
  {
   "cell_type": "code",
   "execution_count": null,
   "id": "cc99b19f",
   "metadata": {},
   "outputs": [],
   "source": [
    "# Listing available correlation\n",
    "correlations = profile.description_set[\"correlations\"]\n",
    "print(correlations.keys())\n",
    "\n"
   ]
  },
  {
   "cell_type": "code",
   "execution_count": null,
   "id": "e0b8c4c5",
   "metadata": {},
   "outputs": [],
   "source": [
    "# DataFrame where row and column names are the names of the original columns\n",
    "print(correlations[\"pearson\"])"
   ]
  },
  {
   "cell_type": "code",
   "execution_count": null,
   "id": "6cd0d09d",
   "metadata": {},
   "outputs": [],
   "source": [
    "rep = report.correlation_report(df.sample(1000000), significance_threshold=3, correlation_threshold=0.5)"
   ]
  },
  {
   "cell_type": "code",
   "execution_count": null,
   "id": "32904e66",
   "metadata": {},
   "outputs": [],
   "source": [
    "aa = df.sample(1000)\n"
   ]
  },
  {
   "cell_type": "code",
   "execution_count": null,
   "id": "c4e0883d",
   "metadata": {},
   "outputs": [],
   "source": [
    "\n",
    "\n",
    "aa.head()\n"
   ]
  }
 ],
 "metadata": {
  "kernelspec": {
   "display_name": "Python 3 (ipykernel)",
   "language": "python",
   "name": "python3"
  },
  "language_info": {
   "codemirror_mode": {
    "name": "ipython",
    "version": 3
   },
   "file_extension": ".py",
   "mimetype": "text/x-python",
   "name": "python",
   "nbconvert_exporter": "python",
   "pygments_lexer": "ipython3",
   "version": "3.10.6"
  }
 },
 "nbformat": 4,
 "nbformat_minor": 5
}
