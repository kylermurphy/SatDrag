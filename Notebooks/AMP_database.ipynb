{
 "cells": [
  {
   "cell_type": "markdown",
   "metadata": {},
   "source": [
    "# AMPERE database\n",
    "\n",
    "Create a database of AMPERE data. See if we can make the data set smaller. \n",
    "\n",
    "## Variables \n",
    "\n",
    "- year [nrecs]\n",
    "- doy [nrecs]\n",
    "- time [nrecs]\n",
    "- jPar [nrecs, nobs]\n",
    "- mlt_hr [nrecs, nobs], AACGM Magnetic Local Time (MLT) in hours.\n",
    "- cLat_deg [nrecs, nobs], co-latitude in AACGM coordinates in degrees."
   ]
  },
  {
   "cell_type": "code",
   "execution_count": 11,
   "metadata": {},
   "outputs": [],
   "source": [
    "import pathlib\n",
    "import zipfile\n",
    "\n",
    "import pandas as pd\n",
    "import numpy as np\n",
    "import netCDF4 as nc\n"
   ]
  },
  {
   "cell_type": "code",
   "execution_count": 12,
   "metadata": {},
   "outputs": [],
   "source": [
    "amp_dir = 'E:/AMPERE/'\n",
    "amp_path = pathlib.Path(amp_dir)\n",
    "\n"
   ]
  },
  {
   "cell_type": "code",
   "execution_count": 13,
   "metadata": {},
   "outputs": [
    {
     "data": {
      "text/plain": [
       "WindowsPath('E:/AMPERE/2009/ampere.200910.k060_m08.north.grd.zip')"
      ]
     },
     "execution_count": 13,
     "metadata": {},
     "output_type": "execute_result"
    }
   ],
   "source": [
    "list(amp_path.rglob(\"*.zip\"))[0]"
   ]
  },
  {
   "cell_type": "code",
   "execution_count": 14,
   "metadata": {},
   "outputs": [
    {
     "name": "stdout",
     "output_type": "stream",
     "text": [
      "ampere.20091002.k060_m08.north.grd.nc\n",
      "ampere.20091004.k060_m08.north.grd.nc\n",
      "ampere.20091005.k060_m08.north.grd.nc\n",
      "ampere.20091006.k060_m08.north.grd.nc\n",
      "ampere.20091007.k060_m08.north.grd.nc\n",
      "ampere.20091009.k060_m08.north.grd.nc\n",
      "ampere.20091014.k060_m08.north.grd.nc\n",
      "ampere.20091019.k060_m08.north.grd.nc\n",
      "ampere.20091024.k060_m08.north.grd.nc\n",
      "ampere.20091026.k060_m08.north.grd.nc\n",
      "ampere.20091028.k060_m08.north.grd.nc\n",
      "ampere.20091029.k060_m08.north.grd.nc\n",
      "ampere.20091030.k060_m08.north.grd.nc\n",
      "ampere.20091031.k060_m08.north.grd.nc\n"
     ]
    }
   ],
   "source": [
    "with zipfile.ZipFile(list(amp_path.rglob(\"*.zip\"))[0], \"r\") as f:\n",
    "    for name in f.namelist():\n",
    "        print(name)"
   ]
  }
 ],
 "metadata": {
  "kernelspec": {
   "display_name": "satdrag",
   "language": "python",
   "name": "python3"
  },
  "language_info": {
   "codemirror_mode": {
    "name": "ipython",
    "version": 3
   },
   "file_extension": ".py",
   "mimetype": "text/x-python",
   "name": "python",
   "nbconvert_exporter": "python",
   "pygments_lexer": "ipython3",
   "version": "3.10.14"
  }
 },
 "nbformat": 4,
 "nbformat_minor": 2
}
