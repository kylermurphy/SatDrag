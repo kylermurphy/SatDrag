{
 "cells": [
  {
   "cell_type": "markdown",
   "metadata": {},
   "source": [
    "# Coorelations of the v3 database \n",
    "\n",
    "Correlation matrices for the v3 database\n",
    "\n",
    "v3 uses GRACE data with altitude (e.g., hasn't been normalized to 400 km)\n",
    "\n",
    "## Purpose\n",
    "\n",
    "- Identify the key features for new models \n",
    "- Remove features with high colinearity"
   ]
  },
  {
   "cell_type": "code",
   "execution_count": 1,
   "metadata": {},
   "outputs": [],
   "source": [
    "import pandas as pd\n",
    "import seaborn as sns\n",
    "import matplotlib.pyplot as plt\n",
    "\n",
    "%matplotlib qt\n",
    "\n",
    "#print all output in a cell \n",
    "from IPython.core.interactiveshell import InteractiveShell\n",
    "InteractiveShell.ast_node_interactivity = \"all\""
   ]
  },
  {
   "cell_type": "code",
   "execution_count": 8,
   "metadata": {},
   "outputs": [],
   "source": [
    "dens_col = 'dens_x'\n",
    "\n",
    "fism_columns = ['225_00', '600_01', '1300_02', '2500_03', '5100_04',\n",
    "            '11250_05', '18950_06', '25700_07', '30500_08', '43000_09', '59500_10',\n",
    "            '72400_11', '72400_12', '85550_13', '85550_14', '85550_15', '94400_16',\n",
    "            '94400_17', '94400_18', '98100_19', '100700_20', '103850_21',\n",
    "            '113000_22']\n",
    "fism_columns.append(dens_col)\n",
    "\n",
    "omni_columns = ['B', 'Bx_GSEGSM', 'By_GSE', 'Bz_GSE', 'By_GSM', 'Bz_GSM', \n",
    "        'Vsw', 'Vx_GSE', 'Vy_GSE', 'Vz_GSE', 'Prho',\n",
    "       'Tp', 'dynP', 'Esw', 'Beta', 'AlfvenMach', 'X(s/c), GSE', 'Y(s/c), GSE',\n",
    "       'Z(s/c), GSE', 'BSN location, Xgse', 'BSN location, Ygse',\n",
    "       'BSN location, Zgse', 'AE', 'AL', 'AU', 'SYM_D index', 'SYM_H index',\n",
    "       'ASY_D index', 'ASY_H index', 'PC index', 'Na_Np Ratio',\n",
    "       'MagnetosonicMach', 'Goes Proton flux (>10 MeV)',\n",
    "       'Goes Proton flux (>30 MeV)', 'Goes Proton flux (>60 MeV)']\n",
    "omni_columns.append(dens_col)"
   ]
  },
  {
   "cell_type": "code",
   "execution_count": 5,
   "metadata": {},
   "outputs": [],
   "source": [
    "fn = 'D:\\data\\SatDensities\\satdrag_database_grace_B_v3.hdf5'\n",
    "df = pd.read_hdf(fn)"
   ]
  },
  {
   "cell_type": "code",
   "execution_count": 6,
   "metadata": {},
   "outputs": [],
   "source": [
    "# identify the storm and quiet times\n",
    "st_t = (df['storm']>0.95) & (df['storm']<1.05) # storm times\n",
    "qt_t = (df['storm']<0) # quiet times\n",
    "mn_p = (df['storm phase']>0.95) & (df['storm phase']<1.05) # main phase\n",
    "rc_p = (df['storm phase']>1.95) & (df['storm phase']<2.05) # recovery phase"
   ]
  },
  {
   "cell_type": "code",
   "execution_count": 7,
   "metadata": {},
   "outputs": [
    {
     "data": {
      "text/plain": [
       "storm\n",
       "False    628368\n",
       "True     623067\n",
       "Name: count, dtype: int64"
      ]
     },
     "execution_count": 7,
     "metadata": {},
     "output_type": "execute_result"
    },
    {
     "data": {
      "text/plain": [
       "storm\n",
       "True     628368\n",
       "False    623067\n",
       "Name: count, dtype: int64"
      ]
     },
     "execution_count": 7,
     "metadata": {},
     "output_type": "execute_result"
    }
   ],
   "source": [
    "qt_t.value_counts()\n",
    "st_t.value_counts()"
   ]
  },
  {
   "cell_type": "markdown",
   "metadata": {},
   "source": [
    "### Generate correlation matrices"
   ]
  },
  {
   "cell_type": "code",
   "execution_count": null,
   "metadata": {},
   "outputs": [],
   "source": [
    "def cor_matrix(data, columns, dens_col, \n",
    "               qt_t,st_t,mn_p,rc_p):\n",
    "\n",
    "    cor_plot = pd.DataFrame()\n",
    "    cor_plot['All'] = data[columns].dropna().corr()[dens_col]\n",
    "    cor_plot['Quiet'] = data[qt_t][columns].dropna().corr()[dens_col]\n",
    "    cor_plot['Storm'] = data[st_t][columns].dropna().corr()[dens_col]\n",
    "    cor_plot['Main'] = data[mn_p][columns].dropna().corr()[dens_col]\n",
    "    cor_plot['Recovery'] = data[rc_p][columns].dropna().corr()[dens_col]\n",
    "\n",
    "    return cor_plot\n",
    "\n",
    "    "
   ]
  },
  {
   "cell_type": "code",
   "execution_count": null,
   "metadata": {},
   "outputs": [],
   "source": []
  }
 ],
 "metadata": {
  "kernelspec": {
   "display_name": "satdrag",
   "language": "python",
   "name": "python3"
  },
  "language_info": {
   "codemirror_mode": {
    "name": "ipython",
    "version": 3
   },
   "file_extension": ".py",
   "mimetype": "text/x-python",
   "name": "python",
   "nbconvert_exporter": "python",
   "pygments_lexer": "ipython3",
   "version": "3.10.14"
  }
 },
 "nbformat": 4,
 "nbformat_minor": 2
}
