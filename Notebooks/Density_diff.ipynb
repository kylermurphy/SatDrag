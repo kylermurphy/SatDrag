{
 "cells": [
  {
   "attachments": {},
   "cell_type": "markdown",
   "metadata": {},
   "source": [
    "# Density Difference by Orbit\n",
    "\n",
    "Have a look at the change in density from one orbit to the next during quiet time and storm phases."
   ]
  },
  {
   "cell_type": "code",
   "execution_count": 83,
   "metadata": {},
   "outputs": [],
   "source": [
    "#plot matplotlib figures in the notebook\n",
    "%matplotlib inline\n",
    "\n",
    "#print all output in a cell \n",
    "from IPython.core.interactiveshell import InteractiveShell\n",
    "InteractiveShell.ast_node_interactivity = \"all\"\n",
    "\n",
    "import numpy as np\n",
    "import pandas as pd\n",
    "# import stats module\n",
    "from scipy import stats\n",
    "# import plotting\n",
    "import matplotlib.pyplot as plt\n"
   ]
  },
  {
   "cell_type": "code",
   "execution_count": 33,
   "metadata": {},
   "outputs": [],
   "source": [
    "sat = 'A'\n",
    "orb = 90\n",
    "dt = 10\n",
    "\n",
    "sf = f'D:\\\\data\\\\SatDensities\\\\density_diff_database_grace_{sat}.hdf5'"
   ]
  },
  {
   "cell_type": "code",
   "execution_count": 3,
   "metadata": {},
   "outputs": [
    {
     "data": {
      "text/plain": [
       "Index(['DateTime_x', 'SatLat', 'SatLT_x', 'SatMagLon_x', 'SatMagLT_x',\n",
       "       'SatDensity_x', '400kmDensity_x', 'storm_x', 'storm phase_x',\n",
       "       'SatLat_x', 'DateTime_y', 'SatLT_y', 'SatMagLon_y', 'SatMagLT_y',\n",
       "       'SatDensity_y', '400kmDensity_y', 'storm_y', 'storm phase_y',\n",
       "       'den_diff'],\n",
       "      dtype='object')"
      ]
     },
     "execution_count": 3,
     "metadata": {},
     "output_type": "execute_result"
    }
   ],
   "source": [
    "sat_df = pd.read_hdf(sf)\n",
    "sat_df.columns"
   ]
  },
  {
   "cell_type": "code",
   "execution_count": 86,
   "metadata": {},
   "outputs": [],
   "source": [
    "sat_df['den_diff']=sat_df['den_diff']*(10**12)"
   ]
  },
  {
   "cell_type": "code",
   "execution_count": 65,
   "metadata": {},
   "outputs": [],
   "source": [
    "sat_df['delta_t'] = sat_df['DateTime_y']-sat_df['DateTime_x']\n",
    "sat_df['delta_tmn'] = sat_df['delta_t'].dt.total_seconds()/60.\n"
   ]
  },
  {
   "cell_type": "code",
   "execution_count": 69,
   "metadata": {},
   "outputs": [],
   "source": [
    "gd_t = (sat_df['delta_tmn'] >= (orb-dt)) & (sat_df['delta_tmn'] <= (orb+dt))\n",
    "\n",
    "st_x = (sat_df['storm_x']>0.95) & (sat_df['storm_x']<1.05) # storm times\n",
    "qt_x = (sat_df['storm_x']<0) # quiet times\n",
    "mn_x = (sat_df['storm phase_x']>0.95) & (sat_df['storm phase_x']<1.05) # main phase\n",
    "rc_x = (sat_df['storm phase_x']>1.95) & (sat_df['storm phase_x']<2.05) # recovery phase\n",
    "\n",
    "st_y = (sat_df['storm_y']>0.95) & (sat_df['storm_y']<1.05) # storm times\n",
    "qt_y = (sat_df['storm_y']<0) # quiet times\n",
    "mn_y = (sat_df['storm phase_y']>0.95) & (sat_df['storm phase_y']<1.05) # main phase\n",
    "rc_y = (sat_df['storm phase_y']>1.95) & (sat_df['storm phase_y']<2.05) # recovery phase\n"
   ]
  },
  {
   "attachments": {},
   "cell_type": "markdown",
   "metadata": {},
   "source": [
    "# KS Statistic"
   ]
  },
  {
   "cell_type": "code",
   "execution_count": 88,
   "metadata": {},
   "outputs": [
    {
     "name": "stdout",
     "output_type": "stream",
     "text": [
      "All vs Quiet: \n"
     ]
    },
    {
     "data": {
      "text/plain": [
       "KstestResult(statistic=0.031753526621965955, pvalue=2.351156762482577e-13, statistic_location=0.2088456999999999, statistic_sign=-1)"
      ]
     },
     "execution_count": 88,
     "metadata": {},
     "output_type": "execute_result"
    },
    {
     "name": "stdout",
     "output_type": "stream",
     "text": [
      "All vs Storm: \n"
     ]
    },
    {
     "data": {
      "text/plain": [
       "KstestResult(statistic=0.015041186831390885, pvalue=2.16592901969181e-05, statistic_location=0.2088456999999999, statistic_sign=1)"
      ]
     },
     "execution_count": 88,
     "metadata": {},
     "output_type": "execute_result"
    },
    {
     "name": "stdout",
     "output_type": "stream",
     "text": [
      "All vs Main Phase: \n"
     ]
    },
    {
     "data": {
      "text/plain": [
       "KstestResult(statistic=0.025469097302106364, pvalue=1.1782353350256992e-07, statistic_location=-0.38330800000000037, statistic_sign=-1)"
      ]
     },
     "execution_count": 88,
     "metadata": {},
     "output_type": "execute_result"
    },
    {
     "name": "stdout",
     "output_type": "stream",
     "text": [
      "All vs Recovery Phase: \n"
     ]
    },
    {
     "data": {
      "text/plain": [
       "KstestResult(statistic=0.02736278923425839, pvalue=3.0560502180041808e-12, statistic_location=0.21037490000000003, statistic_sign=1)"
      ]
     },
     "execution_count": 88,
     "metadata": {},
     "output_type": "execute_result"
    }
   ],
   "source": [
    "print(\"All vs Quiet: \") \n",
    "stats.ks_2samp(sat_df.loc[gd_t,'den_diff'], sat_df.loc[gd_t & qt_x & qt_y,'den_diff'])\n",
    "print(\"All vs Storm: \") \n",
    "stats.ks_2samp(sat_df.loc[gd_t,'den_diff'], sat_df.loc[gd_t & st_x & st_y,'den_diff'])\n",
    "print(\"All vs Main Phase: \") \n",
    "stats.ks_2samp(sat_df.loc[gd_t,'den_diff'], sat_df.loc[gd_t & mn_x & mn_y,'den_diff'])\n",
    "print(\"All vs Recovery Phase: \") \n",
    "stats.ks_2samp(sat_df.loc[gd_t,'den_diff'], sat_df.loc[gd_t & rc_x & rc_y,'den_diff'])"
   ]
  },
  {
   "cell_type": "code",
   "execution_count": 85,
   "metadata": {},
   "outputs": [
    {
     "name": "stdout",
     "output_type": "stream",
     "text": [
      "Quiet vs Storm: \n"
     ]
    },
    {
     "data": {
      "text/plain": [
       "KstestResult(statistic=0.04679471345335684, pvalue=1.0178125672297864e-25, statistic_location=2.088456999999999e-13, statistic_sign=1)"
      ]
     },
     "execution_count": 85,
     "metadata": {},
     "output_type": "execute_result"
    },
    {
     "name": "stdout",
     "output_type": "stream",
     "text": [
      "Quiet vs Main Phase: \n"
     ]
    },
    {
     "data": {
      "text/plain": [
       "KstestResult(statistic=0.025469097302106364, pvalue=1.1782353350256992e-07, statistic_location=-3.8330800000000037e-13, statistic_sign=-1)"
      ]
     },
     "execution_count": 85,
     "metadata": {},
     "output_type": "execute_result"
    },
    {
     "name": "stdout",
     "output_type": "stream",
     "text": [
      "Quiet vs Recovery Phase: \n"
     ]
    },
    {
     "data": {
      "text/plain": [
       "KstestResult(statistic=0.02736278923425839, pvalue=3.0560502180041808e-12, statistic_location=2.1037490000000004e-13, statistic_sign=1)"
      ]
     },
     "execution_count": 85,
     "metadata": {},
     "output_type": "execute_result"
    }
   ],
   "source": [
    "print(\"Quiet vs Storm: \") \n",
    "stats.ks_2samp(sat_df.loc[gd_t & qt_x & qt_y,'den_diff'], sat_df.loc[gd_t & st_x & st_y,'den_diff'])\n",
    "print(\"Quiet vs Main Phase: \") \n",
    "stats.ks_2samp(sat_df.loc[gd_t,'den_diff'], sat_df.loc[gd_t & mn_x & mn_y,'den_diff'])\n",
    "print(\"Quiet vs Recovery Phase: \") \n",
    "stats.ks_2samp(sat_df.loc[gd_t,'den_diff'], sat_df.loc[gd_t & rc_x & rc_y,'den_diff'])"
   ]
  },
  {
   "attachments": {},
   "cell_type": "markdown",
   "metadata": {},
   "source": [
    "# Histograms"
   ]
  },
  {
   "cell_type": "code",
   "execution_count": 72,
   "metadata": {},
   "outputs": [],
   "source": [
    "#print all output in a cell \n",
    "from IPython.core.interactiveshell import InteractiveShell\n",
    "InteractiveShell.ast_node_interactivity = \"last\""
   ]
  },
  {
   "cell_type": "code",
   "execution_count": 91,
   "metadata": {},
   "outputs": [
    {
     "data": {
      "text/plain": [
       "(array([2.57755424, 2.50095109, 2.53215978, 2.4513009 , 2.24986298,\n",
       "        2.15056259, 1.99877487, 1.87819583, 1.62994487, 1.60441048,\n",
       "        1.43276268, 1.44411129, 1.34622949, 1.23699907, 1.17741883,\n",
       "        1.04832834, 0.99725957, 0.92633072, 0.86391334, 0.75893865,\n",
       "        0.74049715, 0.65254538, 0.60715092, 0.56743076, 0.52912919,\n",
       "        0.49508334, 0.42699165, 0.39720153, 0.39578296, 0.35464423,\n",
       "        0.33336557, 0.30499404, 0.27378534, 0.2822968 , 0.28655254,\n",
       "        0.25959957, 0.23548377, 0.21278654, 0.19008931, 0.19008931,\n",
       "        0.20001934, 0.16739208, 0.13050908, 0.14327627, 0.15178773,\n",
       "        0.13760196, 0.12199761, 0.12199761, 0.12625334, 0.10923042,\n",
       "        0.10923042, 0.10071896, 0.10923042, 0.08937035, 0.07944031,\n",
       "        0.0922075 , 0.06951027, 0.08653319, 0.07802173, 0.06951027,\n",
       "        0.06525454, 0.05816165, 0.06525454, 0.06099881, 0.0553245 ,\n",
       "        0.05958023, 0.05248735, 0.04823161, 0.04113873, 0.04397588,\n",
       "        0.0553245 , 0.05674308, 0.03972015, 0.04113873, 0.03830158,\n",
       "        0.04539446, 0.04113873, 0.03262727, 0.03972015, 0.02411581,\n",
       "        0.03120869, 0.03120869, 0.02979012, 0.01418577, 0.02411581,\n",
       "        0.02553438, 0.01986008, 0.02411581]),\n",
       " array([0.        , 0.02272727, 0.04545455, 0.06818182, 0.09090909,\n",
       "        0.11363636, 0.13636364, 0.15909091, 0.18181818, 0.20454545,\n",
       "        0.22727273, 0.25      , 0.27272727, 0.29545455, 0.31818182,\n",
       "        0.34090909, 0.36363636, 0.38636364, 0.40909091, 0.43181818,\n",
       "        0.45454545, 0.47727273, 0.5       , 0.52272727, 0.54545455,\n",
       "        0.56818182, 0.59090909, 0.61363636, 0.63636364, 0.65909091,\n",
       "        0.68181818, 0.70454545, 0.72727273, 0.75      , 0.77272727,\n",
       "        0.79545455, 0.81818182, 0.84090909, 0.86363636, 0.88636364,\n",
       "        0.90909091, 0.93181818, 0.95454545, 0.97727273, 1.        ,\n",
       "        1.02272727, 1.04545455, 1.06818182, 1.09090909, 1.11363636,\n",
       "        1.13636364, 1.15909091, 1.18181818, 1.20454545, 1.22727273,\n",
       "        1.25      , 1.27272727, 1.29545455, 1.31818182, 1.34090909,\n",
       "        1.36363636, 1.38636364, 1.40909091, 1.43181818, 1.45454545,\n",
       "        1.47727273, 1.5       , 1.52272727, 1.54545455, 1.56818182,\n",
       "        1.59090909, 1.61363636, 1.63636364, 1.65909091, 1.68181818,\n",
       "        1.70454545, 1.72727273, 1.75      , 1.77272727, 1.79545455,\n",
       "        1.81818182, 1.84090909, 1.86363636, 1.88636364, 1.90909091,\n",
       "        1.93181818, 1.95454545, 1.97727273, 2.        ]),\n",
       " <BarContainer object of 88 artists>)"
      ]
     },
     "execution_count": 91,
     "metadata": {},
     "output_type": "execute_result"
    },
    {
     "data": {
      "text/plain": [
       "(array([3.16067196, 3.11079048, 2.96568072, 2.68906524, 2.62557972,\n",
       "        2.2900134 , 2.0859528 , 1.927239  , 1.79573328, 1.5644646 ,\n",
       "        1.46923632, 1.37400804, 1.29691848, 1.21075956, 1.0883232 ,\n",
       "        0.94774812, 0.86612388, 0.71194476, 0.81170772, 0.7028754 ,\n",
       "        0.75275688, 0.59404308, 0.5441616 , 0.46253736, 0.4988148 ,\n",
       "        0.3854478 , 0.39905184, 0.340101  , 0.30835824, 0.27661548,\n",
       "        0.34463568, 0.226734  , 0.21766464, 0.21766464, 0.2040606 ,\n",
       "        0.18592188, 0.18592188, 0.16778316, 0.1360404 , 0.1587138 ,\n",
       "        0.1813872 , 0.16324848, 0.0906936 , 0.12243636, 0.14057508,\n",
       "        0.12697104, 0.0906936 , 0.10429764, 0.08615892, 0.07708956,\n",
       "        0.08615892, 0.09522828, 0.08162424, 0.0680202 , 0.0680202 ,\n",
       "        0.06348552, 0.0226734 , 0.05895084, 0.0453468 , 0.04988148,\n",
       "        0.02720808, 0.0680202 , 0.0680202 , 0.04081212, 0.04988148,\n",
       "        0.05895084, 0.04988148, 0.0226734 , 0.04081212, 0.03174276,\n",
       "        0.03627744, 0.03627744, 0.01360404, 0.0226734 , 0.0226734 ,\n",
       "        0.03627744, 0.03627744, 0.00906936, 0.03174276, 0.01813872,\n",
       "        0.02720808, 0.01813872, 0.01813872, 0.00906936, 0.0226734 ,\n",
       "        0.03174276, 0.00906936, 0.01813872]),\n",
       " array([0.        , 0.02272727, 0.04545455, 0.06818182, 0.09090909,\n",
       "        0.11363636, 0.13636364, 0.15909091, 0.18181818, 0.20454545,\n",
       "        0.22727273, 0.25      , 0.27272727, 0.29545455, 0.31818182,\n",
       "        0.34090909, 0.36363636, 0.38636364, 0.40909091, 0.43181818,\n",
       "        0.45454545, 0.47727273, 0.5       , 0.52272727, 0.54545455,\n",
       "        0.56818182, 0.59090909, 0.61363636, 0.63636364, 0.65909091,\n",
       "        0.68181818, 0.70454545, 0.72727273, 0.75      , 0.77272727,\n",
       "        0.79545455, 0.81818182, 0.84090909, 0.86363636, 0.88636364,\n",
       "        0.90909091, 0.93181818, 0.95454545, 0.97727273, 1.        ,\n",
       "        1.02272727, 1.04545455, 1.06818182, 1.09090909, 1.11363636,\n",
       "        1.13636364, 1.15909091, 1.18181818, 1.20454545, 1.22727273,\n",
       "        1.25      , 1.27272727, 1.29545455, 1.31818182, 1.34090909,\n",
       "        1.36363636, 1.38636364, 1.40909091, 1.43181818, 1.45454545,\n",
       "        1.47727273, 1.5       , 1.52272727, 1.54545455, 1.56818182,\n",
       "        1.59090909, 1.61363636, 1.63636364, 1.65909091, 1.68181818,\n",
       "        1.70454545, 1.72727273, 1.75      , 1.77272727, 1.79545455,\n",
       "        1.81818182, 1.84090909, 1.86363636, 1.88636364, 1.90909091,\n",
       "        1.93181818, 1.95454545, 1.97727273, 2.        ]),\n",
       " <BarContainer object of 88 artists>)"
      ]
     },
     "execution_count": 91,
     "metadata": {},
     "output_type": "execute_result"
    },
    {
     "data": {
      "text/plain": [
       "(array([3.16067196, 3.11079048, 2.96568072, 2.68906524, 2.62557972,\n",
       "        2.2900134 , 2.0859528 , 1.927239  , 1.79573328, 1.5644646 ,\n",
       "        1.46923632, 1.37400804, 1.29691848, 1.21075956, 1.0883232 ,\n",
       "        0.94774812, 0.86612388, 0.71194476, 0.81170772, 0.7028754 ,\n",
       "        0.75275688, 0.59404308, 0.5441616 , 0.46253736, 0.4988148 ,\n",
       "        0.3854478 , 0.39905184, 0.340101  , 0.30835824, 0.27661548,\n",
       "        0.34463568, 0.226734  , 0.21766464, 0.21766464, 0.2040606 ,\n",
       "        0.18592188, 0.18592188, 0.16778316, 0.1360404 , 0.1587138 ,\n",
       "        0.1813872 , 0.16324848, 0.0906936 , 0.12243636, 0.14057508,\n",
       "        0.12697104, 0.0906936 , 0.10429764, 0.08615892, 0.07708956,\n",
       "        0.08615892, 0.09522828, 0.08162424, 0.0680202 , 0.0680202 ,\n",
       "        0.06348552, 0.0226734 , 0.05895084, 0.0453468 , 0.04988148,\n",
       "        0.02720808, 0.0680202 , 0.0680202 , 0.04081212, 0.04988148,\n",
       "        0.05895084, 0.04988148, 0.0226734 , 0.04081212, 0.03174276,\n",
       "        0.03627744, 0.03627744, 0.01360404, 0.0226734 , 0.0226734 ,\n",
       "        0.03627744, 0.03627744, 0.00906936, 0.03174276, 0.01813872,\n",
       "        0.02720808, 0.01813872, 0.01813872, 0.00906936, 0.0226734 ,\n",
       "        0.03174276, 0.00906936, 0.01813872]),\n",
       " array([0.        , 0.02272727, 0.04545455, 0.06818182, 0.09090909,\n",
       "        0.11363636, 0.13636364, 0.15909091, 0.18181818, 0.20454545,\n",
       "        0.22727273, 0.25      , 0.27272727, 0.29545455, 0.31818182,\n",
       "        0.34090909, 0.36363636, 0.38636364, 0.40909091, 0.43181818,\n",
       "        0.45454545, 0.47727273, 0.5       , 0.52272727, 0.54545455,\n",
       "        0.56818182, 0.59090909, 0.61363636, 0.63636364, 0.65909091,\n",
       "        0.68181818, 0.70454545, 0.72727273, 0.75      , 0.77272727,\n",
       "        0.79545455, 0.81818182, 0.84090909, 0.86363636, 0.88636364,\n",
       "        0.90909091, 0.93181818, 0.95454545, 0.97727273, 1.        ,\n",
       "        1.02272727, 1.04545455, 1.06818182, 1.09090909, 1.11363636,\n",
       "        1.13636364, 1.15909091, 1.18181818, 1.20454545, 1.22727273,\n",
       "        1.25      , 1.27272727, 1.29545455, 1.31818182, 1.34090909,\n",
       "        1.36363636, 1.38636364, 1.40909091, 1.43181818, 1.45454545,\n",
       "        1.47727273, 1.5       , 1.52272727, 1.54545455, 1.56818182,\n",
       "        1.59090909, 1.61363636, 1.63636364, 1.65909091, 1.68181818,\n",
       "        1.70454545, 1.72727273, 1.75      , 1.77272727, 1.79545455,\n",
       "        1.81818182, 1.84090909, 1.86363636, 1.88636364, 1.90909091,\n",
       "        1.93181818, 1.95454545, 1.97727273, 2.        ]),\n",
       " <BarContainer object of 88 artists>)"
      ]
     },
     "execution_count": 91,
     "metadata": {},
     "output_type": "execute_result"
    },
    {
     "data": {
      "text/plain": [
       "(array([2.29528994, 2.21614201, 2.34111243, 2.33902959, 2.07450888,\n",
       "        2.0807574 , 1.95370414, 1.85581065, 1.55379882, 1.61836686,\n",
       "        1.41424852, 1.47673373, 1.36426036, 1.24345562, 1.22262722,\n",
       "        1.09973964, 1.06224852, 1.02059172, 0.88937278, 0.78731361,\n",
       "        0.7352426 , 0.67692308, 0.63526627, 0.61860355, 0.53945562,\n",
       "        0.54570414, 0.43947929, 0.42698225, 0.43531361, 0.3936568 ,\n",
       "        0.32908876, 0.34366864, 0.30201183, 0.31242604, 0.32492308,\n",
       "        0.29576331, 0.26035503, 0.23536095, 0.21453254, 0.20620118,\n",
       "        0.20828402, 0.1707929 , 0.1499645 , 0.15413018, 0.15829586,\n",
       "        0.14163314, 0.13746746, 0.13121893, 0.14579882, 0.12288757,\n",
       "        0.12080473, 0.10205917, 0.12080473, 0.09789349, 0.08331361,\n",
       "        0.10622485, 0.09164497, 0.09997633, 0.09164497, 0.07914793,\n",
       "        0.08331361, 0.05415385, 0.06456805, 0.07081657, 0.05831953,\n",
       "        0.05831953, 0.05415385, 0.06040237, 0.0416568 , 0.04998817,\n",
       "        0.06456805, 0.06665089, 0.05207101, 0.04998817, 0.04582249,\n",
       "        0.04998817, 0.04373964, 0.04373964, 0.04373964, 0.02707692,\n",
       "        0.03332544, 0.03749112, 0.03540828, 0.01666272, 0.02499408,\n",
       "        0.02291124, 0.02499408, 0.02707692]),\n",
       " array([0.        , 0.02272727, 0.04545455, 0.06818182, 0.09090909,\n",
       "        0.11363636, 0.13636364, 0.15909091, 0.18181818, 0.20454545,\n",
       "        0.22727273, 0.25      , 0.27272727, 0.29545455, 0.31818182,\n",
       "        0.34090909, 0.36363636, 0.38636364, 0.40909091, 0.43181818,\n",
       "        0.45454545, 0.47727273, 0.5       , 0.52272727, 0.54545455,\n",
       "        0.56818182, 0.59090909, 0.61363636, 0.63636364, 0.65909091,\n",
       "        0.68181818, 0.70454545, 0.72727273, 0.75      , 0.77272727,\n",
       "        0.79545455, 0.81818182, 0.84090909, 0.86363636, 0.88636364,\n",
       "        0.90909091, 0.93181818, 0.95454545, 0.97727273, 1.        ,\n",
       "        1.02272727, 1.04545455, 1.06818182, 1.09090909, 1.11363636,\n",
       "        1.13636364, 1.15909091, 1.18181818, 1.20454545, 1.22727273,\n",
       "        1.25      , 1.27272727, 1.29545455, 1.31818182, 1.34090909,\n",
       "        1.36363636, 1.38636364, 1.40909091, 1.43181818, 1.45454545,\n",
       "        1.47727273, 1.5       , 1.52272727, 1.54545455, 1.56818182,\n",
       "        1.59090909, 1.61363636, 1.63636364, 1.65909091, 1.68181818,\n",
       "        1.70454545, 1.72727273, 1.75      , 1.77272727, 1.79545455,\n",
       "        1.81818182, 1.84090909, 1.86363636, 1.88636364, 1.90909091,\n",
       "        1.93181818, 1.95454545, 1.97727273, 2.        ]),\n",
       " <BarContainer object of 88 artists>)"
      ]
     },
     "execution_count": 91,
     "metadata": {},
     "output_type": "execute_result"
    },
    {
     "data": {
      "text/plain": [
       "(array([3.16067196, 3.11079048, 2.96568072, 2.68906524, 2.62557972,\n",
       "        2.2900134 , 2.0859528 , 1.927239  , 1.79573328, 1.5644646 ,\n",
       "        1.46923632, 1.37400804, 1.29691848, 1.21075956, 1.0883232 ,\n",
       "        0.94774812, 0.86612388, 0.71194476, 0.81170772, 0.7028754 ,\n",
       "        0.75275688, 0.59404308, 0.5441616 , 0.46253736, 0.4988148 ,\n",
       "        0.3854478 , 0.39905184, 0.340101  , 0.30835824, 0.27661548,\n",
       "        0.34463568, 0.226734  , 0.21766464, 0.21766464, 0.2040606 ,\n",
       "        0.18592188, 0.18592188, 0.16778316, 0.1360404 , 0.1587138 ,\n",
       "        0.1813872 , 0.16324848, 0.0906936 , 0.12243636, 0.14057508,\n",
       "        0.12697104, 0.0906936 , 0.10429764, 0.08615892, 0.07708956,\n",
       "        0.08615892, 0.09522828, 0.08162424, 0.0680202 , 0.0680202 ,\n",
       "        0.06348552, 0.0226734 , 0.05895084, 0.0453468 , 0.04988148,\n",
       "        0.02720808, 0.0680202 , 0.0680202 , 0.04081212, 0.04988148,\n",
       "        0.05895084, 0.04988148, 0.0226734 , 0.04081212, 0.03174276,\n",
       "        0.03627744, 0.03627744, 0.01360404, 0.0226734 , 0.0226734 ,\n",
       "        0.03627744, 0.03627744, 0.00906936, 0.03174276, 0.01813872,\n",
       "        0.02720808, 0.01813872, 0.01813872, 0.00906936, 0.0226734 ,\n",
       "        0.03174276, 0.00906936, 0.01813872]),\n",
       " array([0.        , 0.02272727, 0.04545455, 0.06818182, 0.09090909,\n",
       "        0.11363636, 0.13636364, 0.15909091, 0.18181818, 0.20454545,\n",
       "        0.22727273, 0.25      , 0.27272727, 0.29545455, 0.31818182,\n",
       "        0.34090909, 0.36363636, 0.38636364, 0.40909091, 0.43181818,\n",
       "        0.45454545, 0.47727273, 0.5       , 0.52272727, 0.54545455,\n",
       "        0.56818182, 0.59090909, 0.61363636, 0.63636364, 0.65909091,\n",
       "        0.68181818, 0.70454545, 0.72727273, 0.75      , 0.77272727,\n",
       "        0.79545455, 0.81818182, 0.84090909, 0.86363636, 0.88636364,\n",
       "        0.90909091, 0.93181818, 0.95454545, 0.97727273, 1.        ,\n",
       "        1.02272727, 1.04545455, 1.06818182, 1.09090909, 1.11363636,\n",
       "        1.13636364, 1.15909091, 1.18181818, 1.20454545, 1.22727273,\n",
       "        1.25      , 1.27272727, 1.29545455, 1.31818182, 1.34090909,\n",
       "        1.36363636, 1.38636364, 1.40909091, 1.43181818, 1.45454545,\n",
       "        1.47727273, 1.5       , 1.52272727, 1.54545455, 1.56818182,\n",
       "        1.59090909, 1.61363636, 1.63636364, 1.65909091, 1.68181818,\n",
       "        1.70454545, 1.72727273, 1.75      , 1.77272727, 1.79545455,\n",
       "        1.81818182, 1.84090909, 1.86363636, 1.88636364, 1.90909091,\n",
       "        1.93181818, 1.95454545, 1.97727273, 2.        ]),\n",
       " <BarContainer object of 88 artists>)"
      ]
     },
     "execution_count": 91,
     "metadata": {},
     "output_type": "execute_result"
    },
    {
     "data": {
      "text/plain": [
       "(array([2.54718927, 2.4280557 , 2.39401753, 2.42238267, 2.21248066,\n",
       "        2.1784425 , 2.0139247 , 1.84373388, 1.67921609, 1.56008252,\n",
       "        1.45796802, 1.35018051, 1.34450748, 1.21970088, 1.31614234,\n",
       "        1.02114492, 1.11758638, 0.97008767, 0.87364621, 0.70345539,\n",
       "        0.64105209, 0.65239814, 0.57864879, 0.65807117, 0.5389376 ,\n",
       "        0.49922641, 0.39143889, 0.33470861, 0.42547705, 0.28932439,\n",
       "        0.34038164, 0.28932439, 0.26095926, 0.26095926, 0.28932439,\n",
       "        0.25528623, 0.19855596, 0.18153687, 0.23259412, 0.19855596,\n",
       "        0.17586385, 0.16451779, 0.19288293, 0.17019082, 0.1872099 ,\n",
       "        0.13047963, 0.11913357, 0.1248066 , 0.14749871, 0.10211449,\n",
       "        0.10211449, 0.09076844, 0.10778752, 0.11346055, 0.09644146,\n",
       "        0.09644146, 0.10778752, 0.1248066 , 0.11346055, 0.07374936,\n",
       "        0.07942238, 0.05105725, 0.03403816, 0.0624033 , 0.0624033 ,\n",
       "        0.05673027, 0.06807633, 0.06807633, 0.05105725, 0.05105725,\n",
       "        0.03971119, 0.07942238, 0.05673027, 0.05673027, 0.05105725,\n",
       "        0.04538422, 0.03403816, 0.03403816, 0.05673027, 0.01701908,\n",
       "        0.04538422, 0.02836514, 0.02269211, 0.03403816, 0.02836514,\n",
       "        0.02269211, 0.02269211, 0.02836514]),\n",
       " array([0.        , 0.02272727, 0.04545455, 0.06818182, 0.09090909,\n",
       "        0.11363636, 0.13636364, 0.15909091, 0.18181818, 0.20454545,\n",
       "        0.22727273, 0.25      , 0.27272727, 0.29545455, 0.31818182,\n",
       "        0.34090909, 0.36363636, 0.38636364, 0.40909091, 0.43181818,\n",
       "        0.45454545, 0.47727273, 0.5       , 0.52272727, 0.54545455,\n",
       "        0.56818182, 0.59090909, 0.61363636, 0.63636364, 0.65909091,\n",
       "        0.68181818, 0.70454545, 0.72727273, 0.75      , 0.77272727,\n",
       "        0.79545455, 0.81818182, 0.84090909, 0.86363636, 0.88636364,\n",
       "        0.90909091, 0.93181818, 0.95454545, 0.97727273, 1.        ,\n",
       "        1.02272727, 1.04545455, 1.06818182, 1.09090909, 1.11363636,\n",
       "        1.13636364, 1.15909091, 1.18181818, 1.20454545, 1.22727273,\n",
       "        1.25      , 1.27272727, 1.29545455, 1.31818182, 1.34090909,\n",
       "        1.36363636, 1.38636364, 1.40909091, 1.43181818, 1.45454545,\n",
       "        1.47727273, 1.5       , 1.52272727, 1.54545455, 1.56818182,\n",
       "        1.59090909, 1.61363636, 1.63636364, 1.65909091, 1.68181818,\n",
       "        1.70454545, 1.72727273, 1.75      , 1.77272727, 1.79545455,\n",
       "        1.81818182, 1.84090909, 1.86363636, 1.88636364, 1.90909091,\n",
       "        1.93181818, 1.95454545, 1.97727273, 2.        ]),\n",
       " <BarContainer object of 88 artists>)"
      ]
     },
     "execution_count": 91,
     "metadata": {},
     "output_type": "execute_result"
    },
    {
     "data": {
      "text/plain": [
       "(array([3.16067196, 3.11079048, 2.96568072, 2.68906524, 2.62557972,\n",
       "        2.2900134 , 2.0859528 , 1.927239  , 1.79573328, 1.5644646 ,\n",
       "        1.46923632, 1.37400804, 1.29691848, 1.21075956, 1.0883232 ,\n",
       "        0.94774812, 0.86612388, 0.71194476, 0.81170772, 0.7028754 ,\n",
       "        0.75275688, 0.59404308, 0.5441616 , 0.46253736, 0.4988148 ,\n",
       "        0.3854478 , 0.39905184, 0.340101  , 0.30835824, 0.27661548,\n",
       "        0.34463568, 0.226734  , 0.21766464, 0.21766464, 0.2040606 ,\n",
       "        0.18592188, 0.18592188, 0.16778316, 0.1360404 , 0.1587138 ,\n",
       "        0.1813872 , 0.16324848, 0.0906936 , 0.12243636, 0.14057508,\n",
       "        0.12697104, 0.0906936 , 0.10429764, 0.08615892, 0.07708956,\n",
       "        0.08615892, 0.09522828, 0.08162424, 0.0680202 , 0.0680202 ,\n",
       "        0.06348552, 0.0226734 , 0.05895084, 0.0453468 , 0.04988148,\n",
       "        0.02720808, 0.0680202 , 0.0680202 , 0.04081212, 0.04988148,\n",
       "        0.05895084, 0.04988148, 0.0226734 , 0.04081212, 0.03174276,\n",
       "        0.03627744, 0.03627744, 0.01360404, 0.0226734 , 0.0226734 ,\n",
       "        0.03627744, 0.03627744, 0.00906936, 0.03174276, 0.01813872,\n",
       "        0.02720808, 0.01813872, 0.01813872, 0.00906936, 0.0226734 ,\n",
       "        0.03174276, 0.00906936, 0.01813872]),\n",
       " array([0.        , 0.02272727, 0.04545455, 0.06818182, 0.09090909,\n",
       "        0.11363636, 0.13636364, 0.15909091, 0.18181818, 0.20454545,\n",
       "        0.22727273, 0.25      , 0.27272727, 0.29545455, 0.31818182,\n",
       "        0.34090909, 0.36363636, 0.38636364, 0.40909091, 0.43181818,\n",
       "        0.45454545, 0.47727273, 0.5       , 0.52272727, 0.54545455,\n",
       "        0.56818182, 0.59090909, 0.61363636, 0.63636364, 0.65909091,\n",
       "        0.68181818, 0.70454545, 0.72727273, 0.75      , 0.77272727,\n",
       "        0.79545455, 0.81818182, 0.84090909, 0.86363636, 0.88636364,\n",
       "        0.90909091, 0.93181818, 0.95454545, 0.97727273, 1.        ,\n",
       "        1.02272727, 1.04545455, 1.06818182, 1.09090909, 1.11363636,\n",
       "        1.13636364, 1.15909091, 1.18181818, 1.20454545, 1.22727273,\n",
       "        1.25      , 1.27272727, 1.29545455, 1.31818182, 1.34090909,\n",
       "        1.36363636, 1.38636364, 1.40909091, 1.43181818, 1.45454545,\n",
       "        1.47727273, 1.5       , 1.52272727, 1.54545455, 1.56818182,\n",
       "        1.59090909, 1.61363636, 1.63636364, 1.65909091, 1.68181818,\n",
       "        1.70454545, 1.72727273, 1.75      , 1.77272727, 1.79545455,\n",
       "        1.81818182, 1.84090909, 1.86363636, 1.88636364, 1.90909091,\n",
       "        1.93181818, 1.95454545, 1.97727273, 2.        ]),\n",
       " <BarContainer object of 88 artists>)"
      ]
     },
     "execution_count": 91,
     "metadata": {},
     "output_type": "execute_result"
    },
    {
     "data": {
      "text/plain": [
       "(array([2.1844928 , 2.0968434 , 2.32945143, 2.30248238, 2.01593625,\n",
       "        2.0429053 , 1.9114312 , 1.83726632, 1.4967821 , 1.65185412,\n",
       "        1.40239044, 1.56757585, 1.37205026, 1.26080294, 1.15629789,\n",
       "        1.14281336, 1.0484217 , 1.04505057, 0.88323629, 0.84278272,\n",
       "        0.79895801, 0.69108183, 0.66074165, 0.60006129, 0.54949433,\n",
       "        0.56634998, 0.46521606, 0.47532945, 0.43824701, 0.45510267,\n",
       "        0.3168863 , 0.36408213, 0.33037082, 0.34048422, 0.34722648,\n",
       "        0.32362856, 0.28991725, 0.25957708, 0.20901011, 0.21238124,\n",
       "        0.22586577, 0.17192767, 0.12136071, 0.14832976, 0.13484523,\n",
       "        0.13821637, 0.14495863, 0.13484523, 0.13821637, 0.13484523,\n",
       "        0.13484523, 0.09439166, 0.12810297, 0.09102053, 0.07753601,\n",
       "        0.10787619, 0.08090714, 0.08427827, 0.07416488, 0.07753601,\n",
       "        0.0876494 , 0.05056696, 0.08090714, 0.07416488, 0.05730922,\n",
       "        0.05730922, 0.0438247 , 0.05393809, 0.03708244, 0.04719583,\n",
       "        0.07079375, 0.06068036, 0.04719583, 0.04719583, 0.04045357,\n",
       "        0.05056696, 0.04719583, 0.04719583, 0.03371131, 0.03034018,\n",
       "        0.02696905, 0.03708244, 0.0438247 , 0.00674226, 0.01685565,\n",
       "        0.02022679, 0.02696905, 0.02696905]),\n",
       " array([0.        , 0.02272727, 0.04545455, 0.06818182, 0.09090909,\n",
       "        0.11363636, 0.13636364, 0.15909091, 0.18181818, 0.20454545,\n",
       "        0.22727273, 0.25      , 0.27272727, 0.29545455, 0.31818182,\n",
       "        0.34090909, 0.36363636, 0.38636364, 0.40909091, 0.43181818,\n",
       "        0.45454545, 0.47727273, 0.5       , 0.52272727, 0.54545455,\n",
       "        0.56818182, 0.59090909, 0.61363636, 0.63636364, 0.65909091,\n",
       "        0.68181818, 0.70454545, 0.72727273, 0.75      , 0.77272727,\n",
       "        0.79545455, 0.81818182, 0.84090909, 0.86363636, 0.88636364,\n",
       "        0.90909091, 0.93181818, 0.95454545, 0.97727273, 1.        ,\n",
       "        1.02272727, 1.04545455, 1.06818182, 1.09090909, 1.11363636,\n",
       "        1.13636364, 1.15909091, 1.18181818, 1.20454545, 1.22727273,\n",
       "        1.25      , 1.27272727, 1.29545455, 1.31818182, 1.34090909,\n",
       "        1.36363636, 1.38636364, 1.40909091, 1.43181818, 1.45454545,\n",
       "        1.47727273, 1.5       , 1.52272727, 1.54545455, 1.56818182,\n",
       "        1.59090909, 1.61363636, 1.63636364, 1.65909091, 1.68181818,\n",
       "        1.70454545, 1.72727273, 1.75      , 1.77272727, 1.79545455,\n",
       "        1.81818182, 1.84090909, 1.86363636, 1.88636364, 1.90909091,\n",
       "        1.93181818, 1.95454545, 1.97727273, 2.        ]),\n",
       " <BarContainer object of 88 artists>)"
      ]
     },
     "execution_count": 91,
     "metadata": {},
     "output_type": "execute_result"
    },
    {
     "data": {
      "text/plain": [
       "Text(0, 0.5, 'Probability')"
      ]
     },
     "execution_count": 91,
     "metadata": {},
     "output_type": "execute_result"
    },
    {
     "data": {
      "text/plain": [
       "Text(0.5, 0.002, 'Density Diff @ 400 km and fixed latitude')"
      ]
     },
     "execution_count": 91,
     "metadata": {},
     "output_type": "execute_result"
    },
    {
     "data": {
      "text/plain": [
       "<bound method Figure.draw of <Figure size 1100x500 with 4 Axes>>"
      ]
     },
     "execution_count": 91,
     "metadata": {},
     "output_type": "execute_result"
    },
    {
     "data": {
      "image/png": "[encoded data removed]",
      "text/plain": [
       "<Figure size 1100x500 with 4 Axes>"
      ]
     },
     "metadata": {},
     "output_type": "display_data"
    }
   ],
   "source": [
    "# define bins\n",
    "h_bins = np.histogram_bin_edges(sat_df.loc[gd_t,'den_diff'],bins='fd',range=(0,2.))\n",
    "\n",
    "density=True\n",
    "\n",
    "fig, ax = plt.subplots(1,4, figsize=(11,5),gridspec_kw={'bottom':0.15})\n",
    "\n",
    "ax[0].hist(sat_df.loc[gd_t,'den_diff'],bins=h_bins, alpha = 0.75, label='All', density=density, color='forestgreen')\n",
    "ax[0].hist(sat_df.loc[gd_t & qt_x & qt_y,'den_diff'],bins=h_bins, alpha = 0.5, label='Quiet', density=density, color='steelblue')\n",
    "\n",
    "ax[1].hist(sat_df.loc[gd_t & qt_x & qt_y,'den_diff'],bins=h_bins, alpha = 0.75, label='Quiet', density=density, color='steelblue')\n",
    "ax[1].hist(sat_df.loc[gd_t & st_x & st_y,'den_diff'],bins=h_bins, alpha = 0.5, label='Storm', density=density, color= 'red')\n",
    "\n",
    "ax[2].hist(sat_df.loc[gd_t & qt_x & qt_y,'den_diff'],bins=h_bins, alpha = 0.75, label='Quiet', density=density, color='steelblue')\n",
    "ax[2].hist(sat_df.loc[gd_t & mn_x & mn_y,'den_diff'],bins=h_bins, alpha = 0.5, label='Main Phase', density=density, color='darkorange')\n",
    "\n",
    "ax[3].hist(sat_df.loc[gd_t & qt_x & qt_y,'den_diff'],bins=h_bins, alpha = 0.75, label='Quiet', density=density, color='steelblue')\n",
    "ax[3].hist(sat_df.loc[gd_t & rc_x & rc_y,'den_diff'],bins=h_bins, alpha = 0.5, label='Recovery Phase', density=density, color='gold')\n",
    "\n",
    "ax[0].set_ylabel('Probability')\n",
    "fig.supxlabel('Density Diff @ 400 km and fixed latitude', y=0.002)\n",
    "\n",
    "fig.draw\n"
   ]
  }
 ],
 "metadata": {
  "kernelspec": {
   "display_name": "satdrag",
   "language": "python",
   "name": "python3"
  },
  "language_info": {
   "codemirror_mode": {
    "name": "ipython",
    "version": 3
   },
   "file_extension": ".py",
   "mimetype": "text/x-python",
   "name": "python",
   "nbconvert_exporter": "python",
   "pygments_lexer": "ipython3",
   "version": "3.10.9"
  },
  "orig_nbformat": 4
 },
 "nbformat": 4,
 "nbformat_minor": 2
}
