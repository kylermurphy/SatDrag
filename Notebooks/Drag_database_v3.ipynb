{
 "cells": [
  {
   "cell_type": "markdown",
   "metadata": {},
   "source": [
    "# Drag Database V3\n",
    "\n",
    "Satellite drag database to develop new machine learning algorithm that incoporates altitude.\n",
    "\n",
    "## Datasets\n",
    "\n",
    "All at 5 minute cadence\n",
    "\n",
    "- Grace B\n",
    "    - add geomagnetic coordinates\n",
    "- Omni\n",
    "- FISM2\n",
    "- MSIS profiles"
   ]
  },
  {
   "cell_type": "code",
   "execution_count": 37,
   "metadata": {},
   "outputs": [
    {
     "name": "stdout",
     "output_type": "stream",
     "text": [
      "The autoreload extension is already loaded. To reload it, use:\n",
      "  %reload_ext autoreload\n"
     ]
    }
   ],
   "source": [
    "%load_ext autoreload\n",
    "%autoreload 2"
   ]
  },
  {
   "cell_type": "code",
   "execution_count": 2,
   "metadata": {},
   "outputs": [],
   "source": [
    "import os, sys\n",
    "import pandas as pd\n",
    "\n",
    "# for converting to\n",
    "# geomagnetic coord\n",
    "import aacgmv2\n",
    "\n",
    "# add read_io module to current path ()\n",
    "# and import\n",
    "file_path = 'D:\\\\GitHub\\\\DataIO\\\\'\n",
    "sys.path.append(os.path.dirname(file_path))\n",
    "import data_io as dio"
   ]
  },
  {
   "cell_type": "code",
   "execution_count": 3,
   "metadata": {},
   "outputs": [],
   "source": [
    "# dates to read in\n",
    "sdate = '2002-01-01'\n",
    "edate = '2016-01-01'\n",
    "\n",
    "# number of years\n",
    "ldate = pd.to_datetime(edate)-pd.to_datetime(sdate)  \n",
    "ldate = int(ldate.total_seconds()/(365.2*86400)+1)"
   ]
  },
  {
   "cell_type": "code",
   "execution_count": 4,
   "metadata": {},
   "outputs": [],
   "source": [
    "# load grace data\n",
    "\n",
    "gr_d, gr_u, gr_m = dio.toleos_den.load_toleos(sat='gb',sdate=sdate,edate=edate)\n",
    "\n",
    "d_min = gr_d['DateTime'].min()\n",
    "d_max = gr_d['DateTime'].max()"
   ]
  },
  {
   "cell_type": "code",
   "execution_count": 5,
   "metadata": {},
   "outputs": [],
   "source": [
    "# load omni data\n",
    "om_d, om_m = dio.load_omni(res='5m',sdate=sdate, nd=ldate)\n",
    "om_d = om_d[(om_d['DateTime'] >= d_min-pd.DateOffset(minutes=5)) & (om_d['DateTime'] <= d_max+pd.DateOffset(minutes=5))]"
   ]
  },
  {
   "cell_type": "code",
   "execution_count": 6,
   "metadata": {},
   "outputs": [],
   "source": [
    "# read fsim2 data and truncate to similar range as grace data\n",
    "fi_d, fi_m = dio.load_fism2()\n",
    "fi_d = fi_d[(fi_d['DateTime'] >= d_min-pd.DateOffset(minutes=5)) & (fi_d['DateTime'] <= d_max+pd.DateOffset(minutes=5))]"
   ]
  },
  {
   "cell_type": "markdown",
   "metadata": {},
   "source": [
    "## Combine the DataFrames together\n",
    "\n",
    "Use a time delta of 2.5 minutes, the time cadence of the OMNI and FISM2 data sets. \n",
    "\n",
    "When combining the grace data use a time delta of 50 seconds (the largest differnce in the grace cadence)\n"
   ]
  },
  {
   "cell_type": "code",
   "execution_count": 7,
   "metadata": {},
   "outputs": [],
   "source": [
    "tol = pd.Timedelta('2.5 minute')"
   ]
  },
  {
   "cell_type": "code",
   "execution_count": 8,
   "metadata": {},
   "outputs": [
    {
     "data": {
      "text/plain": [
       "(1445752, 75)"
      ]
     },
     "execution_count": 8,
     "metadata": {},
     "output_type": "execute_result"
    }
   ],
   "source": [
    "# create database of fism and omni data\n",
    "\n",
    "fi_d = fi_d.rename(columns={'DateTime':'DateTime_fism2'})\n",
    "fi_d.index = fi_d['DateTime_fism2']\n",
    "\n",
    "om_d.index = om_d['DateTime']\n",
    "\n",
    "database = pd.merge_asof(left=om_d,right=fi_d,right_index=True,left_index=True,direction='nearest',tolerance=tol)\n",
    "database = database.rename(columns={'DateTime':'DateTime_omni'})\n",
    "\n",
    "om_d.shape\n",
    "database.shape"
   ]
  },
  {
   "cell_type": "code",
   "execution_count": 9,
   "metadata": {},
   "outputs": [
    {
     "data": {
      "text/plain": [
       "(1445752, 88)"
      ]
     },
     "execution_count": 9,
     "metadata": {},
     "output_type": "execute_result"
    }
   ],
   "source": [
    "# add the grace data\n",
    "\n",
    "gr_d = gr_d.rename(columns={'DateTime':'DateTime_gr'})\n",
    "gr_d.index = gr_d['DateTime_gr']\n",
    "\n",
    "tol = pd.Timedelta('50 second')\n",
    "\n",
    "database = pd.merge_asof(left=database,right=gr_d,right_index=True,left_index=True,direction='nearest',tolerance=tol)\n",
    "\n",
    "om_d.shape\n",
    "database.shape"
   ]
  },
  {
   "cell_type": "code",
   "execution_count": 10,
   "metadata": {},
   "outputs": [
    {
     "name": "stderr",
     "output_type": "stream",
     "text": [
      "C:\\Users\\krmurph1\\AppData\\Local\\Temp\\ipykernel_33104\\1068670718.py:5: FutureWarning: The argument 'infer_datetime_format' is deprecated and will be removed in a future version. A strict version of it is now the default, see https://pandas.pydata.org/pdeps/0004-consistent-to-datetime-parsing.html. You can safely remove this argument.\n",
      "  storm_time = pd.read_csv(storm_txt, header=None, skiprows=1,\n",
      "C:\\Users\\krmurph1\\AppData\\Local\\Temp\\ipykernel_33104\\1068670718.py:5: FutureWarning: The 'delim_whitespace' keyword in pd.read_csv is deprecated and will be removed in a future version. Use ``sep='\\s+'`` instead\n",
      "  storm_time = pd.read_csv(storm_txt, header=None, skiprows=1,\n"
     ]
    },
    {
     "data": {
      "text/plain": [
       "Timestamp('2017-12-02 01:00:00')"
      ]
     },
     "execution_count": 10,
     "metadata": {},
     "output_type": "execute_result"
    }
   ],
   "source": [
    "# get storm times\n",
    "\n",
    "# read in storm start and end times\n",
    "storm_txt = 'D:\\\\GitHub\\\\SatDrag\\\\data\\\\storms_drag_epochs_no_overlap.txt'\n",
    "storm_time = pd.read_csv(storm_txt, header=None, skiprows=1, \n",
    "                     delim_whitespace=1, names = ['t_st','t_dst','t_en'], parse_dates=[0, 1, 2],\n",
    "                     infer_datetime_format=True)\n",
    "\n",
    "storm_time['t_st'].min()\n",
    "storm_time['t_st'].max()"
   ]
  },
  {
   "cell_type": "code",
   "execution_count": 11,
   "metadata": {},
   "outputs": [
    {
     "data": {
      "text/html": [
       "<div>\n",
       "<style scoped>\n",
       "    .dataframe tbody tr th:only-of-type {\n",
       "        vertical-align: middle;\n",
       "    }\n",
       "\n",
       "    .dataframe tbody tr th {\n",
       "        vertical-align: top;\n",
       "    }\n",
       "\n",
       "    .dataframe thead th {\n",
       "        text-align: right;\n",
       "    }\n",
       "</style>\n",
       "<table border=\"1\" class=\"dataframe\">\n",
       "  <thead>\n",
       "    <tr style=\"text-align: right;\">\n",
       "      <th></th>\n",
       "      <th>t_st</th>\n",
       "      <th>t_dst</th>\n",
       "      <th>t_en</th>\n",
       "    </tr>\n",
       "  </thead>\n",
       "  <tbody>\n",
       "    <tr>\n",
       "      <th>0</th>\n",
       "      <td>2002-01-23 03:00:00</td>\n",
       "      <td>2002-01-25 20:00:00</td>\n",
       "      <td>2002-01-27 22:00:00</td>\n",
       "    </tr>\n",
       "    <tr>\n",
       "      <th>1</th>\n",
       "      <td>2002-01-30 18:00:00</td>\n",
       "      <td>2002-02-02 09:00:00</td>\n",
       "      <td>2002-02-02 20:00:00</td>\n",
       "    </tr>\n",
       "    <tr>\n",
       "      <th>2</th>\n",
       "      <td>2002-02-02 20:00:00</td>\n",
       "      <td>2002-02-05 20:00:00</td>\n",
       "      <td>2002-02-10 12:00:00</td>\n",
       "    </tr>\n",
       "    <tr>\n",
       "      <th>3</th>\n",
       "      <td>2002-02-10 12:00:00</td>\n",
       "      <td>2002-02-13 00:00:00</td>\n",
       "      <td>2002-02-15 02:00:00</td>\n",
       "    </tr>\n",
       "    <tr>\n",
       "      <th>4</th>\n",
       "      <td>2002-02-23 13:00:00</td>\n",
       "      <td>2002-02-26 07:00:00</td>\n",
       "      <td>2002-02-26 16:00:00</td>\n",
       "    </tr>\n",
       "  </tbody>\n",
       "</table>\n",
       "</div>"
      ],
      "text/plain": [
       "                 t_st               t_dst                t_en\n",
       "0 2002-01-23 03:00:00 2002-01-25 20:00:00 2002-01-27 22:00:00\n",
       "1 2002-01-30 18:00:00 2002-02-02 09:00:00 2002-02-02 20:00:00\n",
       "2 2002-02-02 20:00:00 2002-02-05 20:00:00 2002-02-10 12:00:00\n",
       "3 2002-02-10 12:00:00 2002-02-13 00:00:00 2002-02-15 02:00:00\n",
       "4 2002-02-23 13:00:00 2002-02-26 07:00:00 2002-02-26 16:00:00"
      ]
     },
     "execution_count": 11,
     "metadata": {},
     "output_type": "execute_result"
    }
   ],
   "source": [
    "storm_time.head()"
   ]
  },
  {
   "cell_type": "markdown",
   "metadata": {},
   "source": [
    "## Add storm times to the dataframe"
   ]
  },
  {
   "cell_type": "code",
   "execution_count": 12,
   "metadata": {},
   "outputs": [
    {
     "data": {
      "text/plain": [
       "Index(['DateTime_omni', 'Year', 'DOY', 'Hour', 'Minute', 'IMF_id', 'SW_id',\n",
       "       'IMF_pt', 'SW_pt', 'Per_int', 'Timeshift', 'RMS_Timeshift',\n",
       "       'RMS_PhaseFrontNormal', 'Time_btwn_observations', 'B', 'Bx_GSEGSM',\n",
       "       'By_GSE', 'Bz_GSE', 'By_GSM', 'Bz_GSM', 'RMS_SD_B',\n",
       "       'RMS_SD_field_vector', 'Vsw', 'Vx_GSE', 'Vy_GSE', 'Vz_GSE', 'Prho',\n",
       "       'Tp', 'dynP', 'Esw', 'Beta', 'AlfvenMach', 'X(s/c), GSE', 'Y(s/c), GSE',\n",
       "       'Z(s/c), GSE', 'BSN location, Xgse', 'BSN location, Ygse',\n",
       "       'BSN location, Zgse', 'AE', 'AL', 'AU', 'SYM_D index', 'SYM_H index',\n",
       "       'ASY_D index', 'ASY_H index', 'PC index', 'Na_Np Ratio',\n",
       "       'MagnetosonicMach', 'Goes Proton flux (>10 MeV)',\n",
       "       'Goes Proton flux (>30 MeV)', 'Goes Proton flux (>60 MeV)',\n",
       "       'DateTime_fism2', '225_00', '600_01', '1300_02', '2500_03', '5100_04',\n",
       "       '11250_05', '18950_06', '25700_07', '30500_08', '43000_09', '59500_10',\n",
       "       '72400_11', '72400_12', '85550_13', '85550_14', '85550_15', '94400_16',\n",
       "       '94400_17', '94400_18', '98100_19', '100700_20', '103850_21',\n",
       "       '113000_22', 'Date', 'Time', 'Time System', 'alt', 'lon', 'lat', 'lst',\n",
       "       'arglat', 'dens_x', 'dens_mean', 'flag_0', 'flag_1', 'DateTime_gr'],\n",
       "      dtype='object')"
      ]
     },
     "execution_count": 12,
     "metadata": {},
     "output_type": "execute_result"
    }
   ],
   "source": [
    "database.columns"
   ]
  },
  {
   "cell_type": "code",
   "execution_count": 14,
   "metadata": {},
   "outputs": [],
   "source": [
    "# loop through the storms and set\n",
    "# flags in the satellite drag database\n",
    "# for the different times\n",
    "\n",
    "database = database.reset_index()\n",
    "database['storm'] = -1\n",
    "database['storm phase'] = -1\n",
    "\n",
    "for index, row in storm_time.iterrows():\n",
    "    stp = (database['DateTime']>=row['t_st']) & (database['DateTime']<row['t_en'])\n",
    "    mpp = (database['DateTime']>=row['t_st']) & (database['DateTime']<row['t_dst'])\n",
    "    rpp = (database['DateTime']>=row['t_dst']) & (database['DateTime']<row['t_en'])\n",
    "\n",
    "    database.loc[stp,'storm'] = 1\n",
    "    database.loc[mpp,'storm phase'] = 1\n",
    "    database.loc[rpp,'storm phase'] = 2"
   ]
  },
  {
   "cell_type": "code",
   "execution_count": 23,
   "metadata": {},
   "outputs": [
    {
     "data": {
      "text/plain": [
       "Index(['DateTime', 'DateTime_omni', 'Year', 'DOY', 'Hour', 'Minute', 'IMF_id',\n",
       "       'SW_id', 'IMF_pt', 'SW_pt', 'Per_int', 'Timeshift', 'RMS_Timeshift',\n",
       "       'RMS_PhaseFrontNormal', 'Time_btwn_observations', 'B', 'Bx_GSEGSM',\n",
       "       'By_GSE', 'Bz_GSE', 'By_GSM', 'Bz_GSM', 'RMS_SD_B',\n",
       "       'RMS_SD_field_vector', 'Vsw', 'Vx_GSE', 'Vy_GSE', 'Vz_GSE', 'Prho',\n",
       "       'Tp', 'dynP', 'Esw', 'Beta', 'AlfvenMach', 'X(s/c), GSE', 'Y(s/c), GSE',\n",
       "       'Z(s/c), GSE', 'BSN location, Xgse', 'BSN location, Ygse',\n",
       "       'BSN location, Zgse', 'AE', 'AL', 'AU', 'SYM_D index', 'SYM_H index',\n",
       "       'ASY_D index', 'ASY_H index', 'PC index', 'Na_Np Ratio',\n",
       "       'MagnetosonicMach', 'Goes Proton flux (>10 MeV)',\n",
       "       'Goes Proton flux (>30 MeV)', 'Goes Proton flux (>60 MeV)',\n",
       "       'DateTime_fism2', '225_00', '600_01', '1300_02', '2500_03', '5100_04',\n",
       "       '11250_05', '18950_06', '25700_07', '30500_08', '43000_09', '59500_10',\n",
       "       '72400_11', '72400_12', '85550_13', '85550_14', '85550_15', '94400_16',\n",
       "       '94400_17', '94400_18', '98100_19', '100700_20', '103850_21',\n",
       "       '113000_22', 'Date', 'Time', 'Time System', 'alt', 'lon', 'lat', 'lst',\n",
       "       'arglat', 'dens_x', 'dens_mean', 'flag_0', 'flag_1', 'DateTime_gr',\n",
       "       'storm', 'storm phase'],\n",
       "      dtype='object')"
      ]
     },
     "execution_count": 23,
     "metadata": {},
     "output_type": "execute_result"
    }
   ],
   "source": [
    "database.columns"
   ]
  },
  {
   "cell_type": "code",
   "execution_count": 36,
   "metadata": {},
   "outputs": [
    {
     "name": "stdout",
     "output_type": "stream",
     "text": [
      "(1251435, 91)\n"
     ]
    }
   ],
   "source": [
    "database = database.dropna(subset='DateTime_gr')\n",
    "print(database.shape)"
   ]
  },
  {
   "cell_type": "markdown",
   "metadata": {},
   "source": [
    "## Save data"
   ]
  },
  {
   "cell_type": "code",
   "execution_count": 37,
   "metadata": {},
   "outputs": [],
   "source": [
    "fn = f'D:\\\\data\\\\SatDensities\\\\satdrag_database_grace_b_v3.hdf5'\n",
    "\n",
    "database.to_hdf(fn,key='database', mode='w', format='fixed', complevel=9)"
   ]
  },
  {
   "cell_type": "code",
   "execution_count": 38,
   "metadata": {},
   "outputs": [
    {
     "data": {
      "text/html": [
       "<div>\n",
       "<style scoped>\n",
       "    .dataframe tbody tr th:only-of-type {\n",
       "        vertical-align: middle;\n",
       "    }\n",
       "\n",
       "    .dataframe tbody tr th {\n",
       "        vertical-align: top;\n",
       "    }\n",
       "\n",
       "    .dataframe thead th {\n",
       "        text-align: right;\n",
       "    }\n",
       "</style>\n",
       "<table border=\"1\" class=\"dataframe\">\n",
       "  <thead>\n",
       "    <tr style=\"text-align: right;\">\n",
       "      <th></th>\n",
       "      <th>DateTime</th>\n",
       "      <th>DateTime_omni</th>\n",
       "      <th>Year</th>\n",
       "      <th>DOY</th>\n",
       "      <th>Hour</th>\n",
       "      <th>Minute</th>\n",
       "      <th>IMF_id</th>\n",
       "      <th>SW_id</th>\n",
       "      <th>IMF_pt</th>\n",
       "      <th>SW_pt</th>\n",
       "      <th>...</th>\n",
       "      <th>lat</th>\n",
       "      <th>lst</th>\n",
       "      <th>arglat</th>\n",
       "      <th>dens_x</th>\n",
       "      <th>dens_mean</th>\n",
       "      <th>flag_0</th>\n",
       "      <th>flag_1</th>\n",
       "      <th>DateTime_gr</th>\n",
       "      <th>storm</th>\n",
       "      <th>storm phase</th>\n",
       "    </tr>\n",
       "  </thead>\n",
       "  <tbody>\n",
       "    <tr>\n",
       "      <th>1</th>\n",
       "      <td>2002-04-04 00:50:00</td>\n",
       "      <td>2002-04-04 00:50:00</td>\n",
       "      <td>2002</td>\n",
       "      <td>94</td>\n",
       "      <td>0</td>\n",
       "      <td>50</td>\n",
       "      <td>71.0</td>\n",
       "      <td>71.0</td>\n",
       "      <td>5.0</td>\n",
       "      <td>5.0</td>\n",
       "      <td>...</td>\n",
       "      <td>-58.533</td>\n",
       "      <td>10.508</td>\n",
       "      <td>301.602</td>\n",
       "      <td>1.344974e-12</td>\n",
       "      <td>1.242133e-12</td>\n",
       "      <td>0.0</td>\n",
       "      <td>0.0</td>\n",
       "      <td>2002-04-04 00:50:00</td>\n",
       "      <td>1</td>\n",
       "      <td>2</td>\n",
       "    </tr>\n",
       "    <tr>\n",
       "      <th>2</th>\n",
       "      <td>2002-04-04 00:55:00</td>\n",
       "      <td>2002-04-04 00:55:00</td>\n",
       "      <td>2002</td>\n",
       "      <td>94</td>\n",
       "      <td>0</td>\n",
       "      <td>55</td>\n",
       "      <td>71.0</td>\n",
       "      <td>71.0</td>\n",
       "      <td>5.0</td>\n",
       "      <td>4.0</td>\n",
       "      <td>...</td>\n",
       "      <td>-39.572</td>\n",
       "      <td>10.560</td>\n",
       "      <td>320.585</td>\n",
       "      <td>1.468320e-12</td>\n",
       "      <td>1.239372e-12</td>\n",
       "      <td>0.0</td>\n",
       "      <td>0.0</td>\n",
       "      <td>2002-04-04 00:55:00</td>\n",
       "      <td>1</td>\n",
       "      <td>2</td>\n",
       "    </tr>\n",
       "    <tr>\n",
       "      <th>3</th>\n",
       "      <td>2002-04-04 01:00:00</td>\n",
       "      <td>2002-04-04 01:00:00</td>\n",
       "      <td>2002</td>\n",
       "      <td>94</td>\n",
       "      <td>1</td>\n",
       "      <td>0</td>\n",
       "      <td>71.0</td>\n",
       "      <td>71.0</td>\n",
       "      <td>5.0</td>\n",
       "      <td>5.0</td>\n",
       "      <td>...</td>\n",
       "      <td>-20.544</td>\n",
       "      <td>10.589</td>\n",
       "      <td>339.559</td>\n",
       "      <td>1.643068e-12</td>\n",
       "      <td>1.236610e-12</td>\n",
       "      <td>0.0</td>\n",
       "      <td>0.0</td>\n",
       "      <td>2002-04-04 01:00:00</td>\n",
       "      <td>1</td>\n",
       "      <td>2</td>\n",
       "    </tr>\n",
       "    <tr>\n",
       "      <th>4</th>\n",
       "      <td>2002-04-04 01:05:00</td>\n",
       "      <td>2002-04-04 01:05:00</td>\n",
       "      <td>2002</td>\n",
       "      <td>94</td>\n",
       "      <td>1</td>\n",
       "      <td>5</td>\n",
       "      <td>71.0</td>\n",
       "      <td>71.0</td>\n",
       "      <td>5.0</td>\n",
       "      <td>5.0</td>\n",
       "      <td>...</td>\n",
       "      <td>-1.469</td>\n",
       "      <td>10.611</td>\n",
       "      <td>358.529</td>\n",
       "      <td>1.700921e-12</td>\n",
       "      <td>1.234232e-12</td>\n",
       "      <td>0.0</td>\n",
       "      <td>0.0</td>\n",
       "      <td>2002-04-04 01:05:00</td>\n",
       "      <td>1</td>\n",
       "      <td>2</td>\n",
       "    </tr>\n",
       "    <tr>\n",
       "      <th>5</th>\n",
       "      <td>2002-04-04 01:10:00</td>\n",
       "      <td>2002-04-04 01:10:00</td>\n",
       "      <td>2002</td>\n",
       "      <td>94</td>\n",
       "      <td>1</td>\n",
       "      <td>10</td>\n",
       "      <td>71.0</td>\n",
       "      <td>71.0</td>\n",
       "      <td>5.0</td>\n",
       "      <td>5.0</td>\n",
       "      <td>...</td>\n",
       "      <td>17.613</td>\n",
       "      <td>10.633</td>\n",
       "      <td>17.503</td>\n",
       "      <td>1.745759e-12</td>\n",
       "      <td>1.231855e-12</td>\n",
       "      <td>0.0</td>\n",
       "      <td>0.0</td>\n",
       "      <td>2002-04-04 01:10:00</td>\n",
       "      <td>1</td>\n",
       "      <td>2</td>\n",
       "    </tr>\n",
       "  </tbody>\n",
       "</table>\n",
       "<p>5 rows × 91 columns</p>\n",
       "</div>"
      ],
      "text/plain": [
       "             DateTime       DateTime_omni  Year  DOY  Hour  Minute  IMF_id  \\\n",
       "1 2002-04-04 00:50:00 2002-04-04 00:50:00  2002   94     0      50    71.0   \n",
       "2 2002-04-04 00:55:00 2002-04-04 00:55:00  2002   94     0      55    71.0   \n",
       "3 2002-04-04 01:00:00 2002-04-04 01:00:00  2002   94     1       0    71.0   \n",
       "4 2002-04-04 01:05:00 2002-04-04 01:05:00  2002   94     1       5    71.0   \n",
       "5 2002-04-04 01:10:00 2002-04-04 01:10:00  2002   94     1      10    71.0   \n",
       "\n",
       "   SW_id  IMF_pt  SW_pt  ...     lat     lst   arglat        dens_x  \\\n",
       "1   71.0     5.0    5.0  ... -58.533  10.508  301.602  1.344974e-12   \n",
       "2   71.0     5.0    4.0  ... -39.572  10.560  320.585  1.468320e-12   \n",
       "3   71.0     5.0    5.0  ... -20.544  10.589  339.559  1.643068e-12   \n",
       "4   71.0     5.0    5.0  ...  -1.469  10.611  358.529  1.700921e-12   \n",
       "5   71.0     5.0    5.0  ...  17.613  10.633   17.503  1.745759e-12   \n",
       "\n",
       "      dens_mean  flag_0  flag_1         DateTime_gr  storm  storm phase  \n",
       "1  1.242133e-12     0.0     0.0 2002-04-04 00:50:00      1            2  \n",
       "2  1.239372e-12     0.0     0.0 2002-04-04 00:55:00      1            2  \n",
       "3  1.236610e-12     0.0     0.0 2002-04-04 01:00:00      1            2  \n",
       "4  1.234232e-12     0.0     0.0 2002-04-04 01:05:00      1            2  \n",
       "5  1.231855e-12     0.0     0.0 2002-04-04 01:10:00      1            2  \n",
       "\n",
       "[5 rows x 91 columns]"
      ]
     },
     "execution_count": 38,
     "metadata": {},
     "output_type": "execute_result"
    }
   ],
   "source": [
    "database.head()"
   ]
  }
 ],
 "metadata": {
  "kernelspec": {
   "display_name": "satdrag",
   "language": "python",
   "name": "python3"
  },
  "language_info": {
   "codemirror_mode": {
    "name": "ipython",
    "version": 3
   },
   "file_extension": ".py",
   "mimetype": "text/x-python",
   "name": "python",
   "nbconvert_exporter": "python",
   "pygments_lexer": "ipython3",
   "version": "3.10.14"
  }
 },
 "nbformat": 4,
 "nbformat_minor": 2
}
