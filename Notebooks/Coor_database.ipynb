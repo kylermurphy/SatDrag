{
 "cells": [
  {
   "attachments": {},
   "cell_type": "markdown",
   "metadata": {},
   "source": [
    "# Coorelations of the database \n",
    "\n",
    "Correlation matrices for the data set \n"
   ]
  },
  {
   "cell_type": "code",
   "execution_count": 100,
   "metadata": {},
   "outputs": [],
   "source": [
    "import pandas as pd\n",
    "import seaborn as sns\n",
    "import matplotlib.pyplot as plt\n",
    "\n",
    "%matplotlib qt\n",
    "\n",
    "#print all output in a cell \n",
    "from IPython.core.interactiveshell import InteractiveShell\n",
    "InteractiveShell.ast_node_interactivity = \"all\""
   ]
  },
  {
   "cell_type": "code",
   "execution_count": 101,
   "metadata": {},
   "outputs": [],
   "source": [
    "columns_solar = ['F10', 'F81','S10', 'S81c', 'M10', 'M81c', 'Y10', 'Y81c','400kmDensity']  \n",
    "\n",
    "columns_fism = ['225_00', '600_01', '1300_02', '2500_03', '5100_04',\n",
    "            '11250_05', '18950_06', '25700_07', '30500_08', '43000_09', '59500_10',\n",
    "            '72400_11', '72400_12', '85550_13', '85550_14', '85550_15', '94400_16',\n",
    "            '94400_17', '94400_18', '98100_19', '100700_20', '103850_21',\n",
    "            '113000_22','400kmDensity']\n",
    "\n",
    "columns_swgeo = ['Bx_GSEGSM','By_GSM', 'Bz_GSM', \n",
    "           'Vsw', 'Vx_GSE', 'Vy_GSE', 'Vz_GSE', 'Prho', 'Tp',\n",
    "           'dynP', 'Esw', 'AE', 'AL', 'AU', 'SYM_H index',\n",
    "           'storm', 'storm phase','400kmDensity']  \n",
    "\n",
    "col = columns_fism\n",
    "\n",
    "sdate = '2012-01-01'"
   ]
  },
  {
   "cell_type": "code",
   "execution_count": 102,
   "metadata": {},
   "outputs": [],
   "source": [
    "fn = 'D:\\\\data\\\\SatDensities\\\\satdrag_database_grace_B_SI_int.hdf5'\n",
    "df = pd.read_hdf(fn)\n",
    "\n",
    "df = df[df['DateTime'] > sdate]"
   ]
  },
  {
   "cell_type": "code",
   "execution_count": 103,
   "metadata": {},
   "outputs": [
    {
     "data": {
      "text/plain": [
       "Index(['DateTime', 'DateTime_omni', 'B', 'Bx_GSEGSM', 'By_GSE', 'Bz_GSE',\n",
       "       'By_GSM', 'Bz_GSM', 'Vsw', 'Vx_GSE', 'Vy_GSE', 'Vz_GSE', 'Prho', 'Tp',\n",
       "       'dynP', 'Esw', 'AE', 'AL', 'AU', 'SYM_D index', 'SYM_H index',\n",
       "       'ASY_D index', 'ASY_H index', 'PC index', 'Goes Proton flux (>10 MeV)',\n",
       "       'Goes Proton flux (>30 MeV)', 'Goes Proton flux (>60 MeV)',\n",
       "       'DateTime_fism2', '225_00', '600_01', '1300_02', '2500_03', '5100_04',\n",
       "       '11250_05', '18950_06', '25700_07', '30500_08', '43000_09', '59500_10',\n",
       "       '72400_11', '72400_12', '85550_13', '85550_14', '85550_15', '94400_16',\n",
       "       '94400_17', '94400_18', '98100_19', '100700_20', '103850_21',\n",
       "       '113000_22', 'DateTime_si', 'F10', 'F81', 'S10', 'S81c', 'M10', 'M81c',\n",
       "       'Y10', 'Y81c', 'DateTime_gr', 'CenterLat', 'SatLat', 'SatLon',\n",
       "       'SatHeight', 'SatLT', 'SatDipoleLat', 'SatMagLon', 'SatMagLT',\n",
       "       'SatDensity', '400kmDensity', '410kmDensity', 'NRLMSISe00atSat',\n",
       "       'DenUncertainty', 'NumPts', 'NuminBinThrusters', 'AveDragCoef', 'storm',\n",
       "       'storm phase'],\n",
       "      dtype='object')"
      ]
     },
     "execution_count": 103,
     "metadata": {},
     "output_type": "execute_result"
    }
   ],
   "source": [
    "df.columns"
   ]
  },
  {
   "cell_type": "code",
   "execution_count": 104,
   "metadata": {},
   "outputs": [
    {
     "data": {
      "text/html": [
       "<div>\n",
       "<style scoped>\n",
       "    .dataframe tbody tr th:only-of-type {\n",
       "        vertical-align: middle;\n",
       "    }\n",
       "\n",
       "    .dataframe tbody tr th {\n",
       "        vertical-align: top;\n",
       "    }\n",
       "\n",
       "    .dataframe thead th {\n",
       "        text-align: right;\n",
       "    }\n",
       "</style>\n",
       "<table border=\"1\" class=\"dataframe\">\n",
       "  <thead>\n",
       "    <tr style=\"text-align: right;\">\n",
       "      <th></th>\n",
       "      <th>DateTime</th>\n",
       "      <th>F10</th>\n",
       "      <th>F81</th>\n",
       "      <th>S10</th>\n",
       "      <th>S81c</th>\n",
       "      <th>M10</th>\n",
       "      <th>M81c</th>\n",
       "      <th>Y10</th>\n",
       "      <th>Y81c</th>\n",
       "    </tr>\n",
       "  </thead>\n",
       "  <tbody>\n",
       "    <tr>\n",
       "      <th>990721</th>\n",
       "      <td>2012-01-01 00:05:00</td>\n",
       "      <td>134.1</td>\n",
       "      <td>133.8</td>\n",
       "      <td>138.2</td>\n",
       "      <td>141.9</td>\n",
       "      <td>134.5</td>\n",
       "      <td>128.4</td>\n",
       "      <td>133.1</td>\n",
       "      <td>133.9</td>\n",
       "    </tr>\n",
       "    <tr>\n",
       "      <th>990722</th>\n",
       "      <td>2012-01-01 00:10:00</td>\n",
       "      <td>134.1</td>\n",
       "      <td>133.8</td>\n",
       "      <td>138.2</td>\n",
       "      <td>141.9</td>\n",
       "      <td>134.5</td>\n",
       "      <td>128.4</td>\n",
       "      <td>133.1</td>\n",
       "      <td>133.9</td>\n",
       "    </tr>\n",
       "    <tr>\n",
       "      <th>990723</th>\n",
       "      <td>2012-01-01 00:15:00</td>\n",
       "      <td>134.1</td>\n",
       "      <td>133.8</td>\n",
       "      <td>138.2</td>\n",
       "      <td>141.9</td>\n",
       "      <td>134.5</td>\n",
       "      <td>128.4</td>\n",
       "      <td>133.1</td>\n",
       "      <td>133.9</td>\n",
       "    </tr>\n",
       "    <tr>\n",
       "      <th>990724</th>\n",
       "      <td>2012-01-01 00:20:00</td>\n",
       "      <td>134.1</td>\n",
       "      <td>133.8</td>\n",
       "      <td>138.2</td>\n",
       "      <td>141.9</td>\n",
       "      <td>134.5</td>\n",
       "      <td>128.4</td>\n",
       "      <td>133.1</td>\n",
       "      <td>133.9</td>\n",
       "    </tr>\n",
       "    <tr>\n",
       "      <th>990725</th>\n",
       "      <td>2012-01-01 00:25:00</td>\n",
       "      <td>134.1</td>\n",
       "      <td>133.8</td>\n",
       "      <td>138.2</td>\n",
       "      <td>141.9</td>\n",
       "      <td>134.5</td>\n",
       "      <td>128.4</td>\n",
       "      <td>133.1</td>\n",
       "      <td>133.9</td>\n",
       "    </tr>\n",
       "  </tbody>\n",
       "</table>\n",
       "</div>"
      ],
      "text/plain": [
       "                  DateTime    F10    F81    S10   S81c    M10   M81c    Y10  \\\n",
       "990721 2012-01-01 00:05:00  134.1  133.8  138.2  141.9  134.5  128.4  133.1   \n",
       "990722 2012-01-01 00:10:00  134.1  133.8  138.2  141.9  134.5  128.4  133.1   \n",
       "990723 2012-01-01 00:15:00  134.1  133.8  138.2  141.9  134.5  128.4  133.1   \n",
       "990724 2012-01-01 00:20:00  134.1  133.8  138.2  141.9  134.5  128.4  133.1   \n",
       "990725 2012-01-01 00:25:00  134.1  133.8  138.2  141.9  134.5  128.4  133.1   \n",
       "\n",
       "         Y81c  \n",
       "990721  133.9  \n",
       "990722  133.9  \n",
       "990723  133.9  \n",
       "990724  133.9  \n",
       "990725  133.9  "
      ]
     },
     "execution_count": 104,
     "metadata": {},
     "output_type": "execute_result"
    }
   ],
   "source": [
    "df[['DateTime', 'F10', 'F81', 'S10', 'S81c', 'M10', 'M81c',\n",
    "       'Y10', 'Y81c']].head()"
   ]
  },
  {
   "cell_type": "code",
   "execution_count": 105,
   "metadata": {},
   "outputs": [],
   "source": [
    "# storm/quiet data \n",
    "st_t = (df['storm']>0.95) & (df['storm']<1.05) # storm times\n",
    "qt_t = (df['storm']<0) # quiet times\n",
    "mn_p = (df['storm phase']>0.95) & (df['storm phase']<1.05) # main phase\n",
    "rc_p = (df['storm phase']>1.95) & (df['storm phase']<2.05) # recovery phase\n"
   ]
  },
  {
   "cell_type": "code",
   "execution_count": 106,
   "metadata": {},
   "outputs": [
    {
     "data": {
      "text/plain": [
       "storm\n",
       "False    27287\n",
       "True     25129\n",
       "Name: count, dtype: int64"
      ]
     },
     "execution_count": 106,
     "metadata": {},
     "output_type": "execute_result"
    },
    {
     "data": {
      "text/plain": [
       "storm\n",
       "True     27287\n",
       "False    25129\n",
       "Name: count, dtype: int64"
      ]
     },
     "execution_count": 106,
     "metadata": {},
     "output_type": "execute_result"
    }
   ],
   "source": [
    "qt_t.value_counts()\n",
    "st_t.value_counts()"
   ]
  },
  {
   "cell_type": "code",
   "execution_count": 107,
   "metadata": {},
   "outputs": [],
   "source": [
    "cor_plot = pd.DataFrame()\n",
    "cor_mat = df[col].dropna().corr()\n",
    "cor_plot['All'] = df[col].dropna().corr()['400kmDensity']\n",
    "cor_plot['Quiet'] = df[qt_t][col].dropna().corr()['400kmDensity']\n",
    "cor_plot['Storm'] = df[st_t][col].dropna().corr()['400kmDensity']\n",
    "cor_plot['Main'] = df[mn_p][col].dropna().corr()['400kmDensity']\n",
    "cor_plot['Recovery'] = df[rc_p][col].dropna().corr()['400kmDensity']\n",
    "try:\n",
    "    cor_plot['Balanced']= pd.concat([df[st_t][col].dropna().sample(100000),df[qt_t][col].dropna().sample(100000)]).corr()['400kmDensity']\n",
    "except:\n",
    "    cor_plot['Balanced']= pd.concat([df[st_t][col].dropna().sample(10000),df[qt_t][col].dropna().sample(10000)]).corr()['400kmDensity']"
   ]
  },
  {
   "cell_type": "markdown",
   "metadata": {},
   "source": [
    "cor_plot = pd.DataFrame()\n",
    "cor_mat = df[col].fillna(method='ffill').corr()\n",
    "cor_plot['All'] = df[col].fillna(method='ffill').corr()['400kmDensity']\n",
    "cor_plot['Quiet'] = df[qt_t][col].fillna(method='ffill').corr()['400kmDensity']\n",
    "cor_plot['Storm'] = df[st_t][col].fillna(method='ffill').corr()['400kmDensity']\n",
    "cor_plot['Main'] = df[mn_p][col].fillna(method='ffill').corr()['400kmDensity']\n",
    "cor_plot['Recovery'] = df[rc_p][col].fillna(method='ffill').corr()['400kmDensity']\n",
    "try:\n",
    "    cor_plot['Balanced']= pd.concat([df[st_t][col].fillna(method='ffill').sample(100000),df[qt_t][col].fillna(method='ffill').sample(100000)]).corr()['400kmDensity']\n",
    "except:\n",
    "    cor_plot['Balanced']= pd.concat([df[st_t][col].fillna(method='ffill').sample(10000),df[qt_t][col].fillna(method='ffill').sample(10000)]).corr()['400kmDensity']"
   ]
  },
  {
   "cell_type": "code",
   "execution_count": 108,
   "metadata": {},
   "outputs": [
    {
     "data": {
      "text/plain": [
       "<Figure size 300x300 with 0 Axes>"
      ]
     },
     "execution_count": 108,
     "metadata": {},
     "output_type": "execute_result"
    },
    {
     "data": {
      "text/plain": [
       "<Axes: >"
      ]
     },
     "execution_count": 108,
     "metadata": {},
     "output_type": "execute_result"
    },
    {
     "data": {
      "text/plain": [
       "(array([ 0.5,  2.5,  4.5,  6.5,  8.5, 10.5, 12.5, 14.5, 16.5, 18.5, 20.5,\n",
       "        22.5]),\n",
       " [Text(0, 0.5, '225_00'),\n",
       "  Text(0, 2.5, '1300_02'),\n",
       "  Text(0, 4.5, '5100_04'),\n",
       "  Text(0, 6.5, '18950_06'),\n",
       "  Text(0, 8.5, '30500_08'),\n",
       "  Text(0, 10.5, '59500_10'),\n",
       "  Text(0, 12.5, '72400_12'),\n",
       "  Text(0, 14.5, '85550_14'),\n",
       "  Text(0, 16.5, '94400_16'),\n",
       "  Text(0, 18.5, '94400_18'),\n",
       "  Text(0, 20.5, '100700_20'),\n",
       "  Text(0, 22.5, '113000_22')])"
      ]
     },
     "execution_count": 108,
     "metadata": {},
     "output_type": "execute_result"
    }
   ],
   "source": [
    "plt.figure(figsize=(3, 3))\n",
    "sns.heatmap(cor_plot[0:-1].abs(),annot=True, fmt='.2f', cbar_kws={'label':'Abs Correlation - abs(r)'})\n",
    "plt.yticks(rotation=30) \n",
    "plt.show()"
   ]
  },
  {
   "cell_type": "code",
   "execution_count": 109,
   "metadata": {},
   "outputs": [],
   "source": [
    "col.append('DateTime')\n"
   ]
  },
  {
   "cell_type": "code",
   "execution_count": 110,
   "metadata": {},
   "outputs": [
    {
     "data": {
      "text/html": [
       "<div>\n",
       "<style scoped>\n",
       "    .dataframe tbody tr th:only-of-type {\n",
       "        vertical-align: middle;\n",
       "    }\n",
       "\n",
       "    .dataframe tbody tr th {\n",
       "        vertical-align: top;\n",
       "    }\n",
       "\n",
       "    .dataframe thead th {\n",
       "        text-align: right;\n",
       "    }\n",
       "</style>\n",
       "<table border=\"1\" class=\"dataframe\">\n",
       "  <thead>\n",
       "    <tr style=\"text-align: right;\">\n",
       "      <th></th>\n",
       "      <th>225_00</th>\n",
       "      <th>600_01</th>\n",
       "      <th>1300_02</th>\n",
       "      <th>2500_03</th>\n",
       "      <th>5100_04</th>\n",
       "      <th>11250_05</th>\n",
       "      <th>18950_06</th>\n",
       "      <th>25700_07</th>\n",
       "      <th>30500_08</th>\n",
       "      <th>43000_09</th>\n",
       "      <th>...</th>\n",
       "      <th>85550_15</th>\n",
       "      <th>94400_16</th>\n",
       "      <th>94400_17</th>\n",
       "      <th>94400_18</th>\n",
       "      <th>98100_19</th>\n",
       "      <th>100700_20</th>\n",
       "      <th>103850_21</th>\n",
       "      <th>113000_22</th>\n",
       "      <th>400kmDensity</th>\n",
       "      <th>DateTime</th>\n",
       "    </tr>\n",
       "  </thead>\n",
       "  <tbody>\n",
       "    <tr>\n",
       "      <th>990721</th>\n",
       "      <td>27893.199577</td>\n",
       "      <td>582361.993067</td>\n",
       "      <td>5.042347e+07</td>\n",
       "      <td>1.171063e+08</td>\n",
       "      <td>7.419762e+08</td>\n",
       "      <td>1.654089e+09</td>\n",
       "      <td>8.298676e+09</td>\n",
       "      <td>6.610125e+09</td>\n",
       "      <td>9.835010e+09</td>\n",
       "      <td>1.030284e+10</td>\n",
       "      <td>...</td>\n",
       "      <td>4.805591e+09</td>\n",
       "      <td>9.982523e+08</td>\n",
       "      <td>2.499077e+09</td>\n",
       "      <td>1.981664e+09</td>\n",
       "      <td>7.707198e+09</td>\n",
       "      <td>7.344945e+09</td>\n",
       "      <td>8.333699e+09</td>\n",
       "      <td>3.322433e+10</td>\n",
       "      <td>3.326204e-12</td>\n",
       "      <td>2012-01-01 00:05:00</td>\n",
       "    </tr>\n",
       "    <tr>\n",
       "      <th>990722</th>\n",
       "      <td>27302.408627</td>\n",
       "      <td>579020.881918</td>\n",
       "      <td>5.041132e+07</td>\n",
       "      <td>1.171005e+08</td>\n",
       "      <td>7.419588e+08</td>\n",
       "      <td>1.654041e+09</td>\n",
       "      <td>8.298495e+09</td>\n",
       "      <td>6.610125e+09</td>\n",
       "      <td>9.835331e+09</td>\n",
       "      <td>1.030292e+10</td>\n",
       "      <td>...</td>\n",
       "      <td>4.805675e+09</td>\n",
       "      <td>9.982844e+08</td>\n",
       "      <td>2.499163e+09</td>\n",
       "      <td>1.981755e+09</td>\n",
       "      <td>7.707370e+09</td>\n",
       "      <td>7.345213e+09</td>\n",
       "      <td>8.333944e+09</td>\n",
       "      <td>3.322499e+10</td>\n",
       "      <td>3.005557e-12</td>\n",
       "      <td>2012-01-01 00:10:00</td>\n",
       "    </tr>\n",
       "    <tr>\n",
       "      <th>990723</th>\n",
       "      <td>26765.359286</td>\n",
       "      <td>575983.632481</td>\n",
       "      <td>5.040022e+07</td>\n",
       "      <td>1.170950e+08</td>\n",
       "      <td>7.419420e+08</td>\n",
       "      <td>1.653993e+09</td>\n",
       "      <td>8.298316e+09</td>\n",
       "      <td>6.610124e+09</td>\n",
       "      <td>9.835649e+09</td>\n",
       "      <td>1.030300e+10</td>\n",
       "      <td>...</td>\n",
       "      <td>4.805757e+09</td>\n",
       "      <td>9.983164e+08</td>\n",
       "      <td>2.499248e+09</td>\n",
       "      <td>1.981844e+09</td>\n",
       "      <td>7.707542e+09</td>\n",
       "      <td>7.345481e+09</td>\n",
       "      <td>8.334188e+09</td>\n",
       "      <td>3.322630e+10</td>\n",
       "      <td>2.579522e-12</td>\n",
       "      <td>2012-01-01 00:15:00</td>\n",
       "    </tr>\n",
       "    <tr>\n",
       "      <th>990724</th>\n",
       "      <td>26443.239895</td>\n",
       "      <td>574160.839148</td>\n",
       "      <td>5.039330e+07</td>\n",
       "      <td>1.170910e+08</td>\n",
       "      <td>7.419271e+08</td>\n",
       "      <td>1.653945e+09</td>\n",
       "      <td>8.298137e+09</td>\n",
       "      <td>6.610123e+09</td>\n",
       "      <td>9.835967e+09</td>\n",
       "      <td>1.030308e+10</td>\n",
       "      <td>...</td>\n",
       "      <td>4.805840e+09</td>\n",
       "      <td>9.983483e+08</td>\n",
       "      <td>2.499333e+09</td>\n",
       "      <td>1.981934e+09</td>\n",
       "      <td>7.707713e+09</td>\n",
       "      <td>7.345748e+09</td>\n",
       "      <td>8.334432e+09</td>\n",
       "      <td>3.322538e+10</td>\n",
       "      <td>2.696707e-12</td>\n",
       "      <td>2012-01-01 00:20:00</td>\n",
       "    </tr>\n",
       "    <tr>\n",
       "      <th>990725</th>\n",
       "      <td>26604.706595</td>\n",
       "      <td>575070.199132</td>\n",
       "      <td>5.039573e+07</td>\n",
       "      <td>1.170904e+08</td>\n",
       "      <td>7.419163e+08</td>\n",
       "      <td>1.653897e+09</td>\n",
       "      <td>8.297959e+09</td>\n",
       "      <td>6.610122e+09</td>\n",
       "      <td>9.836284e+09</td>\n",
       "      <td>1.030316e+10</td>\n",
       "      <td>...</td>\n",
       "      <td>4.805921e+09</td>\n",
       "      <td>9.983801e+08</td>\n",
       "      <td>2.499417e+09</td>\n",
       "      <td>1.982023e+09</td>\n",
       "      <td>7.707884e+09</td>\n",
       "      <td>7.346013e+09</td>\n",
       "      <td>8.334674e+09</td>\n",
       "      <td>3.322228e+10</td>\n",
       "      <td>2.282070e-12</td>\n",
       "      <td>2012-01-01 00:25:00</td>\n",
       "    </tr>\n",
       "  </tbody>\n",
       "</table>\n",
       "<p>5 rows × 25 columns</p>\n",
       "</div>"
      ],
      "text/plain": [
       "              225_00         600_01       1300_02       2500_03       5100_04  \\\n",
       "990721  27893.199577  582361.993067  5.042347e+07  1.171063e+08  7.419762e+08   \n",
       "990722  27302.408627  579020.881918  5.041132e+07  1.171005e+08  7.419588e+08   \n",
       "990723  26765.359286  575983.632481  5.040022e+07  1.170950e+08  7.419420e+08   \n",
       "990724  26443.239895  574160.839148  5.039330e+07  1.170910e+08  7.419271e+08   \n",
       "990725  26604.706595  575070.199132  5.039573e+07  1.170904e+08  7.419163e+08   \n",
       "\n",
       "            11250_05      18950_06      25700_07      30500_08      43000_09  \\\n",
       "990721  1.654089e+09  8.298676e+09  6.610125e+09  9.835010e+09  1.030284e+10   \n",
       "990722  1.654041e+09  8.298495e+09  6.610125e+09  9.835331e+09  1.030292e+10   \n",
       "990723  1.653993e+09  8.298316e+09  6.610124e+09  9.835649e+09  1.030300e+10   \n",
       "990724  1.653945e+09  8.298137e+09  6.610123e+09  9.835967e+09  1.030308e+10   \n",
       "990725  1.653897e+09  8.297959e+09  6.610122e+09  9.836284e+09  1.030316e+10   \n",
       "\n",
       "        ...      85550_15      94400_16      94400_17      94400_18  \\\n",
       "990721  ...  4.805591e+09  9.982523e+08  2.499077e+09  1.981664e+09   \n",
       "990722  ...  4.805675e+09  9.982844e+08  2.499163e+09  1.981755e+09   \n",
       "990723  ...  4.805757e+09  9.983164e+08  2.499248e+09  1.981844e+09   \n",
       "990724  ...  4.805840e+09  9.983483e+08  2.499333e+09  1.981934e+09   \n",
       "990725  ...  4.805921e+09  9.983801e+08  2.499417e+09  1.982023e+09   \n",
       "\n",
       "            98100_19     100700_20     103850_21     113000_22  400kmDensity  \\\n",
       "990721  7.707198e+09  7.344945e+09  8.333699e+09  3.322433e+10  3.326204e-12   \n",
       "990722  7.707370e+09  7.345213e+09  8.333944e+09  3.322499e+10  3.005557e-12   \n",
       "990723  7.707542e+09  7.345481e+09  8.334188e+09  3.322630e+10  2.579522e-12   \n",
       "990724  7.707713e+09  7.345748e+09  8.334432e+09  3.322538e+10  2.696707e-12   \n",
       "990725  7.707884e+09  7.346013e+09  8.334674e+09  3.322228e+10  2.282070e-12   \n",
       "\n",
       "                  DateTime  \n",
       "990721 2012-01-01 00:05:00  \n",
       "990722 2012-01-01 00:10:00  \n",
       "990723 2012-01-01 00:15:00  \n",
       "990724 2012-01-01 00:20:00  \n",
       "990725 2012-01-01 00:25:00  \n",
       "\n",
       "[5 rows x 25 columns]"
      ]
     },
     "execution_count": 110,
     "metadata": {},
     "output_type": "execute_result"
    }
   ],
   "source": [
    "df[col].head()\n"
   ]
  }
 ],
 "metadata": {
  "kernelspec": {
   "display_name": "satdrag",
   "language": "python",
   "name": "python3"
  },
  "language_info": {
   "codemirror_mode": {
    "name": "ipython",
    "version": 3
   },
   "file_extension": ".py",
   "mimetype": "text/x-python",
   "name": "python",
   "nbconvert_exporter": "python",
   "pygments_lexer": "ipython3",
   "version": "3.10.15"
  },
  "orig_nbformat": 4
 },
 "nbformat": 4,
 "nbformat_minor": 2
}
