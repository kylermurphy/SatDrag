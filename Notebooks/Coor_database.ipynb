{
 "cells": [
  {
   "attachments": {},
   "cell_type": "markdown",
   "metadata": {},
   "source": [
    "# Coorelations of the database \n",
    "\n",
    "Correlation matrices for the data set \n"
   ]
  },
  {
   "cell_type": "code",
   "execution_count": 1,
   "metadata": {},
   "outputs": [],
   "source": [
    "import pandas as pd\n",
    "import seaborn as sns\n",
    "import matplotlib.pyplot as plt\n",
    "\n",
    "%matplotlib qt\n",
    "\n",
    "#print all output in a cell \n",
    "from IPython.core.interactiveshell import InteractiveShell\n",
    "InteractiveShell.ast_node_interactivity = \"all\""
   ]
  },
  {
   "cell_type": "code",
   "execution_count": 2,
   "metadata": {},
   "outputs": [],
   "source": [
    "columns_solar = ['F10', 'F81','S10', 'S81c', 'M10', 'M81c', 'Y10', 'Y81c','400kmDensity']  \n",
    "\n",
    "columns_fism = ['225_00', '600_01', '1300_02', '2500_03', '5100_04',\n",
    "            '11250_05', '18950_06', '25700_07', '30500_08', '43000_09', '59500_10',\n",
    "            '72400_11', '72400_12', '85550_13', '85550_14', '85550_15', '94400_16',\n",
    "            '94400_17', '94400_18', '98100_19', '100700_20', '103850_21',\n",
    "            '113000_22','400kmDensity']\n",
    "\n",
    "columns_swgeo = ['Bx_GSEGSM','By_GSM', 'Bz_GSM', \n",
    "           'Vsw', 'Vx_GSE', 'Vy_GSE', 'Vz_GSE', 'Prho', 'Tp',\n",
    "           'dynP', 'Esw', 'AE', 'AL', 'AU', 'SYM_H index',\n",
    "           'storm', 'storm phase','400kmDensity']  \n",
    "\n",
    "col = columns_solar"
   ]
  },
  {
   "cell_type": "code",
   "execution_count": 3,
   "metadata": {},
   "outputs": [],
   "source": [
    "fn = 'D:\\\\data\\\\SatDensities\\\\satdrag_database_grace_B_SI_int.hdf5'\n",
    "df = pd.read_hdf(fn)"
   ]
  },
  {
   "cell_type": "code",
   "execution_count": 4,
   "metadata": {},
   "outputs": [
    {
     "data": {
      "text/plain": [
       "Index(['DateTime', 'DateTime_omni', 'B', 'Bx_GSEGSM', 'By_GSE', 'Bz_GSE',\n",
       "       'By_GSM', 'Bz_GSM', 'Vsw', 'Vx_GSE', 'Vy_GSE', 'Vz_GSE', 'Prho', 'Tp',\n",
       "       'dynP', 'Esw', 'AE', 'AL', 'AU', 'SYM_D index', 'SYM_H index',\n",
       "       'ASY_D index', 'ASY_H index', 'PC index', 'Goes Proton flux (>10 MeV)',\n",
       "       'Goes Proton flux (>30 MeV)', 'Goes Proton flux (>60 MeV)',\n",
       "       'DateTime_fism2', '225_00', '600_01', '1300_02', '2500_03', '5100_04',\n",
       "       '11250_05', '18950_06', '25700_07', '30500_08', '43000_09', '59500_10',\n",
       "       '72400_11', '72400_12', '85550_13', '85550_14', '85550_15', '94400_16',\n",
       "       '94400_17', '94400_18', '98100_19', '100700_20', '103850_21',\n",
       "       '113000_22', 'DateTime_si', 'F10', 'F81', 'S10', 'S81c', 'M10', 'M81c',\n",
       "       'Y10', 'Y81c', 'DateTime_gr', 'CenterLat', 'SatLat', 'SatLon',\n",
       "       'SatHeight', 'SatLT', 'SatDipoleLat', 'SatMagLon', 'SatMagLT',\n",
       "       'SatDensity', '400kmDensity', '410kmDensity', 'NRLMSISe00atSat',\n",
       "       'DenUncertainty', 'NumPts', 'NuminBinThrusters', 'AveDragCoef', 'storm',\n",
       "       'storm phase'],\n",
       "      dtype='object')"
      ]
     },
     "execution_count": 4,
     "metadata": {},
     "output_type": "execute_result"
    }
   ],
   "source": [
    "df.columns"
   ]
  },
  {
   "cell_type": "code",
   "execution_count": 5,
   "metadata": {},
   "outputs": [],
   "source": [
    "# storm/quiet data \n",
    "st_t = (df['storm']>0.95) & (df['storm']<1.05) # storm times\n",
    "qt_t = (df['storm']<0) # quiet times\n",
    "mn_p = (df['storm phase']>0.95) & (df['storm phase']<1.05) # main phase\n",
    "rc_p = (df['storm phase']>1.95) & (df['storm phase']<2.05) # recovery phase\n"
   ]
  },
  {
   "cell_type": "code",
   "execution_count": 6,
   "metadata": {},
   "outputs": [
    {
     "data": {
      "text/plain": [
       "False    570564\n",
       "True     472573\n",
       "Name: storm, dtype: int64"
      ]
     },
     "execution_count": 6,
     "metadata": {},
     "output_type": "execute_result"
    },
    {
     "data": {
      "text/plain": [
       "True     570564\n",
       "False    472573\n",
       "Name: storm, dtype: int64"
      ]
     },
     "execution_count": 6,
     "metadata": {},
     "output_type": "execute_result"
    }
   ],
   "source": [
    "qt_t.value_counts()\n",
    "st_t.value_counts()"
   ]
  },
  {
   "cell_type": "code",
   "execution_count": 7,
   "metadata": {},
   "outputs": [],
   "source": [
    "cor_plot = pd.DataFrame()\n",
    "cor_mat = df[col].dropna().corr()\n",
    "cor_plot['All'] = df[col].dropna().corr()['400kmDensity']\n",
    "cor_plot['Quiet'] = df[qt_t][col].dropna().corr()['400kmDensity']\n",
    "cor_plot['Storm'] = df[st_t][col].dropna().corr()['400kmDensity']\n",
    "cor_plot['Main'] = df[mn_p][col].dropna().corr()['400kmDensity']\n",
    "cor_plot['Recovery'] = df[rc_p][col].dropna().corr()['400kmDensity']\n",
    "try:\n",
    "    cor_plot['Balanced']= pd.concat([df[st_t][col].dropna().sample(100000),df[qt_t][col].dropna().sample(100000)]).corr()['400kmDensity']\n",
    "except:\n",
    "    cor_plot['Balanced']= pd.concat([df[st_t][col].dropna().sample(10000),df[qt_t][col].dropna().sample(10000)]).corr()['400kmDensity']"
   ]
  },
  {
   "cell_type": "code",
   "execution_count": 12,
   "metadata": {},
   "outputs": [],
   "source": [
    "cor_plot = pd.DataFrame()\n",
    "cor_mat = df[col].fillna(method='ffill').corr()\n",
    "cor_plot['All'] = df[col].fillna(method='ffill').corr()['400kmDensity']\n",
    "cor_plot['Quiet'] = df[qt_t][col].fillna(method='ffill').corr()['400kmDensity']\n",
    "cor_plot['Storm'] = df[st_t][col].fillna(method='ffill').corr()['400kmDensity']\n",
    "cor_plot['Main'] = df[mn_p][col].fillna(method='ffill').corr()['400kmDensity']\n",
    "cor_plot['Recovery'] = df[rc_p][col].fillna(method='ffill').corr()['400kmDensity']\n",
    "try:\n",
    "    cor_plot['Balanced']= pd.concat([df[st_t][col].fillna(method='ffill').sample(100000),df[qt_t][col].fillna(method='ffill').sample(100000)]).corr()['400kmDensity']\n",
    "except:\n",
    "    cor_plot['Balanced']= pd.concat([df[st_t][col].fillna(method='ffill').sample(10000),df[qt_t][col].fillna(method='ffill').sample(10000)]).corr()['400kmDensity']"
   ]
  },
  {
   "cell_type": "code",
   "execution_count": 28,
   "metadata": {},
   "outputs": [
    {
     "data": {
      "text/plain": [
       "<Figure size 300x300 with 0 Axes>"
      ]
     },
     "execution_count": 28,
     "metadata": {},
     "output_type": "execute_result"
    },
    {
     "data": {
      "text/plain": [
       "<Axes: >"
      ]
     },
     "execution_count": 28,
     "metadata": {},
     "output_type": "execute_result"
    },
    {
     "data": {
      "text/plain": [
       "(array([0.5, 1.5, 2.5, 3.5, 4.5, 5.5, 6.5, 7.5]),\n",
       " [Text(0, 0.5, 'F10'),\n",
       "  Text(0, 1.5, 'F81'),\n",
       "  Text(0, 2.5, 'S10'),\n",
       "  Text(0, 3.5, 'S81c'),\n",
       "  Text(0, 4.5, 'M10'),\n",
       "  Text(0, 5.5, 'M81c'),\n",
       "  Text(0, 6.5, 'Y10'),\n",
       "  Text(0, 7.5, 'Y81c')])"
      ]
     },
     "execution_count": 28,
     "metadata": {},
     "output_type": "execute_result"
    }
   ],
   "source": [
    "plt.figure(figsize=(3, 3))\n",
    "sns.heatmap(cor_plot[0:-1].abs(),annot=True, fmt='.2f', cbar_kws={'label':'Abs Correlation - abs(r)'})\n",
    "plt.yticks(rotation=30) \n",
    "plt.show()"
   ]
  },
  {
   "cell_type": "code",
   "execution_count": 20,
   "metadata": {},
   "outputs": [],
   "source": [
    "col.append('DateTime')\n"
   ]
  },
  {
   "cell_type": "code",
   "execution_count": 24,
   "metadata": {},
   "outputs": [
    {
     "data": {
      "text/html": [
       "<div>\n",
       "<style scoped>\n",
       "    .dataframe tbody tr th:only-of-type {\n",
       "        vertical-align: middle;\n",
       "    }\n",
       "\n",
       "    .dataframe tbody tr th {\n",
       "        vertical-align: top;\n",
       "    }\n",
       "\n",
       "    .dataframe thead th {\n",
       "        text-align: right;\n",
       "    }\n",
       "</style>\n",
       "<table border=\"1\" class=\"dataframe\">\n",
       "  <thead>\n",
       "    <tr style=\"text-align: right;\">\n",
       "      <th></th>\n",
       "      <th>F10</th>\n",
       "      <th>F81</th>\n",
       "      <th>S10</th>\n",
       "      <th>S81c</th>\n",
       "      <th>M10</th>\n",
       "      <th>M81c</th>\n",
       "      <th>Y10</th>\n",
       "      <th>Y81c</th>\n",
       "      <th>400kmDensity</th>\n",
       "      <th>DateTime</th>\n",
       "      <th>DateTime</th>\n",
       "    </tr>\n",
       "  </thead>\n",
       "  <tbody>\n",
       "    <tr>\n",
       "      <th>0</th>\n",
       "      <td>208.5</td>\n",
       "      <td>174.6</td>\n",
       "      <td>172.0</td>\n",
       "      <td>166.9</td>\n",
       "      <td>197.0</td>\n",
       "      <td>168.8</td>\n",
       "      <td>179.6</td>\n",
       "      <td>169.7</td>\n",
       "      <td>4.991472e-12</td>\n",
       "      <td>2002-08-01 00:00:00</td>\n",
       "      <td>2002-08-01 00:00:00</td>\n",
       "    </tr>\n",
       "    <tr>\n",
       "      <th>1</th>\n",
       "      <td>192.6</td>\n",
       "      <td>175.6</td>\n",
       "      <td>166.9</td>\n",
       "      <td>167.3</td>\n",
       "      <td>182.8</td>\n",
       "      <td>169.2</td>\n",
       "      <td>175.7</td>\n",
       "      <td>169.9</td>\n",
       "      <td>4.958553e-12</td>\n",
       "      <td>2002-08-01 00:05:00</td>\n",
       "      <td>2002-08-01 00:05:00</td>\n",
       "    </tr>\n",
       "    <tr>\n",
       "      <th>2</th>\n",
       "      <td>192.6</td>\n",
       "      <td>175.6</td>\n",
       "      <td>166.9</td>\n",
       "      <td>167.3</td>\n",
       "      <td>182.8</td>\n",
       "      <td>169.2</td>\n",
       "      <td>175.7</td>\n",
       "      <td>169.9</td>\n",
       "      <td>4.815389e-12</td>\n",
       "      <td>2002-08-01 00:10:00</td>\n",
       "      <td>2002-08-01 00:10:00</td>\n",
       "    </tr>\n",
       "    <tr>\n",
       "      <th>3</th>\n",
       "      <td>192.6</td>\n",
       "      <td>175.6</td>\n",
       "      <td>166.9</td>\n",
       "      <td>167.3</td>\n",
       "      <td>182.8</td>\n",
       "      <td>169.2</td>\n",
       "      <td>175.7</td>\n",
       "      <td>169.9</td>\n",
       "      <td>4.967782e-12</td>\n",
       "      <td>2002-08-01 00:15:00</td>\n",
       "      <td>2002-08-01 00:15:00</td>\n",
       "    </tr>\n",
       "    <tr>\n",
       "      <th>4</th>\n",
       "      <td>192.6</td>\n",
       "      <td>175.6</td>\n",
       "      <td>166.9</td>\n",
       "      <td>167.3</td>\n",
       "      <td>182.8</td>\n",
       "      <td>169.2</td>\n",
       "      <td>175.7</td>\n",
       "      <td>169.9</td>\n",
       "      <td>4.557778e-12</td>\n",
       "      <td>2002-08-01 00:20:00</td>\n",
       "      <td>2002-08-01 00:20:00</td>\n",
       "    </tr>\n",
       "  </tbody>\n",
       "</table>\n",
       "</div>"
      ],
      "text/plain": [
       "     F10    F81    S10   S81c    M10   M81c    Y10   Y81c  400kmDensity  \\\n",
       "0  208.5  174.6  172.0  166.9  197.0  168.8  179.6  169.7  4.991472e-12   \n",
       "1  192.6  175.6  166.9  167.3  182.8  169.2  175.7  169.9  4.958553e-12   \n",
       "2  192.6  175.6  166.9  167.3  182.8  169.2  175.7  169.9  4.815389e-12   \n",
       "3  192.6  175.6  166.9  167.3  182.8  169.2  175.7  169.9  4.967782e-12   \n",
       "4  192.6  175.6  166.9  167.3  182.8  169.2  175.7  169.9  4.557778e-12   \n",
       "\n",
       "             DateTime            DateTime  \n",
       "0 2002-08-01 00:00:00 2002-08-01 00:00:00  \n",
       "1 2002-08-01 00:05:00 2002-08-01 00:05:00  \n",
       "2 2002-08-01 00:10:00 2002-08-01 00:10:00  \n",
       "3 2002-08-01 00:15:00 2002-08-01 00:15:00  \n",
       "4 2002-08-01 00:20:00 2002-08-01 00:20:00  "
      ]
     },
     "execution_count": 24,
     "metadata": {},
     "output_type": "execute_result"
    }
   ],
   "source": [
    "df[col].head()\n"
   ]
  }
 ],
 "metadata": {
  "kernelspec": {
   "display_name": "satdrag",
   "language": "python",
   "name": "python3"
  },
  "language_info": {
   "codemirror_mode": {
    "name": "ipython",
    "version": 3
   },
   "file_extension": ".py",
   "mimetype": "text/x-python",
   "name": "python",
   "nbconvert_exporter": "python",
   "pygments_lexer": "ipython3",
   "version": "3.10.9"
  },
  "orig_nbformat": 4
 },
 "nbformat": 4,
 "nbformat_minor": 2
}
