{
 "cells": [
  {
   "attachments": {},
   "cell_type": "markdown",
   "metadata": {},
   "source": [
    "# Storm-time Superposed Analysis of Solar, Solar Wind and Atmospheric Variables\n",
    "\n",
    "Superposed Epoch Anlysis for the satellite drag variables during storms. \n",
    "\n",
    "Initial data can be read in through the 1 hour omni data. The 1 hour is probably sufficient as we are mostly interetsed in what the solar wind variables are doing through storms as compared to the atmospheric density. \n",
    "\n",
    "Notes:\n",
    "- Solar wind variables are daily variables and so we might have to a typical superposed epoch analysis if the storm phases are short as opposed to a time-normalized analysis.\n",
    "- Solar Variables used in models\n",
    "    - F10.7, S10, M10, Y10, F30, F81\n",
    "- Geomagnetic Variables used in models\n",
    "    - Kp, ap, Dst, n_sw, v_sw, IMF\n",
    "- DTM2020 has to models, an operational and research model\n",
    "    - Operational uses lower cadence F10.7 and KP indices as inputs\n",
    "    - Research model used higher cadence F30 and Hpo indices as inputs\n",
    "\n",
    "Data that needs to be retrieved\n",
    "- S10\n",
    "- M10\n",
    "- Y10\n",
    "- F30\n",
    "- F81\n",
    "- Hpo "
   ]
  },
  {
   "cell_type": "markdown",
   "metadata": {},
   "source": []
  },
  {
   "cell_type": "code",
   "execution_count": 8,
   "metadata": {},
   "outputs": [],
   "source": [
    "#plot matplotlib figures in the notebook\n",
    "%matplotlib inline\n",
    "\n",
    "#print all output in a cell \n",
    "from IPython.core.interactiveshell import InteractiveShell\n",
    "InteractiveShell.ast_node_interactivity = \"all\"\n",
    "\n",
    "import pandas as pd\n",
    "import matplotlib.pyplot as plt\n",
    "from sea_norm import sean"
   ]
  },
  {
   "cell_type": "code",
   "execution_count": 2,
   "metadata": {},
   "outputs": [],
   "source": [
    "# import Vivians read_omni function\n",
    "\n",
    "import os\n",
    "import sys\n",
    "module_path = os.path.abspath(os.path.join('..'))\n",
    "if module_path not in sys.path:\n",
    "    sys.path.append(module_path)\n",
    "\n",
    "from SatDrag_Py.read_omni_function import read_omni"
   ]
  },
  {
   "cell_type": "code",
   "execution_count": 3,
   "metadata": {},
   "outputs": [],
   "source": [
    "# get storm times\n",
    "# read in storm start and end times\n",
    "storm_txt = 'C:\\\\Users\\\\murph\\\\GitHub\\\\SatDrag\\\\data\\\\storms_drag_epochs_no_overlap.txt'\n",
    "storm_time = pd.read_csv(storm_txt, header=None, skiprows=1, \n",
    "                     delim_whitespace=1, names = ['t_st','t_dst','t_en'], parse_dates=[0, 1, 2],\n",
    "                     infer_datetime_format=True)"
   ]
  },
  {
   "cell_type": "code",
   "execution_count": 53,
   "metadata": {},
   "outputs": [],
   "source": [
    "import glob\n",
    "\n",
    "local_dir = 'D:\\\\data\\\\OMNI'\n",
    "\n",
    "def load_omni(res: str = '1h',\n",
    "         sdate='2010-01-01',\n",
    "         nd: int = 1,\n",
    "         edate=None,\n",
    "         gz=True,\n",
    "         dl=True,\n",
    "         drop_flag=True,\n",
    "         force=False):\n",
    "    \n",
    "\n",
    "    if res == '1h':\n",
    "        d_dir = 'YEARLY_1HOUR'\n",
    "        freq = 'Y'\n",
    "    elif res == '5m':\n",
    "        d_dir = ''\n",
    "        freq = 'Y'\n",
    "    elif res =='1m':\n",
    "        d_dir = ''\n",
    "        freq = 'M'\n",
    "    else:\n",
    "        d_dir = 'YEARLY_1HOUR'\n",
    "        freq = 'Y'\n",
    "\n",
    "    if edate is not None:\n",
    "        d_ser = pd.date_range(start=sdate, end=edate, freq=freq)\n",
    "    else:\n",
    "        d_ser = pd.date_range(\n",
    "            start=sdate, periods=nd, freq=freq)\n",
    "\n",
    "    #fn = glob.glob(os.path.join(local_dir,d_dir,'[2014-2016]'))\n",
    "\n",
    "    fn = [os.path.join(local_dir,d_dir,f'omni2_{x.year}.dat') for x in d_ser]\n",
    "\n",
    "    print(fn)"
   ]
  },
  {
   "cell_type": "code",
   "execution_count": 54,
   "metadata": {},
   "outputs": [
    {
     "name": "stdout",
     "output_type": "stream",
     "text": [
      "['D:\\\\data\\\\OMNI\\\\YEARLY_1HOUR\\\\omni2_2010.dat', 'D:\\\\data\\\\OMNI\\\\YEARLY_1HOUR\\\\omni2_2011.dat']\n"
     ]
    }
   ],
   "source": [
    "load_omni(res='1h',\n",
    "         sdate='2010-01-01', nd=2)"
   ]
  },
  {
   "cell_type": "code",
   "execution_count": null,
   "metadata": {},
   "outputs": [],
   "source": [
    "\n",
    "    \n",
    "\n",
    "def read_omni(input_path, output_filepath, remove_bad = True, percentage = 0.25):\n",
    "    print(\"Start OMNI\")\n",
    "    files = os.path.join(input_path, \"OMNI*.csv\")\n",
    "    #Combine OMNI files\n",
    "    files = glob.glob(files)\n",
    "\n",
    "    #Create dataframe with all OMNI files\n",
    "    df_sw = pd.concat(map(pd.read_csv, files), ignore_index = True)\n",
    "\n",
    "    #Set time column to datetime\n",
    "    df_sw.iloc[:,0] = pd.to_datetime(df_sw.iloc[:,0], format='%Y-%m-%dT%H:%M:%S.%fZ')\n",
    "\n",
    "    #Rename column to \"Datetime\" for easier access\n",
    "    df_sw.rename(columns = {'EPOCH_TIME_yyyy-mm-ddThh:mm:ss.sssZ':\"Datetime\"}, inplace = True)\n",
    "\n",
    "\n",
    "    #Replace bad values with NaN\n",
    "    df_sw = df_sw.replace([999.99], [np.nan])\n",
    "    df_sw = df_sw.replace([9999.99], [np.nan])\n",
    "    df_sw = df_sw.replace([99999.9], [np.nan])\n",
    "    df_sw = df_sw.replace([99.99], [np.nan])\n",
    "    df_sw = df_sw.replace([1.00000e+07], [np.nan])\n",
    "    \n",
    "    #Remove columns with frequent bad values\n",
    "    if (remove_bad == True): \n",
    "        df_sw = df_sw.dropna(thresh=(1-percentage)*len(df_sw), axis=1)\n",
    "\n",
    "    #Create a csv file with cleaned data\n",
    "    df_sw.to_csv(output_filepath, index = False)\n",
    "    \n",
    "    print(\"OMNI finished\")\n",
    "    \n",
    "    return output_filepath"
   ]
  }
 ],
 "metadata": {
  "kernelspec": {
   "display_name": "dev",
   "language": "python",
   "name": "python3"
  },
  "language_info": {
   "codemirror_mode": {
    "name": "ipython",
    "version": 3
   },
   "file_extension": ".py",
   "mimetype": "text/x-python",
   "name": "python",
   "nbconvert_exporter": "python",
   "pygments_lexer": "ipython3",
   "version": "3.7.13"
  },
  "orig_nbformat": 4,
  "vscode": {
   "interpreter": {
    "hash": "dbdd3ab1c9d827e9e5a27371e9e7c0687a35f0c756719b1599a83737e27e90a5"
   }
  }
 },
 "nbformat": 4,
 "nbformat_minor": 2
}
