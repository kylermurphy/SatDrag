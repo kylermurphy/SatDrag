{
 "cells": [
  {
   "cell_type": "markdown",
   "metadata": {},
   "source": [
    "# Density vs Altitude\n",
    "\n",
    "Test the best way to incorporate altitude into the a single satellite density dataset. \n",
    "\n",
    "Using MSIS (pymsis) modelled density profiles create a density profile from GRACE B observations e.g., scale the MSIS density profile to GRACE B data. \n",
    "\n",
    "Two methods will be tested: \n",
    "\n",
    "1. Determine the ratio between the density at the altitude of GRACE B. Use this ratio to shift the MSIS density profile to match the observed density at the altitude of GRACE B. \n",
    "1. Calculate the scale height from the MSIS model and apply this scale height to GRACE B data to derive an altitude profile. \n",
    "\n",
    "Both methods will be compared to CHAMP and GOCE data to determine the best method for deriving a density altitude profile from observations. "
   ]
  },
  {
   "cell_type": "code",
   "execution_count": 1,
   "metadata": {},
   "outputs": [],
   "source": [
    "# auto load magic for packages\n",
    "# as they are being worked on\n",
    "%load_ext autoreload\n",
    "%autoreload 2\n",
    "\n",
    "#print all output in a cell \n",
    "from IPython.core.interactiveshell import InteractiveShell\n",
    "InteractiveShell.ast_node_interactivity = \"all\"\n",
    "\n",
    "import sys\n",
    "import os\n",
    "\n",
    " #add read_io module to current path ()\n",
    "file_path = 'D:\\\\GitHub\\\\DataIO\\\\'\n",
    "sys.path.append(os.path.dirname(file_path))"
   ]
  },
  {
   "cell_type": "code",
   "execution_count": 2,
   "metadata": {},
   "outputs": [],
   "source": [
    "import data_io\n",
    "import pandas as pd\n",
    "import numpy as np\n",
    "import matplotlib.pyplot as plt\n",
    "\n",
    "from pymsis import msis\n",
    "from scipy.optimize import curve_fit"
   ]
  },
  {
   "cell_type": "code",
   "execution_count": 3,
   "metadata": {},
   "outputs": [],
   "source": [
    "# define fitting functions\n",
    "def exp(x, a, b):\n",
    "    return a * np.exp(-x/b)\n",
    "\n",
    "def lin(x, a, c):\n",
    "    return a * x + c"
   ]
  },
  {
   "cell_type": "markdown",
   "metadata": {},
   "source": [
    "### Read in Data"
   ]
  },
  {
   "cell_type": "code",
   "execution_count": 19,
   "metadata": {},
   "outputs": [
    {
     "name": "stdout",
     "output_type": "stream",
     "text": [
      "D:\\data\\SatDensities\\TOLEOS\\GRACE\\GB_DNS_ACC_2003_01_v02.zip\n",
      "D:\\data\\SatDensities\\TOLEOS\\GOCE\\GO_DNS_WND_ACC_2009_11_v01.zip\n"
     ]
    }
   ],
   "source": [
    "sdate = '2003-01-01'\n",
    "edate = '2013-06-01'\n",
    "\n",
    "tol = pd.Timedelta('5 second')\n",
    "n_back = 40 # backward search in minutes\n",
    "n_tot = n_back*2 # forward search in minutes\n",
    "cols = ['DateTime', 'alt','lat','lon','dens_x']\n",
    "\n",
    "sat_comp = 'ch'\n",
    "\n",
    "sat_file = f'D:\\\\data\\\\SatDensities\\\\{sat_comp}_den_profile.hdf'\n",
    "sat_path = os.path.exists(sat_file)\n",
    "\n",
    "if not sat_path:\n",
    "    # read in grace b data\n",
    "    gr, gr_u, gr_m = data_io.toleos_den.load_toleos(sat='gb',sdate=sdate,edate=edate)\n",
    "    sat, sat_u, sat_m = data_io.toleos_den.load_toleos(sat=sat_comp,sdate=sdate,edate=edate)\n",
    "\n",
    "    if sat_comp == 'ch':\n",
    "        sat = sat.rename(columns={'rho_x':'dens_x', 'rho_mean':'dens_mean'})\n",
    "\n",
    "    #drop some columns\n",
    "    gr = gr[cols]\n",
    "    sat = sat[cols]\n",
    "\n",
    "    # create a database of champ and grace time matched observations\n",
    "    sat = sat.rename(columns={'DateTime':'DateTime_ch'})\n",
    "    sat.index = sat['DateTime_ch']\n",
    "\n",
    "    gr = gr.rename(columns={'DateTime':'DateTime_gr'})\n",
    "    gr.index = gr['DateTime_gr']\n",
    "\n",
    "    sat_gr = pd.merge_asof(left=sat,right=gr,right_index=True,left_index=True,direction='nearest',tolerance=tol,suffixes=[f'_{sat_comp}','_gr'])\n",
    "    #ch_gr = ch_gr.iloc[::5,:]\n",
    "\n",
    "    sat_gr['del_lon'] = sat_gr[f'lon_{sat_comp}']-sat_gr['lon_gr']\n",
    "    sat_gr['del_lat'] = sat_gr[f'lat_{sat_comp}']-sat_gr['lat_gr']\n",
    "\n",
    "    del sat\n",
    "    del gr\n",
    "\n",
    "    ch_lat = sat_gr[f'lat_{sat_comp}'].to_numpy()\n",
    "    gr_lat = sat_gr['lat_gr'].to_numpy()\n",
    "    gr_lon = sat_gr['lon_gr'].to_numpy()\n",
    "\n",
    "    res = (pd.Series(sat_gr.index[1:]) -\n",
    "               pd.Series(sat_gr.index[:-1])).value_counts()\n",
    "    res = res.index[0]\n",
    "\n",
    "    n_back = n_back*60/res.seconds\n",
    "    n_tot = n_tot*60/res.seconds\n",
    "\n",
    "    lat_pos = np.empty(ch_lat.shape,dtype=np.int32)\n",
    "    del_lat = np.empty(ch_lat.shape[0])\n",
    "    val_lat = np.empty(ch_lat.shape[0])\n",
    "    val_lon = np.empty(ch_lat.shape[0])\n",
    "\n",
    "    for i in np.arange(ch_lat.shape[0]):\n",
    "        st = int(i-n_back)\n",
    "        if st < 0: \n",
    "            st = 0\n",
    "        \n",
    "        en = int(st+n_tot)\n",
    "        lat_pos[i] = np.abs(gr_lat[st:en]-ch_lat[i]).argmin()+st\n",
    "        del_lat[i] = gr_lat[lat_pos[i]]-ch_lat[i]\n",
    "        val_lat[i] = gr_lat[lat_pos[i]]\n",
    "        val_lon[i] = gr_lon[lat_pos[i]]\n",
    "\n",
    "    sat_gr['del_lat'] = del_lat\n",
    "    sat_gr['lat_gr_near'] = val_lat\n",
    "    sat_gr['lon_gr_near'] = val_lon\n",
    "    sat_gr['pos'] = lat_pos \n",
    "\n",
    "    sat_gr.to_hdf(sat_file,key='sat_df',complevel=9, mode='w')\n",
    "else:\n",
    "    print('Loading HDF file')\n",
    "    sat_gr = pd.read_hdf(sat_file)\n",
    "\n",
    "\n"
   ]
  },
  {
   "cell_type": "code",
   "execution_count": 7,
   "metadata": {},
   "outputs": [
    {
     "data": {
      "text/html": [
       "<div>\n",
       "<style scoped>\n",
       "    .dataframe tbody tr th:only-of-type {\n",
       "        vertical-align: middle;\n",
       "    }\n",
       "\n",
       "    .dataframe tbody tr th {\n",
       "        vertical-align: top;\n",
       "    }\n",
       "\n",
       "    .dataframe thead th {\n",
       "        text-align: right;\n",
       "    }\n",
       "</style>\n",
       "<table border=\"1\" class=\"dataframe\">\n",
       "  <thead>\n",
       "    <tr style=\"text-align: right;\">\n",
       "      <th></th>\n",
       "      <th>DateTime_ch</th>\n",
       "      <th>alt_go</th>\n",
       "      <th>lat_go</th>\n",
       "      <th>lon_go</th>\n",
       "      <th>dens_x_go</th>\n",
       "      <th>DateTime_gr</th>\n",
       "      <th>alt_gr</th>\n",
       "      <th>lat_gr</th>\n",
       "      <th>lon_gr</th>\n",
       "      <th>dens_x_gr</th>\n",
       "      <th>del_lon</th>\n",
       "      <th>del_lat</th>\n",
       "      <th>lat_gr_near</th>\n",
       "      <th>pos</th>\n",
       "    </tr>\n",
       "  </thead>\n",
       "  <tbody>\n",
       "    <tr>\n",
       "      <th>0</th>\n",
       "      <td>2009-11-01 00:00:00</td>\n",
       "      <td>254930.794</td>\n",
       "      <td>17.129317</td>\n",
       "      <td>95.271574</td>\n",
       "      <td>2.099467e-11</td>\n",
       "      <td>2009-11-01 00:00:00</td>\n",
       "      <td>472669.638</td>\n",
       "      <td>16.474</td>\n",
       "      <td>124.157</td>\n",
       "      <td>8.295032e-14</td>\n",
       "      <td>-28.885426</td>\n",
       "      <td>0.002683</td>\n",
       "      <td>17.132</td>\n",
       "      <td>334</td>\n",
       "    </tr>\n",
       "    <tr>\n",
       "      <th>1</th>\n",
       "      <td>2009-11-01 00:00:10</td>\n",
       "      <td>254966.299</td>\n",
       "      <td>16.460261</td>\n",
       "      <td>95.145337</td>\n",
       "      <td>2.109101e-11</td>\n",
       "      <td>2009-11-01 00:00:10</td>\n",
       "      <td>472568.095</td>\n",
       "      <td>15.833</td>\n",
       "      <td>124.127</td>\n",
       "      <td>8.154363e-14</td>\n",
       "      <td>-28.981663</td>\n",
       "      <td>0.013739</td>\n",
       "      <td>16.474</td>\n",
       "      <td>0</td>\n",
       "    </tr>\n",
       "    <tr>\n",
       "      <th>2</th>\n",
       "      <td>2009-11-01 00:00:20</td>\n",
       "      <td>255006.970</td>\n",
       "      <td>15.791146</td>\n",
       "      <td>95.019678</td>\n",
       "      <td>2.111097e-11</td>\n",
       "      <td>2009-11-01 00:00:20</td>\n",
       "      <td>472469.758</td>\n",
       "      <td>15.192</td>\n",
       "      <td>124.097</td>\n",
       "      <td>8.251916e-14</td>\n",
       "      <td>-29.077322</td>\n",
       "      <td>0.041854</td>\n",
       "      <td>15.833</td>\n",
       "      <td>1</td>\n",
       "    </tr>\n",
       "    <tr>\n",
       "      <th>3</th>\n",
       "      <td>2009-11-01 00:00:30</td>\n",
       "      <td>255052.848</td>\n",
       "      <td>15.121975</td>\n",
       "      <td>94.894570</td>\n",
       "      <td>2.112670e-11</td>\n",
       "      <td>2009-11-01 00:00:30</td>\n",
       "      <td>472374.678</td>\n",
       "      <td>14.550</td>\n",
       "      <td>124.067</td>\n",
       "      <td>8.407753e-14</td>\n",
       "      <td>-29.172430</td>\n",
       "      <td>0.070025</td>\n",
       "      <td>15.192</td>\n",
       "      <td>2</td>\n",
       "    </tr>\n",
       "    <tr>\n",
       "      <th>4</th>\n",
       "      <td>2009-11-01 00:00:40</td>\n",
       "      <td>255103.974</td>\n",
       "      <td>14.452752</td>\n",
       "      <td>94.769984</td>\n",
       "      <td>2.117535e-11</td>\n",
       "      <td>2009-11-01 00:00:40</td>\n",
       "      <td>472282.903</td>\n",
       "      <td>13.909</td>\n",
       "      <td>124.037</td>\n",
       "      <td>8.479457e-14</td>\n",
       "      <td>-29.267016</td>\n",
       "      <td>0.097248</td>\n",
       "      <td>14.550</td>\n",
       "      <td>3</td>\n",
       "    </tr>\n",
       "  </tbody>\n",
       "</table>\n",
       "</div>"
      ],
      "text/plain": [
       "          DateTime_ch      alt_go     lat_go     lon_go     dens_x_go  \\\n",
       "0 2009-11-01 00:00:00  254930.794  17.129317  95.271574  2.099467e-11   \n",
       "1 2009-11-01 00:00:10  254966.299  16.460261  95.145337  2.109101e-11   \n",
       "2 2009-11-01 00:00:20  255006.970  15.791146  95.019678  2.111097e-11   \n",
       "3 2009-11-01 00:00:30  255052.848  15.121975  94.894570  2.112670e-11   \n",
       "4 2009-11-01 00:00:40  255103.974  14.452752  94.769984  2.117535e-11   \n",
       "\n",
       "          DateTime_gr      alt_gr  lat_gr   lon_gr     dens_x_gr    del_lon  \\\n",
       "0 2009-11-01 00:00:00  472669.638  16.474  124.157  8.295032e-14 -28.885426   \n",
       "1 2009-11-01 00:00:10  472568.095  15.833  124.127  8.154363e-14 -28.981663   \n",
       "2 2009-11-01 00:00:20  472469.758  15.192  124.097  8.251916e-14 -29.077322   \n",
       "3 2009-11-01 00:00:30  472374.678  14.550  124.067  8.407753e-14 -29.172430   \n",
       "4 2009-11-01 00:00:40  472282.903  13.909  124.037  8.479457e-14 -29.267016   \n",
       "\n",
       "    del_lat  lat_gr_near  pos  \n",
       "0  0.002683       17.132  334  \n",
       "1  0.013739       16.474    0  \n",
       "2  0.041854       15.833    1  \n",
       "3  0.070025       15.192    2  \n",
       "4  0.097248       14.550    3  "
      ]
     },
     "execution_count": 7,
     "metadata": {},
     "output_type": "execute_result"
    }
   ],
   "source": [
    "sat_gr = sat_gr.drop(columns='DateTime_ch')\n",
    "sat_gr = sat_gr.reset_index()\n",
    "sat_gr.head()"
   ]
  },
  {
   "cell_type": "code",
   "execution_count": 17,
   "metadata": {},
   "outputs": [
    {
     "data": {
      "text/plain": [
       "(array([[3561., 3515., 3390., ..., 1005.,  911.,  818.],\n",
       "        [3666., 3500., 3478., ..., 1013.,  940.,  873.],\n",
       "        [3720., 3515., 3441., ..., 1041.,  891.,  844.],\n",
       "        ...,\n",
       "        [1971., 1798., 1875., ...,  562.,  446.,  438.],\n",
       "        [1912., 1833., 1771., ...,  514.,  465.,  419.],\n",
       "        [1821., 1750., 1771., ...,  524.,  491.,  435.]]),\n",
       " array([  0. ,   2.5,   5. ,   7.5,  10. ,  12.5,  15. ,  17.5,  20. ,\n",
       "         22.5,  25. ,  27.5,  30. ,  32.5,  35. ,  37.5,  40. ,  42.5,\n",
       "         45. ,  47.5,  50. ,  52.5,  55. ,  57.5,  60. ,  62.5,  65. ,\n",
       "         67.5,  70. ,  72.5,  75. ,  77.5,  80. ,  82.5,  85. ,  87.5,\n",
       "         90. ,  92.5,  95. ,  97.5, 100. , 102.5, 105. , 107.5, 110. ,\n",
       "        112.5, 115. , 117.5, 120. , 122.5, 125. , 127.5, 130. , 132.5,\n",
       "        135. , 137.5, 140. , 142.5, 145. , 147.5, 150. , 152.5, 155. ,\n",
       "        157.5, 160. , 162.5, 165. , 167.5, 170. , 172.5, 175. , 177.5,\n",
       "        180. , 182.5, 185. , 187.5, 190. , 192.5, 195. , 197.5, 200. ,\n",
       "        202.5, 205. , 207.5, 210. , 212.5, 215. , 217.5, 220. , 222.5,\n",
       "        225. , 227.5, 230. , 232.5, 235. , 237.5, 240. , 242.5, 245. ,\n",
       "        247.5, 250. , 252.5, 255. , 257.5, 260. , 262.5, 265. , 267.5,\n",
       "        270. , 272.5, 275. , 277.5, 280. , 282.5, 285. , 287.5, 290. ,\n",
       "        292.5, 295. , 297.5, 300. , 302.5, 305. , 307.5, 310. , 312.5,\n",
       "        315. , 317.5, 320. , 322.5, 325. , 327.5, 330. , 332.5, 335. ,\n",
       "        337.5, 340. , 342.5, 345. , 347.5, 350. , 352.5, 355. , 357.5,\n",
       "        360. ]),\n",
       " array([0.  , 0.01, 0.02, 0.03, 0.04, 0.05, 0.06, 0.07, 0.08, 0.09, 0.1 ,\n",
       "        0.11, 0.12, 0.13, 0.14, 0.15, 0.16, 0.17, 0.18, 0.19, 0.2 , 0.21,\n",
       "        0.22, 0.23, 0.24, 0.25, 0.26, 0.27, 0.28, 0.29, 0.3 ]),\n",
       " <matplotlib.collections.QuadMesh at 0x189771df490>)"
      ]
     },
     "execution_count": 17,
     "metadata": {},
     "output_type": "execute_result"
    },
    {
     "data": {
      "image/png": "[encoded data removed]",
      "text/plain": [
       "<Figure size 640x480 with 1 Axes>"
      ]
     },
     "metadata": {},
     "output_type": "display_data"
    }
   ],
   "source": [
    "plt.hist2d(np.abs(sat_gr['del_lon']),np.abs(sat_gr['del_lat']),range=[[0,360],[0,0.3]],bins=[144,30])"
   ]
  },
  {
   "cell_type": "code",
   "execution_count": 18,
   "metadata": {},
   "outputs": [
    {
     "data": {
      "text/plain": [
       "del_lon\n",
       "False    8636848\n",
       "True      990415\n",
       "Name: count, dtype: int64"
      ]
     },
     "execution_count": 18,
     "metadata": {},
     "output_type": "execute_result"
    }
   ],
   "source": [
    "gd_lon = sat_gr['del_lon'] <= 5\n",
    "gd_lon.value_counts()\n"
   ]
  },
  {
   "cell_type": "code",
   "execution_count": null,
   "metadata": {},
   "outputs": [],
   "source": [
    "sat_gr[gd_lon].tail(20)"
   ]
  }
 ],
 "metadata": {
  "kernelspec": {
   "display_name": "pymsis",
   "language": "python",
   "name": "python3"
  },
  "language_info": {
   "codemirror_mode": {
    "name": "ipython",
    "version": 3
   },
   "file_extension": ".py",
   "mimetype": "text/x-python",
   "name": "python",
   "nbconvert_exporter": "python",
   "pygments_lexer": "ipython3",
   "version": "3.10.9"
  }
 },
 "nbformat": 4,
 "nbformat_minor": 2
}
