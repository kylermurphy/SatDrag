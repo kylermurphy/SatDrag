{
 "cells": [
  {
   "cell_type": "markdown",
   "metadata": {},
   "source": [
    "# Density vs Altitude\n",
    "\n"
   ]
  },
  {
   "cell_type": "code",
   "execution_count": 82,
   "metadata": {},
   "outputs": [
    {
     "name": "stdout",
     "output_type": "stream",
     "text": [
      "The autoreload extension is already loaded. To reload it, use:\n",
      "  %reload_ext autoreload\n"
     ]
    }
   ],
   "source": [
    "# auto load magic for packages\n",
    "# as they are being worked on\n",
    "%load_ext autoreload\n",
    "%autoreload 2\n",
    "\n",
    "#print all output in a cell \n",
    "from IPython.core.interactiveshell import InteractiveShell\n",
    "InteractiveShell.ast_node_interactivity = \"all\"\n",
    "\n",
    "import sys\n",
    "import os\n",
    "\n",
    "import pandas as pd\n",
    "import numpy as np\n",
    "import matplotlib.pyplot as plt\n",
    "\n",
    "from pymsis import msis\n",
    "from scipy.optimize import curve_fit"
   ]
  },
  {
   "cell_type": "markdown",
   "metadata": {},
   "source": [
    "### Read in Data"
   ]
  },
  {
   "cell_type": "code",
   "execution_count": 83,
   "metadata": {},
   "outputs": [
    {
     "name": "stdout",
     "output_type": "stream",
     "text": [
      "Loading HDF file\n"
     ]
    }
   ],
   "source": [
    "sat_comp = 'go'\n",
    "\n",
    "sat_file = f'D:\\\\data\\\\SatDensities\\\\{sat_comp}_den_profile.hdf'\n",
    "sat_path = os.path.exists(sat_file)\n",
    "\n",
    "if sat_path:\n",
    "    print('Loading HDF file')\n",
    "    sat_gr = pd.read_hdf(sat_file)\n",
    "else:\n",
    "    print(f'No file {sat_file}')\n",
    "    print('Run gen_sat_data() from den_alt_norm.py')"
   ]
  },
  {
   "cell_type": "code",
   "execution_count": 84,
   "metadata": {},
   "outputs": [
    {
     "data": {
      "text/html": [
       "<div>\n",
       "<style scoped>\n",
       "    .dataframe tbody tr th:only-of-type {\n",
       "        vertical-align: middle;\n",
       "    }\n",
       "\n",
       "    .dataframe tbody tr th {\n",
       "        vertical-align: top;\n",
       "    }\n",
       "\n",
       "    .dataframe thead th {\n",
       "        text-align: right;\n",
       "    }\n",
       "</style>\n",
       "<table border=\"1\" class=\"dataframe\">\n",
       "  <thead>\n",
       "    <tr style=\"text-align: right;\">\n",
       "      <th></th>\n",
       "      <th>DateTime_ch</th>\n",
       "      <th>alt_go</th>\n",
       "      <th>lat_go</th>\n",
       "      <th>lon_go</th>\n",
       "      <th>dens_x_go</th>\n",
       "      <th>DateTime_gr</th>\n",
       "      <th>alt_gr</th>\n",
       "      <th>lat_gr</th>\n",
       "      <th>lon_gr</th>\n",
       "      <th>dens_x_gr</th>\n",
       "      <th>del_lon</th>\n",
       "      <th>del_lat</th>\n",
       "      <th>del_lat_near</th>\n",
       "      <th>lat_gr_near</th>\n",
       "      <th>lon_gr_near</th>\n",
       "      <th>pos</th>\n",
       "    </tr>\n",
       "    <tr>\n",
       "      <th>DateTime_ch</th>\n",
       "      <th></th>\n",
       "      <th></th>\n",
       "      <th></th>\n",
       "      <th></th>\n",
       "      <th></th>\n",
       "      <th></th>\n",
       "      <th></th>\n",
       "      <th></th>\n",
       "      <th></th>\n",
       "      <th></th>\n",
       "      <th></th>\n",
       "      <th></th>\n",
       "      <th></th>\n",
       "      <th></th>\n",
       "      <th></th>\n",
       "      <th></th>\n",
       "    </tr>\n",
       "  </thead>\n",
       "  <tbody>\n",
       "    <tr>\n",
       "      <th>2009-11-01 00:00:00</th>\n",
       "      <td>2009-11-01 00:00:00</td>\n",
       "      <td>254930.794</td>\n",
       "      <td>17.129317</td>\n",
       "      <td>95.271574</td>\n",
       "      <td>2.099467e-11</td>\n",
       "      <td>2009-11-01 00:00:00</td>\n",
       "      <td>472669.638</td>\n",
       "      <td>16.474</td>\n",
       "      <td>124.157</td>\n",
       "      <td>8.295032e-14</td>\n",
       "      <td>-28.885426</td>\n",
       "      <td>0.655317</td>\n",
       "      <td>0.002683</td>\n",
       "      <td>17.132</td>\n",
       "      <td>-69.213</td>\n",
       "      <td>334</td>\n",
       "    </tr>\n",
       "    <tr>\n",
       "      <th>2009-11-01 00:00:10</th>\n",
       "      <td>2009-11-01 00:00:10</td>\n",
       "      <td>254966.299</td>\n",
       "      <td>16.460261</td>\n",
       "      <td>95.145337</td>\n",
       "      <td>2.109101e-11</td>\n",
       "      <td>2009-11-01 00:00:10</td>\n",
       "      <td>472568.095</td>\n",
       "      <td>15.833</td>\n",
       "      <td>124.127</td>\n",
       "      <td>8.154363e-14</td>\n",
       "      <td>-28.981663</td>\n",
       "      <td>0.627261</td>\n",
       "      <td>0.013739</td>\n",
       "      <td>16.474</td>\n",
       "      <td>124.157</td>\n",
       "      <td>0</td>\n",
       "    </tr>\n",
       "    <tr>\n",
       "      <th>2009-11-01 00:00:20</th>\n",
       "      <td>2009-11-01 00:00:20</td>\n",
       "      <td>255006.970</td>\n",
       "      <td>15.791146</td>\n",
       "      <td>95.019678</td>\n",
       "      <td>2.111097e-11</td>\n",
       "      <td>2009-11-01 00:00:20</td>\n",
       "      <td>472469.758</td>\n",
       "      <td>15.192</td>\n",
       "      <td>124.097</td>\n",
       "      <td>8.251916e-14</td>\n",
       "      <td>-29.077322</td>\n",
       "      <td>0.599146</td>\n",
       "      <td>0.041854</td>\n",
       "      <td>15.833</td>\n",
       "      <td>124.127</td>\n",
       "      <td>1</td>\n",
       "    </tr>\n",
       "    <tr>\n",
       "      <th>2009-11-01 00:00:30</th>\n",
       "      <td>2009-11-01 00:00:30</td>\n",
       "      <td>255052.848</td>\n",
       "      <td>15.121975</td>\n",
       "      <td>94.894570</td>\n",
       "      <td>2.112670e-11</td>\n",
       "      <td>2009-11-01 00:00:30</td>\n",
       "      <td>472374.678</td>\n",
       "      <td>14.550</td>\n",
       "      <td>124.067</td>\n",
       "      <td>8.407753e-14</td>\n",
       "      <td>-29.172430</td>\n",
       "      <td>0.571975</td>\n",
       "      <td>0.070025</td>\n",
       "      <td>15.192</td>\n",
       "      <td>124.097</td>\n",
       "      <td>2</td>\n",
       "    </tr>\n",
       "    <tr>\n",
       "      <th>2009-11-01 00:00:40</th>\n",
       "      <td>2009-11-01 00:00:40</td>\n",
       "      <td>255103.974</td>\n",
       "      <td>14.452752</td>\n",
       "      <td>94.769984</td>\n",
       "      <td>2.117535e-11</td>\n",
       "      <td>2009-11-01 00:00:40</td>\n",
       "      <td>472282.903</td>\n",
       "      <td>13.909</td>\n",
       "      <td>124.037</td>\n",
       "      <td>8.479457e-14</td>\n",
       "      <td>-29.267016</td>\n",
       "      <td>0.543752</td>\n",
       "      <td>0.097248</td>\n",
       "      <td>14.550</td>\n",
       "      <td>124.067</td>\n",
       "      <td>3</td>\n",
       "    </tr>\n",
       "  </tbody>\n",
       "</table>\n",
       "</div>"
      ],
      "text/plain": [
       "                            DateTime_ch      alt_go     lat_go     lon_go  \\\n",
       "DateTime_ch                                                                 \n",
       "2009-11-01 00:00:00 2009-11-01 00:00:00  254930.794  17.129317  95.271574   \n",
       "2009-11-01 00:00:10 2009-11-01 00:00:10  254966.299  16.460261  95.145337   \n",
       "2009-11-01 00:00:20 2009-11-01 00:00:20  255006.970  15.791146  95.019678   \n",
       "2009-11-01 00:00:30 2009-11-01 00:00:30  255052.848  15.121975  94.894570   \n",
       "2009-11-01 00:00:40 2009-11-01 00:00:40  255103.974  14.452752  94.769984   \n",
       "\n",
       "                        dens_x_go         DateTime_gr      alt_gr  lat_gr  \\\n",
       "DateTime_ch                                                                 \n",
       "2009-11-01 00:00:00  2.099467e-11 2009-11-01 00:00:00  472669.638  16.474   \n",
       "2009-11-01 00:00:10  2.109101e-11 2009-11-01 00:00:10  472568.095  15.833   \n",
       "2009-11-01 00:00:20  2.111097e-11 2009-11-01 00:00:20  472469.758  15.192   \n",
       "2009-11-01 00:00:30  2.112670e-11 2009-11-01 00:00:30  472374.678  14.550   \n",
       "2009-11-01 00:00:40  2.117535e-11 2009-11-01 00:00:40  472282.903  13.909   \n",
       "\n",
       "                      lon_gr     dens_x_gr    del_lon   del_lat  del_lat_near  \\\n",
       "DateTime_ch                                                                     \n",
       "2009-11-01 00:00:00  124.157  8.295032e-14 -28.885426  0.655317      0.002683   \n",
       "2009-11-01 00:00:10  124.127  8.154363e-14 -28.981663  0.627261      0.013739   \n",
       "2009-11-01 00:00:20  124.097  8.251916e-14 -29.077322  0.599146      0.041854   \n",
       "2009-11-01 00:00:30  124.067  8.407753e-14 -29.172430  0.571975      0.070025   \n",
       "2009-11-01 00:00:40  124.037  8.479457e-14 -29.267016  0.543752      0.097248   \n",
       "\n",
       "                     lat_gr_near  lon_gr_near  pos  \n",
       "DateTime_ch                                         \n",
       "2009-11-01 00:00:00       17.132      -69.213  334  \n",
       "2009-11-01 00:00:10       16.474      124.157    0  \n",
       "2009-11-01 00:00:20       15.833      124.127    1  \n",
       "2009-11-01 00:00:30       15.192      124.097    2  \n",
       "2009-11-01 00:00:40       14.550      124.067    3  "
      ]
     },
     "execution_count": 84,
     "metadata": {},
     "output_type": "execute_result"
    }
   ],
   "source": [
    "sat_gr.head(5)"
   ]
  },
  {
   "cell_type": "code",
   "execution_count": 85,
   "metadata": {},
   "outputs": [
    {
     "data": {
      "text/plain": [
       "(array([  184.,   463.,   849.,  1115.,  1431.,  1760.,  2162.,  2590.,\n",
       "         2918.,  3233.,  3572.,  3938.,  4328.,  4701.,  5019.,  5332.,\n",
       "         5612.,  5854.,  6208.,  6491.,  6920.,  7100.,  7395.,  7698.,\n",
       "         8007.,  8298.,  8555.,  8883.,  9230.,  9409.,  9526.,  9893.,\n",
       "        10028., 10278., 10539., 10752., 10769., 10725., 10545., 10375.,\n",
       "        10294.,  9842.,  9445.,  8702.,  8002.,  7097.,  6346.,  5704.,\n",
       "         5197.,  4857.,  4700.,  4665.,  4659.,  4691.,  4988.,  5274.,\n",
       "         5693.,  6139.,  6800.,  7364.,  8077.,  8876.,  9697., 10644.,\n",
       "        11763., 13017., 14265., 15367., 16609., 17468., 18424., 19469.,\n",
       "        20186., 20942., 21804., 22622., 23573., 24457., 25205., 25886.,\n",
       "        26570., 27084., 27696., 28250., 28540., 28880., 29039., 29271.,\n",
       "        29252., 29241., 29380., 29638., 30031., 30322., 30821., 31170.,\n",
       "        31751., 32117., 32731., 33235., 33730., 34369., 34919., 35333.,\n",
       "        35708., 36165., 36353., 36615., 36535., 36882., 37127., 37358.,\n",
       "        37571., 37648., 37869., 37767., 37871., 37865., 38095., 38119.,\n",
       "        38293., 38494., 38452., 38264., 37676., 37362., 37085., 36458.,\n",
       "        35918., 34909., 33622., 31650., 29661., 27140., 24429., 21765.,\n",
       "        19235., 17131., 15425., 14275., 13370., 13111., 12802., 13200.,\n",
       "        13473., 14127., 14637., 15480., 16603., 17923., 19586., 21242.,\n",
       "        23261., 25376., 27792., 30053., 32622., 34979., 37513., 39874.,\n",
       "        42226., 43811., 45245., 46583., 48060., 49601., 50892., 52433.,\n",
       "        53776., 54825., 55674., 56660., 57526., 58365., 59101., 59425.,\n",
       "        59738., 59500., 59360., 59058., 58518., 58028., 57641., 57614.,\n",
       "        57489., 57581., 57496., 57364., 57166., 57008., 57030., 57122.,\n",
       "        57070., 56921., 56798., 56398., 56062., 55366., 54671., 53926.,\n",
       "        53274., 52346., 51907., 51207., 50640., 50055., 49738., 49166.,\n",
       "        48594., 48275., 47556., 46998., 46104., 45303., 44221., 42973.,\n",
       "        41908., 40758., 39689., 37833., 36039., 33567., 30732., 27743.,\n",
       "        24551., 21436., 18620., 16402., 14567., 13256., 12147., 11708.,\n",
       "        11175., 11364., 11179., 11631., 12050., 12679., 13513., 14586.,\n",
       "        15634., 16769., 18065., 19353., 20664., 22234., 23678., 25074.,\n",
       "        26480., 27702., 28655., 29239., 29678., 30242., 30759., 31353.,\n",
       "        31730., 32271., 32526., 32597., 32758., 32668., 32543., 32549.,\n",
       "        32343., 32059., 31569., 31132., 30354., 29896., 29237., 28852.,\n",
       "        28482., 28249., 28031., 27860., 27604., 27430., 27175., 26997.,\n",
       "        26746., 26559., 26424., 26108., 25840., 25516., 24966., 24494.,\n",
       "        24114., 23586., 23264., 22780., 22434., 22086., 21494., 21116.,\n",
       "        20780., 20393., 19829., 19443., 18923., 18524., 18005., 17559.,\n",
       "        17172., 16535., 15841., 15034., 14303., 13453., 12661., 11698.,\n",
       "        10694.,  9632.,  8401.,  7269.,  6226.,  5339.,  4583.,  4157.,\n",
       "         3705.,  3516.,  3402.,  3401.,  3335.,  3280.,  3307.,  3349.,\n",
       "         3509.,  3598.,  3720.,  3905.,  4102.,  4296.,  4520.,  4777.,\n",
       "         4911.,  4992.,  5069.,  5127.,  4990.,  5046.,  4890.,  4679.,\n",
       "         4539.,  4408.,  4210.,  4065.,  3775.,  3514.,  3191.,  2842.,\n",
       "         2593.,  2272.,  1924.,  1612.,  1233.,   882.,   570.,   195.]),\n",
       " array([-1.79936936e+02, -1.77938223e+02, -1.75939511e+02, -1.73940798e+02,\n",
       "        -1.71942085e+02, -1.69943372e+02, -1.67944660e+02, -1.65945947e+02,\n",
       "        -1.63947234e+02, -1.61948522e+02, -1.59949809e+02, -1.57951096e+02,\n",
       "        -1.55952384e+02, -1.53953671e+02, -1.51954958e+02, -1.49956245e+02,\n",
       "        -1.47957533e+02, -1.45958820e+02, -1.43960107e+02, -1.41961395e+02,\n",
       "        -1.39962682e+02, -1.37963969e+02, -1.35965256e+02, -1.33966544e+02,\n",
       "        -1.31967831e+02, -1.29969118e+02, -1.27970406e+02, -1.25971693e+02,\n",
       "        -1.23972980e+02, -1.21974268e+02, -1.19975555e+02, -1.17976842e+02,\n",
       "        -1.15978129e+02, -1.13979417e+02, -1.11980704e+02, -1.09981991e+02,\n",
       "        -1.07983279e+02, -1.05984566e+02, -1.03985853e+02, -1.01987141e+02,\n",
       "        -9.99884278e+01, -9.79897151e+01, -9.59910024e+01, -9.39922897e+01,\n",
       "        -9.19935770e+01, -8.99948643e+01, -8.79961516e+01, -8.59974389e+01,\n",
       "        -8.39987262e+01, -8.20000135e+01, -8.00013007e+01, -7.80025880e+01,\n",
       "        -7.60038753e+01, -7.40051626e+01, -7.20064499e+01, -7.00077372e+01,\n",
       "        -6.80090245e+01, -6.60103118e+01, -6.40115991e+01, -6.20128864e+01,\n",
       "        -6.00141737e+01, -5.80154610e+01, -5.60167483e+01, -5.40180356e+01,\n",
       "        -5.20193229e+01, -5.00206102e+01, -4.80218975e+01, -4.60231848e+01,\n",
       "        -4.40244721e+01, -4.20257594e+01, -4.00270466e+01, -3.80283339e+01,\n",
       "        -3.60296212e+01, -3.40309085e+01, -3.20321958e+01, -3.00334831e+01,\n",
       "        -2.80347704e+01, -2.60360577e+01, -2.40373450e+01, -2.20386323e+01,\n",
       "        -2.00399196e+01, -1.80412069e+01, -1.60424942e+01, -1.40437815e+01,\n",
       "        -1.20450688e+01, -1.00463561e+01, -8.04764337e+00, -6.04893066e+00,\n",
       "        -4.05021796e+00, -2.05150525e+00, -5.27925500e-02,  1.94592016e+00,\n",
       "         3.94463286e+00,  5.94334557e+00,  7.94205827e+00,  9.94077098e+00,\n",
       "         1.19394837e+01,  1.39381964e+01,  1.59369091e+01,  1.79356218e+01,\n",
       "         1.99343345e+01,  2.19330472e+01,  2.39317599e+01,  2.59304726e+01,\n",
       "         2.79291853e+01,  2.99278980e+01,  3.19266107e+01,  3.39253234e+01,\n",
       "         3.59240361e+01,  3.79227488e+01,  3.99214616e+01,  4.19201743e+01,\n",
       "         4.39188870e+01,  4.59175997e+01,  4.79163124e+01,  4.99150251e+01,\n",
       "         5.19137378e+01,  5.39124505e+01,  5.59111632e+01,  5.79098759e+01,\n",
       "         5.99085886e+01,  6.19073013e+01,  6.39060140e+01,  6.59047267e+01,\n",
       "         6.79034394e+01,  6.99021521e+01,  7.19008648e+01,  7.38995775e+01,\n",
       "         7.58982902e+01,  7.78970029e+01,  7.98957156e+01,  8.18944284e+01,\n",
       "         8.38931411e+01,  8.58918538e+01,  8.78905665e+01,  8.98892792e+01,\n",
       "         9.18879919e+01,  9.38867046e+01,  9.58854173e+01,  9.78841300e+01,\n",
       "         9.98828427e+01,  1.01881555e+02,  1.03880268e+02,  1.05878981e+02,\n",
       "         1.07877694e+02,  1.09876406e+02,  1.11875119e+02,  1.13873832e+02,\n",
       "         1.15872544e+02,  1.17871257e+02,  1.19869970e+02,  1.21868682e+02,\n",
       "         1.23867395e+02,  1.25866108e+02,  1.27864821e+02,  1.29863533e+02,\n",
       "         1.31862246e+02,  1.33860959e+02,  1.35859671e+02,  1.37858384e+02,\n",
       "         1.39857097e+02,  1.41855810e+02,  1.43854522e+02,  1.45853235e+02,\n",
       "         1.47851948e+02,  1.49850660e+02,  1.51849373e+02,  1.53848086e+02,\n",
       "         1.55846798e+02,  1.57845511e+02,  1.59844224e+02,  1.61842937e+02,\n",
       "         1.63841649e+02,  1.65840362e+02,  1.67839075e+02,  1.69837787e+02,\n",
       "         1.71836500e+02,  1.73835213e+02,  1.75833925e+02,  1.77832638e+02,\n",
       "         1.79831351e+02,  1.81830064e+02,  1.83828776e+02,  1.85827489e+02,\n",
       "         1.87826202e+02,  1.89824914e+02,  1.91823627e+02,  1.93822340e+02,\n",
       "         1.95821053e+02,  1.97819765e+02,  1.99818478e+02,  2.01817191e+02,\n",
       "         2.03815903e+02,  2.05814616e+02,  2.07813329e+02,  2.09812041e+02,\n",
       "         2.11810754e+02,  2.13809467e+02,  2.15808180e+02,  2.17806892e+02,\n",
       "         2.19805605e+02,  2.21804318e+02,  2.23803030e+02,  2.25801743e+02,\n",
       "         2.27800456e+02,  2.29799169e+02,  2.31797881e+02,  2.33796594e+02,\n",
       "         2.35795307e+02,  2.37794019e+02,  2.39792732e+02,  2.41791445e+02,\n",
       "         2.43790157e+02,  2.45788870e+02,  2.47787583e+02,  2.49786296e+02,\n",
       "         2.51785008e+02,  2.53783721e+02,  2.55782434e+02,  2.57781146e+02,\n",
       "         2.59779859e+02,  2.61778572e+02,  2.63777285e+02,  2.65775997e+02,\n",
       "         2.67774710e+02,  2.69773423e+02,  2.71772135e+02,  2.73770848e+02,\n",
       "         2.75769561e+02,  2.77768273e+02,  2.79766986e+02,  2.81765699e+02,\n",
       "         2.83764412e+02,  2.85763124e+02,  2.87761837e+02,  2.89760550e+02,\n",
       "         2.91759262e+02,  2.93757975e+02,  2.95756688e+02,  2.97755400e+02,\n",
       "         2.99754113e+02,  3.01752826e+02,  3.03751539e+02,  3.05750251e+02,\n",
       "         3.07748964e+02,  3.09747677e+02,  3.11746389e+02,  3.13745102e+02,\n",
       "         3.15743815e+02,  3.17742528e+02,  3.19741240e+02,  3.21739953e+02,\n",
       "         3.23738666e+02,  3.25737378e+02,  3.27736091e+02,  3.29734804e+02,\n",
       "         3.31733516e+02,  3.33732229e+02,  3.35730942e+02,  3.37729655e+02,\n",
       "         3.39728367e+02,  3.41727080e+02,  3.43725793e+02,  3.45724505e+02,\n",
       "         3.47723218e+02,  3.49721931e+02,  3.51720644e+02,  3.53719356e+02,\n",
       "         3.55718069e+02,  3.57716782e+02,  3.59715494e+02,  3.61714207e+02,\n",
       "         3.63712920e+02,  3.65711632e+02,  3.67710345e+02,  3.69709058e+02,\n",
       "         3.71707771e+02,  3.73706483e+02,  3.75705196e+02,  3.77703909e+02,\n",
       "         3.79702621e+02,  3.81701334e+02,  3.83700047e+02,  3.85698760e+02,\n",
       "         3.87697472e+02,  3.89696185e+02,  3.91694898e+02,  3.93693610e+02,\n",
       "         3.95692323e+02,  3.97691036e+02,  3.99689748e+02,  4.01688461e+02,\n",
       "         4.03687174e+02,  4.05685887e+02,  4.07684599e+02,  4.09683312e+02,\n",
       "         4.11682025e+02,  4.13680737e+02,  4.15679450e+02,  4.17678163e+02,\n",
       "         4.19676876e+02,  4.21675588e+02,  4.23674301e+02,  4.25673014e+02,\n",
       "         4.27671726e+02,  4.29670439e+02,  4.31669152e+02,  4.33667864e+02,\n",
       "         4.35666577e+02,  4.37665290e+02,  4.39664003e+02,  4.41662715e+02,\n",
       "         4.43661428e+02,  4.45660141e+02,  4.47658853e+02,  4.49657566e+02,\n",
       "         4.51656279e+02,  4.53654991e+02,  4.55653704e+02,  4.57652417e+02,\n",
       "         4.59651130e+02,  4.61649842e+02,  4.63648555e+02,  4.65647268e+02,\n",
       "         4.67645980e+02,  4.69644693e+02,  4.71643406e+02,  4.73642119e+02,\n",
       "         4.75640831e+02,  4.77639544e+02,  4.79638257e+02,  4.81636969e+02,\n",
       "         4.83635682e+02,  4.85634395e+02,  4.87633107e+02,  4.89631820e+02,\n",
       "         4.91630533e+02,  4.93629246e+02,  4.95627958e+02,  4.97626671e+02,\n",
       "         4.99625384e+02,  5.01624096e+02,  5.03622809e+02,  5.05621522e+02,\n",
       "         5.07620235e+02,  5.09618947e+02,  5.11617660e+02,  5.13616373e+02,\n",
       "         5.15615085e+02,  5.17613798e+02,  5.19612511e+02,  5.21611223e+02,\n",
       "         5.23609936e+02,  5.25608649e+02,  5.27607362e+02,  5.29606074e+02,\n",
       "         5.31604787e+02,  5.33603500e+02,  5.35602212e+02,  5.37600925e+02,\n",
       "         5.39599638e+02]),\n",
       " <BarContainer object of 360 artists>)"
      ]
     },
     "execution_count": 85,
     "metadata": {},
     "output_type": "execute_result"
    },
    {
     "data": {
      "image/png": "[encoded data removed]",
      "text/plain": [
       "<Figure size 640x480 with 1 Axes>"
      ]
     },
     "metadata": {},
     "output_type": "display_data"
    }
   ],
   "source": [
    "plt.hist(sat_gr['del_lon'],bins=360)"
   ]
  },
  {
   "cell_type": "code",
   "execution_count": 86,
   "metadata": {},
   "outputs": [
    {
     "data": {
      "text/plain": [
       "(array([[3776., 3705., 3575., ..., 1044.,  955.,  853.],\n",
       "        [3891., 3713., 3698., ..., 1064.,  981.,  908.],\n",
       "        [3940., 3753., 3683., ..., 1093.,  935.,  885.],\n",
       "        ...,\n",
       "        [2091., 1937., 2005., ...,  590.,  469.,  453.],\n",
       "        [2034., 1953., 1887., ...,  546.,  492.,  451.],\n",
       "        [1910., 1858., 1858., ...,  550.,  507.,  458.]]),\n",
       " array([  0. ,   2.5,   5. ,   7.5,  10. ,  12.5,  15. ,  17.5,  20. ,\n",
       "         22.5,  25. ,  27.5,  30. ,  32.5,  35. ,  37.5,  40. ,  42.5,\n",
       "         45. ,  47.5,  50. ,  52.5,  55. ,  57.5,  60. ,  62.5,  65. ,\n",
       "         67.5,  70. ,  72.5,  75. ,  77.5,  80. ,  82.5,  85. ,  87.5,\n",
       "         90. ,  92.5,  95. ,  97.5, 100. , 102.5, 105. , 107.5, 110. ,\n",
       "        112.5, 115. , 117.5, 120. , 122.5, 125. , 127.5, 130. , 132.5,\n",
       "        135. , 137.5, 140. , 142.5, 145. , 147.5, 150. , 152.5, 155. ,\n",
       "        157.5, 160. , 162.5, 165. , 167.5, 170. , 172.5, 175. , 177.5,\n",
       "        180. , 182.5, 185. , 187.5, 190. , 192.5, 195. , 197.5, 200. ,\n",
       "        202.5, 205. , 207.5, 210. , 212.5, 215. , 217.5, 220. , 222.5,\n",
       "        225. , 227.5, 230. , 232.5, 235. , 237.5, 240. , 242.5, 245. ,\n",
       "        247.5, 250. , 252.5, 255. , 257.5, 260. , 262.5, 265. , 267.5,\n",
       "        270. , 272.5, 275. , 277.5, 280. , 282.5, 285. , 287.5, 290. ,\n",
       "        292.5, 295. , 297.5, 300. , 302.5, 305. , 307.5, 310. , 312.5,\n",
       "        315. , 317.5, 320. , 322.5, 325. , 327.5, 330. , 332.5, 335. ,\n",
       "        337.5, 340. , 342.5, 345. , 347.5, 350. , 352.5, 355. , 357.5,\n",
       "        360. ]),\n",
       " array([0.  , 0.01, 0.02, 0.03, 0.04, 0.05, 0.06, 0.07, 0.08, 0.09, 0.1 ,\n",
       "        0.11, 0.12, 0.13, 0.14, 0.15, 0.16, 0.17, 0.18, 0.19, 0.2 , 0.21,\n",
       "        0.22, 0.23, 0.24, 0.25, 0.26, 0.27, 0.28, 0.29, 0.3 ]),\n",
       " <matplotlib.collections.QuadMesh at 0x1d5c2017430>)"
      ]
     },
     "execution_count": 86,
     "metadata": {},
     "output_type": "execute_result"
    },
    {
     "data": {
      "image/png": "[encoded data removed]",
      "text/plain": [
       "<Figure size 640x480 with 1 Axes>"
      ]
     },
     "metadata": {},
     "output_type": "display_data"
    }
   ],
   "source": [
    "plt.hist2d(np.abs(sat_gr['del_lon']),np.abs(sat_gr['del_lat_near']),range=[[0,360],[0,0.3]],bins=[144,30])"
   ]
  },
  {
   "cell_type": "code",
   "execution_count": 87,
   "metadata": {},
   "outputs": [
    {
     "data": {
      "text/plain": [
       "False    10667583\n",
       "True       144502\n",
       "Name: count, dtype: int64"
      ]
     },
     "execution_count": 87,
     "metadata": {},
     "output_type": "execute_result"
    }
   ],
   "source": [
    "gd_lon = (sat_gr['del_lat_near'].abs() <= 1) & (np.abs(sat_gr['lon_gr_near']-sat_gr[f'lon_{sat_comp}']) <=5)\n",
    "gd_lon.value_counts()\n"
   ]
  },
  {
   "cell_type": "code",
   "execution_count": 88,
   "metadata": {},
   "outputs": [
    {
     "data": {
      "text/html": [
       "<div>\n",
       "<style scoped>\n",
       "    .dataframe tbody tr th:only-of-type {\n",
       "        vertical-align: middle;\n",
       "    }\n",
       "\n",
       "    .dataframe tbody tr th {\n",
       "        vertical-align: top;\n",
       "    }\n",
       "\n",
       "    .dataframe thead th {\n",
       "        text-align: right;\n",
       "    }\n",
       "</style>\n",
       "<table border=\"1\" class=\"dataframe\">\n",
       "  <thead>\n",
       "    <tr style=\"text-align: right;\">\n",
       "      <th></th>\n",
       "      <th>DateTime_ch</th>\n",
       "      <th>alt_go</th>\n",
       "      <th>lat_go</th>\n",
       "      <th>lon_go</th>\n",
       "      <th>dens_x_go</th>\n",
       "      <th>DateTime_gr</th>\n",
       "      <th>alt_gr</th>\n",
       "      <th>lat_gr</th>\n",
       "      <th>lon_gr</th>\n",
       "      <th>dens_x_gr</th>\n",
       "      <th>del_lon</th>\n",
       "      <th>del_lat</th>\n",
       "      <th>del_lat_near</th>\n",
       "      <th>lat_gr_near</th>\n",
       "      <th>lon_gr_near</th>\n",
       "      <th>pos</th>\n",
       "    </tr>\n",
       "    <tr>\n",
       "      <th>DateTime_ch</th>\n",
       "      <th></th>\n",
       "      <th></th>\n",
       "      <th></th>\n",
       "      <th></th>\n",
       "      <th></th>\n",
       "      <th></th>\n",
       "      <th></th>\n",
       "      <th></th>\n",
       "      <th></th>\n",
       "      <th></th>\n",
       "      <th></th>\n",
       "      <th></th>\n",
       "      <th></th>\n",
       "      <th></th>\n",
       "      <th></th>\n",
       "      <th></th>\n",
       "    </tr>\n",
       "  </thead>\n",
       "  <tbody>\n",
       "    <tr>\n",
       "      <th>2013-10-20 03:17:20</th>\n",
       "      <td>2013-10-20 03:17:20</td>\n",
       "      <td>239931.257</td>\n",
       "      <td>65.809183</td>\n",
       "      <td>79.032200</td>\n",
       "      <td>6.573618e-11</td>\n",
       "      <td>2013-10-20 03:17:20</td>\n",
       "      <td>435246.741</td>\n",
       "      <td>67.556</td>\n",
       "      <td>74.274</td>\n",
       "      <td>1.157585e-12</td>\n",
       "      <td>4.758200</td>\n",
       "      <td>-1.746817</td>\n",
       "      <td>-0.181183</td>\n",
       "      <td>65.628</td>\n",
       "      <td>74.190</td>\n",
       "      <td>10811856</td>\n",
       "    </tr>\n",
       "    <tr>\n",
       "      <th>2013-10-20 03:17:30</th>\n",
       "      <td>2013-10-20 03:17:30</td>\n",
       "      <td>239865.974</td>\n",
       "      <td>65.163324</td>\n",
       "      <td>78.547956</td>\n",
       "      <td>6.635933e-11</td>\n",
       "      <td>2013-10-20 03:17:30</td>\n",
       "      <td>435413.375</td>\n",
       "      <td>68.199</td>\n",
       "      <td>74.310</td>\n",
       "      <td>1.152994e-12</td>\n",
       "      <td>4.237956</td>\n",
       "      <td>-3.035676</td>\n",
       "      <td>-0.178324</td>\n",
       "      <td>64.985</td>\n",
       "      <td>74.169</td>\n",
       "      <td>10811855</td>\n",
       "    </tr>\n",
       "    <tr>\n",
       "      <th>2013-10-20 03:17:40</th>\n",
       "      <td>2013-10-20 03:17:40</td>\n",
       "      <td>239798.185</td>\n",
       "      <td>64.516165</td>\n",
       "      <td>78.084741</td>\n",
       "      <td>6.678082e-11</td>\n",
       "      <td>2013-10-20 03:17:40</td>\n",
       "      <td>435578.716</td>\n",
       "      <td>68.841</td>\n",
       "      <td>74.350</td>\n",
       "      <td>1.152455e-12</td>\n",
       "      <td>3.734741</td>\n",
       "      <td>-4.324835</td>\n",
       "      <td>-0.174165</td>\n",
       "      <td>64.342</td>\n",
       "      <td>74.151</td>\n",
       "      <td>10811854</td>\n",
       "    </tr>\n",
       "    <tr>\n",
       "      <th>2013-10-20 03:17:50</th>\n",
       "      <td>2013-10-20 03:17:50</td>\n",
       "      <td>239727.964</td>\n",
       "      <td>63.867799</td>\n",
       "      <td>77.641025</td>\n",
       "      <td>6.782843e-11</td>\n",
       "      <td>2013-10-20 03:17:50</td>\n",
       "      <td>435742.693</td>\n",
       "      <td>69.484</td>\n",
       "      <td>74.395</td>\n",
       "      <td>1.153427e-12</td>\n",
       "      <td>3.246025</td>\n",
       "      <td>-5.616201</td>\n",
       "      <td>-0.168799</td>\n",
       "      <td>63.699</td>\n",
       "      <td>74.135</td>\n",
       "      <td>10811853</td>\n",
       "    </tr>\n",
       "    <tr>\n",
       "      <th>2013-10-20 03:18:00</th>\n",
       "      <td>2013-10-20 03:18:00</td>\n",
       "      <td>239655.387</td>\n",
       "      <td>63.218307</td>\n",
       "      <td>77.215418</td>\n",
       "      <td>6.834537e-11</td>\n",
       "      <td>2013-10-20 03:18:00</td>\n",
       "      <td>435905.232</td>\n",
       "      <td>70.126</td>\n",
       "      <td>74.445</td>\n",
       "      <td>1.155310e-12</td>\n",
       "      <td>2.770418</td>\n",
       "      <td>-6.907693</td>\n",
       "      <td>-0.162307</td>\n",
       "      <td>63.056</td>\n",
       "      <td>74.122</td>\n",
       "      <td>10811852</td>\n",
       "    </tr>\n",
       "    <tr>\n",
       "      <th>2013-10-20 03:18:10</th>\n",
       "      <td>2013-10-20 03:18:10</td>\n",
       "      <td>239580.534</td>\n",
       "      <td>62.567764</td>\n",
       "      <td>76.806656</td>\n",
       "      <td>6.796538e-11</td>\n",
       "      <td>2013-10-20 03:18:10</td>\n",
       "      <td>436066.264</td>\n",
       "      <td>70.768</td>\n",
       "      <td>74.501</td>\n",
       "      <td>1.157286e-12</td>\n",
       "      <td>2.305656</td>\n",
       "      <td>-8.200236</td>\n",
       "      <td>-0.154764</td>\n",
       "      <td>62.413</td>\n",
       "      <td>74.112</td>\n",
       "      <td>10811851</td>\n",
       "    </tr>\n",
       "    <tr>\n",
       "      <th>2013-10-20 03:18:20</th>\n",
       "      <td>2013-10-20 03:18:20</td>\n",
       "      <td>239503.482</td>\n",
       "      <td>61.916237</td>\n",
       "      <td>76.413589</td>\n",
       "      <td>6.775942e-11</td>\n",
       "      <td>2013-10-20 03:18:20</td>\n",
       "      <td>436225.719</td>\n",
       "      <td>71.410</td>\n",
       "      <td>74.564</td>\n",
       "      <td>1.155683e-12</td>\n",
       "      <td>1.849589</td>\n",
       "      <td>-9.493763</td>\n",
       "      <td>-0.147237</td>\n",
       "      <td>61.769</td>\n",
       "      <td>74.103</td>\n",
       "      <td>10811850</td>\n",
       "    </tr>\n",
       "    <tr>\n",
       "      <th>2013-10-20 03:18:30</th>\n",
       "      <td>2013-10-20 03:18:30</td>\n",
       "      <td>239424.314</td>\n",
       "      <td>61.263786</td>\n",
       "      <td>76.035163</td>\n",
       "      <td>6.853926e-11</td>\n",
       "      <td>2013-10-20 03:18:30</td>\n",
       "      <td>436383.531</td>\n",
       "      <td>72.051</td>\n",
       "      <td>74.634</td>\n",
       "      <td>1.156703e-12</td>\n",
       "      <td>1.401163</td>\n",
       "      <td>-10.787214</td>\n",
       "      <td>-0.137786</td>\n",
       "      <td>61.126</td>\n",
       "      <td>74.097</td>\n",
       "      <td>10811849</td>\n",
       "    </tr>\n",
       "    <tr>\n",
       "      <th>2013-10-20 03:18:40</th>\n",
       "      <td>2013-10-20 03:18:40</td>\n",
       "      <td>239343.111</td>\n",
       "      <td>60.610471</td>\n",
       "      <td>75.670418</td>\n",
       "      <td>6.910805e-11</td>\n",
       "      <td>2013-10-20 03:18:40</td>\n",
       "      <td>436539.633</td>\n",
       "      <td>72.693</td>\n",
       "      <td>74.712</td>\n",
       "      <td>1.157468e-12</td>\n",
       "      <td>0.958418</td>\n",
       "      <td>-12.082529</td>\n",
       "      <td>-0.128471</td>\n",
       "      <td>60.482</td>\n",
       "      <td>74.093</td>\n",
       "      <td>10811848</td>\n",
       "    </tr>\n",
       "    <tr>\n",
       "      <th>2013-10-20 03:18:50</th>\n",
       "      <td>2013-10-20 03:18:50</td>\n",
       "      <td>239259.958</td>\n",
       "      <td>59.956340</td>\n",
       "      <td>75.318471</td>\n",
       "      <td>6.902671e-11</td>\n",
       "      <td>2013-10-20 03:18:50</td>\n",
       "      <td>436693.962</td>\n",
       "      <td>73.335</td>\n",
       "      <td>74.799</td>\n",
       "      <td>1.158173e-12</td>\n",
       "      <td>0.519471</td>\n",
       "      <td>-13.378660</td>\n",
       "      <td>-0.117340</td>\n",
       "      <td>59.839</td>\n",
       "      <td>74.090</td>\n",
       "      <td>10811847</td>\n",
       "    </tr>\n",
       "    <tr>\n",
       "      <th>2013-10-20 03:19:00</th>\n",
       "      <td>2013-10-20 03:19:00</td>\n",
       "      <td>239174.941</td>\n",
       "      <td>59.301440</td>\n",
       "      <td>74.978512</td>\n",
       "      <td>6.938151e-11</td>\n",
       "      <td>2013-10-20 03:19:00</td>\n",
       "      <td>436846.455</td>\n",
       "      <td>73.976</td>\n",
       "      <td>74.895</td>\n",
       "      <td>1.158543e-12</td>\n",
       "      <td>0.083512</td>\n",
       "      <td>-14.674560</td>\n",
       "      <td>-0.106440</td>\n",
       "      <td>59.195</td>\n",
       "      <td>74.089</td>\n",
       "      <td>10811846</td>\n",
       "    </tr>\n",
       "    <tr>\n",
       "      <th>2013-10-20 03:19:10</th>\n",
       "      <td>2013-10-20 03:19:10</td>\n",
       "      <td>239088.144</td>\n",
       "      <td>58.645815</td>\n",
       "      <td>74.649798</td>\n",
       "      <td>6.964938e-11</td>\n",
       "      <td>2013-10-20 03:19:10</td>\n",
       "      <td>436997.051</td>\n",
       "      <td>74.617</td>\n",
       "      <td>75.003</td>\n",
       "      <td>1.159581e-12</td>\n",
       "      <td>-0.353202</td>\n",
       "      <td>-15.971186</td>\n",
       "      <td>-0.094814</td>\n",
       "      <td>58.551</td>\n",
       "      <td>74.090</td>\n",
       "      <td>10811845</td>\n",
       "    </tr>\n",
       "    <tr>\n",
       "      <th>2013-10-20 03:19:20</th>\n",
       "      <td>2013-10-20 03:19:20</td>\n",
       "      <td>238999.656</td>\n",
       "      <td>57.989502</td>\n",
       "      <td>74.331642</td>\n",
       "      <td>6.972128e-11</td>\n",
       "      <td>2013-10-20 03:19:20</td>\n",
       "      <td>437145.691</td>\n",
       "      <td>75.258</td>\n",
       "      <td>75.124</td>\n",
       "      <td>1.162071e-12</td>\n",
       "      <td>-0.792358</td>\n",
       "      <td>-17.268498</td>\n",
       "      <td>-0.082502</td>\n",
       "      <td>57.907</td>\n",
       "      <td>74.092</td>\n",
       "      <td>10811844</td>\n",
       "    </tr>\n",
       "    <tr>\n",
       "      <th>2013-10-20 03:19:30</th>\n",
       "      <td>2013-10-20 03:19:30</td>\n",
       "      <td>238909.564</td>\n",
       "      <td>57.332541</td>\n",
       "      <td>74.023412</td>\n",
       "      <td>6.974303e-11</td>\n",
       "      <td>2013-10-20 03:19:30</td>\n",
       "      <td>437292.319</td>\n",
       "      <td>75.899</td>\n",
       "      <td>75.259</td>\n",
       "      <td>1.163982e-12</td>\n",
       "      <td>-1.235588</td>\n",
       "      <td>-18.566459</td>\n",
       "      <td>-0.069541</td>\n",
       "      <td>57.263</td>\n",
       "      <td>74.095</td>\n",
       "      <td>10811843</td>\n",
       "    </tr>\n",
       "    <tr>\n",
       "      <th>2013-10-20 03:19:40</th>\n",
       "      <td>2013-10-20 03:19:40</td>\n",
       "      <td>238817.958</td>\n",
       "      <td>56.674963</td>\n",
       "      <td>73.724525</td>\n",
       "      <td>7.000904e-11</td>\n",
       "      <td>2013-10-20 03:19:40</td>\n",
       "      <td>437436.878</td>\n",
       "      <td>76.540</td>\n",
       "      <td>75.411</td>\n",
       "      <td>1.171090e-12</td>\n",
       "      <td>-1.686475</td>\n",
       "      <td>-19.865037</td>\n",
       "      <td>-0.055963</td>\n",
       "      <td>56.619</td>\n",
       "      <td>74.100</td>\n",
       "      <td>10811842</td>\n",
       "    </tr>\n",
       "    <tr>\n",
       "      <th>2013-10-20 03:19:50</th>\n",
       "      <td>2013-10-20 03:19:50</td>\n",
       "      <td>238724.930</td>\n",
       "      <td>56.016799</td>\n",
       "      <td>73.434440</td>\n",
       "      <td>6.947080e-11</td>\n",
       "      <td>2013-10-20 03:19:50</td>\n",
       "      <td>437579.314</td>\n",
       "      <td>77.180</td>\n",
       "      <td>75.582</td>\n",
       "      <td>1.184341e-12</td>\n",
       "      <td>-2.147560</td>\n",
       "      <td>-21.163201</td>\n",
       "      <td>-0.041799</td>\n",
       "      <td>55.975</td>\n",
       "      <td>74.106</td>\n",
       "      <td>10811841</td>\n",
       "    </tr>\n",
       "    <tr>\n",
       "      <th>2013-10-20 03:20:00</th>\n",
       "      <td>2013-10-20 03:20:00</td>\n",
       "      <td>238630.571</td>\n",
       "      <td>55.358079</td>\n",
       "      <td>73.152656</td>\n",
       "      <td>6.966934e-11</td>\n",
       "      <td>2013-10-20 03:20:00</td>\n",
       "      <td>437719.575</td>\n",
       "      <td>77.821</td>\n",
       "      <td>75.774</td>\n",
       "      <td>1.198131e-12</td>\n",
       "      <td>-2.621344</td>\n",
       "      <td>-22.462921</td>\n",
       "      <td>-0.028079</td>\n",
       "      <td>55.330</td>\n",
       "      <td>74.113</td>\n",
       "      <td>10811840</td>\n",
       "    </tr>\n",
       "    <tr>\n",
       "      <th>2013-10-20 03:20:10</th>\n",
       "      <td>2013-10-20 03:20:10</td>\n",
       "      <td>238534.973</td>\n",
       "      <td>54.698826</td>\n",
       "      <td>72.878708</td>\n",
       "      <td>7.014949e-11</td>\n",
       "      <td>2013-10-20 03:20:10</td>\n",
       "      <td>437857.611</td>\n",
       "      <td>78.461</td>\n",
       "      <td>75.992</td>\n",
       "      <td>1.203643e-12</td>\n",
       "      <td>-3.113292</td>\n",
       "      <td>-23.762174</td>\n",
       "      <td>-0.012826</td>\n",
       "      <td>54.686</td>\n",
       "      <td>74.122</td>\n",
       "      <td>10811839</td>\n",
       "    </tr>\n",
       "    <tr>\n",
       "      <th>2013-10-20 03:20:20</th>\n",
       "      <td>2013-10-20 03:20:20</td>\n",
       "      <td>238438.230</td>\n",
       "      <td>54.039069</td>\n",
       "      <td>72.612167</td>\n",
       "      <td>7.039992e-11</td>\n",
       "      <td>2013-10-20 03:20:20</td>\n",
       "      <td>437993.373</td>\n",
       "      <td>79.100</td>\n",
       "      <td>76.240</td>\n",
       "      <td>1.196777e-12</td>\n",
       "      <td>-3.627833</td>\n",
       "      <td>-25.060931</td>\n",
       "      <td>0.001931</td>\n",
       "      <td>54.041</td>\n",
       "      <td>74.131</td>\n",
       "      <td>10811838</td>\n",
       "    </tr>\n",
       "    <tr>\n",
       "      <th>2013-10-20 03:20:30</th>\n",
       "      <td>2013-10-20 03:20:30</td>\n",
       "      <td>238340.438</td>\n",
       "      <td>53.378828</td>\n",
       "      <td>72.352629</td>\n",
       "      <td>7.003016e-11</td>\n",
       "      <td>2013-10-20 03:20:30</td>\n",
       "      <td>438126.815</td>\n",
       "      <td>79.740</td>\n",
       "      <td>76.524</td>\n",
       "      <td>1.183525e-12</td>\n",
       "      <td>-4.171371</td>\n",
       "      <td>-26.361172</td>\n",
       "      <td>0.018172</td>\n",
       "      <td>53.397</td>\n",
       "      <td>74.141</td>\n",
       "      <td>10811837</td>\n",
       "    </tr>\n",
       "  </tbody>\n",
       "</table>\n",
       "</div>"
      ],
      "text/plain": [
       "                            DateTime_ch      alt_go     lat_go     lon_go  \\\n",
       "DateTime_ch                                                                 \n",
       "2013-10-20 03:17:20 2013-10-20 03:17:20  239931.257  65.809183  79.032200   \n",
       "2013-10-20 03:17:30 2013-10-20 03:17:30  239865.974  65.163324  78.547956   \n",
       "2013-10-20 03:17:40 2013-10-20 03:17:40  239798.185  64.516165  78.084741   \n",
       "2013-10-20 03:17:50 2013-10-20 03:17:50  239727.964  63.867799  77.641025   \n",
       "2013-10-20 03:18:00 2013-10-20 03:18:00  239655.387  63.218307  77.215418   \n",
       "2013-10-20 03:18:10 2013-10-20 03:18:10  239580.534  62.567764  76.806656   \n",
       "2013-10-20 03:18:20 2013-10-20 03:18:20  239503.482  61.916237  76.413589   \n",
       "2013-10-20 03:18:30 2013-10-20 03:18:30  239424.314  61.263786  76.035163   \n",
       "2013-10-20 03:18:40 2013-10-20 03:18:40  239343.111  60.610471  75.670418   \n",
       "2013-10-20 03:18:50 2013-10-20 03:18:50  239259.958  59.956340  75.318471   \n",
       "2013-10-20 03:19:00 2013-10-20 03:19:00  239174.941  59.301440  74.978512   \n",
       "2013-10-20 03:19:10 2013-10-20 03:19:10  239088.144  58.645815  74.649798   \n",
       "2013-10-20 03:19:20 2013-10-20 03:19:20  238999.656  57.989502  74.331642   \n",
       "2013-10-20 03:19:30 2013-10-20 03:19:30  238909.564  57.332541  74.023412   \n",
       "2013-10-20 03:19:40 2013-10-20 03:19:40  238817.958  56.674963  73.724525   \n",
       "2013-10-20 03:19:50 2013-10-20 03:19:50  238724.930  56.016799  73.434440   \n",
       "2013-10-20 03:20:00 2013-10-20 03:20:00  238630.571  55.358079  73.152656   \n",
       "2013-10-20 03:20:10 2013-10-20 03:20:10  238534.973  54.698826  72.878708   \n",
       "2013-10-20 03:20:20 2013-10-20 03:20:20  238438.230  54.039069  72.612167   \n",
       "2013-10-20 03:20:30 2013-10-20 03:20:30  238340.438  53.378828  72.352629   \n",
       "\n",
       "                        dens_x_go         DateTime_gr      alt_gr  lat_gr  \\\n",
       "DateTime_ch                                                                 \n",
       "2013-10-20 03:17:20  6.573618e-11 2013-10-20 03:17:20  435246.741  67.556   \n",
       "2013-10-20 03:17:30  6.635933e-11 2013-10-20 03:17:30  435413.375  68.199   \n",
       "2013-10-20 03:17:40  6.678082e-11 2013-10-20 03:17:40  435578.716  68.841   \n",
       "2013-10-20 03:17:50  6.782843e-11 2013-10-20 03:17:50  435742.693  69.484   \n",
       "2013-10-20 03:18:00  6.834537e-11 2013-10-20 03:18:00  435905.232  70.126   \n",
       "2013-10-20 03:18:10  6.796538e-11 2013-10-20 03:18:10  436066.264  70.768   \n",
       "2013-10-20 03:18:20  6.775942e-11 2013-10-20 03:18:20  436225.719  71.410   \n",
       "2013-10-20 03:18:30  6.853926e-11 2013-10-20 03:18:30  436383.531  72.051   \n",
       "2013-10-20 03:18:40  6.910805e-11 2013-10-20 03:18:40  436539.633  72.693   \n",
       "2013-10-20 03:18:50  6.902671e-11 2013-10-20 03:18:50  436693.962  73.335   \n",
       "2013-10-20 03:19:00  6.938151e-11 2013-10-20 03:19:00  436846.455  73.976   \n",
       "2013-10-20 03:19:10  6.964938e-11 2013-10-20 03:19:10  436997.051  74.617   \n",
       "2013-10-20 03:19:20  6.972128e-11 2013-10-20 03:19:20  437145.691  75.258   \n",
       "2013-10-20 03:19:30  6.974303e-11 2013-10-20 03:19:30  437292.319  75.899   \n",
       "2013-10-20 03:19:40  7.000904e-11 2013-10-20 03:19:40  437436.878  76.540   \n",
       "2013-10-20 03:19:50  6.947080e-11 2013-10-20 03:19:50  437579.314  77.180   \n",
       "2013-10-20 03:20:00  6.966934e-11 2013-10-20 03:20:00  437719.575  77.821   \n",
       "2013-10-20 03:20:10  7.014949e-11 2013-10-20 03:20:10  437857.611  78.461   \n",
       "2013-10-20 03:20:20  7.039992e-11 2013-10-20 03:20:20  437993.373  79.100   \n",
       "2013-10-20 03:20:30  7.003016e-11 2013-10-20 03:20:30  438126.815  79.740   \n",
       "\n",
       "                     lon_gr     dens_x_gr   del_lon    del_lat  del_lat_near  \\\n",
       "DateTime_ch                                                                    \n",
       "2013-10-20 03:17:20  74.274  1.157585e-12  4.758200  -1.746817     -0.181183   \n",
       "2013-10-20 03:17:30  74.310  1.152994e-12  4.237956  -3.035676     -0.178324   \n",
       "2013-10-20 03:17:40  74.350  1.152455e-12  3.734741  -4.324835     -0.174165   \n",
       "2013-10-20 03:17:50  74.395  1.153427e-12  3.246025  -5.616201     -0.168799   \n",
       "2013-10-20 03:18:00  74.445  1.155310e-12  2.770418  -6.907693     -0.162307   \n",
       "2013-10-20 03:18:10  74.501  1.157286e-12  2.305656  -8.200236     -0.154764   \n",
       "2013-10-20 03:18:20  74.564  1.155683e-12  1.849589  -9.493763     -0.147237   \n",
       "2013-10-20 03:18:30  74.634  1.156703e-12  1.401163 -10.787214     -0.137786   \n",
       "2013-10-20 03:18:40  74.712  1.157468e-12  0.958418 -12.082529     -0.128471   \n",
       "2013-10-20 03:18:50  74.799  1.158173e-12  0.519471 -13.378660     -0.117340   \n",
       "2013-10-20 03:19:00  74.895  1.158543e-12  0.083512 -14.674560     -0.106440   \n",
       "2013-10-20 03:19:10  75.003  1.159581e-12 -0.353202 -15.971186     -0.094814   \n",
       "2013-10-20 03:19:20  75.124  1.162071e-12 -0.792358 -17.268498     -0.082502   \n",
       "2013-10-20 03:19:30  75.259  1.163982e-12 -1.235588 -18.566459     -0.069541   \n",
       "2013-10-20 03:19:40  75.411  1.171090e-12 -1.686475 -19.865037     -0.055963   \n",
       "2013-10-20 03:19:50  75.582  1.184341e-12 -2.147560 -21.163201     -0.041799   \n",
       "2013-10-20 03:20:00  75.774  1.198131e-12 -2.621344 -22.462921     -0.028079   \n",
       "2013-10-20 03:20:10  75.992  1.203643e-12 -3.113292 -23.762174     -0.012826   \n",
       "2013-10-20 03:20:20  76.240  1.196777e-12 -3.627833 -25.060931      0.001931   \n",
       "2013-10-20 03:20:30  76.524  1.183525e-12 -4.171371 -26.361172      0.018172   \n",
       "\n",
       "                     lat_gr_near  lon_gr_near       pos  \n",
       "DateTime_ch                                              \n",
       "2013-10-20 03:17:20       65.628       74.190  10811856  \n",
       "2013-10-20 03:17:30       64.985       74.169  10811855  \n",
       "2013-10-20 03:17:40       64.342       74.151  10811854  \n",
       "2013-10-20 03:17:50       63.699       74.135  10811853  \n",
       "2013-10-20 03:18:00       63.056       74.122  10811852  \n",
       "2013-10-20 03:18:10       62.413       74.112  10811851  \n",
       "2013-10-20 03:18:20       61.769       74.103  10811850  \n",
       "2013-10-20 03:18:30       61.126       74.097  10811849  \n",
       "2013-10-20 03:18:40       60.482       74.093  10811848  \n",
       "2013-10-20 03:18:50       59.839       74.090  10811847  \n",
       "2013-10-20 03:19:00       59.195       74.089  10811846  \n",
       "2013-10-20 03:19:10       58.551       74.090  10811845  \n",
       "2013-10-20 03:19:20       57.907       74.092  10811844  \n",
       "2013-10-20 03:19:30       57.263       74.095  10811843  \n",
       "2013-10-20 03:19:40       56.619       74.100  10811842  \n",
       "2013-10-20 03:19:50       55.975       74.106  10811841  \n",
       "2013-10-20 03:20:00       55.330       74.113  10811840  \n",
       "2013-10-20 03:20:10       54.686       74.122  10811839  \n",
       "2013-10-20 03:20:20       54.041       74.131  10811838  \n",
       "2013-10-20 03:20:30       53.397       74.141  10811837  "
      ]
     },
     "execution_count": 88,
     "metadata": {},
     "output_type": "execute_result"
    }
   ],
   "source": [
    "sat_gr[gd_lon].tail(20)"
   ]
  },
  {
   "cell_type": "code",
   "execution_count": 103,
   "metadata": {},
   "outputs": [
    {
     "data": {
      "text/html": [
       "<div>\n",
       "<style scoped>\n",
       "    .dataframe tbody tr th:only-of-type {\n",
       "        vertical-align: middle;\n",
       "    }\n",
       "\n",
       "    .dataframe tbody tr th {\n",
       "        vertical-align: top;\n",
       "    }\n",
       "\n",
       "    .dataframe thead th {\n",
       "        text-align: right;\n",
       "    }\n",
       "</style>\n",
       "<table border=\"1\" class=\"dataframe\">\n",
       "  <thead>\n",
       "    <tr style=\"text-align: right;\">\n",
       "      <th></th>\n",
       "      <th>DateTime_ch</th>\n",
       "      <th>alt_go</th>\n",
       "      <th>lat_go</th>\n",
       "      <th>lon_go</th>\n",
       "      <th>dens_x_go</th>\n",
       "      <th>DateTime_gr</th>\n",
       "      <th>alt_gr</th>\n",
       "      <th>lat_gr</th>\n",
       "      <th>lon_gr</th>\n",
       "      <th>dens_x_gr</th>\n",
       "      <th>del_lon</th>\n",
       "      <th>del_lat</th>\n",
       "      <th>del_lat_near</th>\n",
       "      <th>lat_gr_near</th>\n",
       "      <th>lon_gr_near</th>\n",
       "      <th>pos</th>\n",
       "    </tr>\n",
       "  </thead>\n",
       "  <tbody>\n",
       "    <tr>\n",
       "      <th>447</th>\n",
       "      <td>2009-11-01 01:14:30</td>\n",
       "      <td>263201.532</td>\n",
       "      <td>76.801836</td>\n",
       "      <td>104.183344</td>\n",
       "      <td>1.638785e-11</td>\n",
       "      <td>2009-11-01 01:14:30</td>\n",
       "      <td>485085.845</td>\n",
       "      <td>88.783</td>\n",
       "      <td>-20.977</td>\n",
       "      <td>1.164511e-13</td>\n",
       "      <td>125.160344</td>\n",
       "      <td>-11.981164</td>\n",
       "      <td>-0.069836</td>\n",
       "      <td>76.732</td>\n",
       "      <td>100.701</td>\n",
       "      <td>469</td>\n",
       "    </tr>\n",
       "    <tr>\n",
       "      <th>448</th>\n",
       "      <td>2009-11-01 01:14:40</td>\n",
       "      <td>263112.614</td>\n",
       "      <td>76.220997</td>\n",
       "      <td>102.729675</td>\n",
       "      <td>1.646716e-11</td>\n",
       "      <td>2009-11-01 01:14:40</td>\n",
       "      <td>485145.386</td>\n",
       "      <td>89.020</td>\n",
       "      <td>10.239</td>\n",
       "      <td>1.170521e-13</td>\n",
       "      <td>92.490675</td>\n",
       "      <td>-12.799003</td>\n",
       "      <td>-0.122997</td>\n",
       "      <td>76.098</td>\n",
       "      <td>100.856</td>\n",
       "      <td>470</td>\n",
       "    </tr>\n",
       "    <tr>\n",
       "      <th>449</th>\n",
       "      <td>2009-11-01 01:14:50</td>\n",
       "      <td>263021.325</td>\n",
       "      <td>75.632713</td>\n",
       "      <td>101.388713</td>\n",
       "      <td>1.634716e-11</td>\n",
       "      <td>2009-11-01 01:14:50</td>\n",
       "      <td>485200.324</td>\n",
       "      <td>88.884</td>\n",
       "      <td>44.686</td>\n",
       "      <td>1.147742e-13</td>\n",
       "      <td>56.702713</td>\n",
       "      <td>-13.251287</td>\n",
       "      <td>-0.167713</td>\n",
       "      <td>75.465</td>\n",
       "      <td>100.993</td>\n",
       "      <td>471</td>\n",
       "    </tr>\n",
       "    <tr>\n",
       "      <th>450</th>\n",
       "      <td>2009-11-01 01:15:00</td>\n",
       "      <td>262927.717</td>\n",
       "      <td>75.037852</td>\n",
       "      <td>100.148349</td>\n",
       "      <td>1.643640e-11</td>\n",
       "      <td>2009-11-01 01:15:00</td>\n",
       "      <td>485250.654</td>\n",
       "      <td>88.472</td>\n",
       "      <td>65.950</td>\n",
       "      <td>1.139847e-13</td>\n",
       "      <td>34.198349</td>\n",
       "      <td>-13.434148</td>\n",
       "      <td>-0.205852</td>\n",
       "      <td>74.832</td>\n",
       "      <td>101.116</td>\n",
       "      <td>472</td>\n",
       "    </tr>\n",
       "    <tr>\n",
       "      <th>986</th>\n",
       "      <td>2009-11-01 02:44:20</td>\n",
       "      <td>263152.978</td>\n",
       "      <td>76.438772</td>\n",
       "      <td>80.832696</td>\n",
       "      <td>1.512261e-11</td>\n",
       "      <td>2009-11-01 02:44:20</td>\n",
       "      <td>482232.444</td>\n",
       "      <td>73.678</td>\n",
       "      <td>-93.425</td>\n",
       "      <td>9.709420e-14</td>\n",
       "      <td>174.257696</td>\n",
       "      <td>2.760772</td>\n",
       "      <td>-0.014772</td>\n",
       "      <td>76.424</td>\n",
       "      <td>77.221</td>\n",
       "      <td>1033</td>\n",
       "    </tr>\n",
       "  </tbody>\n",
       "</table>\n",
       "</div>"
      ],
      "text/plain": [
       "            DateTime_ch      alt_go     lat_go      lon_go     dens_x_go  \\\n",
       "447 2009-11-01 01:14:30  263201.532  76.801836  104.183344  1.638785e-11   \n",
       "448 2009-11-01 01:14:40  263112.614  76.220997  102.729675  1.646716e-11   \n",
       "449 2009-11-01 01:14:50  263021.325  75.632713  101.388713  1.634716e-11   \n",
       "450 2009-11-01 01:15:00  262927.717  75.037852  100.148349  1.643640e-11   \n",
       "986 2009-11-01 02:44:20  263152.978  76.438772   80.832696  1.512261e-11   \n",
       "\n",
       "            DateTime_gr      alt_gr  lat_gr  lon_gr     dens_x_gr     del_lon  \\\n",
       "447 2009-11-01 01:14:30  485085.845  88.783 -20.977  1.164511e-13  125.160344   \n",
       "448 2009-11-01 01:14:40  485145.386  89.020  10.239  1.170521e-13   92.490675   \n",
       "449 2009-11-01 01:14:50  485200.324  88.884  44.686  1.147742e-13   56.702713   \n",
       "450 2009-11-01 01:15:00  485250.654  88.472  65.950  1.139847e-13   34.198349   \n",
       "986 2009-11-01 02:44:20  482232.444  73.678 -93.425  9.709420e-14  174.257696   \n",
       "\n",
       "       del_lat  del_lat_near  lat_gr_near  lon_gr_near   pos  \n",
       "447 -11.981164     -0.069836       76.732      100.701   469  \n",
       "448 -12.799003     -0.122997       76.098      100.856   470  \n",
       "449 -13.251287     -0.167713       75.465      100.993   471  \n",
       "450 -13.434148     -0.205852       74.832      101.116   472  \n",
       "986   2.760772     -0.014772       76.424       77.221  1033  "
      ]
     },
     "execution_count": 103,
     "metadata": {},
     "output_type": "execute_result"
    }
   ],
   "source": [
    "\n",
    "#sat_gr = sat_gr.drop(columns='DateTime_ch').reset_index()\n",
    "gd_lon = (sat_gr['del_lat_near'].abs() <= 1) & (np.abs(sat_gr['lon_gr_near']-sat_gr[f'lon_{sat_comp}']) <=5)\n",
    "conj_data = sat_gr[gd_lon].copy()\n",
    "\n",
    "conj_data.head()\n",
    "conj_date = sat_gr.loc[conj_data['pos'],'DateTime_gr']\n",
    "conj_dens = sat_gr.loc[conj_data['pos'],'dens_x_gr']\n",
    "\n",
    "conj_data['DateTime_conj'] = conj_date.to_numpy()\n",
    "conj_data['dens_x_conj'] = conj_dens.to_numpy()\n",
    "\n"
   ]
  },
  {
   "cell_type": "code",
   "execution_count": 104,
   "metadata": {},
   "outputs": [
    {
     "data": {
      "text/html": [
       "<div>\n",
       "<style scoped>\n",
       "    .dataframe tbody tr th:only-of-type {\n",
       "        vertical-align: middle;\n",
       "    }\n",
       "\n",
       "    .dataframe tbody tr th {\n",
       "        vertical-align: top;\n",
       "    }\n",
       "\n",
       "    .dataframe thead th {\n",
       "        text-align: right;\n",
       "    }\n",
       "</style>\n",
       "<table border=\"1\" class=\"dataframe\">\n",
       "  <thead>\n",
       "    <tr style=\"text-align: right;\">\n",
       "      <th></th>\n",
       "      <th>DateTime_ch</th>\n",
       "      <th>alt_go</th>\n",
       "      <th>lat_go</th>\n",
       "      <th>lon_go</th>\n",
       "      <th>dens_x_go</th>\n",
       "      <th>DateTime_gr</th>\n",
       "      <th>alt_gr</th>\n",
       "      <th>lat_gr</th>\n",
       "      <th>lon_gr</th>\n",
       "      <th>dens_x_gr</th>\n",
       "      <th>del_lon</th>\n",
       "      <th>del_lat</th>\n",
       "      <th>del_lat_near</th>\n",
       "      <th>lat_gr_near</th>\n",
       "      <th>lon_gr_near</th>\n",
       "      <th>pos</th>\n",
       "      <th>DateTime_conj</th>\n",
       "      <th>dens_x_conj</th>\n",
       "    </tr>\n",
       "  </thead>\n",
       "  <tbody>\n",
       "    <tr>\n",
       "      <th>447</th>\n",
       "      <td>2009-11-01 01:14:30</td>\n",
       "      <td>263201.532</td>\n",
       "      <td>76.801836</td>\n",
       "      <td>104.183344</td>\n",
       "      <td>1.638785e-11</td>\n",
       "      <td>2009-11-01 01:14:30</td>\n",
       "      <td>485085.845</td>\n",
       "      <td>88.783</td>\n",
       "      <td>-20.977</td>\n",
       "      <td>1.164511e-13</td>\n",
       "      <td>125.160344</td>\n",
       "      <td>-11.981164</td>\n",
       "      <td>-0.069836</td>\n",
       "      <td>76.732</td>\n",
       "      <td>100.701</td>\n",
       "      <td>469</td>\n",
       "      <td>2009-11-01 01:18:10</td>\n",
       "      <td>9.758550e-14</td>\n",
       "    </tr>\n",
       "    <tr>\n",
       "      <th>448</th>\n",
       "      <td>2009-11-01 01:14:40</td>\n",
       "      <td>263112.614</td>\n",
       "      <td>76.220997</td>\n",
       "      <td>102.729675</td>\n",
       "      <td>1.646716e-11</td>\n",
       "      <td>2009-11-01 01:14:40</td>\n",
       "      <td>485145.386</td>\n",
       "      <td>89.020</td>\n",
       "      <td>10.239</td>\n",
       "      <td>1.170521e-13</td>\n",
       "      <td>92.490675</td>\n",
       "      <td>-12.799003</td>\n",
       "      <td>-0.122997</td>\n",
       "      <td>76.098</td>\n",
       "      <td>100.856</td>\n",
       "      <td>470</td>\n",
       "      <td>2009-11-01 01:18:20</td>\n",
       "      <td>9.801923e-14</td>\n",
       "    </tr>\n",
       "    <tr>\n",
       "      <th>449</th>\n",
       "      <td>2009-11-01 01:14:50</td>\n",
       "      <td>263021.325</td>\n",
       "      <td>75.632713</td>\n",
       "      <td>101.388713</td>\n",
       "      <td>1.634716e-11</td>\n",
       "      <td>2009-11-01 01:14:50</td>\n",
       "      <td>485200.324</td>\n",
       "      <td>88.884</td>\n",
       "      <td>44.686</td>\n",
       "      <td>1.147742e-13</td>\n",
       "      <td>56.702713</td>\n",
       "      <td>-13.251287</td>\n",
       "      <td>-0.167713</td>\n",
       "      <td>75.465</td>\n",
       "      <td>100.993</td>\n",
       "      <td>471</td>\n",
       "      <td>2009-11-01 01:18:30</td>\n",
       "      <td>9.821570e-14</td>\n",
       "    </tr>\n",
       "    <tr>\n",
       "      <th>450</th>\n",
       "      <td>2009-11-01 01:15:00</td>\n",
       "      <td>262927.717</td>\n",
       "      <td>75.037852</td>\n",
       "      <td>100.148349</td>\n",
       "      <td>1.643640e-11</td>\n",
       "      <td>2009-11-01 01:15:00</td>\n",
       "      <td>485250.654</td>\n",
       "      <td>88.472</td>\n",
       "      <td>65.950</td>\n",
       "      <td>1.139847e-13</td>\n",
       "      <td>34.198349</td>\n",
       "      <td>-13.434148</td>\n",
       "      <td>-0.205852</td>\n",
       "      <td>74.832</td>\n",
       "      <td>101.116</td>\n",
       "      <td>472</td>\n",
       "      <td>2009-11-01 01:18:40</td>\n",
       "      <td>9.681159e-14</td>\n",
       "    </tr>\n",
       "    <tr>\n",
       "      <th>986</th>\n",
       "      <td>2009-11-01 02:44:20</td>\n",
       "      <td>263152.978</td>\n",
       "      <td>76.438772</td>\n",
       "      <td>80.832696</td>\n",
       "      <td>1.512261e-11</td>\n",
       "      <td>2009-11-01 02:44:20</td>\n",
       "      <td>482232.444</td>\n",
       "      <td>73.678</td>\n",
       "      <td>-93.425</td>\n",
       "      <td>9.709420e-14</td>\n",
       "      <td>174.257696</td>\n",
       "      <td>2.760772</td>\n",
       "      <td>-0.014772</td>\n",
       "      <td>76.424</td>\n",
       "      <td>77.221</td>\n",
       "      <td>1033</td>\n",
       "      <td>2009-11-01 02:52:10</td>\n",
       "      <td>8.510195e-14</td>\n",
       "    </tr>\n",
       "  </tbody>\n",
       "</table>\n",
       "</div>"
      ],
      "text/plain": [
       "            DateTime_ch      alt_go     lat_go      lon_go     dens_x_go  \\\n",
       "447 2009-11-01 01:14:30  263201.532  76.801836  104.183344  1.638785e-11   \n",
       "448 2009-11-01 01:14:40  263112.614  76.220997  102.729675  1.646716e-11   \n",
       "449 2009-11-01 01:14:50  263021.325  75.632713  101.388713  1.634716e-11   \n",
       "450 2009-11-01 01:15:00  262927.717  75.037852  100.148349  1.643640e-11   \n",
       "986 2009-11-01 02:44:20  263152.978  76.438772   80.832696  1.512261e-11   \n",
       "\n",
       "            DateTime_gr      alt_gr  lat_gr  lon_gr     dens_x_gr     del_lon  \\\n",
       "447 2009-11-01 01:14:30  485085.845  88.783 -20.977  1.164511e-13  125.160344   \n",
       "448 2009-11-01 01:14:40  485145.386  89.020  10.239  1.170521e-13   92.490675   \n",
       "449 2009-11-01 01:14:50  485200.324  88.884  44.686  1.147742e-13   56.702713   \n",
       "450 2009-11-01 01:15:00  485250.654  88.472  65.950  1.139847e-13   34.198349   \n",
       "986 2009-11-01 02:44:20  482232.444  73.678 -93.425  9.709420e-14  174.257696   \n",
       "\n",
       "       del_lat  del_lat_near  lat_gr_near  lon_gr_near   pos  \\\n",
       "447 -11.981164     -0.069836       76.732      100.701   469   \n",
       "448 -12.799003     -0.122997       76.098      100.856   470   \n",
       "449 -13.251287     -0.167713       75.465      100.993   471   \n",
       "450 -13.434148     -0.205852       74.832      101.116   472   \n",
       "986   2.760772     -0.014772       76.424       77.221  1033   \n",
       "\n",
       "          DateTime_conj   dens_x_conj  \n",
       "447 2009-11-01 01:18:10  9.758550e-14  \n",
       "448 2009-11-01 01:18:20  9.801923e-14  \n",
       "449 2009-11-01 01:18:30  9.821570e-14  \n",
       "450 2009-11-01 01:18:40  9.681159e-14  \n",
       "986 2009-11-01 02:52:10  8.510195e-14  "
      ]
     },
     "execution_count": 104,
     "metadata": {},
     "output_type": "execute_result"
    }
   ],
   "source": [
    "conj_data.head()"
   ]
  },
  {
   "cell_type": "code",
   "execution_count": 153,
   "metadata": {},
   "outputs": [],
   "source": [
    "#date_run = conj_date[0::100].reset_index(drop=True)\n",
    "#lat_run = conj_data[0::100]['lat_gr_near'].reset_index(drop=True)\n",
    "#lon_run = conj_data[0::100]['lon_gr_near'].reset_index(drop=True)\n",
    "\n",
    "date_run = conj_date.reset_index(drop=True)\n",
    "lat_run = conj_data['lat_gr_near'].reset_index(drop=True)\n",
    "lon_run = conj_data['lon_gr_near'].reset_index(drop=True)"
   ]
  },
  {
   "cell_type": "code",
   "execution_count": 154,
   "metadata": {},
   "outputs": [
    {
     "data": {
      "text/plain": [
       "0        2009-11-01 01:18:10\n",
       "1        2009-11-01 01:18:20\n",
       "2        2009-11-01 01:18:30\n",
       "3        2009-11-01 01:18:40\n",
       "4        2009-11-01 02:52:10\n",
       "                 ...        \n",
       "144497   2013-10-20 03:14:20\n",
       "144498   2013-10-20 03:14:10\n",
       "144499   2013-10-20 03:14:00\n",
       "144500   2013-10-20 03:13:50\n",
       "144501   2013-10-20 03:13:40\n",
       "Name: DateTime_gr, Length: 144502, dtype: datetime64[ns]"
      ]
     },
     "execution_count": 154,
     "metadata": {},
     "output_type": "execute_result"
    }
   ],
   "source": [
    "date_run"
   ]
  },
  {
   "cell_type": "code",
   "execution_count": 158,
   "metadata": {},
   "outputs": [
    {
     "name": "stderr",
     "output_type": "stream",
     "text": [
      "c:\\Users\\krmurph1\\Anaconda3\\envs\\satdrag\\lib\\site-packages\\pymsis\\utils.py:233: UserWarning: There is data that was either interpolated or predicted (not observed), use at your own risk.\n",
      "  warnings.warn(\n"
     ]
    }
   ],
   "source": [
    "alts = np.linspace(250, 750, 501)\n",
    "\n",
    "\n",
    "data = [msis.run(date_val,lat_val,lon_val, alts)[0,0,0,:,0] for date_val, lat_val, lon_val in zip(date_run, lat_run, lon_run)]"
   ]
  },
  {
   "cell_type": "code",
   "execution_count": 159,
   "metadata": {},
   "outputs": [
    {
     "data": {
      "text/plain": [
       "(501,)"
      ]
     },
     "execution_count": 159,
     "metadata": {},
     "output_type": "execute_result"
    }
   ],
   "source": [
    "data[0].shape"
   ]
  },
  {
   "cell_type": "code",
   "execution_count": 163,
   "metadata": {},
   "outputs": [
    {
     "data": {
      "text/plain": [
       "[<matplotlib.lines.Line2D at 0x1d7b05fbee0>]"
      ]
     },
     "execution_count": 163,
     "metadata": {},
     "output_type": "execute_result"
    },
    {
     "data": {
      "text/plain": [
       "[<matplotlib.lines.Line2D at 0x1d7b05c4310>]"
      ]
     },
     "execution_count": 163,
     "metadata": {},
     "output_type": "execute_result"
    },
    {
     "data": {
      "text/plain": [
       "[<matplotlib.lines.Line2D at 0x1d7b05c4460>]"
      ]
     },
     "execution_count": 163,
     "metadata": {},
     "output_type": "execute_result"
    },
    {
     "data": {
      "text/plain": [
       "[<matplotlib.lines.Line2D at 0x1d7b05c46d0>]"
      ]
     },
     "execution_count": 163,
     "metadata": {},
     "output_type": "execute_result"
    },
    {
     "data": {
      "text/plain": [
       "[<matplotlib.lines.Line2D at 0x1d7b05c4940>]"
      ]
     },
     "execution_count": 163,
     "metadata": {},
     "output_type": "execute_result"
    },
    {
     "data": {
      "text/plain": [
       "[<matplotlib.lines.Line2D at 0x1d7b05c4be0>]"
      ]
     },
     "execution_count": 163,
     "metadata": {},
     "output_type": "execute_result"
    },
    {
     "data": {
      "text/plain": [
       "[<matplotlib.lines.Line2D at 0x1d7b05c4e80>]"
      ]
     },
     "execution_count": 163,
     "metadata": {},
     "output_type": "execute_result"
    },
    {
     "data": {
      "text/plain": [
       "[<matplotlib.lines.Line2D at 0x1d7b05c5120>]"
      ]
     },
     "execution_count": 163,
     "metadata": {},
     "output_type": "execute_result"
    },
    {
     "data": {
      "text/plain": [
       "[<matplotlib.lines.Line2D at 0x1d7b05c53c0>]"
      ]
     },
     "execution_count": 163,
     "metadata": {},
     "output_type": "execute_result"
    },
    {
     "data": {
      "text/plain": [
       "[<matplotlib.lines.Line2D at 0x1d7b05c5660>]"
      ]
     },
     "execution_count": 163,
     "metadata": {},
     "output_type": "execute_result"
    },
    {
     "data": {
      "text/plain": [
       "[<matplotlib.lines.Line2D at 0x1d7b05c5900>]"
      ]
     },
     "execution_count": 163,
     "metadata": {},
     "output_type": "execute_result"
    },
    {
     "data": {
      "text/plain": [
       "[<matplotlib.lines.Line2D at 0x1d7b05c5ba0>]"
      ]
     },
     "execution_count": 163,
     "metadata": {},
     "output_type": "execute_result"
    },
    {
     "data": {
      "text/plain": [
       "[<matplotlib.lines.Line2D at 0x1d7b05c5e40>]"
      ]
     },
     "execution_count": 163,
     "metadata": {},
     "output_type": "execute_result"
    },
    {
     "data": {
      "text/plain": [
       "[<matplotlib.lines.Line2D at 0x1d7b05c6110>]"
      ]
     },
     "execution_count": 163,
     "metadata": {},
     "output_type": "execute_result"
    },
    {
     "data": {
      "text/plain": [
       "[<matplotlib.lines.Line2D at 0x1d7b05c6380>]"
      ]
     },
     "execution_count": 163,
     "metadata": {},
     "output_type": "execute_result"
    },
    {
     "data": {
      "text/plain": [
       "[<matplotlib.lines.Line2D at 0x1d7b05c6620>]"
      ]
     },
     "execution_count": 163,
     "metadata": {},
     "output_type": "execute_result"
    },
    {
     "data": {
      "text/plain": [
       "[<matplotlib.lines.Line2D at 0x1d7b05c68c0>]"
      ]
     },
     "execution_count": 163,
     "metadata": {},
     "output_type": "execute_result"
    },
    {
     "data": {
      "text/plain": [
       "[<matplotlib.lines.Line2D at 0x1d7b05c6b60>]"
      ]
     },
     "execution_count": 163,
     "metadata": {},
     "output_type": "execute_result"
    },
    {
     "data": {
      "text/plain": [
       "[<matplotlib.lines.Line2D at 0x1d7b05c6e30>]"
      ]
     },
     "execution_count": 163,
     "metadata": {},
     "output_type": "execute_result"
    },
    {
     "data": {
      "text/plain": [
       "[<matplotlib.lines.Line2D at 0x1d7b05c70d0>]"
      ]
     },
     "execution_count": 163,
     "metadata": {},
     "output_type": "execute_result"
    },
    {
     "data": {
      "text/plain": [
       "[<matplotlib.lines.Line2D at 0x1d7b05c7340>]"
      ]
     },
     "execution_count": 163,
     "metadata": {},
     "output_type": "execute_result"
    },
    {
     "data": {
      "text/plain": [
       "[<matplotlib.lines.Line2D at 0x1d7b05c75e0>]"
      ]
     },
     "execution_count": 163,
     "metadata": {},
     "output_type": "execute_result"
    },
    {
     "data": {
      "text/plain": [
       "[<matplotlib.lines.Line2D at 0x1d7b05c7880>]"
      ]
     },
     "execution_count": 163,
     "metadata": {},
     "output_type": "execute_result"
    },
    {
     "data": {
      "text/plain": [
       "[<matplotlib.lines.Line2D at 0x1d7b05c7b20>]"
      ]
     },
     "execution_count": 163,
     "metadata": {},
     "output_type": "execute_result"
    },
    {
     "data": {
      "text/plain": [
       "[<matplotlib.lines.Line2D at 0x1d7b05c7dc0>]"
      ]
     },
     "execution_count": 163,
     "metadata": {},
     "output_type": "execute_result"
    },
    {
     "data": {
      "text/plain": [
       "[<matplotlib.lines.Line2D at 0x1d7b058c0d0>]"
      ]
     },
     "execution_count": 163,
     "metadata": {},
     "output_type": "execute_result"
    },
    {
     "data": {
      "text/plain": [
       "[<matplotlib.lines.Line2D at 0x1d7b058c3d0>]"
      ]
     },
     "execution_count": 163,
     "metadata": {},
     "output_type": "execute_result"
    },
    {
     "data": {
      "text/plain": [
       "[<matplotlib.lines.Line2D at 0x1d7b058c610>]"
      ]
     },
     "execution_count": 163,
     "metadata": {},
     "output_type": "execute_result"
    },
    {
     "data": {
      "text/plain": [
       "[<matplotlib.lines.Line2D at 0x1d7b058c880>]"
      ]
     },
     "execution_count": 163,
     "metadata": {},
     "output_type": "execute_result"
    },
    {
     "data": {
      "text/plain": [
       "[<matplotlib.lines.Line2D at 0x1d7b058cac0>]"
      ]
     },
     "execution_count": 163,
     "metadata": {},
     "output_type": "execute_result"
    },
    {
     "data": {
      "text/plain": [
       "[<matplotlib.lines.Line2D at 0x1d7b058cdc0>]"
      ]
     },
     "execution_count": 163,
     "metadata": {},
     "output_type": "execute_result"
    },
    {
     "data": {
      "text/plain": [
       "[<matplotlib.lines.Line2D at 0x1d6e323eb00>]"
      ]
     },
     "execution_count": 163,
     "metadata": {},
     "output_type": "execute_result"
    },
    {
     "data": {
      "text/plain": [
       "[<matplotlib.lines.Line2D at 0x1d6e320fca0>]"
      ]
     },
     "execution_count": 163,
     "metadata": {},
     "output_type": "execute_result"
    },
    {
     "data": {
      "text/plain": [
       "[<matplotlib.lines.Line2D at 0x1d7b058d000>]"
      ]
     },
     "execution_count": 163,
     "metadata": {},
     "output_type": "execute_result"
    },
    {
     "data": {
      "text/plain": [
       "[<matplotlib.lines.Line2D at 0x1d7b058d2d0>]"
      ]
     },
     "execution_count": 163,
     "metadata": {},
     "output_type": "execute_result"
    },
    {
     "data": {
      "text/plain": [
       "[<matplotlib.lines.Line2D at 0x1d7b058d540>]"
      ]
     },
     "execution_count": 163,
     "metadata": {},
     "output_type": "execute_result"
    },
    {
     "data": {
      "text/plain": [
       "[<matplotlib.lines.Line2D at 0x1d7b058d7e0>]"
      ]
     },
     "execution_count": 163,
     "metadata": {},
     "output_type": "execute_result"
    },
    {
     "data": {
      "text/plain": [
       "[<matplotlib.lines.Line2D at 0x1d7b058da80>]"
      ]
     },
     "execution_count": 163,
     "metadata": {},
     "output_type": "execute_result"
    },
    {
     "data": {
      "text/plain": [
       "[<matplotlib.lines.Line2D at 0x1d7b058dd20>]"
      ]
     },
     "execution_count": 163,
     "metadata": {},
     "output_type": "execute_result"
    },
    {
     "data": {
      "text/plain": [
       "[<matplotlib.lines.Line2D at 0x1d7b058dfc0>]"
      ]
     },
     "execution_count": 163,
     "metadata": {},
     "output_type": "execute_result"
    },
    {
     "data": {
      "text/plain": [
       "[<matplotlib.lines.Line2D at 0x1d7b058e260>]"
      ]
     },
     "execution_count": 163,
     "metadata": {},
     "output_type": "execute_result"
    },
    {
     "data": {
      "text/plain": [
       "[<matplotlib.lines.Line2D at 0x1d7b058e500>]"
      ]
     },
     "execution_count": 163,
     "metadata": {},
     "output_type": "execute_result"
    },
    {
     "data": {
      "text/plain": [
       "[<matplotlib.lines.Line2D at 0x1d7b058e7a0>]"
      ]
     },
     "execution_count": 163,
     "metadata": {},
     "output_type": "execute_result"
    },
    {
     "data": {
      "text/plain": [
       "[<matplotlib.lines.Line2D at 0x1d7b058ea40>]"
      ]
     },
     "execution_count": 163,
     "metadata": {},
     "output_type": "execute_result"
    },
    {
     "data": {
      "text/plain": [
       "[<matplotlib.lines.Line2D at 0x1d7b058ece0>]"
      ]
     },
     "execution_count": 163,
     "metadata": {},
     "output_type": "execute_result"
    },
    {
     "data": {
      "text/plain": [
       "[<matplotlib.lines.Line2D at 0x1d7b058ef80>]"
      ]
     },
     "execution_count": 163,
     "metadata": {},
     "output_type": "execute_result"
    },
    {
     "data": {
      "text/plain": [
       "[<matplotlib.lines.Line2D at 0x1d7b058f250>]"
      ]
     },
     "execution_count": 163,
     "metadata": {},
     "output_type": "execute_result"
    },
    {
     "data": {
      "text/plain": [
       "[<matplotlib.lines.Line2D at 0x1d7b058f4f0>]"
      ]
     },
     "execution_count": 163,
     "metadata": {},
     "output_type": "execute_result"
    },
    {
     "data": {
      "text/plain": [
       "[<matplotlib.lines.Line2D at 0x1d7b058f7f0>]"
      ]
     },
     "execution_count": 163,
     "metadata": {},
     "output_type": "execute_result"
    },
    {
     "data": {
      "text/plain": [
       "[<matplotlib.lines.Line2D at 0x1d7b058fa30>]"
      ]
     },
     "execution_count": 163,
     "metadata": {},
     "output_type": "execute_result"
    },
    {
     "data": {
      "text/plain": [
       "[<matplotlib.lines.Line2D at 0x1d7b058fd30>]"
      ]
     },
     "execution_count": 163,
     "metadata": {},
     "output_type": "execute_result"
    },
    {
     "data": {
      "text/plain": [
       "[<matplotlib.lines.Line2D at 0x1d7b058ffd0>]"
      ]
     },
     "execution_count": 163,
     "metadata": {},
     "output_type": "execute_result"
    },
    {
     "data": {
      "text/plain": [
       "[<matplotlib.lines.Line2D at 0x1d7b054c2b0>]"
      ]
     },
     "execution_count": 163,
     "metadata": {},
     "output_type": "execute_result"
    },
    {
     "data": {
      "text/plain": [
       "[<matplotlib.lines.Line2D at 0x1d7b054c460>]"
      ]
     },
     "execution_count": 163,
     "metadata": {},
     "output_type": "execute_result"
    },
    {
     "data": {
      "text/plain": [
       "[<matplotlib.lines.Line2D at 0x1d7b054c760>]"
      ]
     },
     "execution_count": 163,
     "metadata": {},
     "output_type": "execute_result"
    },
    {
     "data": {
      "text/plain": [
       "[<matplotlib.lines.Line2D at 0x1d7b054ca00>]"
      ]
     },
     "execution_count": 163,
     "metadata": {},
     "output_type": "execute_result"
    },
    {
     "data": {
      "text/plain": [
       "[<matplotlib.lines.Line2D at 0x1d7b054cca0>]"
      ]
     },
     "execution_count": 163,
     "metadata": {},
     "output_type": "execute_result"
    },
    {
     "data": {
      "text/plain": [
       "[<matplotlib.lines.Line2D at 0x1d7b054cf40>]"
      ]
     },
     "execution_count": 163,
     "metadata": {},
     "output_type": "execute_result"
    },
    {
     "data": {
      "text/plain": [
       "[<matplotlib.lines.Line2D at 0x1d7b054d210>]"
      ]
     },
     "execution_count": 163,
     "metadata": {},
     "output_type": "execute_result"
    },
    {
     "data": {
      "text/plain": [
       "[<matplotlib.lines.Line2D at 0x1d7b054d4b0>]"
      ]
     },
     "execution_count": 163,
     "metadata": {},
     "output_type": "execute_result"
    },
    {
     "data": {
      "text/plain": [
       "[<matplotlib.lines.Line2D at 0x1d7b054d750>]"
      ]
     },
     "execution_count": 163,
     "metadata": {},
     "output_type": "execute_result"
    },
    {
     "data": {
      "text/plain": [
       "[<matplotlib.lines.Line2D at 0x1d7b054d9f0>]"
      ]
     },
     "execution_count": 163,
     "metadata": {},
     "output_type": "execute_result"
    },
    {
     "data": {
      "text/plain": [
       "[<matplotlib.lines.Line2D at 0x1d7b054dc60>]"
      ]
     },
     "execution_count": 163,
     "metadata": {},
     "output_type": "execute_result"
    },
    {
     "data": {
      "text/plain": [
       "[<matplotlib.lines.Line2D at 0x1d7b054df30>]"
      ]
     },
     "execution_count": 163,
     "metadata": {},
     "output_type": "execute_result"
    },
    {
     "data": {
      "text/plain": [
       "[<matplotlib.lines.Line2D at 0x1d7b054e230>]"
      ]
     },
     "execution_count": 163,
     "metadata": {},
     "output_type": "execute_result"
    },
    {
     "data": {
      "text/plain": [
       "[<matplotlib.lines.Line2D at 0x1d7b054e440>]"
      ]
     },
     "execution_count": 163,
     "metadata": {},
     "output_type": "execute_result"
    },
    {
     "data": {
      "text/plain": [
       "[<matplotlib.lines.Line2D at 0x1d7b054e6e0>]"
      ]
     },
     "execution_count": 163,
     "metadata": {},
     "output_type": "execute_result"
    },
    {
     "data": {
      "text/plain": [
       "[<matplotlib.lines.Line2D at 0x1d7b054e9b0>]"
      ]
     },
     "execution_count": 163,
     "metadata": {},
     "output_type": "execute_result"
    },
    {
     "data": {
      "text/plain": [
       "[<matplotlib.lines.Line2D at 0x1d7b054ec50>]"
      ]
     },
     "execution_count": 163,
     "metadata": {},
     "output_type": "execute_result"
    },
    {
     "data": {
      "text/plain": [
       "[<matplotlib.lines.Line2D at 0x1d7b054ef50>]"
      ]
     },
     "execution_count": 163,
     "metadata": {},
     "output_type": "execute_result"
    },
    {
     "data": {
      "text/plain": [
       "[<matplotlib.lines.Line2D at 0x1d7b054f190>]"
      ]
     },
     "execution_count": 163,
     "metadata": {},
     "output_type": "execute_result"
    },
    {
     "data": {
      "text/plain": [
       "[<matplotlib.lines.Line2D at 0x1d7b054f400>]"
      ]
     },
     "execution_count": 163,
     "metadata": {},
     "output_type": "execute_result"
    },
    {
     "data": {
      "text/plain": [
       "[<matplotlib.lines.Line2D at 0x1d7b054f6a0>]"
      ]
     },
     "execution_count": 163,
     "metadata": {},
     "output_type": "execute_result"
    },
    {
     "data": {
      "text/plain": [
       "[<matplotlib.lines.Line2D at 0x1d7b054f940>]"
      ]
     },
     "execution_count": 163,
     "metadata": {},
     "output_type": "execute_result"
    },
    {
     "data": {
      "text/plain": [
       "[<matplotlib.lines.Line2D at 0x1d7b054fbe0>]"
      ]
     },
     "execution_count": 163,
     "metadata": {},
     "output_type": "execute_result"
    },
    {
     "data": {
      "text/plain": [
       "[<matplotlib.lines.Line2D at 0x1d7b054fe20>]"
      ]
     },
     "execution_count": 163,
     "metadata": {},
     "output_type": "execute_result"
    },
    {
     "data": {
      "text/plain": [
       "[<matplotlib.lines.Line2D at 0x1d615a5c190>]"
      ]
     },
     "execution_count": 163,
     "metadata": {},
     "output_type": "execute_result"
    },
    {
     "data": {
      "text/plain": [
       "[<matplotlib.lines.Line2D at 0x1d615a5c400>]"
      ]
     },
     "execution_count": 163,
     "metadata": {},
     "output_type": "execute_result"
    },
    {
     "data": {
      "text/plain": [
       "[<matplotlib.lines.Line2D at 0x1d615a5c6d0>]"
      ]
     },
     "execution_count": 163,
     "metadata": {},
     "output_type": "execute_result"
    },
    {
     "data": {
      "text/plain": [
       "[<matplotlib.lines.Line2D at 0x1d615a5c9d0>]"
      ]
     },
     "execution_count": 163,
     "metadata": {},
     "output_type": "execute_result"
    },
    {
     "data": {
      "text/plain": [
       "[<matplotlib.lines.Line2D at 0x1d615a5cc10>]"
      ]
     },
     "execution_count": 163,
     "metadata": {},
     "output_type": "execute_result"
    },
    {
     "data": {
      "text/plain": [
       "[<matplotlib.lines.Line2D at 0x1d615a5ce80>]"
      ]
     },
     "execution_count": 163,
     "metadata": {},
     "output_type": "execute_result"
    },
    {
     "data": {
      "text/plain": [
       "[<matplotlib.lines.Line2D at 0x1d615a5d150>]"
      ]
     },
     "execution_count": 163,
     "metadata": {},
     "output_type": "execute_result"
    },
    {
     "data": {
      "text/plain": [
       "[<matplotlib.lines.Line2D at 0x1d615a5d3c0>]"
      ]
     },
     "execution_count": 163,
     "metadata": {},
     "output_type": "execute_result"
    },
    {
     "data": {
      "text/plain": [
       "[<matplotlib.lines.Line2D at 0x1d615a5d660>]"
      ]
     },
     "execution_count": 163,
     "metadata": {},
     "output_type": "execute_result"
    },
    {
     "data": {
      "text/plain": [
       "[<matplotlib.lines.Line2D at 0x1d615a5d930>]"
      ]
     },
     "execution_count": 163,
     "metadata": {},
     "output_type": "execute_result"
    },
    {
     "data": {
      "text/plain": [
       "[<matplotlib.lines.Line2D at 0x1d615a5dbd0>]"
      ]
     },
     "execution_count": 163,
     "metadata": {},
     "output_type": "execute_result"
    },
    {
     "data": {
      "text/plain": [
       "[<matplotlib.lines.Line2D at 0x1d615a5ded0>]"
      ]
     },
     "execution_count": 163,
     "metadata": {},
     "output_type": "execute_result"
    },
    {
     "data": {
      "text/plain": [
       "[<matplotlib.lines.Line2D at 0x1d615a5e0e0>]"
      ]
     },
     "execution_count": 163,
     "metadata": {},
     "output_type": "execute_result"
    },
    {
     "data": {
      "text/plain": [
       "[<matplotlib.lines.Line2D at 0x1d615a5e380>]"
      ]
     },
     "execution_count": 163,
     "metadata": {},
     "output_type": "execute_result"
    },
    {
     "data": {
      "text/plain": [
       "[<matplotlib.lines.Line2D at 0x1d615a5e620>]"
      ]
     },
     "execution_count": 163,
     "metadata": {},
     "output_type": "execute_result"
    },
    {
     "data": {
      "text/plain": [
       "[<matplotlib.lines.Line2D at 0x1d615a5e8f0>]"
      ]
     },
     "execution_count": 163,
     "metadata": {},
     "output_type": "execute_result"
    },
    {
     "data": {
      "text/plain": [
       "[<matplotlib.lines.Line2D at 0x1d615a5ebf0>]"
      ]
     },
     "execution_count": 163,
     "metadata": {},
     "output_type": "execute_result"
    },
    {
     "data": {
      "text/plain": [
       "[<matplotlib.lines.Line2D at 0x1d615a5ee90>]"
      ]
     },
     "execution_count": 163,
     "metadata": {},
     "output_type": "execute_result"
    },
    {
     "data": {
      "text/plain": [
       "[<matplotlib.lines.Line2D at 0x1d615a5f0a0>]"
      ]
     },
     "execution_count": 163,
     "metadata": {},
     "output_type": "execute_result"
    },
    {
     "data": {
      "text/plain": [
       "[<matplotlib.lines.Line2D at 0x1d615a5f340>]"
      ]
     },
     "execution_count": 163,
     "metadata": {},
     "output_type": "execute_result"
    },
    {
     "data": {
      "text/plain": [
       "[<matplotlib.lines.Line2D at 0x1d615a5f670>]"
      ]
     },
     "execution_count": 163,
     "metadata": {},
     "output_type": "execute_result"
    },
    {
     "data": {
      "text/plain": [
       "[<matplotlib.lines.Line2D at 0x1d615a5f8b0>]"
      ]
     },
     "execution_count": 163,
     "metadata": {},
     "output_type": "execute_result"
    },
    {
     "data": {
      "text/plain": [
       "[<matplotlib.lines.Line2D at 0x1d615a5fbb0>]"
      ]
     },
     "execution_count": 163,
     "metadata": {},
     "output_type": "execute_result"
    },
    {
     "data": {
      "text/plain": [
       "[<matplotlib.lines.Line2D at 0x1d615a5fdc0>]"
      ]
     },
     "execution_count": 163,
     "metadata": {},
     "output_type": "execute_result"
    },
    {
     "data": {
      "text/plain": [
       "[<matplotlib.lines.Line2D at 0x1d615a24130>]"
      ]
     },
     "execution_count": 163,
     "metadata": {},
     "output_type": "execute_result"
    },
    {
     "data": {
      "text/plain": [
       "[<matplotlib.lines.Line2D at 0x1d615a24340>]"
      ]
     },
     "execution_count": 163,
     "metadata": {},
     "output_type": "execute_result"
    },
    {
     "data": {
      "text/plain": [
       "[<matplotlib.lines.Line2D at 0x1d615a245e0>]"
      ]
     },
     "execution_count": 163,
     "metadata": {},
     "output_type": "execute_result"
    },
    {
     "data": {
      "text/plain": [
       "[<matplotlib.lines.Line2D at 0x1d615a24880>]"
      ]
     },
     "execution_count": 163,
     "metadata": {},
     "output_type": "execute_result"
    },
    {
     "data": {
      "text/plain": [
       "[<matplotlib.lines.Line2D at 0x1d615a24b50>]"
      ]
     },
     "execution_count": 163,
     "metadata": {},
     "output_type": "execute_result"
    },
    {
     "data": {
      "text/plain": [
       "[<matplotlib.lines.Line2D at 0x1d615a24e50>]"
      ]
     },
     "execution_count": 163,
     "metadata": {},
     "output_type": "execute_result"
    },
    {
     "data": {
      "text/plain": [
       "[<matplotlib.lines.Line2D at 0x1d615a250f0>]"
      ]
     },
     "execution_count": 163,
     "metadata": {},
     "output_type": "execute_result"
    },
    {
     "data": {
      "text/plain": [
       "[<matplotlib.lines.Line2D at 0x1d615a25390>]"
      ]
     },
     "execution_count": 163,
     "metadata": {},
     "output_type": "execute_result"
    },
    {
     "data": {
      "text/plain": [
       "[<matplotlib.lines.Line2D at 0x1d615a25630>]"
      ]
     },
     "execution_count": 163,
     "metadata": {},
     "output_type": "execute_result"
    },
    {
     "data": {
      "text/plain": [
       "[<matplotlib.lines.Line2D at 0x1d615a25870>]"
      ]
     },
     "execution_count": 163,
     "metadata": {},
     "output_type": "execute_result"
    },
    {
     "data": {
      "text/plain": [
       "[<matplotlib.lines.Line2D at 0x1d615a25b70>]"
      ]
     },
     "execution_count": 163,
     "metadata": {},
     "output_type": "execute_result"
    },
    {
     "data": {
      "text/plain": [
       "[<matplotlib.lines.Line2D at 0x1d615a25db0>]"
      ]
     },
     "execution_count": 163,
     "metadata": {},
     "output_type": "execute_result"
    },
    {
     "data": {
      "text/plain": [
       "[<matplotlib.lines.Line2D at 0x1d615a26050>]"
      ]
     },
     "execution_count": 163,
     "metadata": {},
     "output_type": "execute_result"
    },
    {
     "data": {
      "text/plain": [
       "[<matplotlib.lines.Line2D at 0x1d615a262c0>]"
      ]
     },
     "execution_count": 163,
     "metadata": {},
     "output_type": "execute_result"
    },
    {
     "data": {
      "text/plain": [
       "[<matplotlib.lines.Line2D at 0x1d615a26560>]"
      ]
     },
     "execution_count": 163,
     "metadata": {},
     "output_type": "execute_result"
    },
    {
     "data": {
      "text/plain": [
       "[<matplotlib.lines.Line2D at 0x1d615a26890>]"
      ]
     },
     "execution_count": 163,
     "metadata": {},
     "output_type": "execute_result"
    },
    {
     "data": {
      "text/plain": [
       "[<matplotlib.lines.Line2D at 0x1d615a26aa0>]"
      ]
     },
     "execution_count": 163,
     "metadata": {},
     "output_type": "execute_result"
    },
    {
     "data": {
      "text/plain": [
       "[<matplotlib.lines.Line2D at 0x1d615a26dd0>]"
      ]
     },
     "execution_count": 163,
     "metadata": {},
     "output_type": "execute_result"
    },
    {
     "data": {
      "text/plain": [
       "[<matplotlib.lines.Line2D at 0x1d615a26fe0>]"
      ]
     },
     "execution_count": 163,
     "metadata": {},
     "output_type": "execute_result"
    },
    {
     "data": {
      "text/plain": [
       "[<matplotlib.lines.Line2D at 0x1d615a27280>]"
      ]
     },
     "execution_count": 163,
     "metadata": {},
     "output_type": "execute_result"
    },
    {
     "data": {
      "text/plain": [
       "[<matplotlib.lines.Line2D at 0x1d615a274c0>]"
      ]
     },
     "execution_count": 163,
     "metadata": {},
     "output_type": "execute_result"
    },
    {
     "data": {
      "text/plain": [
       "[<matplotlib.lines.Line2D at 0x1d615a277c0>]"
      ]
     },
     "execution_count": 163,
     "metadata": {},
     "output_type": "execute_result"
    },
    {
     "data": {
      "text/plain": [
       "[<matplotlib.lines.Line2D at 0x1d615a27a00>]"
      ]
     },
     "execution_count": 163,
     "metadata": {},
     "output_type": "execute_result"
    },
    {
     "data": {
      "text/plain": [
       "[<matplotlib.lines.Line2D at 0x1d615a27d00>]"
      ]
     },
     "execution_count": 163,
     "metadata": {},
     "output_type": "execute_result"
    },
    {
     "data": {
      "text/plain": [
       "[<matplotlib.lines.Line2D at 0x1d615a27fa0>]"
      ]
     },
     "execution_count": 163,
     "metadata": {},
     "output_type": "execute_result"
    },
    {
     "data": {
      "text/plain": [
       "[<matplotlib.lines.Line2D at 0x1d6159f8280>]"
      ]
     },
     "execution_count": 163,
     "metadata": {},
     "output_type": "execute_result"
    },
    {
     "data": {
      "text/plain": [
       "[<matplotlib.lines.Line2D at 0x1d6159f8520>]"
      ]
     },
     "execution_count": 163,
     "metadata": {},
     "output_type": "execute_result"
    },
    {
     "data": {
      "text/plain": [
       "[<matplotlib.lines.Line2D at 0x1d6159f87f0>]"
      ]
     },
     "execution_count": 163,
     "metadata": {},
     "output_type": "execute_result"
    },
    {
     "data": {
      "text/plain": [
       "[<matplotlib.lines.Line2D at 0x1d6159f8a60>]"
      ]
     },
     "execution_count": 163,
     "metadata": {},
     "output_type": "execute_result"
    },
    {
     "data": {
      "text/plain": [
       "[<matplotlib.lines.Line2D at 0x1d6159f8ca0>]"
      ]
     },
     "execution_count": 163,
     "metadata": {},
     "output_type": "execute_result"
    },
    {
     "data": {
      "text/plain": [
       "[<matplotlib.lines.Line2D at 0x1d6159f9030>]"
      ]
     },
     "execution_count": 163,
     "metadata": {},
     "output_type": "execute_result"
    },
    {
     "data": {
      "text/plain": [
       "[<matplotlib.lines.Line2D at 0x1d6159f9240>]"
      ]
     },
     "execution_count": 163,
     "metadata": {},
     "output_type": "execute_result"
    },
    {
     "data": {
      "text/plain": [
       "[<matplotlib.lines.Line2D at 0x1d6159f94e0>]"
      ]
     },
     "execution_count": 163,
     "metadata": {},
     "output_type": "execute_result"
    },
    {
     "data": {
      "text/plain": [
       "[<matplotlib.lines.Line2D at 0x1d6159f9780>]"
      ]
     },
     "execution_count": 163,
     "metadata": {},
     "output_type": "execute_result"
    },
    {
     "data": {
      "text/plain": [
       "[<matplotlib.lines.Line2D at 0x1d6159f9a20>]"
      ]
     },
     "execution_count": 163,
     "metadata": {},
     "output_type": "execute_result"
    },
    {
     "data": {
      "text/plain": [
       "[<matplotlib.lines.Line2D at 0x1d6159f9cc0>]"
      ]
     },
     "execution_count": 163,
     "metadata": {},
     "output_type": "execute_result"
    },
    {
     "data": {
      "text/plain": [
       "[<matplotlib.lines.Line2D at 0x1d6159f9f00>]"
      ]
     },
     "execution_count": 163,
     "metadata": {},
     "output_type": "execute_result"
    },
    {
     "data": {
      "text/plain": [
       "[<matplotlib.lines.Line2D at 0x1d6159fa200>]"
      ]
     },
     "execution_count": 163,
     "metadata": {},
     "output_type": "execute_result"
    },
    {
     "data": {
      "text/plain": [
       "[<matplotlib.lines.Line2D at 0x1d6159fa4a0>]"
      ]
     },
     "execution_count": 163,
     "metadata": {},
     "output_type": "execute_result"
    },
    {
     "data": {
      "text/plain": [
       "[<matplotlib.lines.Line2D at 0x1d6159fa740>]"
      ]
     },
     "execution_count": 163,
     "metadata": {},
     "output_type": "execute_result"
    },
    {
     "data": {
      "text/plain": [
       "[<matplotlib.lines.Line2D at 0x1d6159faa10>]"
      ]
     },
     "execution_count": 163,
     "metadata": {},
     "output_type": "execute_result"
    },
    {
     "data": {
      "text/plain": [
       "[<matplotlib.lines.Line2D at 0x1d6159fad10>]"
      ]
     },
     "execution_count": 163,
     "metadata": {},
     "output_type": "execute_result"
    },
    {
     "data": {
      "text/plain": [
       "[<matplotlib.lines.Line2D at 0x1d6159faf20>]"
      ]
     },
     "execution_count": 163,
     "metadata": {},
     "output_type": "execute_result"
    },
    {
     "data": {
      "text/plain": [
       "[<matplotlib.lines.Line2D at 0x1d6159fb1c0>]"
      ]
     },
     "execution_count": 163,
     "metadata": {},
     "output_type": "execute_result"
    },
    {
     "data": {
      "text/plain": [
       "[<matplotlib.lines.Line2D at 0x1d6159fb460>]"
      ]
     },
     "execution_count": 163,
     "metadata": {},
     "output_type": "execute_result"
    },
    {
     "data": {
      "image/png": "[encoded data removed]",
      "text/plain": [
       "<Figure size 640x480 with 1 Axes>"
      ]
     },
     "metadata": {},
     "output_type": "display_data"
    }
   ],
   "source": [
    "InteractiveShell.ast_node_interactivity = \"last\"\n",
    "_, ax = plt.subplots()\n",
    "for b in data[0::1000]:\n",
    "    ax.plot(alts, b)\n",
    "    "
   ]
  },
  {
   "cell_type": "code",
   "execution_count": 142,
   "metadata": {},
   "outputs": [
    {
     "data": {
      "text/plain": [
       "[1, 1, 1, 1, 1, 1, 1, 1, 1, 1, 1, 1, 1, 1, 1, 1, 1, 1, 1, 1, 1, 1, 1, 1, 1]"
      ]
     },
     "execution_count": 142,
     "metadata": {},
     "output_type": "execute_result"
    }
   ],
   "source": [
    "a=msis.create_options()\n",
    "b=msis.create_input(date_run, lat_run, lon_run, )\n",
    "a"
   ]
  },
  {
   "cell_type": "code",
   "execution_count": 135,
   "metadata": {},
   "outputs": [
    {
     "data": {
      "text/plain": [
       "(1, 1, 1, 50, 11)"
      ]
     },
     "execution_count": 135,
     "metadata": {},
     "output_type": "execute_result"
    }
   ],
   "source": [
    "data[0].shape"
   ]
  },
  {
   "cell_type": "code",
   "execution_count": 140,
   "metadata": {},
   "outputs": [
    {
     "name": "stdout",
     "output_type": "stream",
     "text": [
      "CPU times: total: 0 ns\n",
      "Wall time: 0 ns\n"
     ]
    },
    {
     "data": {
      "text/plain": [
       "(50,)"
      ]
     },
     "execution_count": 140,
     "metadata": {},
     "output_type": "execute_result"
    }
   ],
   "source": [
    "%time\n",
    "# geomagnetic_activity=-1 is a storm-time run\n",
    "lon = 0\n",
    "lat = 70\n",
    "alts = np.linspace(375, 425, 50)\n",
    "\n",
    "\n",
    "data = msis.run(date_run[0],lat_run[0],lon_run[0], alts)[0,0,0,:,0]\n",
    "data.shape\n",
    "\n",
    "# Plot the data\n",
    "import matplotlib.pyplot as plt\n",
    "# Total mass density over time\n",
    "#plt.plot(alts, data[0, 0, 0, :, 0])\n",
    "#plt.show()"
   ]
  }
 ],
 "metadata": {
  "kernelspec": {
   "display_name": "pymsis",
   "language": "python",
   "name": "python3"
  },
  "language_info": {
   "codemirror_mode": {
    "name": "ipython",
    "version": 3
   },
   "file_extension": ".py",
   "mimetype": "text/x-python",
   "name": "python",
   "nbconvert_exporter": "python",
   "pygments_lexer": "ipython3",
   "version": "3.10.14"
  }
 },
 "nbformat": 4,
 "nbformat_minor": 2
}
