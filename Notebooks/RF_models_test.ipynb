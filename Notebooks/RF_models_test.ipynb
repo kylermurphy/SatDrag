{
 "cells": [
  {
   "cell_type": "markdown",
   "metadata": {},
   "source": [
    "# Compare Sci Kit Learn and Rapids"
   ]
  },
  {
   "cell_type": "code",
   "execution_count": 1,
   "metadata": {},
   "outputs": [
    {
     "ename": "ModuleNotFoundError",
     "evalue": "No module named 'cuml'",
     "output_type": "error",
     "traceback": [
      "\u001b[1;31m---------------------------------------------------------------------------\u001b[0m",
      "\u001b[1;31mModuleNotFoundError\u001b[0m                       Traceback (most recent call last)",
      "Cell \u001b[1;32mIn[1], line 6\u001b[0m\n\u001b[0;32m      3\u001b[0m \u001b[38;5;28;01mimport\u001b[39;00m \u001b[38;5;21;01mtime\u001b[39;00m\n\u001b[0;32m      5\u001b[0m \u001b[38;5;28;01mfrom\u001b[39;00m \u001b[38;5;21;01msklearn\u001b[39;00m\u001b[38;5;21;01m.\u001b[39;00m\u001b[38;5;21;01mensemble\u001b[39;00m \u001b[38;5;28;01mimport\u001b[39;00m RandomForestRegressor\n\u001b[1;32m----> 6\u001b[0m \u001b[38;5;28;01mfrom\u001b[39;00m \u001b[38;5;21;01mcuml\u001b[39;00m\u001b[38;5;21;01m.\u001b[39;00m\u001b[38;5;21;01mdask\u001b[39;00m\u001b[38;5;21;01m.\u001b[39;00m\u001b[38;5;21;01mensemble\u001b[39;00m \u001b[38;5;28;01mimport\u001b[39;00m cuRandomForestRegressor\n\u001b[0;32m      7\u001b[0m \u001b[38;5;28;01mimport\u001b[39;00m \u001b[38;5;21;01mgc\u001b[39;00m\n",
      "\u001b[1;31mModuleNotFoundError\u001b[0m: No module named 'cuml'"
     ]
    }
   ],
   "source": [
    "import pandas as pd\n",
    "import numpy as np\n",
    "import time\n",
    "\n",
    "from sklearn.ensemble import RandomForestRegressor\n",
    "from cuml.dask.ensemble import cuRandomForestRegressor\n",
    "import gc"
   ]
  },
  {
   "cell_type": "code",
   "execution_count": 21,
   "metadata": {},
   "outputs": [],
   "source": [
    "rnd=17\n",
    "rf_params = {\n",
    "    \"n_estimators\": 500,\n",
    "    \"max_depth\": None,\n",
    "    \"min_samples_split\": 2,\n",
    "    \"min_samples_leaf\":5,\n",
    "    \"warm_start\":False,\n",
    "    \"oob_score\":True,\n",
    "    \"random_state\": rnd,\n",
    "    \"max_features\":0.5,\n",
    "    \"n_jobs\":10\n",
    "    }"
   ]
  },
  {
   "cell_type": "code",
   "execution_count": 8,
   "metadata": {},
   "outputs": [],
   "source": [
    "def dat_create(dat, col, log_col, lt_col, y_col, t_col):\n",
    "\n",
    "    x_dat = dat[col+t_col+[y_col]].dropna().copy()\n",
    "    \n",
    "\n",
    "    if log_col:\n",
    "       for i in log_col:\n",
    "            try:\n",
    "                x_dat[i] = np.log10(x_dat[i])\n",
    "            except:\n",
    "                print(f'Could not log column {i}')\n",
    "    \n",
    "    if lt_col:\n",
    "        for i in lt_col:\n",
    "            try:\n",
    "                x_dat[f'cos_{i}'] = np.cos(dat[i]*2*np.pi/24.)\n",
    "                x_dat[f'sin_{i}'] = np.sin(dat[i]*2*np.pi/24.)\n",
    "            except:\n",
    "                print(f'Could not add {i} as a cos/sin time column')\n",
    "    \n",
    "    x_dat = x_dat[~x_dat.isin([np.nan, np.inf, -np.inf]).any(axis=1)].dropna()\n",
    "    y_dat = x_dat[y_col].copy()\n",
    "    x_dat = x_dat.drop(columns=y_col)    \n",
    "    \n",
    "    return x_dat, y_dat"
   ]
  },
  {
   "cell_type": "code",
   "execution_count": 14,
   "metadata": {},
   "outputs": [],
   "source": [
    "col=['1300_02', 'SYM_H index','SatLat']\n",
    "y_col='400kmDensity' \n",
    "t_col=['DateTime'] \n",
    "log_col=['1300_02'] \n",
    "lt_col=['SatMagLT'] \n",
    "rf_params=rf_params \n",
    "target_dat='D:\\\\data\\\\SatDensities\\\\satdrag_database_grace_B.hdf5'\n",
    "sample_sz = 100000"
   ]
  },
  {
   "cell_type": "code",
   "execution_count": 15,
   "metadata": {},
   "outputs": [],
   "source": [
    "kcol = [col,[y_col],t_col,lt_col]\n",
    "kflt = [item for sublist in kcol for item in sublist]"
   ]
  },
  {
   "cell_type": "code",
   "execution_count": 17,
   "metadata": {},
   "outputs": [
    {
     "data": {
      "text/plain": [
       "<function gc.collect(generation=2)>"
      ]
     },
     "execution_count": 17,
     "metadata": {},
     "output_type": "execute_result"
    }
   ],
   "source": [
    "df = pd.read_hdf(target_dat)\n",
    "df = df[kflt].dropna()\n",
    "df_dat = df[0:sample_sz].copy()\n",
    "\n",
    "reg_x, reg_y = dat_create(dat=df_dat,col=col,log_col=log_col,lt_col=lt_col,\n",
    "                              y_col=y_col,t_col=t_col)\n",
    "reg_y = reg_y*(10**12)\n",
    "\n",
    "del df\n",
    "del df_dat\n",
    "gc.collect\n",
    "\n",
    "reg_t = reg_x[t_col].copy()\n",
    "reg_x = reg_x.drop(columns=t_col)\n"
   ]
  },
  {
   "cell_type": "code",
   "execution_count": 26,
   "metadata": {},
   "outputs": [
    {
     "name": "stdout",
     "output_type": "stream",
     "text": [
      "Train and fit SciKitLearn model\n",
      "Time elapsed working on RandomForest\n",
      "Time consumed in working:  42.08980870246887\n"
     ]
    }
   ],
   "source": [
    "print('Train and fit SciKitLearn model')\n",
    "\n",
    "start = time.time()\n",
    "print(\"Time elapsed working on RandomForest\")\n",
    "\n",
    "rfr = RandomForestRegressor(**rf_params)\n",
    "rfr.fit(reg_x, reg_y)\n",
    "\n",
    "end = time.time()\n",
    "print(\"Time consumed in working: \",end - start)"
   ]
  },
  {
   "cell_type": "code",
   "execution_count": null,
   "metadata": {},
   "outputs": [],
   "source": [
    "cu_x = reg_x.astype('float32')\n",
    "cu_y = reg_y.astype('float32')"
   ]
  },
  {
   "cell_type": "code",
   "execution_count": 27,
   "metadata": {},
   "outputs": [
    {
     "ename": "ModuleNotFoundError",
     "evalue": "No module named 'cuml'",
     "output_type": "error",
     "traceback": [
      "\u001b[1;31m---------------------------------------------------------------------------\u001b[0m",
      "\u001b[1;31mModuleNotFoundError\u001b[0m                       Traceback (most recent call last)",
      "Cell \u001b[1;32mIn[27], line 1\u001b[0m\n\u001b[1;32m----> 1\u001b[0m \u001b[38;5;28;01mfrom\u001b[39;00m \u001b[38;5;21;01mcuml\u001b[39;00m\u001b[38;5;21;01m.\u001b[39;00m\u001b[38;5;21;01mdask\u001b[39;00m\u001b[38;5;21;01m.\u001b[39;00m\u001b[38;5;21;01mensemble\u001b[39;00m \u001b[38;5;28;01mimport\u001b[39;00m cuRandomForestRegressor\n\u001b[0;32m      3\u001b[0m start \u001b[38;5;241m=\u001b[39m time\u001b[38;5;241m.\u001b[39mtime()\n\u001b[0;32m      4\u001b[0m \u001b[38;5;28mprint\u001b[39m(\u001b[38;5;124m\"\u001b[39m\u001b[38;5;124mTime elapsed working on RandomForest\u001b[39m\u001b[38;5;124m\"\u001b[39m)\n",
      "\u001b[1;31mModuleNotFoundError\u001b[0m: No module named 'cuml'"
     ]
    }
   ],
   "source": [
    "\n",
    "\n",
    "start = time.time()\n",
    "print(\"Time elapsed working on RandomForest\")\n",
    "\n",
    "rf_cu = cuRandomForestRegressor(n_estimators=100, max_depth=10, seed=42)\n",
    "cu_rfr = rf_cu.fit(cu_x,cu_y)\n",
    "\n",
    "end = time.time()\n",
    "print(\"Time consumed in working: \",end - start)"
   ]
  }
 ],
 "metadata": {
  "kernelspec": {
   "display_name": "satdrag",
   "language": "python",
   "name": "python3"
  },
  "language_info": {
   "codemirror_mode": {
    "name": "ipython",
    "version": 3
   },
   "file_extension": ".py",
   "mimetype": "text/x-python",
   "name": "python",
   "nbconvert_exporter": "python",
   "pygments_lexer": "ipython3",
   "version": "3.10.14"
  }
 },
 "nbformat": 4,
 "nbformat_minor": 2
}
