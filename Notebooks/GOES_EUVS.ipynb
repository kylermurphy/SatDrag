{
 "cells": [
  {
   "cell_type": "markdown",
   "metadata": {},
   "source": [
    "# GOES EUV Comparisons\n",
    "\n",
    "Compare overlapping EUV observations for GOES 8 through 18.\n",
    "- Determin how well the fluxes match by fitting a line to pairs\n",
    "    - Nominal Slope: 1\n",
    "    - Nominal Intercept: 0\n",
    "\n",
    "Identify which pairs most closely match to GOES R-Series (16,17,18). These satellites can be used to train with real-time data for one an operational models. "
   ]
  },
  {
   "cell_type": "code",
   "execution_count": 1,
   "metadata": {},
   "outputs": [],
   "source": [
    "import matplotlib.pyplot as plt\n",
    "import matplotlib.ticker as ticker\n",
    "import pandas as pd\n",
    "import numpy.ma as ma\n",
    "\n",
    "from netCDF4 import Dataset\n",
    "\n"
   ]
  },
  {
   "cell_type": "code",
   "execution_count": 2,
   "metadata": {},
   "outputs": [
    {
     "name": "stdout",
     "output_type": "stream",
     "text": [
      "<class 'netCDF4._netCDF4.Dataset'>\n",
      "root group (NETCDF4 data model, file format HDF5):\n",
      "    Conventions: ACDD-1.3, Spase v2.2.6\n",
      "    title: GOES 13-15 L2 EUVS 1-min-averaged irradiances and flags.\n",
      "    summary: The GOES 13-15 Extreme Ultraviolet Sensor (EUVS) measured EUV irradiances in 5 broadband channels. For GOES 13 and 15, these were channels A (5-15 nm), B (25-34 nm), C(two bands in 17-67 nm), D(three bands in 17-84 nm) and E(118-127 nm). GOES-14 measured the A and B channels twice as well as the E channel. This product provides 1-minute average irradiance values and flags for Channels B and E and the relevant 1-nm bandpasses for the 30.4 and 121-nm spectral lines (He II and Lyman alpha).\n",
      "    keywords: NumericalData.MeasurementType.Irradiance\n",
      "    keywords_vocabulary: SPASE: Space Physics Archive Search and Extract Data Model version 2.2.6, GCMD: NASA Global Change Master Directory (GCMD) Earth Science Keywords version 8.5\n",
      "    naming_authority: gov.nesdis.noaa\n",
      "    history: See algorithm information.\n",
      "    source: GOES EUVS irradiances and flags at 1-minute cadence\n",
      "    processing_level: Level 2\n",
      "    processing_level_description: Derived products\n",
      "    license: These data may be redistributed and used without restriction. \n",
      "    acknowledgment: NOAA Award NA20NES4400005\n",
      "    metadata_link: \n",
      "    creator_name: Allyssa Riley, Janet Machol\n",
      "    creator_type: person\n",
      "    creator_institution: DOC/NOAA/NESDIS/NCEI/OGSSD/STP\n",
      "    creator_email: goesr.exis@noaa.gov\n",
      "    creator_url: https://www.ncei.noaa.gov/\n",
      "    institution: DOC/NOAA/NESDIS\n",
      "    publisher_name: National Centers for Environmental Information\n",
      "    publisher_type: institution\n",
      "    publisher_institution: DOC/NOAA/NESDIS/NCEI\n",
      "    publisher_email: goesr.exis@noaa.gov\n",
      "    publisher_url: https://www.ncei.noaa.gov/\n",
      "    references: \n",
      "    instrument: GOES 13-15 Extreme Ultraviolet Sensor (EUVS)\n",
      "    instrument_id:  \n",
      "    orbital_slot:  \n",
      "    program: Geostationary Operational Environmental Satellite (GOES)\n",
      "    project: Geostationary Operational Environmental Satellite (GOES) Solar Terrestrial Physics at NCEI\n",
      "    L1b_system_environment:  \n",
      "    L1b_production_site:  \n",
      "    time_coverage_resolution: PT1M\n",
      "    processing_parameters_file:  \n",
      "    algorithm_version:  \n",
      "    algorithm_date:  \n",
      "    algorithm_parameters: None\n",
      "    input_system_environments:  \n",
      "    id: /nfs/stp_goesr/exis/goes_nop/euvs/geuv-l2-avg1m/goes15/sci_geuv-l2-avg1m_g15_20100325_20200304_v0-0-0.nc\n",
      "    date_created: 2023-02-17T18:40:16\n",
      "    platform: G15\n",
      "    time_coverage_start: 2010-03-25 00:00:00\n",
      "    time_coverage_end: 2020-03-04 23:59:00\n",
      "    algorithm: make_1min_v2.py\n",
      "    input_files_first: /nfs/stp_goesr/exis/goes_nop/euvs/geuv-l2-avg1m/goes15/2010/03/sci_geuv-l2-avg1m_g15_d20100325_v0-0-1.nc\n",
      "    input_files_last: /nfs/stp_goesr/exis/goes_nop/euvs/geuv-l2-avg1m/goes15/2020/03/sci_geuv-l2-avg1m_g15_d20200304_v0-0-1.nc\n",
      "    input_files_total: 3629\n",
      "    version: 0.0.0\n",
      "    dimensions(sizes): time(5231520), bounds(2), no_of_wavelengths(2)\n",
      "    variables(dimensions): float64 time(time), float32 irr_chanB(time), float32 irr_chanE_uncorr(time), float32 irr_304_1nm(time), float32 irr_1216_1nm(time), uint8 irr_304_flag(time), uint8 irr_1216_flag(time), float32 au_factor(time), uint8 geocorona_flag(time), float32 wavelength_bounds(no_of_wavelengths, bounds), float32 wavelength(no_of_wavelengths)\n",
      "    groups: \n"
     ]
    }
   ],
   "source": [
    "fn = \"D:\\data\\GOES\\EUVS\\sci_geuv-l2-avg1m_g15_s20100325_e20200304_v5-0-0.nc\"\n",
    "\n",
    "f = Dataset(fn)\n",
    "print(f)"
   ]
  },
  {
   "cell_type": "code",
   "execution_count": 3,
   "metadata": {},
   "outputs": [],
   "source": [
    "irr = ma.getdata(f.variables['irr_1216_1nm'][:])\n",
    "dt = ma.getdata(f.variables['time'][:])\n",
    "\n",
    "dt_shift = pd.to_datetime('2000-01-01 12:00:00').value*1E-9    "
   ]
  },
  {
   "cell_type": "code",
   "execution_count": 4,
   "metadata": {},
   "outputs": [],
   "source": [
    "g_df = pd.DataFrame()\n",
    "g_df['irr_1216'] = irr\n",
    "g_df['DateTime'] = pd.to_datetime(dt + dt_shift, unit='s') "
   ]
  },
  {
   "cell_type": "code",
   "execution_count": 6,
   "metadata": {},
   "outputs": [],
   "source": [
    "import numpy as np\n",
    "\n",
    "bd = g_df['irr_1216'] < 0\n",
    "g_df.loc[bd,'irr_1216'] = np.NaN"
   ]
  },
  {
   "cell_type": "code",
   "execution_count": 7,
   "metadata": {},
   "outputs": [],
   "source": [
    "f.close()"
   ]
  },
  {
   "cell_type": "code",
   "execution_count": 9,
   "metadata": {},
   "outputs": [],
   "source": [
    "fn = 'D:\\\\data\\\\SatDensities\\\\satdrag_database_grace_GC_v3.hdf5'\n",
    "database = pd.read_hdf(fn)"
   ]
  },
  {
   "cell_type": "code",
   "execution_count": 10,
   "metadata": {},
   "outputs": [],
   "source": [
    "g_tol = pd.Timedelta('31 seconds')\n",
    "database = pd.merge_asof(left=database,right=g_df,left_on='DateTime',right_on='DateTime',\n",
    "                             direction='nearest',tolerance=g_tol)"
   ]
  },
  {
   "cell_type": "code",
   "execution_count": 11,
   "metadata": {},
   "outputs": [
    {
     "data": {
      "text/html": [
       "<div>\n",
       "<style scoped>\n",
       "    .dataframe tbody tr th:only-of-type {\n",
       "        vertical-align: middle;\n",
       "    }\n",
       "\n",
       "    .dataframe tbody tr th {\n",
       "        vertical-align: top;\n",
       "    }\n",
       "\n",
       "    .dataframe thead th {\n",
       "        text-align: right;\n",
       "    }\n",
       "</style>\n",
       "<table border=\"1\" class=\"dataframe\">\n",
       "  <thead>\n",
       "    <tr style=\"text-align: right;\">\n",
       "      <th></th>\n",
       "      <th>DateTime</th>\n",
       "      <th>DateTime_omni</th>\n",
       "      <th>Year</th>\n",
       "      <th>DOY</th>\n",
       "      <th>Hour</th>\n",
       "      <th>Minute</th>\n",
       "      <th>IMF_id</th>\n",
       "      <th>SW_id</th>\n",
       "      <th>IMF_pt</th>\n",
       "      <th>SW_pt</th>\n",
       "      <th>...</th>\n",
       "      <th>lst</th>\n",
       "      <th>arglat</th>\n",
       "      <th>dens_x</th>\n",
       "      <th>dens_mean</th>\n",
       "      <th>flag_0</th>\n",
       "      <th>flag_1</th>\n",
       "      <th>DateTime_gr</th>\n",
       "      <th>storm</th>\n",
       "      <th>storm phase</th>\n",
       "      <th>irr_1216</th>\n",
       "    </tr>\n",
       "  </thead>\n",
       "  <tbody>\n",
       "    <tr>\n",
       "      <th>0</th>\n",
       "      <td>2018-05-29 09:40:00</td>\n",
       "      <td>2018-05-29 09:40:00</td>\n",
       "      <td>2018</td>\n",
       "      <td>149</td>\n",
       "      <td>9</td>\n",
       "      <td>40</td>\n",
       "      <td>51.0</td>\n",
       "      <td>51.0</td>\n",
       "      <td>5.0</td>\n",
       "      <td>5.0</td>\n",
       "      <td>...</td>\n",
       "      <td>11.465</td>\n",
       "      <td>178.023</td>\n",
       "      <td>7.300633e-14</td>\n",
       "      <td>3.878265e-14</td>\n",
       "      <td>0.0</td>\n",
       "      <td>0.0</td>\n",
       "      <td>2018-05-29 09:40:00</td>\n",
       "      <td>-1</td>\n",
       "      <td>-1</td>\n",
       "      <td>0.006039</td>\n",
       "    </tr>\n",
       "    <tr>\n",
       "      <th>1</th>\n",
       "      <td>2018-05-29 09:45:00</td>\n",
       "      <td>2018-05-29 09:45:00</td>\n",
       "      <td>2018</td>\n",
       "      <td>149</td>\n",
       "      <td>9</td>\n",
       "      <td>45</td>\n",
       "      <td>51.0</td>\n",
       "      <td>51.0</td>\n",
       "      <td>5.0</td>\n",
       "      <td>2.0</td>\n",
       "      <td>...</td>\n",
       "      <td>11.487</td>\n",
       "      <td>197.079</td>\n",
       "      <td>6.438684e-14</td>\n",
       "      <td>3.885634e-14</td>\n",
       "      <td>0.0</td>\n",
       "      <td>0.0</td>\n",
       "      <td>2018-05-29 09:45:00</td>\n",
       "      <td>-1</td>\n",
       "      <td>-1</td>\n",
       "      <td>0.006046</td>\n",
       "    </tr>\n",
       "    <tr>\n",
       "      <th>2</th>\n",
       "      <td>2018-05-29 09:50:00</td>\n",
       "      <td>2018-05-29 09:50:00</td>\n",
       "      <td>2018</td>\n",
       "      <td>149</td>\n",
       "      <td>9</td>\n",
       "      <td>50</td>\n",
       "      <td>51.0</td>\n",
       "      <td>51.0</td>\n",
       "      <td>5.0</td>\n",
       "      <td>5.0</td>\n",
       "      <td>...</td>\n",
       "      <td>11.515</td>\n",
       "      <td>216.135</td>\n",
       "      <td>5.127300e-14</td>\n",
       "      <td>3.893004e-14</td>\n",
       "      <td>0.0</td>\n",
       "      <td>0.0</td>\n",
       "      <td>2018-05-29 09:50:00</td>\n",
       "      <td>-1</td>\n",
       "      <td>-1</td>\n",
       "      <td>0.006058</td>\n",
       "    </tr>\n",
       "    <tr>\n",
       "      <th>3</th>\n",
       "      <td>2018-05-29 09:55:00</td>\n",
       "      <td>2018-05-29 09:55:00</td>\n",
       "      <td>2018</td>\n",
       "      <td>149</td>\n",
       "      <td>9</td>\n",
       "      <td>55</td>\n",
       "      <td>51.0</td>\n",
       "      <td>51.0</td>\n",
       "      <td>5.0</td>\n",
       "      <td>4.0</td>\n",
       "      <td>...</td>\n",
       "      <td>11.562</td>\n",
       "      <td>235.188</td>\n",
       "      <td>4.221537e-14</td>\n",
       "      <td>3.853565e-14</td>\n",
       "      <td>0.0</td>\n",
       "      <td>0.0</td>\n",
       "      <td>2018-05-29 09:55:00</td>\n",
       "      <td>-1</td>\n",
       "      <td>-1</td>\n",
       "      <td>0.006029</td>\n",
       "    </tr>\n",
       "    <tr>\n",
       "      <th>4</th>\n",
       "      <td>2018-05-29 10:00:00</td>\n",
       "      <td>2018-05-29 10:00:00</td>\n",
       "      <td>2018</td>\n",
       "      <td>149</td>\n",
       "      <td>10</td>\n",
       "      <td>0</td>\n",
       "      <td>51.0</td>\n",
       "      <td>51.0</td>\n",
       "      <td>5.0</td>\n",
       "      <td>4.0</td>\n",
       "      <td>...</td>\n",
       "      <td>11.702</td>\n",
       "      <td>254.236</td>\n",
       "      <td>9.481816e-15</td>\n",
       "      <td>3.814127e-14</td>\n",
       "      <td>0.0</td>\n",
       "      <td>0.0</td>\n",
       "      <td>2018-05-29 10:00:00</td>\n",
       "      <td>-1</td>\n",
       "      <td>-1</td>\n",
       "      <td>0.006024</td>\n",
       "    </tr>\n",
       "  </tbody>\n",
       "</table>\n",
       "<p>5 rows × 92 columns</p>\n",
       "</div>"
      ],
      "text/plain": [
       "             DateTime       DateTime_omni  Year  DOY  Hour  Minute  IMF_id  \\\n",
       "0 2018-05-29 09:40:00 2018-05-29 09:40:00  2018  149     9      40    51.0   \n",
       "1 2018-05-29 09:45:00 2018-05-29 09:45:00  2018  149     9      45    51.0   \n",
       "2 2018-05-29 09:50:00 2018-05-29 09:50:00  2018  149     9      50    51.0   \n",
       "3 2018-05-29 09:55:00 2018-05-29 09:55:00  2018  149     9      55    51.0   \n",
       "4 2018-05-29 10:00:00 2018-05-29 10:00:00  2018  149    10       0    51.0   \n",
       "\n",
       "   SW_id  IMF_pt  SW_pt  ...     lst   arglat        dens_x     dens_mean  \\\n",
       "0   51.0     5.0    5.0  ...  11.465  178.023  7.300633e-14  3.878265e-14   \n",
       "1   51.0     5.0    2.0  ...  11.487  197.079  6.438684e-14  3.885634e-14   \n",
       "2   51.0     5.0    5.0  ...  11.515  216.135  5.127300e-14  3.893004e-14   \n",
       "3   51.0     5.0    4.0  ...  11.562  235.188  4.221537e-14  3.853565e-14   \n",
       "4   51.0     5.0    4.0  ...  11.702  254.236  9.481816e-15  3.814127e-14   \n",
       "\n",
       "   flag_0  flag_1         DateTime_gr  storm  storm phase  irr_1216  \n",
       "0     0.0     0.0 2018-05-29 09:40:00     -1           -1  0.006039  \n",
       "1     0.0     0.0 2018-05-29 09:45:00     -1           -1  0.006046  \n",
       "2     0.0     0.0 2018-05-29 09:50:00     -1           -1  0.006058  \n",
       "3     0.0     0.0 2018-05-29 09:55:00     -1           -1  0.006029  \n",
       "4     0.0     0.0 2018-05-29 10:00:00     -1           -1  0.006024  \n",
       "\n",
       "[5 rows x 92 columns]"
      ]
     },
     "execution_count": 11,
     "metadata": {},
     "output_type": "execute_result"
    }
   ],
   "source": [
    "database.head()"
   ]
  },
  {
   "cell_type": "code",
   "execution_count": 12,
   "metadata": {},
   "outputs": [],
   "source": [
    "database.to_hdf(fn,key='database', mode='w', format='table', complevel=7)"
   ]
  },
  {
   "cell_type": "code",
   "execution_count": 14,
   "metadata": {},
   "outputs": [],
   "source": [
    "dens_col = ['dens_x']\n",
    "columns = ['irr_1216','dens_x']\n",
    "\n",
    "cor_plot = pd.DataFrame()\n",
    "cor_plot['All'] = database[columns].dropna().corr()[dens_col]"
   ]
  },
  {
   "cell_type": "code",
   "execution_count": 15,
   "metadata": {},
   "outputs": [
    {
     "data": {
      "text/html": [
       "<div>\n",
       "<style scoped>\n",
       "    .dataframe tbody tr th:only-of-type {\n",
       "        vertical-align: middle;\n",
       "    }\n",
       "\n",
       "    .dataframe tbody tr th {\n",
       "        vertical-align: top;\n",
       "    }\n",
       "\n",
       "    .dataframe thead th {\n",
       "        text-align: right;\n",
       "    }\n",
       "</style>\n",
       "<table border=\"1\" class=\"dataframe\">\n",
       "  <thead>\n",
       "    <tr style=\"text-align: right;\">\n",
       "      <th></th>\n",
       "      <th>All</th>\n",
       "    </tr>\n",
       "  </thead>\n",
       "  <tbody>\n",
       "    <tr>\n",
       "      <th>irr_1216</th>\n",
       "      <td>0.102831</td>\n",
       "    </tr>\n",
       "    <tr>\n",
       "      <th>dens_x</th>\n",
       "      <td>1.000000</td>\n",
       "    </tr>\n",
       "  </tbody>\n",
       "</table>\n",
       "</div>"
      ],
      "text/plain": [
       "               All\n",
       "irr_1216  0.102831\n",
       "dens_x    1.000000"
      ]
     },
     "execution_count": 15,
     "metadata": {},
     "output_type": "execute_result"
    }
   ],
   "source": [
    "cor_plot"
   ]
  },
  {
   "cell_type": "code",
   "execution_count": 17,
   "metadata": {},
   "outputs": [
    {
     "data": {
      "text/html": [
       "<div>\n",
       "<style scoped>\n",
       "    .dataframe tbody tr th:only-of-type {\n",
       "        vertical-align: middle;\n",
       "    }\n",
       "\n",
       "    .dataframe tbody tr th {\n",
       "        vertical-align: top;\n",
       "    }\n",
       "\n",
       "    .dataframe thead th {\n",
       "        text-align: right;\n",
       "    }\n",
       "</style>\n",
       "<table border=\"1\" class=\"dataframe\">\n",
       "  <thead>\n",
       "    <tr style=\"text-align: right;\">\n",
       "      <th></th>\n",
       "      <th>irr_1216</th>\n",
       "      <th>DateTime</th>\n",
       "    </tr>\n",
       "  </thead>\n",
       "  <tbody>\n",
       "    <tr>\n",
       "      <th>0</th>\n",
       "      <td>-9999.000000</td>\n",
       "      <td>2010-03-25 00:00:00</td>\n",
       "    </tr>\n",
       "    <tr>\n",
       "      <th>1</th>\n",
       "      <td>-9999.000000</td>\n",
       "      <td>2010-03-25 00:01:00</td>\n",
       "    </tr>\n",
       "    <tr>\n",
       "      <th>2</th>\n",
       "      <td>-9999.000000</td>\n",
       "      <td>2010-03-25 00:02:00</td>\n",
       "    </tr>\n",
       "    <tr>\n",
       "      <th>3</th>\n",
       "      <td>-9999.000000</td>\n",
       "      <td>2010-03-25 00:03:00</td>\n",
       "    </tr>\n",
       "    <tr>\n",
       "      <th>4</th>\n",
       "      <td>-9999.000000</td>\n",
       "      <td>2010-03-25 00:04:00</td>\n",
       "    </tr>\n",
       "    <tr>\n",
       "      <th>...</th>\n",
       "      <td>...</td>\n",
       "      <td>...</td>\n",
       "    </tr>\n",
       "    <tr>\n",
       "      <th>5231515</th>\n",
       "      <td>0.005846</td>\n",
       "      <td>2020-03-04 23:55:00</td>\n",
       "    </tr>\n",
       "    <tr>\n",
       "      <th>5231516</th>\n",
       "      <td>0.005833</td>\n",
       "      <td>2020-03-04 23:56:00</td>\n",
       "    </tr>\n",
       "    <tr>\n",
       "      <th>5231517</th>\n",
       "      <td>0.005836</td>\n",
       "      <td>2020-03-04 23:57:00</td>\n",
       "    </tr>\n",
       "    <tr>\n",
       "      <th>5231518</th>\n",
       "      <td>0.005849</td>\n",
       "      <td>2020-03-04 23:58:00</td>\n",
       "    </tr>\n",
       "    <tr>\n",
       "      <th>5231519</th>\n",
       "      <td>0.005876</td>\n",
       "      <td>2020-03-04 23:59:00</td>\n",
       "    </tr>\n",
       "  </tbody>\n",
       "</table>\n",
       "<p>5231520 rows × 2 columns</p>\n",
       "</div>"
      ],
      "text/plain": [
       "            irr_1216            DateTime\n",
       "0       -9999.000000 2010-03-25 00:00:00\n",
       "1       -9999.000000 2010-03-25 00:01:00\n",
       "2       -9999.000000 2010-03-25 00:02:00\n",
       "3       -9999.000000 2010-03-25 00:03:00\n",
       "4       -9999.000000 2010-03-25 00:04:00\n",
       "...              ...                 ...\n",
       "5231515     0.005846 2020-03-04 23:55:00\n",
       "5231516     0.005833 2020-03-04 23:56:00\n",
       "5231517     0.005836 2020-03-04 23:57:00\n",
       "5231518     0.005849 2020-03-04 23:58:00\n",
       "5231519     0.005876 2020-03-04 23:59:00\n",
       "\n",
       "[5231520 rows x 2 columns]"
      ]
     },
     "execution_count": 17,
     "metadata": {},
     "output_type": "execute_result"
    }
   ],
   "source": [
    "g_df"
   ]
  },
  {
   "cell_type": "code",
   "execution_count": null,
   "metadata": {},
   "outputs": [],
   "source": []
  },
  {
   "cell_type": "code",
   "execution_count": 20,
   "metadata": {},
   "outputs": [
    {
     "ename": "DateParseError",
     "evalue": "Unknown datetime string format, unable to parse: seconds since 2000-01-01 12:00:00 UTC, at position 0",
     "output_type": "error",
     "traceback": [
      "\u001b[1;31m---------------------------------------------------------------------------\u001b[0m",
      "\u001b[1;31mDateParseError\u001b[0m                            Traceback (most recent call last)",
      "Cell \u001b[1;32mIn[20], line 1\u001b[0m\n\u001b[1;32m----> 1\u001b[0m \u001b[43mpd\u001b[49m\u001b[38;5;241;43m.\u001b[39;49m\u001b[43mto_datetime\u001b[49m\u001b[43m(\u001b[49m\u001b[43mf\u001b[49m\u001b[38;5;241;43m.\u001b[39;49m\u001b[43mvariables\u001b[49m\u001b[43m[\u001b[49m\u001b[38;5;124;43m'\u001b[39;49m\u001b[38;5;124;43mtime\u001b[39;49m\u001b[38;5;124;43m'\u001b[39;49m\u001b[43m]\u001b[49m\u001b[38;5;241;43m.\u001b[39;49m\u001b[43munits\u001b[49m\u001b[43m)\u001b[49m\n",
      "File \u001b[1;32mc:\\Users\\krmurph1\\Anaconda3\\envs\\satdrag\\lib\\site-packages\\pandas\\core\\tools\\datetimes.py:1101\u001b[0m, in \u001b[0;36mto_datetime\u001b[1;34m(arg, errors, dayfirst, yearfirst, utc, format, exact, unit, infer_datetime_format, origin, cache)\u001b[0m\n\u001b[0;32m   1099\u001b[0m         result \u001b[38;5;241m=\u001b[39m convert_listlike(argc, \u001b[38;5;28mformat\u001b[39m)\n\u001b[0;32m   1100\u001b[0m \u001b[38;5;28;01melse\u001b[39;00m:\n\u001b[1;32m-> 1101\u001b[0m     result \u001b[38;5;241m=\u001b[39m \u001b[43mconvert_listlike\u001b[49m\u001b[43m(\u001b[49m\u001b[43mnp\u001b[49m\u001b[38;5;241;43m.\u001b[39;49m\u001b[43marray\u001b[49m\u001b[43m(\u001b[49m\u001b[43m[\u001b[49m\u001b[43marg\u001b[49m\u001b[43m]\u001b[49m\u001b[43m)\u001b[49m\u001b[43m,\u001b[49m\u001b[43m \u001b[49m\u001b[38;5;28;43mformat\u001b[39;49m\u001b[43m)\u001b[49m[\u001b[38;5;241m0\u001b[39m]\n\u001b[0;32m   1102\u001b[0m     \u001b[38;5;28;01mif\u001b[39;00m \u001b[38;5;28misinstance\u001b[39m(arg, \u001b[38;5;28mbool\u001b[39m) \u001b[38;5;129;01mand\u001b[39;00m \u001b[38;5;28misinstance\u001b[39m(result, np\u001b[38;5;241m.\u001b[39mbool_):\n\u001b[0;32m   1103\u001b[0m         result \u001b[38;5;241m=\u001b[39m \u001b[38;5;28mbool\u001b[39m(result)  \u001b[38;5;66;03m# TODO: avoid this kludge.\u001b[39;00m\n",
      "File \u001b[1;32mc:\\Users\\krmurph1\\Anaconda3\\envs\\satdrag\\lib\\site-packages\\pandas\\core\\tools\\datetimes.py:435\u001b[0m, in \u001b[0;36m_convert_listlike_datetimes\u001b[1;34m(arg, format, name, utc, unit, errors, dayfirst, yearfirst, exact)\u001b[0m\n\u001b[0;32m    432\u001b[0m \u001b[38;5;28;01mif\u001b[39;00m \u001b[38;5;28mformat\u001b[39m \u001b[38;5;129;01mis\u001b[39;00m \u001b[38;5;129;01mnot\u001b[39;00m \u001b[38;5;28;01mNone\u001b[39;00m \u001b[38;5;129;01mand\u001b[39;00m \u001b[38;5;28mformat\u001b[39m \u001b[38;5;241m!=\u001b[39m \u001b[38;5;124m\"\u001b[39m\u001b[38;5;124mmixed\u001b[39m\u001b[38;5;124m\"\u001b[39m:\n\u001b[0;32m    433\u001b[0m     \u001b[38;5;28;01mreturn\u001b[39;00m _array_strptime_with_fallback(arg, name, utc, \u001b[38;5;28mformat\u001b[39m, exact, errors)\n\u001b[1;32m--> 435\u001b[0m result, tz_parsed \u001b[38;5;241m=\u001b[39m \u001b[43mobjects_to_datetime64\u001b[49m\u001b[43m(\u001b[49m\n\u001b[0;32m    436\u001b[0m \u001b[43m    \u001b[49m\u001b[43marg\u001b[49m\u001b[43m,\u001b[49m\n\u001b[0;32m    437\u001b[0m \u001b[43m    \u001b[49m\u001b[43mdayfirst\u001b[49m\u001b[38;5;241;43m=\u001b[39;49m\u001b[43mdayfirst\u001b[49m\u001b[43m,\u001b[49m\n\u001b[0;32m    438\u001b[0m \u001b[43m    \u001b[49m\u001b[43myearfirst\u001b[49m\u001b[38;5;241;43m=\u001b[39;49m\u001b[43myearfirst\u001b[49m\u001b[43m,\u001b[49m\n\u001b[0;32m    439\u001b[0m \u001b[43m    \u001b[49m\u001b[43mutc\u001b[49m\u001b[38;5;241;43m=\u001b[39;49m\u001b[43mutc\u001b[49m\u001b[43m,\u001b[49m\n\u001b[0;32m    440\u001b[0m \u001b[43m    \u001b[49m\u001b[43merrors\u001b[49m\u001b[38;5;241;43m=\u001b[39;49m\u001b[43merrors\u001b[49m\u001b[43m,\u001b[49m\n\u001b[0;32m    441\u001b[0m \u001b[43m    \u001b[49m\u001b[43mallow_object\u001b[49m\u001b[38;5;241;43m=\u001b[39;49m\u001b[38;5;28;43;01mTrue\u001b[39;49;00m\u001b[43m,\u001b[49m\n\u001b[0;32m    442\u001b[0m \u001b[43m\u001b[49m\u001b[43m)\u001b[49m\n\u001b[0;32m    444\u001b[0m \u001b[38;5;28;01mif\u001b[39;00m tz_parsed \u001b[38;5;129;01mis\u001b[39;00m \u001b[38;5;129;01mnot\u001b[39;00m \u001b[38;5;28;01mNone\u001b[39;00m:\n\u001b[0;32m    445\u001b[0m     \u001b[38;5;66;03m# We can take a shortcut since the datetime64 numpy array\u001b[39;00m\n\u001b[0;32m    446\u001b[0m     \u001b[38;5;66;03m# is in UTC\u001b[39;00m\n\u001b[0;32m    447\u001b[0m     out_unit \u001b[38;5;241m=\u001b[39m np\u001b[38;5;241m.\u001b[39mdatetime_data(result\u001b[38;5;241m.\u001b[39mdtype)[\u001b[38;5;241m0\u001b[39m]\n",
      "File \u001b[1;32mc:\\Users\\krmurph1\\Anaconda3\\envs\\satdrag\\lib\\site-packages\\pandas\\core\\arrays\\datetimes.py:2398\u001b[0m, in \u001b[0;36mobjects_to_datetime64\u001b[1;34m(data, dayfirst, yearfirst, utc, errors, allow_object, out_unit)\u001b[0m\n\u001b[0;32m   2395\u001b[0m \u001b[38;5;66;03m# if str-dtype, convert\u001b[39;00m\n\u001b[0;32m   2396\u001b[0m data \u001b[38;5;241m=\u001b[39m np\u001b[38;5;241m.\u001b[39marray(data, copy\u001b[38;5;241m=\u001b[39m\u001b[38;5;28;01mFalse\u001b[39;00m, dtype\u001b[38;5;241m=\u001b[39mnp\u001b[38;5;241m.\u001b[39mobject_)\n\u001b[1;32m-> 2398\u001b[0m result, tz_parsed \u001b[38;5;241m=\u001b[39m \u001b[43mtslib\u001b[49m\u001b[38;5;241;43m.\u001b[39;49m\u001b[43marray_to_datetime\u001b[49m\u001b[43m(\u001b[49m\n\u001b[0;32m   2399\u001b[0m \u001b[43m    \u001b[49m\u001b[43mdata\u001b[49m\u001b[43m,\u001b[49m\n\u001b[0;32m   2400\u001b[0m \u001b[43m    \u001b[49m\u001b[43merrors\u001b[49m\u001b[38;5;241;43m=\u001b[39;49m\u001b[43merrors\u001b[49m\u001b[43m,\u001b[49m\n\u001b[0;32m   2401\u001b[0m \u001b[43m    \u001b[49m\u001b[43mutc\u001b[49m\u001b[38;5;241;43m=\u001b[39;49m\u001b[43mutc\u001b[49m\u001b[43m,\u001b[49m\n\u001b[0;32m   2402\u001b[0m \u001b[43m    \u001b[49m\u001b[43mdayfirst\u001b[49m\u001b[38;5;241;43m=\u001b[39;49m\u001b[43mdayfirst\u001b[49m\u001b[43m,\u001b[49m\n\u001b[0;32m   2403\u001b[0m \u001b[43m    \u001b[49m\u001b[43myearfirst\u001b[49m\u001b[38;5;241;43m=\u001b[39;49m\u001b[43myearfirst\u001b[49m\u001b[43m,\u001b[49m\n\u001b[0;32m   2404\u001b[0m \u001b[43m    \u001b[49m\u001b[43mcreso\u001b[49m\u001b[38;5;241;43m=\u001b[39;49m\u001b[43mabbrev_to_npy_unit\u001b[49m\u001b[43m(\u001b[49m\u001b[43mout_unit\u001b[49m\u001b[43m)\u001b[49m\u001b[43m,\u001b[49m\n\u001b[0;32m   2405\u001b[0m \u001b[43m\u001b[49m\u001b[43m)\u001b[49m\n\u001b[0;32m   2407\u001b[0m \u001b[38;5;28;01mif\u001b[39;00m tz_parsed \u001b[38;5;129;01mis\u001b[39;00m \u001b[38;5;129;01mnot\u001b[39;00m \u001b[38;5;28;01mNone\u001b[39;00m:\n\u001b[0;32m   2408\u001b[0m     \u001b[38;5;66;03m# We can take a shortcut since the datetime64 numpy array\u001b[39;00m\n\u001b[0;32m   2409\u001b[0m     \u001b[38;5;66;03m#  is in UTC\u001b[39;00m\n\u001b[0;32m   2410\u001b[0m     \u001b[38;5;28;01mreturn\u001b[39;00m result, tz_parsed\n",
      "File \u001b[1;32mtslib.pyx:414\u001b[0m, in \u001b[0;36mpandas._libs.tslib.array_to_datetime\u001b[1;34m()\u001b[0m\n",
      "File \u001b[1;32mtslib.pyx:596\u001b[0m, in \u001b[0;36mpandas._libs.tslib.array_to_datetime\u001b[1;34m()\u001b[0m\n",
      "File \u001b[1;32mtslib.pyx:553\u001b[0m, in \u001b[0;36mpandas._libs.tslib.array_to_datetime\u001b[1;34m()\u001b[0m\n",
      "File \u001b[1;32mconversion.pyx:641\u001b[0m, in \u001b[0;36mpandas._libs.tslibs.conversion.convert_str_to_tsobject\u001b[1;34m()\u001b[0m\n",
      "File \u001b[1;32mparsing.pyx:336\u001b[0m, in \u001b[0;36mpandas._libs.tslibs.parsing.parse_datetime_string\u001b[1;34m()\u001b[0m\n",
      "File \u001b[1;32mparsing.pyx:666\u001b[0m, in \u001b[0;36mpandas._libs.tslibs.parsing.dateutil_parse\u001b[1;34m()\u001b[0m\n",
      "\u001b[1;31mDateParseError\u001b[0m: Unknown datetime string format, unable to parse: seconds since 2000-01-01 12:00:00 UTC, at position 0"
     ]
    }
   ],
   "source": [
    "pd.to_datetime(f.variables['time'].units)"
   ]
  },
  {
   "cell_type": "code",
   "execution_count": 3,
   "metadata": {},
   "outputs": [],
   "source": [
    "a = pd.to_datetime('2000-01-01 12:00:00')"
   ]
  },
  {
   "cell_type": "code",
   "execution_count": 4,
   "metadata": {},
   "outputs": [
    {
     "data": {
      "text/plain": [
       "Timestamp('2000-01-01 12:00:00')"
      ]
     },
     "execution_count": 4,
     "metadata": {},
     "output_type": "execute_result"
    }
   ],
   "source": [
    "a"
   ]
  },
  {
   "cell_type": "code",
   "execution_count": 5,
   "metadata": {},
   "outputs": [
    {
     "data": {
      "text/plain": [
       "946728000000000000"
      ]
     },
     "execution_count": 5,
     "metadata": {},
     "output_type": "execute_result"
    }
   ],
   "source": [
    "a.value"
   ]
  },
  {
   "cell_type": "code",
   "execution_count": 15,
   "metadata": {},
   "outputs": [
    {
     "data": {
      "text/plain": [
       "Timestamp('2000-01-01 12:00:00')"
      ]
     },
     "execution_count": 15,
     "metadata": {},
     "output_type": "execute_result"
    }
   ],
   "source": [
    "pd.to_datetime(a.value*1E-9, unit='s')"
   ]
  },
  {
   "cell_type": "code",
   "execution_count": 6,
   "metadata": {},
   "outputs": [
    {
     "data": {
      "text/plain": [
       "Timestamp('2000-01-01 12:00:00.636638336')"
      ]
     },
     "execution_count": 6,
     "metadata": {},
     "output_type": "execute_result"
    }
   ],
   "source": [
    "pd.to_datetime(f.variables['time'][-1]+a.value)"
   ]
  },
  {
   "cell_type": "code",
   "execution_count": 18,
   "metadata": {},
   "outputs": [
    {
     "data": {
      "text/plain": [
       "Timestamp('2010-03-25 00:00:00')"
      ]
     },
     "execution_count": 18,
     "metadata": {},
     "output_type": "execute_result"
    }
   ],
   "source": [
    "pd.to_datetime(ma.getdata(f.variables['time'][0])+(a.value*1E-9),unit='s')"
   ]
  },
  {
   "cell_type": "code",
   "execution_count": 10,
   "metadata": {},
   "outputs": [
    {
     "data": {
      "text/html": [
       "<div>\n",
       "<style scoped>\n",
       "    .dataframe tbody tr th:only-of-type {\n",
       "        vertical-align: middle;\n",
       "    }\n",
       "\n",
       "    .dataframe tbody tr th {\n",
       "        vertical-align: top;\n",
       "    }\n",
       "\n",
       "    .dataframe thead th {\n",
       "        text-align: right;\n",
       "    }\n",
       "</style>\n",
       "<table border=\"1\" class=\"dataframe\">\n",
       "  <thead>\n",
       "    <tr style=\"text-align: right;\">\n",
       "      <th></th>\n",
       "      <th>irr_1216</th>\n",
       "      <th>DateTime</th>\n",
       "    </tr>\n",
       "  </thead>\n",
       "  <tbody>\n",
       "    <tr>\n",
       "      <th>0</th>\n",
       "      <td>-9999.000000</td>\n",
       "      <td>1970-01-01 00:00:00.322747200</td>\n",
       "    </tr>\n",
       "    <tr>\n",
       "      <th>1</th>\n",
       "      <td>-9999.000000</td>\n",
       "      <td>1970-01-01 00:00:00.322747260</td>\n",
       "    </tr>\n",
       "    <tr>\n",
       "      <th>2</th>\n",
       "      <td>-9999.000000</td>\n",
       "      <td>1970-01-01 00:00:00.322747320</td>\n",
       "    </tr>\n",
       "    <tr>\n",
       "      <th>3</th>\n",
       "      <td>-9999.000000</td>\n",
       "      <td>1970-01-01 00:00:00.322747380</td>\n",
       "    </tr>\n",
       "    <tr>\n",
       "      <th>4</th>\n",
       "      <td>-9999.000000</td>\n",
       "      <td>1970-01-01 00:00:00.322747440</td>\n",
       "    </tr>\n",
       "    <tr>\n",
       "      <th>...</th>\n",
       "      <td>...</td>\n",
       "      <td>...</td>\n",
       "    </tr>\n",
       "    <tr>\n",
       "      <th>5231515</th>\n",
       "      <td>0.005846</td>\n",
       "      <td>1970-01-01 00:00:00.636638100</td>\n",
       "    </tr>\n",
       "    <tr>\n",
       "      <th>5231516</th>\n",
       "      <td>0.005833</td>\n",
       "      <td>1970-01-01 00:00:00.636638160</td>\n",
       "    </tr>\n",
       "    <tr>\n",
       "      <th>5231517</th>\n",
       "      <td>0.005836</td>\n",
       "      <td>1970-01-01 00:00:00.636638220</td>\n",
       "    </tr>\n",
       "    <tr>\n",
       "      <th>5231518</th>\n",
       "      <td>0.005849</td>\n",
       "      <td>1970-01-01 00:00:00.636638280</td>\n",
       "    </tr>\n",
       "    <tr>\n",
       "      <th>5231519</th>\n",
       "      <td>0.005876</td>\n",
       "      <td>1970-01-01 00:00:00.636638340</td>\n",
       "    </tr>\n",
       "  </tbody>\n",
       "</table>\n",
       "<p>5231520 rows × 2 columns</p>\n",
       "</div>"
      ],
      "text/plain": [
       "            irr_1216                      DateTime\n",
       "0       -9999.000000 1970-01-01 00:00:00.322747200\n",
       "1       -9999.000000 1970-01-01 00:00:00.322747260\n",
       "2       -9999.000000 1970-01-01 00:00:00.322747320\n",
       "3       -9999.000000 1970-01-01 00:00:00.322747380\n",
       "4       -9999.000000 1970-01-01 00:00:00.322747440\n",
       "...              ...                           ...\n",
       "5231515     0.005846 1970-01-01 00:00:00.636638100\n",
       "5231516     0.005833 1970-01-01 00:00:00.636638160\n",
       "5231517     0.005836 1970-01-01 00:00:00.636638220\n",
       "5231518     0.005849 1970-01-01 00:00:00.636638280\n",
       "5231519     0.005876 1970-01-01 00:00:00.636638340\n",
       "\n",
       "[5231520 rows x 2 columns]"
      ]
     },
     "execution_count": 10,
     "metadata": {},
     "output_type": "execute_result"
    }
   ],
   "source": [
    "g_df"
   ]
  }
 ],
 "metadata": {
  "kernelspec": {
   "display_name": "satdrag",
   "language": "python",
   "name": "python3"
  },
  "language_info": {
   "codemirror_mode": {
    "name": "ipython",
    "version": 3
   },
   "file_extension": ".py",
   "mimetype": "text/x-python",
   "name": "python",
   "nbconvert_exporter": "python",
   "pygments_lexer": "ipython3",
   "version": "3.10.14"
  }
 },
 "nbformat": 4,
 "nbformat_minor": 2
}
