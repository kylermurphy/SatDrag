{
 "cells": [
  {
   "attachments": {},
   "cell_type": "markdown",
   "metadata": {},
   "source": [
    "# SatDrag Database \n",
    "\n",
    "Simple set of code to create a database for the Satellite Drag data.\n",
    "\n",
    "Read in the csv file and output an HDF5 file which will allow for faster reading as while as searching of the file before reading and writing. \n",
    "\n",
    "Also add a column to the data to identify storm times. \n",
    "\n"
   ]
  },
  {
   "cell_type": "code",
   "execution_count": 1,
   "metadata": {},
   "outputs": [],
   "source": [
    "#plot matplotlib figures in the notebook\n",
    "%matplotlib inline\n",
    "\n",
    "#print all output in a cell \n",
    "from IPython.core.interactiveshell import InteractiveShell\n",
    "InteractiveShell.ast_node_interactivity = \"all\"\n",
    "\n",
    "import pandas as pd"
   ]
  },
  {
   "cell_type": "code",
   "execution_count": 2,
   "metadata": {},
   "outputs": [],
   "source": [
    "# read in the sat drag file set\n",
    "\n",
    "drop = ['year', 'month', 'day', 'hour', 'minute', 'second']\n",
    "\n",
    "data_file = 'D:\\\\data\\\\VL_sdrag\\\\combined_data_all_reduced_omni.csv'\n",
    "\n",
    "sd_dat = pd.read_csv(data_file, parse_dates=[0], infer_datetime_format=True)\n",
    "sd_dat = sd_dat.drop(columns=drop)\n"
   ]
  },
  {
   "cell_type": "code",
   "execution_count": 3,
   "metadata": {},
   "outputs": [
    {
     "data": {
      "text/plain": [
       "t_st     datetime64[ns]\n",
       "t_dst    datetime64[ns]\n",
       "t_en     datetime64[ns]\n",
       "dtype: object"
      ]
     },
     "execution_count": 3,
     "metadata": {},
     "output_type": "execute_result"
    }
   ],
   "source": [
    "# get storm times\n",
    "\n",
    "# read in storm start and end times\n",
    "storm_txt = 'C:\\\\Users\\\\murph\\\\GitHub\\\\SatDrag\\\\data\\\\storms_drag_epochs_no_overlap.txt'\n",
    "storm_time = pd.read_csv(storm_txt, header=None, skiprows=1, \n",
    "                     delim_whitespace=1, names = ['t_st','t_dst','t_en'], parse_dates=[0, 1, 2],\n",
    "                     infer_datetime_format=True)\n",
    "\n",
    "storm_time.dtypes"
   ]
  },
  {
   "cell_type": "code",
   "execution_count": 10,
   "metadata": {},
   "outputs": [],
   "source": [
    "# loop through the storms and set\n",
    "# flags in the satellite drag database\n",
    "# for the different times\n",
    "\n",
    "sd_dat['storm'] = -1\n",
    "sd_dat['storm phase'] = -1\n",
    "\n",
    "for index, row in storm_time.iterrows():\n",
    "    stp = (sd_dat['Datetime']>=row['t_st']) & (sd_dat['Datetime']<row['t_en'])\n",
    "    mpp = (sd_dat['Datetime']>=row['t_st']) & (sd_dat['Datetime']<row['t_dst'])\n",
    "    rpp = (sd_dat['Datetime']>=row['t_dst']) & (sd_dat['Datetime']<row['t_en'])\n",
    "\n",
    "    sd_dat.loc[stp,'storm'] = 1\n",
    "    sd_dat.loc[mpp,'storm phase'] = 1\n",
    "    sd_dat.loc[rpp,'storm phase'] = 2\n",
    "\n"
   ]
  },
  {
   "cell_type": "code",
   "execution_count": 11,
   "metadata": {},
   "outputs": [
    {
     "data": {
      "text/plain": [
       "Timestamp('2008-09-01 15:00:00')"
      ]
     },
     "execution_count": 11,
     "metadata": {},
     "output_type": "execute_result"
    },
    {
     "data": {
      "text/plain": [
       "Timestamp('2008-09-12 02:00:00')"
      ]
     },
     "execution_count": 11,
     "metadata": {},
     "output_type": "execute_result"
    },
    {
     "data": {
      "text/plain": [
       "659382    1\n",
       "659383    1\n",
       "659384    1\n",
       "659385    1\n",
       "659386    1\n",
       "         ..\n",
       "674377    1\n",
       "674378    1\n",
       "674379    1\n",
       "674380    1\n",
       "674381    1\n",
       "Name: storm, Length: 15000, dtype: int64"
      ]
     },
     "execution_count": 11,
     "metadata": {},
     "output_type": "execute_result"
    },
    {
     "data": {
      "text/plain": [
       "659382    1\n",
       "659383    1\n",
       "659384    1\n",
       "659385    1\n",
       "659386    1\n",
       "         ..\n",
       "674377    2\n",
       "674378    2\n",
       "674379    2\n",
       "674380    2\n",
       "674381    2\n",
       "Name: storm phase, Length: 15000, dtype: int64"
      ]
     },
     "execution_count": 11,
     "metadata": {},
     "output_type": "execute_result"
    }
   ],
   "source": [
    "storm_time['t_st'][247]\n",
    "storm_time['t_en'][247]\n",
    "stp = (sd_dat['Datetime']>=storm_time['t_st'][247]) & (sd_dat['Datetime']<storm_time['t_en'][247])\n",
    "sd_dat.loc[stp,'storm']\n",
    "sd_dat.loc[stp,'storm phase']\n"
   ]
  },
  {
   "cell_type": "code",
   "execution_count": 12,
   "metadata": {},
   "outputs": [],
   "source": [
    "sd_dat.to_hdf('D:\\\\data\\\\VL_sdrag\\\\satdrag_database.hdf5', key='sd_dat', mode='w', format='table', data_columns='Datetime', complevel=9, complib='blosc:snappy')"
   ]
  },
  {
   "cell_type": "code",
   "execution_count": 13,
   "metadata": {},
   "outputs": [],
   "source": [
    "import pandas as pd\n",
    "bb = pd.read_hdf('D:\\\\data\\\\VL_sdrag\\\\satdrag_database.hdf5')\n",
    "bb.to_hdf('D:\\\\data\\\\VL_sdrag\\\\satdrag_database_zlib.hdf5', key='sd_dat', mode='w', format='table', data_columns='Datetime', complevel=9, complib='blosc:zlib')\n"
   ]
  },
  {
   "cell_type": "code",
   "execution_count": 15,
   "metadata": {},
   "outputs": [],
   "source": [
    "sd_dat.to_csv('D:\\\\data\\\\VL_sdrag\\\\satdrag_database.csv')"
   ]
  },
  {
   "cell_type": "code",
   "execution_count": 16,
   "metadata": {},
   "outputs": [],
   "source": [
    "sd_dat.to_csv('D:\\\\data\\\\VL_sdrag\\\\satdrag_database_times.csv', columns=['Datetime','storm','storm phase'])"
   ]
  },
  {
   "cell_type": "code",
   "execution_count": 2,
   "metadata": {},
   "outputs": [],
   "source": [
    "bb = pd.read_hdf('D:\\\\data\\\\VL_sdrag\\\\satdrag_database_zlib.hdf5')"
   ]
  },
  {
   "cell_type": "code",
   "execution_count": 3,
   "metadata": {},
   "outputs": [
    {
     "data": {
      "text/html": [
       "<div>\n",
       "<style scoped>\n",
       "    .dataframe tbody tr th:only-of-type {\n",
       "        vertical-align: middle;\n",
       "    }\n",
       "\n",
       "    .dataframe tbody tr th {\n",
       "        vertical-align: top;\n",
       "    }\n",
       "\n",
       "    .dataframe thead th {\n",
       "        text-align: right;\n",
       "    }\n",
       "</style>\n",
       "<table border=\"1\" class=\"dataframe\">\n",
       "  <thead>\n",
       "    <tr style=\"text-align: right;\">\n",
       "      <th></th>\n",
       "      <th>Datetime</th>\n",
       "      <th>SYM/H_INDEX_nT</th>\n",
       "      <th>1-M_AE_nT</th>\n",
       "      <th>Sec</th>\n",
       "      <th>CLat</th>\n",
       "      <th>SLat</th>\n",
       "      <th>SLon</th>\n",
       "      <th>Height</th>\n",
       "      <th>STime</th>\n",
       "      <th>DipLat</th>\n",
       "      <th>...</th>\n",
       "      <th>3-H_KP*10_</th>\n",
       "      <th>3-H_AP_nT</th>\n",
       "      <th>SOLAR_LYMAN-ALPHA_W/m^2</th>\n",
       "      <th>mg_index (core to wing ratio (unitless))</th>\n",
       "      <th>wavelength (nm)</th>\n",
       "      <th>irradiance (W/m^2/nm)</th>\n",
       "      <th>uncertainty (unitless)</th>\n",
       "      <th>Total mass density</th>\n",
       "      <th>storm</th>\n",
       "      <th>storm phase</th>\n",
       "    </tr>\n",
       "  </thead>\n",
       "  <tbody>\n",
       "    <tr>\n",
       "      <th>0</th>\n",
       "      <td>2004-02-01 00:00:00</td>\n",
       "      <td>-3.0</td>\n",
       "      <td>42.0</td>\n",
       "      <td>86392.5</td>\n",
       "      <td>6.0</td>\n",
       "      <td>7.32789</td>\n",
       "      <td>-46.97031</td>\n",
       "      <td>465.480</td>\n",
       "      <td>20.8630</td>\n",
       "      <td>9.49385</td>\n",
       "      <td>...</td>\n",
       "      <td>23.0</td>\n",
       "      <td>9.0</td>\n",
       "      <td>0.00697</td>\n",
       "      <td>0.26771</td>\n",
       "      <td>121.45</td>\n",
       "      <td>0.005673</td>\n",
       "      <td>0.050021</td>\n",
       "      <td>2.382877e-10</td>\n",
       "      <td>1</td>\n",
       "      <td>1</td>\n",
       "    </tr>\n",
       "    <tr>\n",
       "      <th>1</th>\n",
       "      <td>2004-02-01 00:01:00</td>\n",
       "      <td>-2.0</td>\n",
       "      <td>92.0</td>\n",
       "      <td>52.5</td>\n",
       "      <td>3.0</td>\n",
       "      <td>3.46651</td>\n",
       "      <td>-47.15423</td>\n",
       "      <td>466.079</td>\n",
       "      <td>20.8674</td>\n",
       "      <td>5.99292</td>\n",
       "      <td>...</td>\n",
       "      <td>23.0</td>\n",
       "      <td>9.0</td>\n",
       "      <td>0.00697</td>\n",
       "      <td>0.26771</td>\n",
       "      <td>121.45</td>\n",
       "      <td>0.005673</td>\n",
       "      <td>0.050021</td>\n",
       "      <td>2.383206e-10</td>\n",
       "      <td>1</td>\n",
       "      <td>1</td>\n",
       "    </tr>\n",
       "    <tr>\n",
       "      <th>2</th>\n",
       "      <td>2004-02-01 00:02:00</td>\n",
       "      <td>-2.0</td>\n",
       "      <td>130.0</td>\n",
       "      <td>115.0</td>\n",
       "      <td>0.0</td>\n",
       "      <td>-0.55515</td>\n",
       "      <td>-47.34640</td>\n",
       "      <td>466.939</td>\n",
       "      <td>20.8719</td>\n",
       "      <td>2.44186</td>\n",
       "      <td>...</td>\n",
       "      <td>23.0</td>\n",
       "      <td>9.0</td>\n",
       "      <td>0.00697</td>\n",
       "      <td>0.26771</td>\n",
       "      <td>121.45</td>\n",
       "      <td>0.005673</td>\n",
       "      <td>0.050021</td>\n",
       "      <td>2.383504e-10</td>\n",
       "      <td>1</td>\n",
       "      <td>1</td>\n",
       "    </tr>\n",
       "    <tr>\n",
       "      <th>3</th>\n",
       "      <td>2004-02-01 00:03:00</td>\n",
       "      <td>-3.0</td>\n",
       "      <td>85.0</td>\n",
       "      <td>142.5</td>\n",
       "      <td>-3.0</td>\n",
       "      <td>-2.32433</td>\n",
       "      <td>-47.43097</td>\n",
       "      <td>467.392</td>\n",
       "      <td>20.8739</td>\n",
       "      <td>0.90719</td>\n",
       "      <td>...</td>\n",
       "      <td>23.0</td>\n",
       "      <td>9.0</td>\n",
       "      <td>0.00697</td>\n",
       "      <td>0.26771</td>\n",
       "      <td>121.45</td>\n",
       "      <td>0.005673</td>\n",
       "      <td>0.050021</td>\n",
       "      <td>2.383803e-10</td>\n",
       "      <td>1</td>\n",
       "      <td>1</td>\n",
       "    </tr>\n",
       "    <tr>\n",
       "      <th>4</th>\n",
       "      <td>2004-02-01 00:04:00</td>\n",
       "      <td>-3.0</td>\n",
       "      <td>75.0</td>\n",
       "      <td>232.5</td>\n",
       "      <td>-9.0</td>\n",
       "      <td>-8.11216</td>\n",
       "      <td>-47.70693</td>\n",
       "      <td>469.193</td>\n",
       "      <td>20.8805</td>\n",
       "      <td>-4.01442</td>\n",
       "      <td>...</td>\n",
       "      <td>23.0</td>\n",
       "      <td>9.0</td>\n",
       "      <td>0.00697</td>\n",
       "      <td>0.26771</td>\n",
       "      <td>121.45</td>\n",
       "      <td>0.005673</td>\n",
       "      <td>0.050021</td>\n",
       "      <td>2.384108e-10</td>\n",
       "      <td>1</td>\n",
       "      <td>1</td>\n",
       "    </tr>\n",
       "  </tbody>\n",
       "</table>\n",
       "<p>5 rows × 30 columns</p>\n",
       "</div>"
      ],
      "text/plain": [
       "             Datetime  SYM/H_INDEX_nT  1-M_AE_nT      Sec  CLat     SLat  \\\n",
       "0 2004-02-01 00:00:00            -3.0       42.0  86392.5   6.0  7.32789   \n",
       "1 2004-02-01 00:01:00            -2.0       92.0     52.5   3.0  3.46651   \n",
       "2 2004-02-01 00:02:00            -2.0      130.0    115.0   0.0 -0.55515   \n",
       "3 2004-02-01 00:03:00            -3.0       85.0    142.5  -3.0 -2.32433   \n",
       "4 2004-02-01 00:04:00            -3.0       75.0    232.5  -9.0 -8.11216   \n",
       "\n",
       "       SLon   Height    STime   DipLat  ...  3-H_KP*10_  3-H_AP_nT  \\\n",
       "0 -46.97031  465.480  20.8630  9.49385  ...        23.0        9.0   \n",
       "1 -47.15423  466.079  20.8674  5.99292  ...        23.0        9.0   \n",
       "2 -47.34640  466.939  20.8719  2.44186  ...        23.0        9.0   \n",
       "3 -47.43097  467.392  20.8739  0.90719  ...        23.0        9.0   \n",
       "4 -47.70693  469.193  20.8805 -4.01442  ...        23.0        9.0   \n",
       "\n",
       "   SOLAR_LYMAN-ALPHA_W/m^2  mg_index (core to wing ratio (unitless))  \\\n",
       "0                  0.00697                                   0.26771   \n",
       "1                  0.00697                                   0.26771   \n",
       "2                  0.00697                                   0.26771   \n",
       "3                  0.00697                                   0.26771   \n",
       "4                  0.00697                                   0.26771   \n",
       "\n",
       "   wavelength (nm)  irradiance (W/m^2/nm)  uncertainty (unitless)  \\\n",
       "0           121.45               0.005673                0.050021   \n",
       "1           121.45               0.005673                0.050021   \n",
       "2           121.45               0.005673                0.050021   \n",
       "3           121.45               0.005673                0.050021   \n",
       "4           121.45               0.005673                0.050021   \n",
       "\n",
       "   Total mass density  storm  storm phase  \n",
       "0        2.382877e-10      1            1  \n",
       "1        2.383206e-10      1            1  \n",
       "2        2.383504e-10      1            1  \n",
       "3        2.383803e-10      1            1  \n",
       "4        2.384108e-10      1            1  \n",
       "\n",
       "[5 rows x 30 columns]"
      ]
     },
     "execution_count": 3,
     "metadata": {},
     "output_type": "execute_result"
    }
   ],
   "source": [
    "bb.head()"
   ]
  }
 ],
 "metadata": {
  "kernelspec": {
   "display_name": "base",
   "language": "python",
   "name": "python3"
  },
  "language_info": {
   "codemirror_mode": {
    "name": "ipython",
    "version": 3
   },
   "file_extension": ".py",
   "mimetype": "text/x-python",
   "name": "python",
   "nbconvert_exporter": "python",
   "pygments_lexer": "ipython3",
   "version": "3.10.9"
  },
  "orig_nbformat": 4,
  "vscode": {
   "interpreter": {
    "hash": "f76c34d5d1e534300c251ef9dff1af345b170e5885085855442f01ac79e1be46"
   }
  }
 },
 "nbformat": 4,
 "nbformat_minor": 2
}
