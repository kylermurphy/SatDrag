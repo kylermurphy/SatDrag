{
 "cells": [
  {
   "attachments": {},
   "cell_type": "markdown",
   "metadata": {},
   "source": [
    "# SatDrag Database \n",
    "\n",
    "Simple set of code to create a database for the Satellite Drag data.\n",
    "\n",
    "Read in the csv file and output an HDF5 file which will allow for faster reading as while as searching of the file before reading and writing. \n",
    "\n",
    "Also add a column to the data to identify storm times. \n",
    "\n"
   ]
  },
  {
   "cell_type": "code",
   "execution_count": 1,
   "metadata": {},
   "outputs": [],
   "source": [
    "#plot matplotlib figures in the notebook\n",
    "%matplotlib inline\n",
    "\n",
    "#print all output in a cell \n",
    "from IPython.core.interactiveshell import InteractiveShell\n",
    "InteractiveShell.ast_node_interactivity = \"all\"\n",
    "\n",
    "import pandas as pd"
   ]
  },
  {
   "cell_type": "code",
   "execution_count": 2,
   "metadata": {},
   "outputs": [],
   "source": [
    "# read in the sat drag file set\n",
    "\n",
    "drop = ['year', 'month', 'day', 'hour', 'minute', 'second']\n",
    "\n",
    "data_file = 'D:\\\\data\\\\VL_sdrag\\\\combined_data_all_reduced_omni.csv'\n",
    "\n",
    "sd_dat = pd.read_csv(data_file, parse_dates=[0], infer_datetime_format=True)\n",
    "sd_dat = sd_dat.drop(columns=drop)\n"
   ]
  },
  {
   "cell_type": "code",
   "execution_count": 3,
   "metadata": {},
   "outputs": [
    {
     "data": {
      "text/plain": [
       "t_st     datetime64[ns]\n",
       "t_dst    datetime64[ns]\n",
       "t_en     datetime64[ns]\n",
       "dtype: object"
      ]
     },
     "execution_count": 3,
     "metadata": {},
     "output_type": "execute_result"
    }
   ],
   "source": [
    "# get storm times\n",
    "\n",
    "# read in storm start and end times\n",
    "storm_txt = 'C:\\\\Users\\\\murph\\\\GitHub\\\\SatDrag\\\\data\\\\storms_drag_epochs_no_overlap.txt'\n",
    "storm_time = pd.read_csv(storm_txt, header=None, skiprows=1, \n",
    "                     delim_whitespace=1, names = ['t_st','t_dst','t_en'], parse_dates=[0, 1, 2],\n",
    "                     infer_datetime_format=True)\n",
    "\n",
    "storm_time.dtypes"
   ]
  },
  {
   "cell_type": "code",
   "execution_count": 10,
   "metadata": {},
   "outputs": [],
   "source": [
    "# loop through the storms and set\n",
    "# flags in the satellite drag database\n",
    "# for the different times\n",
    "\n",
    "sd_dat['storm'] = -1\n",
    "sd_dat['storm phase'] = -1\n",
    "\n",
    "for index, row in storm_time.iterrows():\n",
    "    stp = (sd_dat['Datetime']>=row['t_st']) & (sd_dat['Datetime']<row['t_en'])\n",
    "    mpp = (sd_dat['Datetime']>=row['t_st']) & (sd_dat['Datetime']<row['t_dst'])\n",
    "    rpp = (sd_dat['Datetime']>=row['t_dst']) & (sd_dat['Datetime']<row['t_en'])\n",
    "\n",
    "    sd_dat.loc[stp,'storm'] = 1\n",
    "    sd_dat.loc[mpp,'storm phase'] = 1\n",
    "    sd_dat.loc[rpp,'storm phase'] = 2\n",
    "\n"
   ]
  },
  {
   "cell_type": "code",
   "execution_count": 11,
   "metadata": {},
   "outputs": [
    {
     "data": {
      "text/plain": [
       "Timestamp('2008-09-01 15:00:00')"
      ]
     },
     "execution_count": 11,
     "metadata": {},
     "output_type": "execute_result"
    },
    {
     "data": {
      "text/plain": [
       "Timestamp('2008-09-12 02:00:00')"
      ]
     },
     "execution_count": 11,
     "metadata": {},
     "output_type": "execute_result"
    },
    {
     "data": {
      "text/plain": [
       "659382    1\n",
       "659383    1\n",
       "659384    1\n",
       "659385    1\n",
       "659386    1\n",
       "         ..\n",
       "674377    1\n",
       "674378    1\n",
       "674379    1\n",
       "674380    1\n",
       "674381    1\n",
       "Name: storm, Length: 15000, dtype: int64"
      ]
     },
     "execution_count": 11,
     "metadata": {},
     "output_type": "execute_result"
    },
    {
     "data": {
      "text/plain": [
       "659382    1\n",
       "659383    1\n",
       "659384    1\n",
       "659385    1\n",
       "659386    1\n",
       "         ..\n",
       "674377    2\n",
       "674378    2\n",
       "674379    2\n",
       "674380    2\n",
       "674381    2\n",
       "Name: storm phase, Length: 15000, dtype: int64"
      ]
     },
     "execution_count": 11,
     "metadata": {},
     "output_type": "execute_result"
    }
   ],
   "source": [
    "storm_time['t_st'][247]\n",
    "storm_time['t_en'][247]\n",
    "stp = (sd_dat['Datetime']>=storm_time['t_st'][247]) & (sd_dat['Datetime']<storm_time['t_en'][247])\n",
    "sd_dat.loc[stp,'storm']\n",
    "sd_dat.loc[stp,'storm phase']\n"
   ]
  },
  {
   "cell_type": "code",
   "execution_count": 12,
   "metadata": {},
   "outputs": [],
   "source": [
    "sd_dat.to_hdf('D:\\\\data\\\\VL_sdrag\\\\satdrag_database.hdf5', key='sd_dat', mode='w', format='table', data_columns='Datetime', complevel=9, complib='blosc:snappy')"
   ]
  },
  {
   "cell_type": "code",
   "execution_count": 13,
   "metadata": {},
   "outputs": [],
   "source": [
    "bb = pd.read_hdf('D:\\\\data\\\\VL_sdrag\\\\satdrag_database.hdf5')"
   ]
  },
  {
   "cell_type": "code",
   "execution_count": 15,
   "metadata": {},
   "outputs": [],
   "source": [
    "sd_dat.to_csv('D:\\\\data\\\\VL_sdrag\\\\satdrag_database.csv')"
   ]
  },
  {
   "cell_type": "code",
   "execution_count": 16,
   "metadata": {},
   "outputs": [],
   "source": [
    "sd_dat.to_csv('D:\\\\data\\\\VL_sdrag\\\\satdrag_database_times.csv', columns=['Datetime','storm','storm phase'])"
   ]
  }
 ],
 "metadata": {
  "kernelspec": {
   "display_name": "base",
   "language": "python",
   "name": "python3"
  },
  "language_info": {
   "codemirror_mode": {
    "name": "ipython",
    "version": 3
   },
   "file_extension": ".py",
   "mimetype": "text/x-python",
   "name": "python",
   "nbconvert_exporter": "python",
   "pygments_lexer": "ipython3",
   "version": "3.7.3"
  },
  "orig_nbformat": 4,
  "vscode": {
   "interpreter": {
    "hash": "f76c34d5d1e534300c251ef9dff1af345b170e5885085855442f01ac79e1be46"
   }
  }
 },
 "nbformat": 4,
 "nbformat_minor": 2
}
