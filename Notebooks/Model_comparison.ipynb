{
 "cells": [
  {
   "cell_type": "markdown",
   "metadata": {},
   "source": [
    "# Model Comparison\n",
    "\n",
    "Compare neutral densities from several models along the orbit of CHAMP (the RF out-of-sample data set).\n"
   ]
  },
  {
   "cell_type": "code",
   "execution_count": 2,
   "metadata": {},
   "outputs": [],
   "source": [
    "from IPython.core.interactiveshell import InteractiveShell\n",
    "InteractiveShell.ast_node_interactivity = \"all\"\n",
    "\n",
    "%matplotlib qt"
   ]
  },
  {
   "cell_type": "code",
   "execution_count": 3,
   "metadata": {},
   "outputs": [],
   "source": [
    "import os, sys\n",
    "import pandas as pd\n",
    "import matplotlib.pyplot as plt\n",
    "import numpy as np\n",
    "\n",
    "import sklearn.metrics as metrics\n",
    "\n",
    "rf_f = \"E:\\OneDrive\\Phys4501\\data\\RF_FI_GEO_OOS_CHAMP.hdf5\"\n",
    "dt_f = \"D:\\data\\SatDensities\\satdrag_database_DTM.hdf5\"\n",
    "jm_f = \"D:\\data\\SatDensities\\satdrag_database_CHAMP_JB2008_MSIS.hdf5\"\n",
    "path_mod = os.path.normpath('d:\\\\GitHub\\\\ml_fw\\\\ml_fw') # assumes current working directory is the ml_fw/Notebooks directory\n",
    "\n",
    "# add the ml_fw module to Python Path and import what we need\n",
    "sys.path.append(os.path.dirname(path_mod))"
   ]
  },
  {
   "cell_type": "code",
   "execution_count": 4,
   "metadata": {},
   "outputs": [],
   "source": [
    "from ml_fw import inspect"
   ]
  },
  {
   "cell_type": "code",
   "execution_count": 5,
   "metadata": {},
   "outputs": [],
   "source": [
    "rf_dat = pd.read_hdf(rf_f)\n",
    "dt_dat = pd.read_hdf(dt_f)\n",
    "jm_dat = pd.read_hdf(jm_f)"
   ]
  },
  {
   "cell_type": "code",
   "execution_count": 6,
   "metadata": {},
   "outputs": [
    {
     "data": {
      "text/plain": [
       "Index(['1300_02', '43000_09', '85550_13', '94400_18', 'SYM_H index', 'AE',\n",
       "       'SatLat', 'cos_SatMagLT', 'sin_SatMagLT', 'cos_SatLon', 'sin_SatLon',\n",
       "       '400kmDensity', 'DateTime', 'storm', 'storm phase',\n",
       "       '400kmDensity_pred'],\n",
       "      dtype='object')"
      ]
     },
     "execution_count": 6,
     "metadata": {},
     "output_type": "execute_result"
    }
   ],
   "source": [
    "rf_dat.columns"
   ]
  },
  {
   "cell_type": "code",
   "execution_count": 7,
   "metadata": {},
   "outputs": [],
   "source": [
    "# calculate the residuals and normalize by multiplying by 10^12\n",
    "rf_dat['rf_resid'] = rf_dat['400kmDensity']-rf_dat['400kmDensity_pred']\n",
    "# DTM 2020 operation\n",
    "dt_dat['dt_resid'] = (dt_dat['400kmDensity'] - dt_dat['DTM_400kmDensity']*1000)*(10**12) # convert g/cm^3 to km/m^3\n",
    "dt_dat['DTM_400kmDensity'] = (dt_dat['DTM_400kmDensity']*1000)*(10**12)\n",
    "\n",
    "#JB2008\n",
    "jm_dat['jb_resid'] = (jm_dat['400kmDensity'] - jm_dat['JB2008_400kmDensity'])*(10**12)\n",
    "jm_dat['JB2008_400kmDensity'] = (jm_dat['JB2008_400kmDensity'])*(10**12)\n",
    "\n",
    "#MSIS\n",
    "jm_dat['ms_resid'] = (jm_dat['400kmDensity'] - jm_dat['MSIS_400kmDensity'])*(10**12)\n",
    "jm_dat['MSIS_400kmDensity'] = (jm_dat['MSIS_400kmDensity'])*(10**12)\n",
    "       "
   ]
  },
  {
   "cell_type": "code",
   "execution_count": 8,
   "metadata": {},
   "outputs": [],
   "source": [
    "tol = pd.Timedelta('1 minute')\n",
    "\n",
    "db_dat = pd.merge_asof(left=rf_dat.set_index(\"DateTime\"),right=dt_dat.set_index('DateTime')[['dt_resid','DTM_400kmDensity']],right_index=True,left_index=True,direction='nearest',tolerance=tol)\n",
    "db_dat = pd.merge_asof(left=db_dat, right=jm_dat.set_index('DateTime')[['jb_resid','JB2008_400kmDensity','ms_resid','MSIS_400kmDensity']],right_index=True,left_index=True,direction='nearest',tolerance=tol)\n",
    "db_dat = db_dat.reset_index(drop=False)\n",
    "\n",
    "# we are only looking at storms so drop the na\n",
    "db_dat = db_dat.dropna()"
   ]
  },
  {
   "cell_type": "code",
   "execution_count": 9,
   "metadata": {},
   "outputs": [
    {
     "data": {
      "text/plain": [
       "Index(['DateTime', '1300_02', '43000_09', '85550_13', '94400_18',\n",
       "       'SYM_H index', 'AE', 'SatLat', 'cos_SatMagLT', 'sin_SatMagLT',\n",
       "       'cos_SatLon', 'sin_SatLon', '400kmDensity', 'storm', 'storm phase',\n",
       "       '400kmDensity_pred', 'rf_resid', 'dt_resid', 'DTM_400kmDensity',\n",
       "       'jb_resid', 'JB2008_400kmDensity', 'ms_resid', 'MSIS_400kmDensity'],\n",
       "      dtype='object')"
      ]
     },
     "execution_count": 9,
     "metadata": {},
     "output_type": "execute_result"
    }
   ],
   "source": [
    "db_dat.columns"
   ]
  },
  {
   "cell_type": "code",
   "execution_count": 10,
   "metadata": {},
   "outputs": [],
   "source": [
    "# define the x_cols of dat that we want to use for binning\n",
    "# and their ranges and number of bins\n",
    "x_dat = ['AE', 'SYM_H index']\n",
    "x_bin = [20,21]\n",
    "x_range = [[0,2000], [-200,10]]\n",
    "# the y_col to derive the stats\n",
    "y_dat = ['rf_resid','dt_resid','jb_resid','ms_resid']\n",
    "y_lab = ['RF', 'DTM Op', 'JB2008', 'MSIS']\n",
    "\n",
    "whisker = 0 # don't want whiskers\n",
    "showmean = True # plot the means\n",
    "\n",
    "# box plot colors\n",
    "cc = ([1,0,0],\n",
    "      [0.13333333333333333, 0.5450980392156862, 0.13333333333333333],\n",
    "      [0.27450980392156865, 0.5098039215686274, 0.7058823529411765],\n",
    "      [1.0, 0.5490196078431373, 0.0,])\n",
    "bx_a = 0.25 # transparency level (alpha) for box\n",
    "ln_a = 1.0 # transparency level for lines\n",
    "ln_w = 2.0 # line width"
   ]
  },
  {
   "cell_type": "code",
   "execution_count": 11,
   "metadata": {},
   "outputs": [],
   "source": [
    "# plot the data\n",
    "InteractiveShell.ast_node_interactivity = \"last_expr\""
   ]
  },
  {
   "cell_type": "code",
   "execution_count": 12,
   "metadata": {},
   "outputs": [
    {
     "name": "stdout",
     "output_type": "stream",
     "text": [
      "rf_resid, AE\n",
      "rf_resid, SYM_H index\n",
      "dt_resid, AE\n",
      "dt_resid, SYM_H index\n",
      "jb_resid, AE\n",
      "jb_resid, SYM_H index\n",
      "ms_resid, AE\n",
      "ms_resid, SYM_H index\n"
     ]
    },
    {
     "name": "stderr",
     "output_type": "stream",
     "text": [
      "C:\\Users\\murph\\AppData\\Local\\Temp\\ipykernel_22888\\3350627395.py:37: UserWarning: The figure layout has changed to tight\n",
      "  plt.tight_layout()\n"
     ]
    }
   ],
   "source": [
    "# derive the box/whisker data for each resid\n",
    "fig, ax = plt.subplots(len(x_dat),1, figsize=(6,8))\n",
    "fig.set_constrained_layout(True)\n",
    "i=0\n",
    "for yp, bc, yl in zip(y_dat, cc, y_lab):\n",
    "    box_dat = inspect.boxplot_vx(db_dat[x_dat],db_dat[yp], whisker=whisker,\n",
    "                            bins=x_bin,xrange=x_range)\n",
    "\n",
    "    # lets do the same thing but loop through the returned box_dat\n",
    "    # to create a box/whisker plot for each returned key (x_dat)\n",
    "    # loop through the dictionary to plot all box_plots\n",
    "    \n",
    "    for (key, value), ap, in zip(box_dat.items(), ax):\n",
    "        \n",
    "        plt_box = box_dat[key]\n",
    "        y_val = plt_box['box_stats']\n",
    "        x_val = plt_box['x_centre']-plt_box['x_width']/2+i*plt_box['x_width']/len(y_dat)\n",
    "        x_width = plt_box['x_width']/len(y_dat)\n",
    "        \n",
    "        b = ap.bxp(y_val, positions=x_val, widths=x_width, label=yl,\n",
    "                        patch_artist=True, showmeans=showmean, \n",
    "                        shownotches=False, showcaps=False, \n",
    "                        boxprops={'ec':bc+[ln_a], 'fc':bc+[bx_a]},\n",
    "                        medianprops={'c':bc, 'lw':ln_w}, \n",
    "                        meanprops={'mec':bc, 'mfc':bc})\n",
    "        ap.set_xticks(x_val, plt_box['x_centre'].astype(int).astype(str),rotation=45)\n",
    "        ap.set_ylabel('Residuals')\n",
    "        ap.set_xlabel(key)\n",
    "\n",
    "        print(f'{yp}, {key}')\n",
    "        \n",
    "    i = i+1\n",
    "\n",
    "ax[0].legend(bbox_to_anchor=(1., 1),loc='upper right',fontsize=8)\n",
    "ax[0].get_legend().set_title(\"Model\")\n",
    "\n",
    "plt.tight_layout()\n",
    "plt.show()\n",
    "fig.show()"
   ]
  },
  {
   "cell_type": "code",
   "execution_count": 13,
   "metadata": {},
   "outputs": [
    {
     "data": {
      "text/plain": [
       "Index(['DateTime', '1300_02', '43000_09', '85550_13', '94400_18',\n",
       "       'SYM_H index', 'AE', 'SatLat', 'cos_SatMagLT', 'sin_SatMagLT',\n",
       "       'cos_SatLon', 'sin_SatLon', '400kmDensity', 'storm', 'storm phase',\n",
       "       '400kmDensity_pred', 'rf_resid', 'dt_resid', 'DTM_400kmDensity',\n",
       "       'jb_resid', 'JB2008_400kmDensity', 'ms_resid', 'MSIS_400kmDensity'],\n",
       "      dtype='object')"
      ]
     },
     "execution_count": 13,
     "metadata": {},
     "output_type": "execute_result"
    }
   ],
   "source": [
    "db_dat.columns"
   ]
  },
  {
   "cell_type": "code",
   "execution_count": 14,
   "metadata": {},
   "outputs": [],
   "source": [
    "# k folds parameters\n",
    "k_folds = 10\n",
    "k_size = 0.5\n",
    "\n",
    "# whisker size\n",
    "whisker = 0.0\n",
    "\n",
    "# define the x_cols of dat that we want to use for binning\n",
    "# and their ranges and number of bins\n",
    "x_dat = ['AE', 'SYM_H index','Den']\n",
    "x_lab = ['AE (nT)', 'SYM H (nT)','Density (km/m$\\mathregular{^3}$ x 10$\\mathregular{^{-12}}$)']\n",
    "x_bin = [20,21,24]\n",
    "x_range = [[0,2000], [-200,10],[0,12]]\n",
    "# the y true and predicted values\n",
    "y_true = ['400kmDensity']\n",
    "y_pred = ['400kmDensity_pred']\n",
    "y_pred = ['400kmDensity_pred','DTM_400kmDensity','JB2008_400kmDensity','MSIS_400kmDensity']\n",
    "y_lab = ['RANDM', 'DTM Op', 'JB2008', 'MSIS']\n",
    "\n",
    "db_dat['Den'] = db_dat['400kmDensity']\n",
    "\n",
    "# use accuracy as the metric here\n",
    "metric = 'Mean Absolute Error'\n",
    "met = lambda y_true, y_pred: metrics.mean_absolute_error(y_true, y_pred)"
   ]
  },
  {
   "cell_type": "code",
   "execution_count": 15,
   "metadata": {},
   "outputs": [
    {
     "name": "stdout",
     "output_type": "stream",
     "text": [
      "400kmDensity_pred\n",
      "Using passed metric\n",
      "AE\n",
      "SYM_H index\n",
      "Den\n",
      "DTM_400kmDensity\n",
      "Using passed metric\n",
      "AE\n",
      "SYM_H index\n",
      "Den\n",
      "JB2008_400kmDensity\n",
      "Using passed metric\n",
      "AE\n",
      "SYM_H index\n",
      "Den\n",
      "MSIS_400kmDensity\n",
      "Using passed metric\n",
      "AE\n",
      "SYM_H index\n",
      "Den\n"
     ]
    },
    {
     "name": "stderr",
     "output_type": "stream",
     "text": [
      "C:\\Users\\murph\\AppData\\Local\\Temp\\ipykernel_22888\\2568308224.py:56: UserWarning: The figure layout has changed to tight\n",
      "  plt.tight_layout()\n"
     ]
    }
   ],
   "source": [
    "showmean=True\n",
    "fig1, ax1 = plt.subplots(len(x_dat),1, figsize=(6,8))\n",
    "fig1.set_constrained_layout(True)\n",
    "\n",
    "# box plot colors\n",
    "cc = ([1,0,0],\n",
    "      [0.13333333333333333, 0.5450980392156862, 0.13333333333333333],\n",
    "      [0.27450980392156865, 0.5098039215686274, 0.7058823529411765],\n",
    "      [1.0, 0.5490196078431373, 0.0,])\n",
    "bx_a = 0.25 # transparency level (alpha) for box\n",
    "ln_a = 1.0 # transparency level for lines\n",
    "ln_w = 2.0 # line width\n",
    "\n",
    "for yp, bc, yl in zip(y_pred, cc, y_lab):\n",
    "    print(yp)\n",
    "    met_box = inspect.boxplot_metvx(x_dat, y_true, [yp], box_dat=db_dat, bins=x_bin, xrange=x_range,\n",
    "                                    kfolds=k_folds, kfrac=k_size, box_metric=met, whisker=whisker)\n",
    "\n",
    "\n",
    "\n",
    "    # boxplot_vx returns a dictionary for each of x_dat which contains \n",
    "    # the required values to plot a boxplot using bxp()\n",
    "    # the dictionary key is the inputs DataFramed column names\n",
    "\n",
    "    # lets do the same thing but loop through the returned box_dat\n",
    "    # to create a box/whisker plot for each returned key (x_dat)\n",
    "    # loop through the dictionary to plot all box_plots\n",
    "    for (key, value), ap, xl in zip(met_box.items(), ax1, x_lab):\n",
    "        print(key)\n",
    "        plt_box = met_box[key]\n",
    "        y_val = plt_box['box_stats']\n",
    "        x_val = plt_box['x_centre']\n",
    "        x_width = plt_box['x_width']\n",
    "        \n",
    "        b = ap.bxp(y_val, positions=x_val, widths=x_width, \n",
    "                        patch_artist=True, showmeans=showmean, \n",
    "                        shownotches=False, showcaps=False, \n",
    "                        boxprops={'ec':bc+[ln_a], 'fc':bc+[bx_a]},\n",
    "                        medianprops={'c':bc, 'lw':ln_w}, \n",
    "                        meanprops={'mec':bc, 'mfc':bc}, \n",
    "                        label=yl)\n",
    "        x_tk = np.append(x_val,x_val.max()+x_width)-x_width/2.\n",
    "        ap.set_xticks(x_tk,x_tk.astype(float).astype(str),rotation=45)\n",
    "        ap.set_ylabel(metric)\n",
    "        ap.set_xlabel(xl)\n",
    "\n",
    "ax1[0].legend(bbox_to_anchor=(1., 1),loc='upper left',fontsize=8)\n",
    "ax1[0].get_legend().set_title(\"Model\")\n",
    "\n",
    "ax1[1].legend(bbox_to_anchor=(1., 1),loc='upper left',fontsize=8)\n",
    "ax1[1].get_legend().set_title(\"Model\")\n",
    "\n",
    "ax1[2].legend(bbox_to_anchor=(1., 1),loc='upper left',fontsize=8)\n",
    "ax1[2].get_legend().set_title(\"Model\")\n",
    "\n",
    "plt.tight_layout()\n",
    "plt.show()\n",
    "fig1.savefig('E:/OneDrive/Proposals/NERC_SatDrag/Resid_Func_box.pdf', dpi=300, format='pdf')\n"
   ]
  },
  {
   "cell_type": "code",
   "execution_count": 16,
   "metadata": {},
   "outputs": [
    {
     "data": {
      "text/plain": [
       "count    297756.000000\n",
       "mean          0.065204\n",
       "std           8.566724\n",
       "min       -4618.067678\n",
       "25%          -0.035193\n",
       "50%           0.150327\n",
       "75%           0.290329\n",
       "max           0.851371\n",
       "dtype: float64"
      ]
     },
     "execution_count": 16,
     "metadata": {},
     "output_type": "execute_result"
    }
   ],
   "source": [
    "(db_dat['rf_resid']/db_dat['Den']).describe()"
   ]
  },
  {
   "cell_type": "code",
   "execution_count": 17,
   "metadata": {},
   "outputs": [],
   "source": [
    "y_dat = ['rf_resid','dt_resid','jb_resid','ms_resid']\n",
    "y_lab = ['RF', 'DTM Op', 'JB2008', 'MSIS']\n",
    "\n",
    "density=False\n",
    "cumulative = False\n",
    "hmin=-1\n",
    "hmax=3\n",
    "\n",
    "h_bins = np.histogram_bin_edges(db_dat['rf_resid'],bins='fd',range=(hmin,hmax))\n",
    "\n",
    "whisker = 0 # don't want whiskers\n",
    "showmean = True # plot the means\n",
    "\n",
    "# box plot colors\n",
    "cc = ([1,0,0],\n",
    "      [0.13333333333333333, 0.5450980392156862, 0.13333333333333333],\n",
    "      [0.27450980392156865, 0.5098039215686274, 0.7058823529411765],\n",
    "      [1.0, 0.5490196078431373, 0.0,])\n",
    "\n",
    "\n",
    "fig3, ax3 = plt.subplots(1,1, figsize=(8,6))\n",
    "\n",
    "# CHAMP\n",
    "ax3.hist(db_dat['rf_resid'],bins=h_bins, alpha = 1, label='RF', density=density, color=cc[0], histtype='step', cumulative=cumulative)\n",
    "ax3.hist(db_dat['dt_resid'],bins=h_bins, alpha = 1, label='DTM Op', density=density, color= cc[1], histtype='step', cumulative=cumulative)\n",
    "ax3.hist(db_dat['jb_resid'],bins=h_bins, alpha = 0.5, label='JB2008', density=density, color= cc[2], cumulative=cumulative)\n",
    "ax3.hist(db_dat['ms_resid'],bins=h_bins, alpha = 0.5, label='MSIS', density=density, color= cc[3], cumulative=cumulative)\n",
    "ax3.set(title='OOS - CHAMP, Quiet Times', xlabel='Residuals (Obs-Pred)', ylabel='Probability')\n",
    "\n",
    "ax3.legend(bbox_to_anchor=(1., 1),loc='upper right',fontsize=8)\n",
    "ax3.get_legend().set_title(\"Model\")\n",
    "ax3.grid(axis='both')\n"
   ]
  },
  {
   "cell_type": "code",
   "execution_count": 18,
   "metadata": {},
   "outputs": [],
   "source": [
    "# large storm\n",
    "sdate = '2005-08-22'\n",
    "edate = '2005-08-30'"
   ]
  },
  {
   "cell_type": "code",
   "execution_count": 19,
   "metadata": {},
   "outputs": [
    {
     "data": {
      "text/plain": [
       "Index(['DateTime', '1300_02', '43000_09', '85550_13', '94400_18',\n",
       "       'SYM_H index', 'AE', 'SatLat', 'cos_SatMagLT', 'sin_SatMagLT',\n",
       "       'cos_SatLon', 'sin_SatLon', '400kmDensity', 'storm', 'storm phase',\n",
       "       '400kmDensity_pred', 'rf_resid', 'dt_resid', 'DTM_400kmDensity',\n",
       "       'jb_resid', 'JB2008_400kmDensity', 'ms_resid', 'MSIS_400kmDensity',\n",
       "       'Den'],\n",
       "      dtype='object')"
      ]
     },
     "execution_count": 19,
     "metadata": {},
     "output_type": "execute_result"
    }
   ],
   "source": [
    "db_dat.columns"
   ]
  },
  {
   "cell_type": "code",
   "execution_count": 20,
   "metadata": {},
   "outputs": [],
   "source": [
    "st_t = (db_dat['DateTime'] > sdate) & (db_dat['DateTime'] <= edate)"
   ]
  },
  {
   "cell_type": "code",
   "execution_count": 21,
   "metadata": {},
   "outputs": [],
   "source": [
    "y_true = '400kmDensity'\n",
    "y_pred = '400kmDensity_pred'\n",
    "on = 'DateTime'\n",
    "rkwargs = {'window':'90min','center':True}\n",
    "met = {'MAE':lambda y_true, y_pred: metrics.mean_absolute_error(y_true, y_pred)}"
   ]
  },
  {
   "cell_type": "code",
   "execution_count": 22,
   "metadata": {},
   "outputs": [
    {
     "name": "stdout",
     "output_type": "stream",
     "text": [
      "Using passed metric\n"
     ]
    }
   ],
   "source": [
    "r_met = inspect.rolling_met(db_dat[st_t],y_true=y_true,y_pred=y_pred,on=on,\n",
    "                        roll_kwargs=rkwargs, roll_metric=met)"
   ]
  },
  {
   "cell_type": "code",
   "execution_count": 23,
   "metadata": {},
   "outputs": [
    {
     "name": "stdout",
     "output_type": "stream",
     "text": [
      "Using passed metric\n",
      "Using passed metric\n",
      "Using passed metric\n",
      "Using passed metric\n"
     ]
    }
   ],
   "source": [
    "y_pred = ['400kmDensity_pred','DTM_400kmDensity','JB2008_400kmDensity','MSIS_400kmDensity'] \n",
    "for y in y_pred:\n",
    "    r_met[f'MAE {y}'] = inspect.rolling_met(db_dat[st_t],y_true=y_true,y_pred=y,on=on,\n",
    "                        roll_kwargs=rkwargs, roll_metric=met)['MAE']"
   ]
  },
  {
   "cell_type": "code",
   "execution_count": 24,
   "metadata": {},
   "outputs": [
    {
     "data": {
      "text/plain": [
       "Index(['MAE', 'DateTime', 'MAE 400kmDensity_pred', 'MAE DTM_400kmDensity',\n",
       "       'MAE JB2008_400kmDensity', 'MAE MSIS_400kmDensity'],\n",
       "      dtype='object')"
      ]
     },
     "execution_count": 24,
     "metadata": {},
     "output_type": "execute_result"
    }
   ],
   "source": [
    "r_met.columns"
   ]
  },
  {
   "cell_type": "code",
   "execution_count": 25,
   "metadata": {},
   "outputs": [
    {
     "data": {
      "text/plain": [
       "<Axes: xlabel='DateTime', ylabel='MEA'>"
      ]
     },
     "execution_count": 25,
     "metadata": {},
     "output_type": "execute_result"
    }
   ],
   "source": [
    "sfig = True\n",
    "plt.rcParams.update({'font.size': 9})\n",
    "plt.subplots_adjust(hspace=0)\n",
    "#fig, ax = plt.subplots(8,1,figsize=(5,8),sharex=True, layout='constrained')\n",
    "fig1, ax1 = plt.subplots(5,1,figsize=(5,6),sharex=True, layout='constrained')\n",
    "\n",
    "\n",
    "db_dat[st_t].plot(x='DateTime', y='AE', ylabel='AE', ax=ax1[0], legend=False)\n",
    "db_dat[st_t].plot(x='DateTime', y='SYM_H index', ylabel='Sym-H', ax=ax1[1], legend=False)\n",
    "\n",
    "db_dat[st_t].plot(x='DateTime', y='400kmDensity', ylabel='CHAMP Density', ax=ax1[2], legend=False)\n",
    "\n",
    "plt_par = ['400kmDensity','400kmDensity_pred','DTM_400kmDensity','JB2008_400kmDensity','MSIS_400kmDensity'] \n",
    "\n",
    "db_dat[st_t].rolling('90min',on='DateTime').mean().\\\n",
    "plot(x='DateTime', y=plt_par, xlim=[sdate,edate], ax=ax1[3], \n",
    "     label=['Obs','RF','DTM Op', 'JB2008', 'MSIS'], ylabel='Density', legend=True, ylim=[0,7])\n",
    "\n",
    "r_met.plot(x='DateTime', y=['MAE 400kmDensity_pred', 'MAE DTM_400kmDensity','MAE JB2008_400kmDensity', 'MAE MSIS_400kmDensity'],\n",
    "           ax=ax1[4], label=['RF','DTM Op', 'JB2008', 'MSIS'], ylabel='MEA', legend=True, ylim=[0,3])\n",
    "\n"
   ]
  },
  {
   "cell_type": "code",
   "execution_count": 26,
   "metadata": {},
   "outputs": [
    {
     "name": "stderr",
     "output_type": "stream",
     "text": [
      "C:\\Users\\murph\\AppData\\Local\\Temp\\ipykernel_22888\\2149014880.py:9: UserWarning: This figure was using a layout engine that is incompatible with subplots_adjust and/or tight_layout; not calling subplots_adjust.\n",
      "  plt.subplots_adjust(hspace=0)\n"
     ]
    },
    {
     "data": {
      "text/plain": [
       "<Axes: xlabel='DateTime', ylabel='MEA'>"
      ]
     },
     "execution_count": 26,
     "metadata": {},
     "output_type": "execute_result"
    }
   ],
   "source": [
    "ss = '2005-08-24 06:00:00'\n",
    "ee = '2005-08-25 06:00:00'\n",
    "\n",
    "d_t = (db_dat['DateTime'] > ss) & (db_dat['DateTime'] <= ee)\n",
    "r_st = (r_met['DateTime'] > ss) & (r_met['DateTime'] <= ee)\n",
    "\n",
    "sfig = True\n",
    "plt.rcParams.update({'font.size': 9})\n",
    "plt.subplots_adjust(hspace=0)\n",
    "fig1, ax2 = plt.subplots(2,1,figsize=(3,4),sharex=True, layout='constrained')\n",
    "\n",
    "db_dat[d_t].rolling('90min',on='DateTime').mean().\\\n",
    "plot(x='DateTime', y=plt_par, xlim=[ss,ee], ax=ax2[0], label=['Obs','RF','DTM Op', 'JB2008', 'MSIS'], ylabel='Density', legend=True)\n",
    "\n",
    "r_met[r_st].plot(x='DateTime', y=['MAE 400kmDensity_pred', 'MAE DTM_400kmDensity','MAE JB2008_400kmDensity', 'MAE MSIS_400kmDensity'],\n",
    "           ax=ax2[1], label=['RF','DTM Op', 'JB2008', 'MSIS'], ylabel='MEA', legend=True, ylim=[0,11], xlim=[ss,ee])\n",
    "\n"
   ]
  }
 ],
 "metadata": {
  "kernelspec": {
   "display_name": "satdrag",
   "language": "python",
   "name": "python3"
  },
  "language_info": {
   "codemirror_mode": {
    "name": "ipython",
    "version": 3
   },
   "file_extension": ".py",
   "mimetype": "text/x-python",
   "name": "python",
   "nbconvert_exporter": "python",
   "pygments_lexer": "ipython3",
   "version": "3.10.16"
  }
 },
 "nbformat": 4,
 "nbformat_minor": 2
}
